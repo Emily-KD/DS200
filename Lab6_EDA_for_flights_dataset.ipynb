{
  "nbformat": 4,
  "nbformat_minor": 0,
  "metadata": {
    "colab": {
      "provenance": [],
      "include_colab_link": true
    },
    "kernelspec": {
      "name": "python3",
      "display_name": "Python 3"
    }
  },
  "cells": [
    {
      "cell_type": "markdown",
      "metadata": {
        "id": "view-in-github",
        "colab_type": "text"
      },
      "source": [
        "<a href=\"https://colab.research.google.com/github/Emily-KD/DS200/blob/main/Lab6_EDA_for_flights_dataset.ipynb\" target=\"_parent\"><img src=\"https://colab.research.google.com/assets/colab-badge.svg\" alt=\"Open In Colab\"/></a>"
      ]
    },
    {
      "cell_type": "markdown",
      "metadata": {
        "id": "oTpqom9vQKXF"
      },
      "source": [
        "# Lab 6:  EDA using a massive airline dataset\n",
        "\n",
        "For this lab, you'll need to access a 500MB+ dataset at kaggle.com.  First, register at kaggle.com, login and download the dataset at https://www.kaggle.com/usdot/flight-delays.  The dataset actually consists of three separate files, only one of which is huge.  \n",
        "\n",
        "Next, visit https://drive.google.com/drive/my-drive and find a place to upload this dataset.  For instance, using the \"New\" button you can create a new folder where you'll upload the three files.  To allow the code below to access the files I uploaded, I created a folder called \"data\" inside the \"Colab Notebooks\" folder."
      ]
    },
    {
      "cell_type": "markdown",
      "source": [
        "## Download and upload archive.zip\n",
        "\n",
        "The way I handled obtaining this dataset, after I clicked the \"download\" button at the kaggle.com site above and then logged into kaggle, was to save the `archive.zip` file on my computer.  I did not unzip this file on my computer; instead, I uploaded `archive.zip` directly into my `drive/My Drive/Colab Notebooks/data/` folder using the \"New\" button followed by \"File Upload\".  At that point, I had to figure out how to use the zip extractor within google drive, then move all three of the .csv files into the `data` folder I had created.\n",
        "\n",
        "This isn't the only way you can handle this step.  You might choose instead to unzip `archive.zip` on your own computer before uploading the three resulting .csv files to your google drive space.  It's up to you, as long as you wind up with `airlines.csv`, `airports.csv`, and `flights.csv` in a google drive folder you can access.  Frankly, I think it's probably less trouble to unzip on your own computer before uploading, but it's up to you.  "
      ],
      "metadata": {
        "id": "yOuBfbcXBz_x"
      }
    },
    {
      "cell_type": "code",
      "source": [
        "# Mount google drive\n",
        "from google.colab import drive\n",
        "drive.mount('/content/drive')"
      ],
      "metadata": {
        "id": "dbVzDcfcGs7-",
        "colab": {
          "base_uri": "https://localhost:8080/"
        },
        "outputId": "c10fe42c-ad58-48a7-a494-fcbb552861cf"
      },
      "execution_count": null,
      "outputs": [
        {
          "output_type": "stream",
          "name": "stdout",
          "text": [
            "Mounted at /content/drive\n"
          ]
        }
      ]
    },
    {
      "cell_type": "markdown",
      "source": [
        "After your three .csv files are in place, you have to make sure that your Jupyter notebook can access them from the google.colab environment.  That's what the code above does after you run it, by mounting the drive.  You can actually get the colab to insert this code block automatically if you click the folder icon along the left side of the screen and then click the \"mount drive\" icon that appears at the top of the left margin. "
      ],
      "metadata": {
        "id": "4FB9zHBnGzIt"
      }
    },
    {
      "cell_type": "markdown",
      "source": [
        "## Change working directory\n",
        "\n",
        "Next, we can change the working directory (folder) in which the Jupyter notebook looks for files.  First, let's see what the current working directory is using pwd (print working directory)."
      ],
      "metadata": {
        "id": "3vnegt8zJ4Yd"
      }
    },
    {
      "cell_type": "code",
      "source": [
        "pwd"
      ],
      "metadata": {
        "id": "x-ZRolclMxef",
        "colab": {
          "base_uri": "https://localhost:8080/",
          "height": 35
        },
        "outputId": "5092cc99-d68f-4b00-ee33-d482f6232356"
      },
      "execution_count": null,
      "outputs": [
        {
          "output_type": "execute_result",
          "data": {
            "text/plain": [
              "'/content'"
            ],
            "application/vnd.google.colaboratory.intrinsic+json": {
              "type": "string"
            }
          },
          "metadata": {},
          "execution_count": 3
        }
      ]
    },
    {
      "cell_type": "markdown",
      "source": [
        "We can use cd (change directory) to change the working directory to a different folder.  A space has to be entered as `\\ ` (backslash space)."
      ],
      "metadata": {
        "id": "wDfvfzcoNGCY"
      }
    },
    {
      "cell_type": "code",
      "source": [
        "cd /content/drive/MyDrive/DS200/Lab/Lab6/data"
      ],
      "metadata": {
        "id": "4NE932imLTF6",
        "colab": {
          "base_uri": "https://localhost:8080/"
        },
        "outputId": "d7ba9e07-c64b-4b88-ab4f-4cf5a2d8cb72"
      },
      "execution_count": null,
      "outputs": [
        {
          "output_type": "stream",
          "name": "stdout",
          "text": [
            "/content/drive/MyDrive/DS200/Lab/Lab6/data\n"
          ]
        }
      ]
    },
    {
      "cell_type": "markdown",
      "source": [
        "Finally, we can verify that the three .csv files are in the new working directory using ls (list)."
      ],
      "metadata": {
        "id": "VxKu1ThGNclT"
      }
    },
    {
      "cell_type": "code",
      "source": [
        "ls"
      ],
      "metadata": {
        "id": "zVnpxPuRMRaK",
        "colab": {
          "base_uri": "https://localhost:8080/"
        },
        "outputId": "961cc568-a9a9-4f21-89ca-affff535ebae"
      },
      "execution_count": null,
      "outputs": [
        {
          "output_type": "stream",
          "name": "stdout",
          "text": [
            "airlines.csv  airports.csv  flights.csv\n"
          ]
        }
      ]
    },
    {
      "cell_type": "markdown",
      "source": [
        "# Optional step:  Upgrade datascience library\n",
        "\n",
        "You may recall that we've occasionally had to fix some of the Python code used in the textbook.  This was particularly true in Section 8.5, where the maps were produced.  The reason the fixes were needed is that the default datascience library used by the colab Jupyter notebooks is out of date.  If you want, you can update it as follows and then the textbook code should work without modification even in Section 8.5."
      ],
      "metadata": {
        "id": "_NFzBmN8OUXP"
      }
    },
    {
      "cell_type": "code",
      "source": [
        "!pip install --upgrade datascience"
      ],
      "metadata": {
        "id": "HsXrIly5O0OO",
        "colab": {
          "base_uri": "https://localhost:8080/"
        },
        "outputId": "b5c2f671-a826-48ce-b3af-f2ed7250c24d"
      },
      "execution_count": null,
      "outputs": [
        {
          "output_type": "stream",
          "name": "stdout",
          "text": [
            "Requirement already satisfied: datascience in /usr/local/lib/python3.7/dist-packages (0.10.6)\n",
            "Collecting datascience\n",
            "  Downloading datascience-0.17.2-py3-none-any.whl (731 kB)\n",
            "\u001b[K     |████████████████████████████████| 731 kB 5.4 MB/s \n",
            "\u001b[?25hRequirement already satisfied: pandas in /usr/local/lib/python3.7/dist-packages (from datascience) (1.3.5)\n",
            "Collecting folium>=0.9.1\n",
            "  Downloading folium-0.12.1.post1-py2.py3-none-any.whl (95 kB)\n",
            "\u001b[K     |████████████████████████████████| 95 kB 3.5 MB/s \n",
            "\u001b[?25hRequirement already satisfied: matplotlib>=3.0.0 in /usr/local/lib/python3.7/dist-packages (from datascience) (3.2.2)\n",
            "Requirement already satisfied: ipython in /usr/local/lib/python3.7/dist-packages (from datascience) (5.5.0)\n",
            "Requirement already satisfied: scipy in /usr/local/lib/python3.7/dist-packages (from datascience) (1.4.1)\n",
            "Requirement already satisfied: plotly in /usr/local/lib/python3.7/dist-packages (from datascience) (5.5.0)\n",
            "Requirement already satisfied: numpy in /usr/local/lib/python3.7/dist-packages (from datascience) (1.21.6)\n",
            "Requirement already satisfied: branca in /usr/local/lib/python3.7/dist-packages (from datascience) (0.5.0)\n",
            "Requirement already satisfied: setuptools in /usr/local/lib/python3.7/dist-packages (from datascience) (57.4.0)\n",
            "Requirement already satisfied: requests in /usr/local/lib/python3.7/dist-packages (from folium>=0.9.1->datascience) (2.23.0)\n",
            "Requirement already satisfied: jinja2>=2.9 in /usr/local/lib/python3.7/dist-packages (from folium>=0.9.1->datascience) (2.11.3)\n",
            "Requirement already satisfied: MarkupSafe>=0.23 in /usr/local/lib/python3.7/dist-packages (from jinja2>=2.9->folium>=0.9.1->datascience) (2.0.1)\n",
            "Requirement already satisfied: kiwisolver>=1.0.1 in /usr/local/lib/python3.7/dist-packages (from matplotlib>=3.0.0->datascience) (1.4.2)\n",
            "Requirement already satisfied: cycler>=0.10 in /usr/local/lib/python3.7/dist-packages (from matplotlib>=3.0.0->datascience) (0.11.0)\n",
            "Requirement already satisfied: python-dateutil>=2.1 in /usr/local/lib/python3.7/dist-packages (from matplotlib>=3.0.0->datascience) (2.8.2)\n",
            "Requirement already satisfied: pyparsing!=2.0.4,!=2.1.2,!=2.1.6,>=2.0.1 in /usr/local/lib/python3.7/dist-packages (from matplotlib>=3.0.0->datascience) (3.0.8)\n",
            "Requirement already satisfied: typing-extensions in /usr/local/lib/python3.7/dist-packages (from kiwisolver>=1.0.1->matplotlib>=3.0.0->datascience) (4.2.0)\n",
            "Requirement already satisfied: six>=1.5 in /usr/local/lib/python3.7/dist-packages (from python-dateutil>=2.1->matplotlib>=3.0.0->datascience) (1.15.0)\n",
            "Requirement already satisfied: traitlets>=4.2 in /usr/local/lib/python3.7/dist-packages (from ipython->datascience) (5.1.1)\n",
            "Requirement already satisfied: pygments in /usr/local/lib/python3.7/dist-packages (from ipython->datascience) (2.6.1)\n",
            "Requirement already satisfied: decorator in /usr/local/lib/python3.7/dist-packages (from ipython->datascience) (4.4.2)\n",
            "Requirement already satisfied: pexpect in /usr/local/lib/python3.7/dist-packages (from ipython->datascience) (4.8.0)\n",
            "Requirement already satisfied: pickleshare in /usr/local/lib/python3.7/dist-packages (from ipython->datascience) (0.7.5)\n",
            "Requirement already satisfied: simplegeneric>0.8 in /usr/local/lib/python3.7/dist-packages (from ipython->datascience) (0.8.1)\n",
            "Requirement already satisfied: prompt-toolkit<2.0.0,>=1.0.4 in /usr/local/lib/python3.7/dist-packages (from ipython->datascience) (1.0.18)\n",
            "Requirement already satisfied: wcwidth in /usr/local/lib/python3.7/dist-packages (from prompt-toolkit<2.0.0,>=1.0.4->ipython->datascience) (0.2.5)\n",
            "Requirement already satisfied: pytz>=2017.3 in /usr/local/lib/python3.7/dist-packages (from pandas->datascience) (2022.1)\n",
            "Requirement already satisfied: ptyprocess>=0.5 in /usr/local/lib/python3.7/dist-packages (from pexpect->ipython->datascience) (0.7.0)\n",
            "Requirement already satisfied: tenacity>=6.2.0 in /usr/local/lib/python3.7/dist-packages (from plotly->datascience) (8.0.1)\n",
            "Requirement already satisfied: urllib3!=1.25.0,!=1.25.1,<1.26,>=1.21.1 in /usr/local/lib/python3.7/dist-packages (from requests->folium>=0.9.1->datascience) (1.24.3)\n",
            "Requirement already satisfied: idna<3,>=2.5 in /usr/local/lib/python3.7/dist-packages (from requests->folium>=0.9.1->datascience) (2.10)\n",
            "Requirement already satisfied: chardet<4,>=3.0.2 in /usr/local/lib/python3.7/dist-packages (from requests->folium>=0.9.1->datascience) (3.0.4)\n",
            "Requirement already satisfied: certifi>=2017.4.17 in /usr/local/lib/python3.7/dist-packages (from requests->folium>=0.9.1->datascience) (2021.10.8)\n",
            "Installing collected packages: folium, datascience\n",
            "  Attempting uninstall: folium\n",
            "    Found existing installation: folium 0.8.3\n",
            "    Uninstalling folium-0.8.3:\n",
            "      Successfully uninstalled folium-0.8.3\n",
            "  Attempting uninstall: datascience\n",
            "    Found existing installation: datascience 0.10.6\n",
            "    Uninstalling datascience-0.10.6:\n",
            "      Successfully uninstalled datascience-0.10.6\n",
            "Successfully installed datascience-0.17.2 folium-0.12.1.post1\n"
          ]
        }
      ]
    },
    {
      "cell_type": "markdown",
      "metadata": {
        "id": "RNPXcT--QfOO"
      },
      "source": [
        "# Load the datascience library and other resources\n",
        "\n",
        "Once all the data files are in place, we can get to the Python code.  The first step, as usual, is to load the necessary python resources:"
      ]
    },
    {
      "cell_type": "code",
      "metadata": {
        "id": "R5kgObjIQJXU",
        "colab": {
          "base_uri": "https://localhost:8080/"
        },
        "outputId": "0a5c608b-8311-41aa-cf69-e34eaf047336"
      },
      "source": [
        "# Load needed python resources\n",
        "from datascience import *\n",
        "import matplotlib\n",
        "matplotlib.use('Agg', warn=False)\n",
        "%matplotlib inline\n",
        "import matplotlib.pyplot as plots\n",
        "plots.style.use('fivethirtyeight')\n",
        "import numpy as np\n",
        "np.set_printoptions(threshold=50)\n"
      ],
      "execution_count": null,
      "outputs": [
        {
          "output_type": "stream",
          "name": "stderr",
          "text": [
            "/usr/local/lib/python3.7/dist-packages/ipykernel_launcher.py:4: MatplotlibDeprecationWarning: The 'warn' parameter of use() is deprecated since Matplotlib 3.1 and will be removed in 3.3.  If any parameter follows 'warn', they should be pass as keyword, not positionally.\n",
            "  after removing the cwd from sys.path.\n"
          ]
        }
      ]
    },
    {
      "cell_type": "markdown",
      "metadata": {
        "id": "oeyRsOFMQjVG"
      },
      "source": [
        "Next, we'll read the largest of the three files as a `Table` object."
      ]
    },
    {
      "cell_type": "markdown",
      "source": [
        "# Step1"
      ],
      "metadata": {
        "id": "Ij9q99uwie8l"
      }
    },
    {
      "cell_type": "code",
      "metadata": {
        "id": "ATJPJK6JTMzi"
      },
      "source": [
        "# This code only works if flights.csv is in the current working directory (see above)\n",
        "flights = Table.read_table('flights.csv')"
      ],
      "execution_count": null,
      "outputs": []
    },
    {
      "cell_type": "markdown",
      "source": [
        "I downloaded the flights.csv on my computer and opened the file so it won't come up as a blank file on google drive. Then I uploaded the flights.csv files to my google drive space."
      ],
      "metadata": {
        "id": "cmH4dEa5hamk"
      }
    },
    {
      "cell_type": "markdown",
      "metadata": {
        "id": "CrK6aMaNTQUR"
      },
      "source": [
        "Let's check out the columns available in the flights dataset:"
      ]
    },
    {
      "cell_type": "code",
      "metadata": {
        "id": "5iX8Xi30TNBp",
        "colab": {
          "base_uri": "https://localhost:8080/"
        },
        "outputId": "92ff1add-8cdd-498e-e4f7-ac0c864173bd"
      },
      "source": [
        "flights.labels"
      ],
      "execution_count": null,
      "outputs": [
        {
          "output_type": "execute_result",
          "data": {
            "text/plain": [
              "('YEAR',\n",
              " 'MONTH',\n",
              " 'DAY',\n",
              " 'DAY_OF_WEEK',\n",
              " 'AIRLINE',\n",
              " 'FLIGHT_NUMBER',\n",
              " 'TAIL_NUMBER',\n",
              " 'ORIGIN_AIRPORT',\n",
              " 'DESTINATION_AIRPORT',\n",
              " 'SCHEDULED_DEPARTURE',\n",
              " 'DEPARTURE_TIME',\n",
              " 'DEPARTURE_DELAY',\n",
              " 'TAXI_OUT',\n",
              " 'WHEELS_OFF',\n",
              " 'SCHEDULED_TIME',\n",
              " 'ELAPSED_TIME',\n",
              " 'AIR_TIME',\n",
              " 'DISTANCE',\n",
              " 'WHEELS_ON',\n",
              " 'TAXI_IN',\n",
              " 'SCHEDULED_ARRIVAL',\n",
              " 'ARRIVAL_TIME',\n",
              " 'ARRIVAL_DELAY',\n",
              " 'DIVERTED',\n",
              " 'CANCELLED',\n",
              " 'CANCELLATION_REASON',\n",
              " 'AIR_SYSTEM_DELAY',\n",
              " 'SECURITY_DELAY',\n",
              " 'AIRLINE_DELAY',\n",
              " 'LATE_AIRCRAFT_DELAY',\n",
              " 'WEATHER_DELAY')"
            ]
          },
          "metadata": {},
          "execution_count": 9
        }
      ]
    },
    {
      "cell_type": "markdown",
      "metadata": {
        "id": "NNiM6kg8TXa2"
      },
      "source": [
        "Next, select a systematic sample of rows from the flights Table object using code similar to the Chapter 10 intro.  You'll need to figure out an appropriate value of 'gap' based on the lab instructions."
      ]
    },
    {
      "cell_type": "code",
      "source": [
        "flights.show(6)"
      ],
      "metadata": {
        "colab": {
          "base_uri": "https://localhost:8080/",
          "height": 287
        },
        "id": "DJh9NMPxkasb",
        "outputId": "9bec6f5a-97b4-4400-8856-0721e411a0da"
      },
      "execution_count": null,
      "outputs": [
        {
          "output_type": "display_data",
          "data": {
            "text/plain": [
              "<IPython.core.display.HTML object>"
            ],
            "text/html": [
              "<table border=\"1\" class=\"dataframe\">\n",
              "    <thead>\n",
              "        <tr>\n",
              "            <th>YEAR</th> <th>MONTH</th> <th>DAY</th> <th>DAY_OF_WEEK</th> <th>AIRLINE</th> <th>FLIGHT_NUMBER</th> <th>TAIL_NUMBER</th> <th>ORIGIN_AIRPORT</th> <th>DESTINATION_AIRPORT</th> <th>SCHEDULED_DEPARTURE</th> <th>DEPARTURE_TIME</th> <th>DEPARTURE_DELAY</th> <th>TAXI_OUT</th> <th>WHEELS_OFF</th> <th>SCHEDULED_TIME</th> <th>ELAPSED_TIME</th> <th>AIR_TIME</th> <th>DISTANCE</th> <th>WHEELS_ON</th> <th>TAXI_IN</th> <th>SCHEDULED_ARRIVAL</th> <th>ARRIVAL_TIME</th> <th>ARRIVAL_DELAY</th> <th>DIVERTED</th> <th>CANCELLED</th> <th>CANCELLATION_REASON</th> <th>AIR_SYSTEM_DELAY</th> <th>SECURITY_DELAY</th> <th>AIRLINE_DELAY</th> <th>LATE_AIRCRAFT_DELAY</th> <th>WEATHER_DELAY</th>\n",
              "        </tr>\n",
              "    </thead>\n",
              "    <tbody>\n",
              "        <tr>\n",
              "            <td>2015</td> <td>1    </td> <td>1   </td> <td>4          </td> <td>AS     </td> <td>98           </td> <td>N407AS     </td> <td>ANC           </td> <td>SEA                </td> <td>5                  </td> <td>2354          </td> <td>-11            </td> <td>21      </td> <td>15        </td> <td>205           </td> <td>194         </td> <td>169     </td> <td>1448    </td> <td>404      </td> <td>4      </td> <td>430              </td> <td>408         </td> <td>-22          </td> <td>0       </td> <td>0        </td> <td>nan                </td> <td>nan             </td> <td>nan           </td> <td>nan          </td> <td>nan                </td> <td>nan          </td>\n",
              "        </tr>\n",
              "        <tr>\n",
              "            <td>2015</td> <td>1    </td> <td>1   </td> <td>4          </td> <td>AA     </td> <td>2336         </td> <td>N3KUAA     </td> <td>LAX           </td> <td>PBI                </td> <td>10                 </td> <td>2             </td> <td>-8             </td> <td>12      </td> <td>14        </td> <td>280           </td> <td>279         </td> <td>263     </td> <td>2330    </td> <td>737      </td> <td>4      </td> <td>750              </td> <td>741         </td> <td>-9           </td> <td>0       </td> <td>0        </td> <td>nan                </td> <td>nan             </td> <td>nan           </td> <td>nan          </td> <td>nan                </td> <td>nan          </td>\n",
              "        </tr>\n",
              "        <tr>\n",
              "            <td>2015</td> <td>1    </td> <td>1   </td> <td>4          </td> <td>US     </td> <td>840          </td> <td>N171US     </td> <td>SFO           </td> <td>CLT                </td> <td>20                 </td> <td>18            </td> <td>-2             </td> <td>16      </td> <td>34        </td> <td>286           </td> <td>293         </td> <td>266     </td> <td>2296    </td> <td>800      </td> <td>11     </td> <td>806              </td> <td>811         </td> <td>5            </td> <td>0       </td> <td>0        </td> <td>nan                </td> <td>nan             </td> <td>nan           </td> <td>nan          </td> <td>nan                </td> <td>nan          </td>\n",
              "        </tr>\n",
              "        <tr>\n",
              "            <td>2015</td> <td>1    </td> <td>1   </td> <td>4          </td> <td>AA     </td> <td>258          </td> <td>N3HYAA     </td> <td>LAX           </td> <td>MIA                </td> <td>20                 </td> <td>15            </td> <td>-5             </td> <td>15      </td> <td>30        </td> <td>285           </td> <td>281         </td> <td>258     </td> <td>2342    </td> <td>748      </td> <td>8      </td> <td>805              </td> <td>756         </td> <td>-9           </td> <td>0       </td> <td>0        </td> <td>nan                </td> <td>nan             </td> <td>nan           </td> <td>nan          </td> <td>nan                </td> <td>nan          </td>\n",
              "        </tr>\n",
              "        <tr>\n",
              "            <td>2015</td> <td>1    </td> <td>1   </td> <td>4          </td> <td>AS     </td> <td>135          </td> <td>N527AS     </td> <td>SEA           </td> <td>ANC                </td> <td>25                 </td> <td>24            </td> <td>-1             </td> <td>11      </td> <td>35        </td> <td>235           </td> <td>215         </td> <td>199     </td> <td>1448    </td> <td>254      </td> <td>5      </td> <td>320              </td> <td>259         </td> <td>-21          </td> <td>0       </td> <td>0        </td> <td>nan                </td> <td>nan             </td> <td>nan           </td> <td>nan          </td> <td>nan                </td> <td>nan          </td>\n",
              "        </tr>\n",
              "        <tr>\n",
              "            <td>2015</td> <td>1    </td> <td>1   </td> <td>4          </td> <td>DL     </td> <td>806          </td> <td>N3730B     </td> <td>SFO           </td> <td>MSP                </td> <td>25                 </td> <td>20            </td> <td>-5             </td> <td>18      </td> <td>38        </td> <td>217           </td> <td>230         </td> <td>206     </td> <td>1589    </td> <td>604      </td> <td>6      </td> <td>602              </td> <td>610         </td> <td>8            </td> <td>0       </td> <td>0        </td> <td>nan                </td> <td>nan             </td> <td>nan           </td> <td>nan          </td> <td>nan                </td> <td>nan          </td>\n",
              "        </tr>\n",
              "    </tbody>\n",
              "</table>\n",
              "<p>... (1048569 rows omitted)</p>"
            ]
          },
          "metadata": {}
        }
      ]
    },
    {
      "cell_type": "markdown",
      "source": [
        "#Step2"
      ],
      "metadata": {
        "id": "u-yc81Tl-mzJ"
      }
    },
    {
      "cell_type": "code",
      "metadata": {
        "id": "Rl9XgT8rTXyQ",
        "colab": {
          "base_uri": "https://localhost:8080/",
          "height": 430
        },
        "outputId": "cc71ade4-1110-4a8c-ec14-7aba6b64238c"
      },
      "source": [
        "gap = 782\n",
        "start = np.random.choice(np.arange(gap))\n",
        "mySample = flights.take(np.arange(start, flights.num_rows, gap))\n",
        "print(mySample.num_rows)\n",
        "mySample"
      ],
      "execution_count": null,
      "outputs": [
        {
          "output_type": "stream",
          "name": "stdout",
          "text": [
            "1341\n"
          ]
        },
        {
          "output_type": "execute_result",
          "data": {
            "text/plain": [
              "YEAR | MONTH | DAY  | DAY_OF_WEEK | AIRLINE | FLIGHT_NUMBER | TAIL_NUMBER | ORIGIN_AIRPORT | DESTINATION_AIRPORT | SCHEDULED_DEPARTURE | DEPARTURE_TIME | DEPARTURE_DELAY | TAXI_OUT | WHEELS_OFF | SCHEDULED_TIME | ELAPSED_TIME | AIR_TIME | DISTANCE | WHEELS_ON | TAXI_IN | SCHEDULED_ARRIVAL | ARRIVAL_TIME | ARRIVAL_DELAY | DIVERTED | CANCELLED | CANCELLATION_REASON | AIR_SYSTEM_DELAY | SECURITY_DELAY | AIRLINE_DELAY | LATE_AIRCRAFT_DELAY | WEATHER_DELAY\n",
              "2015 | 1     | 1    | 4           | AS      | 573           | N467AS      | SAN            | PDX                 | 630                 | 624            | -6              | 17       | 641        | 160            | 158          | 136      | 933      | 857       | 5       | 910               | 902          | -8            | 0        | 0         | nan                 | nan              | nan            | nan           | nan                 | nan\n",
              "2015 | 1     | 1    | 4           | F9      | 935           | N938FR      | TTN            | CVG                 | 740                 | 751            | 11              | 9        | 800        | 127            | 119          | 103      | 532      | 943       | 7       | 947               | 950          | 3             | 0        | 0         | nan                 | nan              | nan            | nan           | nan                 | nan\n",
              "2015 | 1     | 1    | 4           | WN      | 1165          | N373SW      | MKE            | MCO                 | 840                 | 837            | -3              | 10       | 847        | 170            | 154          | 137      | 1066     | 1204      | 7       | 1230              | 1211         | -19           | 0        | 0         | nan                 | nan              | nan            | nan           | nan                 | nan\n",
              "2015 | 1     | 1    | 4           | AA      | 36            | N3EKAA      | SAN            | DFW                 | 935                 | 928            | -7              | 13       | 941        | 170            | 172          | 140      | 1171     | 1401      | 19      | 1425              | 1420         | -5            | 0        | 0         | nan                 | nan              | nan            | nan           | nan                 | nan\n",
              "2015 | 1     | 1    | 4           | EV      | 5978          | N12921      | ORD            | IND                 | 1025                | 1019           | -6              | 15       | 1034       | 63             | 50           | 29       | 177      | 1203      | 6       | 1228              | 1209         | -19           | 0        | 0         | nan                 | nan              | nan            | nan           | nan                 | nan\n",
              "2015 | 1     | 1    | 4           | US      | 1923          | N752US      | CLT            | DTW                 | 1120                | 1117           | -3              | 9        | 1126       | 108            | 102          | 85       | 500      | 1251      | 8       | 1308              | 1259         | -9            | 0        | 0         | nan                 | nan              | nan            | nan           | nan                 | nan\n",
              "2015 | 1     | 1    | 4           | B6      | 1129          | N633JB      | JFK            | RSW                 | 1205                | 1231           | 26              | 12       | 1243       | 193            | 183          | 165      | 1074     | 1528      | 6       | 1518              | 1534         | 16            | 0        | 0         | nan                 | 0                | 0              | 7             | 9                   | 0\n",
              "2015 | 1     | 1    | 4           | OO      | 4461          | N613QX      | OAK            | LAX                 | 1258                | 1307           | 9               | 14       | 1321       | 82             | 82           | 56       | 337      | 1417      | 12      | 1420              | 1429         | 9             | 0        | 0         | nan                 | nan              | nan            | nan           | nan                 | nan\n",
              "2015 | 1     | 1    | 4           | DL      | 901           | N554NW      | DTW            | ATL                 | 1345                | 1344           | -1              | 14       | 1358       | 130            | 102          | 83       | 594      | 1521      | 5       | 1555              | 1526         | -29           | 0        | 0         | nan                 | nan              | nan            | nan           | nan                 | nan\n",
              "2015 | 1     | 1    | 4           | AA      | 2479          | N5FBAA      | DFW            | LAX                 | 1435                | 1442           | 7               | 17       | 1459       | 205            | 187          | 165      | 1235     | 1544      | 5       | 1600              | 1549         | -11           | 0        | 0         | nan                 | nan              | nan            | nan           | nan                 | nan\n",
              "... (1331 rows omitted)"
            ],
            "text/html": [
              "<table border=\"1\" class=\"dataframe\">\n",
              "    <thead>\n",
              "        <tr>\n",
              "            <th>YEAR</th> <th>MONTH</th> <th>DAY</th> <th>DAY_OF_WEEK</th> <th>AIRLINE</th> <th>FLIGHT_NUMBER</th> <th>TAIL_NUMBER</th> <th>ORIGIN_AIRPORT</th> <th>DESTINATION_AIRPORT</th> <th>SCHEDULED_DEPARTURE</th> <th>DEPARTURE_TIME</th> <th>DEPARTURE_DELAY</th> <th>TAXI_OUT</th> <th>WHEELS_OFF</th> <th>SCHEDULED_TIME</th> <th>ELAPSED_TIME</th> <th>AIR_TIME</th> <th>DISTANCE</th> <th>WHEELS_ON</th> <th>TAXI_IN</th> <th>SCHEDULED_ARRIVAL</th> <th>ARRIVAL_TIME</th> <th>ARRIVAL_DELAY</th> <th>DIVERTED</th> <th>CANCELLED</th> <th>CANCELLATION_REASON</th> <th>AIR_SYSTEM_DELAY</th> <th>SECURITY_DELAY</th> <th>AIRLINE_DELAY</th> <th>LATE_AIRCRAFT_DELAY</th> <th>WEATHER_DELAY</th>\n",
              "        </tr>\n",
              "    </thead>\n",
              "    <tbody>\n",
              "        <tr>\n",
              "            <td>2015</td> <td>1    </td> <td>1   </td> <td>4          </td> <td>AS     </td> <td>573          </td> <td>N467AS     </td> <td>SAN           </td> <td>PDX                </td> <td>630                </td> <td>624           </td> <td>-6             </td> <td>17      </td> <td>641       </td> <td>160           </td> <td>158         </td> <td>136     </td> <td>933     </td> <td>857      </td> <td>5      </td> <td>910              </td> <td>902         </td> <td>-8           </td> <td>0       </td> <td>0        </td> <td>nan                </td> <td>nan             </td> <td>nan           </td> <td>nan          </td> <td>nan                </td> <td>nan          </td>\n",
              "        </tr>\n",
              "        <tr>\n",
              "            <td>2015</td> <td>1    </td> <td>1   </td> <td>4          </td> <td>F9     </td> <td>935          </td> <td>N938FR     </td> <td>TTN           </td> <td>CVG                </td> <td>740                </td> <td>751           </td> <td>11             </td> <td>9       </td> <td>800       </td> <td>127           </td> <td>119         </td> <td>103     </td> <td>532     </td> <td>943      </td> <td>7      </td> <td>947              </td> <td>950         </td> <td>3            </td> <td>0       </td> <td>0        </td> <td>nan                </td> <td>nan             </td> <td>nan           </td> <td>nan          </td> <td>nan                </td> <td>nan          </td>\n",
              "        </tr>\n",
              "        <tr>\n",
              "            <td>2015</td> <td>1    </td> <td>1   </td> <td>4          </td> <td>WN     </td> <td>1165         </td> <td>N373SW     </td> <td>MKE           </td> <td>MCO                </td> <td>840                </td> <td>837           </td> <td>-3             </td> <td>10      </td> <td>847       </td> <td>170           </td> <td>154         </td> <td>137     </td> <td>1066    </td> <td>1204     </td> <td>7      </td> <td>1230             </td> <td>1211        </td> <td>-19          </td> <td>0       </td> <td>0        </td> <td>nan                </td> <td>nan             </td> <td>nan           </td> <td>nan          </td> <td>nan                </td> <td>nan          </td>\n",
              "        </tr>\n",
              "        <tr>\n",
              "            <td>2015</td> <td>1    </td> <td>1   </td> <td>4          </td> <td>AA     </td> <td>36           </td> <td>N3EKAA     </td> <td>SAN           </td> <td>DFW                </td> <td>935                </td> <td>928           </td> <td>-7             </td> <td>13      </td> <td>941       </td> <td>170           </td> <td>172         </td> <td>140     </td> <td>1171    </td> <td>1401     </td> <td>19     </td> <td>1425             </td> <td>1420        </td> <td>-5           </td> <td>0       </td> <td>0        </td> <td>nan                </td> <td>nan             </td> <td>nan           </td> <td>nan          </td> <td>nan                </td> <td>nan          </td>\n",
              "        </tr>\n",
              "        <tr>\n",
              "            <td>2015</td> <td>1    </td> <td>1   </td> <td>4          </td> <td>EV     </td> <td>5978         </td> <td>N12921     </td> <td>ORD           </td> <td>IND                </td> <td>1025               </td> <td>1019          </td> <td>-6             </td> <td>15      </td> <td>1034      </td> <td>63            </td> <td>50          </td> <td>29      </td> <td>177     </td> <td>1203     </td> <td>6      </td> <td>1228             </td> <td>1209        </td> <td>-19          </td> <td>0       </td> <td>0        </td> <td>nan                </td> <td>nan             </td> <td>nan           </td> <td>nan          </td> <td>nan                </td> <td>nan          </td>\n",
              "        </tr>\n",
              "        <tr>\n",
              "            <td>2015</td> <td>1    </td> <td>1   </td> <td>4          </td> <td>US     </td> <td>1923         </td> <td>N752US     </td> <td>CLT           </td> <td>DTW                </td> <td>1120               </td> <td>1117          </td> <td>-3             </td> <td>9       </td> <td>1126      </td> <td>108           </td> <td>102         </td> <td>85      </td> <td>500     </td> <td>1251     </td> <td>8      </td> <td>1308             </td> <td>1259        </td> <td>-9           </td> <td>0       </td> <td>0        </td> <td>nan                </td> <td>nan             </td> <td>nan           </td> <td>nan          </td> <td>nan                </td> <td>nan          </td>\n",
              "        </tr>\n",
              "        <tr>\n",
              "            <td>2015</td> <td>1    </td> <td>1   </td> <td>4          </td> <td>B6     </td> <td>1129         </td> <td>N633JB     </td> <td>JFK           </td> <td>RSW                </td> <td>1205               </td> <td>1231          </td> <td>26             </td> <td>12      </td> <td>1243      </td> <td>193           </td> <td>183         </td> <td>165     </td> <td>1074    </td> <td>1528     </td> <td>6      </td> <td>1518             </td> <td>1534        </td> <td>16           </td> <td>0       </td> <td>0        </td> <td>nan                </td> <td>0               </td> <td>0             </td> <td>7            </td> <td>9                  </td> <td>0            </td>\n",
              "        </tr>\n",
              "        <tr>\n",
              "            <td>2015</td> <td>1    </td> <td>1   </td> <td>4          </td> <td>OO     </td> <td>4461         </td> <td>N613QX     </td> <td>OAK           </td> <td>LAX                </td> <td>1258               </td> <td>1307          </td> <td>9              </td> <td>14      </td> <td>1321      </td> <td>82            </td> <td>82          </td> <td>56      </td> <td>337     </td> <td>1417     </td> <td>12     </td> <td>1420             </td> <td>1429        </td> <td>9            </td> <td>0       </td> <td>0        </td> <td>nan                </td> <td>nan             </td> <td>nan           </td> <td>nan          </td> <td>nan                </td> <td>nan          </td>\n",
              "        </tr>\n",
              "        <tr>\n",
              "            <td>2015</td> <td>1    </td> <td>1   </td> <td>4          </td> <td>DL     </td> <td>901          </td> <td>N554NW     </td> <td>DTW           </td> <td>ATL                </td> <td>1345               </td> <td>1344          </td> <td>-1             </td> <td>14      </td> <td>1358      </td> <td>130           </td> <td>102         </td> <td>83      </td> <td>594     </td> <td>1521     </td> <td>5      </td> <td>1555             </td> <td>1526        </td> <td>-29          </td> <td>0       </td> <td>0        </td> <td>nan                </td> <td>nan             </td> <td>nan           </td> <td>nan          </td> <td>nan                </td> <td>nan          </td>\n",
              "        </tr>\n",
              "        <tr>\n",
              "            <td>2015</td> <td>1    </td> <td>1   </td> <td>4          </td> <td>AA     </td> <td>2479         </td> <td>N5FBAA     </td> <td>DFW           </td> <td>LAX                </td> <td>1435               </td> <td>1442          </td> <td>7              </td> <td>17      </td> <td>1459      </td> <td>205           </td> <td>187         </td> <td>165     </td> <td>1235    </td> <td>1544     </td> <td>5      </td> <td>1600             </td> <td>1549        </td> <td>-11          </td> <td>0       </td> <td>0        </td> <td>nan                </td> <td>nan             </td> <td>nan           </td> <td>nan          </td> <td>nan                </td> <td>nan          </td>\n",
              "        </tr>\n",
              "    </tbody>\n",
              "</table>\n",
              "<p>... (1331 rows omitted)</p>"
            ]
          },
          "metadata": {},
          "execution_count": 13
        }
      ]
    },
    {
      "cell_type": "markdown",
      "source": [
        "Simple random sample eliminates sample bias because it spells out the method of selecting the research variable. On the other hand, convenience sample leaves a lot of researcher's dicretion, which leads to several biases. However, convenience sample speeds up the research process."
      ],
      "metadata": {
        "id": "NwmUlmCEvibJ"
      }
    },
    {
      "cell_type": "markdown",
      "metadata": {
        "id": "G-sxSL1ITX_e"
      },
      "source": [
        "Load the airports dataset containing airport names and latitude/longitude coordinates:\n"
      ]
    },
    {
      "cell_type": "code",
      "metadata": {
        "id": "2LgSYfXbTYR_"
      },
      "source": [
        "airports = Table.read_table('airports.csv')"
      ],
      "execution_count": null,
      "outputs": []
    },
    {
      "cell_type": "code",
      "source": [
        "airports.show(5)"
      ],
      "metadata": {
        "colab": {
          "base_uri": "https://localhost:8080/",
          "height": 235
        },
        "id": "NLiFDhiTlNkE",
        "outputId": "c20a0ed2-e911-4538-a9ed-872209fbffb2"
      },
      "execution_count": null,
      "outputs": [
        {
          "output_type": "display_data",
          "data": {
            "text/plain": [
              "<IPython.core.display.HTML object>"
            ],
            "text/html": [
              "<table border=\"1\" class=\"dataframe\">\n",
              "    <thead>\n",
              "        <tr>\n",
              "            <th>IATA_CODE</th> <th>AIRPORT</th> <th>CITY</th> <th>STATE</th> <th>COUNTRY</th> <th>LATITUDE</th> <th>LONGITUDE</th>\n",
              "        </tr>\n",
              "    </thead>\n",
              "    <tbody>\n",
              "        <tr>\n",
              "            <td>ABE      </td> <td>Lehigh Valley International Airport</td> <td>Allentown  </td> <td>PA   </td> <td>USA    </td> <td>40.6524 </td> <td>-75.4404 </td>\n",
              "        </tr>\n",
              "        <tr>\n",
              "            <td>ABI      </td> <td>Abilene Regional Airport           </td> <td>Abilene    </td> <td>TX   </td> <td>USA    </td> <td>32.4113 </td> <td>-99.6819 </td>\n",
              "        </tr>\n",
              "        <tr>\n",
              "            <td>ABQ      </td> <td>Albuquerque International Sunport  </td> <td>Albuquerque</td> <td>NM   </td> <td>USA    </td> <td>35.0402 </td> <td>-106.609 </td>\n",
              "        </tr>\n",
              "        <tr>\n",
              "            <td>ABR      </td> <td>Aberdeen Regional Airport          </td> <td>Aberdeen   </td> <td>SD   </td> <td>USA    </td> <td>45.4491 </td> <td>-98.4218 </td>\n",
              "        </tr>\n",
              "        <tr>\n",
              "            <td>ABY      </td> <td>Southwest Georgia Regional Airport </td> <td>Albany     </td> <td>GA   </td> <td>USA    </td> <td>31.5355 </td> <td>-84.1945 </td>\n",
              "        </tr>\n",
              "    </tbody>\n",
              "</table>\n",
              "<p>... (317 rows omitted)</p>"
            ]
          },
          "metadata": {}
        }
      ]
    },
    {
      "cell_type": "markdown",
      "metadata": {
        "id": "gTdcE9nATYeP"
      },
      "source": [
        "## Try to understand the next code block, especially the join method\n",
        "\n",
        "String together multiple Table-modifying methods (from the datascience module) to produce a cleaned-up version of the systematic sample called mySample (then print its number of rows and its first 10 rows):\n",
        "\n",
        "1.   Select mySample according to 'gap' and 'start'.\n",
        "2.   Then join every ORIGIN_AIRPORT in 'mysample' with the\n",
        " corresponding columns from 'airports' based on matching IATA_CODE.\n",
        "3.   Then select just the columns we need from the result.\n",
        "4.   Then relabel some of the columns.\n",
        "\n",
        "#Step3"
      ]
    },
    {
      "cell_type": "code",
      "metadata": {
        "id": "T10NXfo1TYue",
        "colab": {
          "base_uri": "https://localhost:8080/",
          "height": 777
        },
        "outputId": "d9525e95-1cb5-496c-c53a-3f3af07488d4"
      },
      "source": [
        "mySample = (flights.take(np.arange(start, flights.num_rows, gap))\n",
        "                   .join('ORIGIN_AIRPORT', airports, 'IATA_CODE')\n",
        "                   .select('MONTH', 'DAY', 'ORIGIN_AIRPORT', \n",
        "                           'DESTINATION_AIRPORT', 'SCHEDULED_DEPARTURE', \n",
        "                           'DEPARTURE_DELAY', 'AIRPORT',\n",
        "                           'LATITUDE', 'LONGITUDE')\n",
        "                   .relabeled('ORIGIN_AIRPORT', 'ORIGIN')\n",
        "                   .relabeled('DESTINATION_AIRPORT', 'DESTINATION')\n",
        "                   .relabeled('DEPARTURE_DELAY', 'DELAY')\n",
        "                   .relabeled('AIRPORT', 'ORIGIN_NAME')\n",
        "            )\n",
        "print(mySample.num_rows)\n",
        "mySample"
      ],
      "execution_count": null,
      "outputs": [
        {
          "output_type": "stream",
          "name": "stdout",
          "text": [
            "1341\n"
          ]
        },
        {
          "output_type": "execute_result",
          "data": {
            "text/plain": [
              "MONTH | DAY  | ORIGIN | DESTINATION | SCHEDULED_DEPARTURE | DELAY | ORIGIN_NAME                         | LATITUDE | LONGITUDE\n",
              "1     | 5    | ABE    | DTW         | 1253                | -3    | Lehigh Valley International Airport | 40.6524  | -75.4404\n",
              "1     | 26   | ABI    | DFW         | 655                 | -11   | Abilene Regional Airport            | 32.4113  | -99.6819\n",
              "1     | 4    | ABQ    | DAL         | 1830                | 70    | Albuquerque International Sunport   | 35.0402  | -106.609\n",
              "1     | 11   | ABQ    | DFW         | 1535                | 10    | Albuquerque International Sunport   | 35.0402  | -106.609\n",
              "2     | 16   | ABQ    | MCI         | 1150                | -3    | Albuquerque International Sunport   | 35.0402  | -106.609\n",
              "2     | 17   | ABQ    | DFW         | 724                 | -6    | Albuquerque International Sunport   | 35.0402  | -106.609\n",
              "3     | 4    | ABQ    | PHX         | 1835                | -8    | Albuquerque International Sunport   | 35.0402  | -106.609\n",
              "3     | 8    | ABQ    | ORD         | 1313                | -8    | Albuquerque International Sunport   | 35.0402  | -106.609\n",
              "3     | 9    | ABQ    | IAH         | 855                 | 0     | Albuquerque International Sunport   | 35.0402  | -106.609\n",
              "3     | 10   | ABQ    | ATL         | 620                 | -4    | Albuquerque International Sunport   | 35.0402  | -106.609\n",
              "... (1331 rows omitted)"
            ],
            "text/html": [
              "<table border=\"1\" class=\"dataframe\">\n",
              "    <thead>\n",
              "        <tr>\n",
              "            <th>MONTH</th> <th>DAY</th> <th>ORIGIN</th> <th>DESTINATION</th> <th>SCHEDULED_DEPARTURE</th> <th>DELAY</th> <th>ORIGIN_NAME</th> <th>LATITUDE</th> <th>LONGITUDE</th>\n",
              "        </tr>\n",
              "    </thead>\n",
              "    <tbody>\n",
              "        <tr>\n",
              "            <td>1    </td> <td>5   </td> <td>ABE   </td> <td>DTW        </td> <td>1253               </td> <td>-3   </td> <td>Lehigh Valley International Airport</td> <td>40.6524 </td> <td>-75.4404 </td>\n",
              "        </tr>\n",
              "        <tr>\n",
              "            <td>1    </td> <td>26  </td> <td>ABI   </td> <td>DFW        </td> <td>655                </td> <td>-11  </td> <td>Abilene Regional Airport           </td> <td>32.4113 </td> <td>-99.6819 </td>\n",
              "        </tr>\n",
              "        <tr>\n",
              "            <td>1    </td> <td>4   </td> <td>ABQ   </td> <td>DAL        </td> <td>1830               </td> <td>70   </td> <td>Albuquerque International Sunport  </td> <td>35.0402 </td> <td>-106.609 </td>\n",
              "        </tr>\n",
              "        <tr>\n",
              "            <td>1    </td> <td>11  </td> <td>ABQ   </td> <td>DFW        </td> <td>1535               </td> <td>10   </td> <td>Albuquerque International Sunport  </td> <td>35.0402 </td> <td>-106.609 </td>\n",
              "        </tr>\n",
              "        <tr>\n",
              "            <td>2    </td> <td>16  </td> <td>ABQ   </td> <td>MCI        </td> <td>1150               </td> <td>-3   </td> <td>Albuquerque International Sunport  </td> <td>35.0402 </td> <td>-106.609 </td>\n",
              "        </tr>\n",
              "        <tr>\n",
              "            <td>2    </td> <td>17  </td> <td>ABQ   </td> <td>DFW        </td> <td>724                </td> <td>-6   </td> <td>Albuquerque International Sunport  </td> <td>35.0402 </td> <td>-106.609 </td>\n",
              "        </tr>\n",
              "        <tr>\n",
              "            <td>3    </td> <td>4   </td> <td>ABQ   </td> <td>PHX        </td> <td>1835               </td> <td>-8   </td> <td>Albuquerque International Sunport  </td> <td>35.0402 </td> <td>-106.609 </td>\n",
              "        </tr>\n",
              "        <tr>\n",
              "            <td>3    </td> <td>8   </td> <td>ABQ   </td> <td>ORD        </td> <td>1313               </td> <td>-8   </td> <td>Albuquerque International Sunport  </td> <td>35.0402 </td> <td>-106.609 </td>\n",
              "        </tr>\n",
              "        <tr>\n",
              "            <td>3    </td> <td>9   </td> <td>ABQ   </td> <td>IAH        </td> <td>855                </td> <td>0    </td> <td>Albuquerque International Sunport  </td> <td>35.0402 </td> <td>-106.609 </td>\n",
              "        </tr>\n",
              "        <tr>\n",
              "            <td>3    </td> <td>10  </td> <td>ABQ   </td> <td>ATL        </td> <td>620                </td> <td>-4   </td> <td>Albuquerque International Sunport  </td> <td>35.0402 </td> <td>-106.609 </td>\n",
              "        </tr>\n",
              "    </tbody>\n",
              "</table>\n",
              "<p>... (1331 rows omitted)</p>"
            ]
          },
          "metadata": {},
          "execution_count": 15
        }
      ]
    },
    {
      "cell_type": "markdown",
      "source": [
        "By using the join method it only shows the data that has been selected from the file.  "
      ],
      "metadata": {
        "id": "5_pd_nJY7pys"
      }
    },
    {
      "cell_type": "markdown",
      "metadata": {
        "id": "QoALcujETY72"
      },
      "source": [
        "#Step4\n",
        "Create a new column with the approximate day of year. There are better, more accurate ways to do this, but this method that approximates each month by 30 days will work for this purpose:"
      ]
    },
    {
      "cell_type": "code",
      "metadata": {
        "id": "p5tM0e-3UeFq",
        "colab": {
          "base_uri": "https://localhost:8080/",
          "height": 388
        },
        "outputId": "77762d90-00bc-4864-a392-0552e894c0ea"
      },
      "source": [
        "mySample = mySample.with_column(\n",
        "             'DAY_OF_YEAR', \n",
        "             30*(mySample.column('MONTH')-1) + mySample.column('DAY'))\n",
        "mySample"
      ],
      "execution_count": null,
      "outputs": [
        {
          "output_type": "execute_result",
          "data": {
            "text/html": [
              "<table border=\"1\" class=\"dataframe\">\n",
              "    <thead>\n",
              "        <tr>\n",
              "            <th>MONTH</th> <th>DAY</th> <th>ORIGIN</th> <th>DESTINATION</th> <th>SCHEDULED_DEPARTURE</th> <th>DELAY</th> <th>ORIGIN_NAME</th> <th>LATITUDE</th> <th>LONGITUDE</th> <th>DAY_OF_YEAR</th>\n",
              "        </tr>\n",
              "    </thead>\n",
              "    <tbody>\n",
              "        <tr>\n",
              "            <td>1    </td> <td>9   </td> <td>ABQ   </td> <td>SEA        </td> <td>1535               </td> <td>-21  </td> <td>Albuquerque International Sunport    </td> <td>35.0402 </td> <td>-106.609 </td> <td>9          </td>\n",
              "        </tr>\n",
              "        <tr>\n",
              "            <td>1    </td> <td>25  </td> <td>ABQ   </td> <td>DAL        </td> <td>1905               </td> <td>-2   </td> <td>Albuquerque International Sunport    </td> <td>35.0402 </td> <td>-106.609 </td> <td>25         </td>\n",
              "        </tr>\n",
              "        <tr>\n",
              "            <td>2    </td> <td>1   </td> <td>ABQ   </td> <td>DAL        </td> <td>800                </td> <td>-4   </td> <td>Albuquerque International Sunport    </td> <td>35.0402 </td> <td>-106.609 </td> <td>31         </td>\n",
              "        </tr>\n",
              "        <tr>\n",
              "            <td>2    </td> <td>19  </td> <td>ABQ   </td> <td>IAH        </td> <td>855                </td> <td>-13  </td> <td>Albuquerque International Sunport    </td> <td>35.0402 </td> <td>-106.609 </td> <td>49         </td>\n",
              "        </tr>\n",
              "        <tr>\n",
              "            <td>2    </td> <td>20  </td> <td>ABQ   </td> <td>IAH        </td> <td>855                </td> <td>-10  </td> <td>Albuquerque International Sunport    </td> <td>35.0402 </td> <td>-106.609 </td> <td>50         </td>\n",
              "        </tr>\n",
              "        <tr>\n",
              "            <td>2    </td> <td>23  </td> <td>ABQ   </td> <td>SEA        </td> <td>1250               </td> <td>16   </td> <td>Albuquerque International Sunport    </td> <td>35.0402 </td> <td>-106.609 </td> <td>53         </td>\n",
              "        </tr>\n",
              "        <tr>\n",
              "            <td>2    </td> <td>26  </td> <td>ABQ   </td> <td>DEN        </td> <td>1030               </td> <td>-4   </td> <td>Albuquerque International Sunport    </td> <td>35.0402 </td> <td>-106.609 </td> <td>56         </td>\n",
              "        </tr>\n",
              "        <tr>\n",
              "            <td>2    </td> <td>16  </td> <td>ACY   </td> <td>RSW        </td> <td>600                </td> <td>-7   </td> <td>Atlantic City International Airport  </td> <td>39.4576 </td> <td>-74.5772 </td> <td>46         </td>\n",
              "        </tr>\n",
              "        <tr>\n",
              "            <td>1    </td> <td>19  </td> <td>AGS   </td> <td>ATL        </td> <td>1715               </td> <td>-6   </td> <td>Augusta Regional Airport (Bush Field)</td> <td>33.37   </td> <td>-81.9645 </td> <td>19         </td>\n",
              "        </tr>\n",
              "        <tr>\n",
              "            <td>2    </td> <td>10  </td> <td>AGS   </td> <td>ATL        </td> <td>1849               </td> <td>2    </td> <td>Augusta Regional Airport (Bush Field)</td> <td>33.37   </td> <td>-81.9645 </td> <td>40         </td>\n",
              "        </tr>\n",
              "    </tbody>\n",
              "</table>\n",
              "<p>... (1331 rows omitted)</p>"
            ],
            "text/plain": [
              "MONTH | DAY  | ORIGIN | DESTINATION | SCHEDULED_DEPARTURE | DELAY | ORIGIN_NAME                           | LATITUDE | LONGITUDE | DAY_OF_YEAR\n",
              "1     | 9    | ABQ    | SEA         | 1535                | -21   | Albuquerque International Sunport     | 35.0402  | -106.609  | 9\n",
              "1     | 25   | ABQ    | DAL         | 1905                | -2    | Albuquerque International Sunport     | 35.0402  | -106.609  | 25\n",
              "2     | 1    | ABQ    | DAL         | 800                 | -4    | Albuquerque International Sunport     | 35.0402  | -106.609  | 31\n",
              "2     | 19   | ABQ    | IAH         | 855                 | -13   | Albuquerque International Sunport     | 35.0402  | -106.609  | 49\n",
              "2     | 20   | ABQ    | IAH         | 855                 | -10   | Albuquerque International Sunport     | 35.0402  | -106.609  | 50\n",
              "2     | 23   | ABQ    | SEA         | 1250                | 16    | Albuquerque International Sunport     | 35.0402  | -106.609  | 53\n",
              "2     | 26   | ABQ    | DEN         | 1030                | -4    | Albuquerque International Sunport     | 35.0402  | -106.609  | 56\n",
              "2     | 16   | ACY    | RSW         | 600                 | -7    | Atlantic City International Airport   | 39.4576  | -74.5772  | 46\n",
              "1     | 19   | AGS    | ATL         | 1715                | -6    | Augusta Regional Airport (Bush Field) | 33.37    | -81.9645  | 19\n",
              "2     | 10   | AGS    | ATL         | 1849                | 2     | Augusta Regional Airport (Bush Field) | 33.37    | -81.9645  | 40\n",
              "... (1331 rows omitted)"
            ]
          },
          "metadata": {},
          "execution_count": 13
        }
      ]
    },
    {
      "cell_type": "markdown",
      "metadata": {
        "id": "zrzgL6WJUeua"
      },
      "source": [
        "# Step5\n",
        "Recall that a scatterplot depicts the relationship between two quantitative measurement columns.  Create a scatterplot using the 'LATITUDE' and 'DELAY' columns."
      ]
    },
    {
      "cell_type": "code",
      "metadata": {
        "id": "BR1ck_htUfx4",
        "colab": {
          "base_uri": "https://localhost:8080/",
          "height": 359
        },
        "outputId": "6c664df2-ab8c-46f2-e54b-1129ea3f0bc4"
      },
      "source": [
        "mySample.scatter('LATITUDE', 'DELAY')"
      ],
      "execution_count": null,
      "outputs": [
        {
          "output_type": "display_data",
          "data": {
            "image/png": "[encoded data removed]",
            "text/plain": [
              "<Figure size 360x360 with 1 Axes>"
            ]
          },
          "metadata": {}
        }
      ]
    },
    {
      "cell_type": "markdown",
      "source": [
        "We've chosen LATITUDE because the DELAY data was scattered more than the LATITUDE data which will make it hard to read the plot."
      ],
      "metadata": {
        "id": "Rj6KUy0U_AHk"
      }
    },
    {
      "cell_type": "markdown",
      "source": [
        "# Step6"
      ],
      "metadata": {
        "id": "cSk3keZ3AYqP"
      }
    },
    {
      "cell_type": "code",
      "source": [
        "mySample.scatter('LONGITUDE', 'DELAY')"
      ],
      "metadata": {
        "colab": {
          "base_uri": "https://localhost:8080/",
          "height": 359
        },
        "id": "n-_Dg1vU__BQ",
        "outputId": "8ad7e36f-12bd-4a8d-ccd8-2c332b636808"
      },
      "execution_count": null,
      "outputs": [
        {
          "output_type": "display_data",
          "data": {
            "image/png": "[encoded data removed]",
            "text/plain": [
              "<Figure size 360x360 with 1 Axes>"
            ]
          },
          "metadata": {}
        }
      ]
    },
    {
      "cell_type": "markdown",
      "source": [
        "There is a big (almost) blankbetween the longtitude of around -150 and around -130."
      ],
      "metadata": {
        "id": "2VG7I0H5AEGX"
      }
    },
    {
      "cell_type": "markdown",
      "source": [
        "# Step7"
      ],
      "metadata": {
        "id": "38uXfG4JA4Wj"
      }
    },
    {
      "cell_type": "code",
      "source": [
        "mySample.scatter('DAY_OF_YEAR', 'DELAY')"
      ],
      "metadata": {
        "colab": {
          "base_uri": "https://localhost:8080/",
          "height": 360
        },
        "id": "MS8Ks7gZAcSt",
        "outputId": "6cef82a2-ac86-47d9-a250-815c768e203b"
      },
      "execution_count": null,
      "outputs": [
        {
          "output_type": "display_data",
          "data": {
            "image/png": "[encoded data removed]",
            "text/plain": [
              "<Figure size 360x360 with 1 Axes>"
            ]
          },
          "metadata": {}
        }
      ]
    },
    {
      "cell_type": "markdown",
      "source": [
        "For this plot there is a slight blank in the DELAY axis around day 60."
      ],
      "metadata": {
        "id": "bWhyd8j6AmcN"
      }
    },
    {
      "cell_type": "markdown",
      "metadata": {
        "id": "ZAblkOH4Uf-w"
      },
      "source": [
        "# EXTRA CODE\n",
        "The code below is not strictly necessary for the lab assignment.  It is included to illustrate some potentially interesting directions you could take your own investigation:"
      ]
    },
    {
      "cell_type": "code",
      "metadata": {
        "id": "-VvJn0PFUgUo",
        "colab": {
          "base_uri": "https://localhost:8080/",
          "height": 301
        },
        "outputId": "686c531c-a47d-4e70-90bd-9c3d3559eb12"
      },
      "source": [
        "# Create a histogram of LATITUDE\n",
        "mySample.hist('LATITUDE')"
      ],
      "execution_count": null,
      "outputs": [
        {
          "output_type": "display_data",
          "data": {
            "image/png": "[encoded data removed]",
            "text/plain": [
              "<Figure size 432x288 with 1 Axes>"
            ]
          },
          "metadata": {}
        }
      ]
    },
    {
      "cell_type": "code",
      "source": [
        "# Create a new column that splits the airports into high vs. low latitude\n",
        "# based on a cutoff you define:\n",
        "LatCut = 35\n",
        "mySample = mySample.with_column(\n",
        "              'HIGH_LAT', mySample.column('LATITUDE') > LatCut)\n",
        "mySample"
      ],
      "metadata": {
        "id": "kNs44dU8S9kC",
        "colab": {
          "base_uri": "https://localhost:8080/",
          "height": 388
        },
        "outputId": "312dc379-cab7-4285-e027-34005f5d02c0"
      },
      "execution_count": null,
      "outputs": [
        {
          "output_type": "execute_result",
          "data": {
            "text/html": [
              "<table border=\"1\" class=\"dataframe\">\n",
              "    <thead>\n",
              "        <tr>\n",
              "            <th>MONTH</th> <th>DAY</th> <th>ORIGIN</th> <th>DESTINATION</th> <th>SCHEDULED_DEPARTURE</th> <th>DELAY</th> <th>ORIGIN_NAME</th> <th>LATITUDE</th> <th>LONGITUDE</th> <th>DAY_OF_YEAR</th> <th>HIGH_LAT</th>\n",
              "        </tr>\n",
              "    </thead>\n",
              "    <tbody>\n",
              "        <tr>\n",
              "            <td>1    </td> <td>9   </td> <td>ABQ   </td> <td>SEA        </td> <td>1535               </td> <td>-21  </td> <td>Albuquerque International Sunport    </td> <td>35.0402 </td> <td>-106.609 </td> <td>9          </td> <td>True    </td>\n",
              "        </tr>\n",
              "        <tr>\n",
              "            <td>1    </td> <td>25  </td> <td>ABQ   </td> <td>DAL        </td> <td>1905               </td> <td>-2   </td> <td>Albuquerque International Sunport    </td> <td>35.0402 </td> <td>-106.609 </td> <td>25         </td> <td>True    </td>\n",
              "        </tr>\n",
              "        <tr>\n",
              "            <td>2    </td> <td>1   </td> <td>ABQ   </td> <td>DAL        </td> <td>800                </td> <td>-4   </td> <td>Albuquerque International Sunport    </td> <td>35.0402 </td> <td>-106.609 </td> <td>31         </td> <td>True    </td>\n",
              "        </tr>\n",
              "        <tr>\n",
              "            <td>2    </td> <td>19  </td> <td>ABQ   </td> <td>IAH        </td> <td>855                </td> <td>-13  </td> <td>Albuquerque International Sunport    </td> <td>35.0402 </td> <td>-106.609 </td> <td>49         </td> <td>True    </td>\n",
              "        </tr>\n",
              "        <tr>\n",
              "            <td>2    </td> <td>20  </td> <td>ABQ   </td> <td>IAH        </td> <td>855                </td> <td>-10  </td> <td>Albuquerque International Sunport    </td> <td>35.0402 </td> <td>-106.609 </td> <td>50         </td> <td>True    </td>\n",
              "        </tr>\n",
              "        <tr>\n",
              "            <td>2    </td> <td>23  </td> <td>ABQ   </td> <td>SEA        </td> <td>1250               </td> <td>16   </td> <td>Albuquerque International Sunport    </td> <td>35.0402 </td> <td>-106.609 </td> <td>53         </td> <td>True    </td>\n",
              "        </tr>\n",
              "        <tr>\n",
              "            <td>2    </td> <td>26  </td> <td>ABQ   </td> <td>DEN        </td> <td>1030               </td> <td>-4   </td> <td>Albuquerque International Sunport    </td> <td>35.0402 </td> <td>-106.609 </td> <td>56         </td> <td>True    </td>\n",
              "        </tr>\n",
              "        <tr>\n",
              "            <td>2    </td> <td>16  </td> <td>ACY   </td> <td>RSW        </td> <td>600                </td> <td>-7   </td> <td>Atlantic City International Airport  </td> <td>39.4576 </td> <td>-74.5772 </td> <td>46         </td> <td>True    </td>\n",
              "        </tr>\n",
              "        <tr>\n",
              "            <td>1    </td> <td>19  </td> <td>AGS   </td> <td>ATL        </td> <td>1715               </td> <td>-6   </td> <td>Augusta Regional Airport (Bush Field)</td> <td>33.37   </td> <td>-81.9645 </td> <td>19         </td> <td>False   </td>\n",
              "        </tr>\n",
              "        <tr>\n",
              "            <td>2    </td> <td>10  </td> <td>AGS   </td> <td>ATL        </td> <td>1849               </td> <td>2    </td> <td>Augusta Regional Airport (Bush Field)</td> <td>33.37   </td> <td>-81.9645 </td> <td>40         </td> <td>False   </td>\n",
              "        </tr>\n",
              "    </tbody>\n",
              "</table>\n",
              "<p>... (1331 rows omitted)</p>"
            ],
            "text/plain": [
              "MONTH | DAY  | ORIGIN | DESTINATION | SCHEDULED_DEPARTURE | DELAY | ORIGIN_NAME                           | LATITUDE | LONGITUDE | DAY_OF_YEAR | HIGH_LAT\n",
              "1     | 9    | ABQ    | SEA         | 1535                | -21   | Albuquerque International Sunport     | 35.0402  | -106.609  | 9           | True\n",
              "1     | 25   | ABQ    | DAL         | 1905                | -2    | Albuquerque International Sunport     | 35.0402  | -106.609  | 25          | True\n",
              "2     | 1    | ABQ    | DAL         | 800                 | -4    | Albuquerque International Sunport     | 35.0402  | -106.609  | 31          | True\n",
              "2     | 19   | ABQ    | IAH         | 855                 | -13   | Albuquerque International Sunport     | 35.0402  | -106.609  | 49          | True\n",
              "2     | 20   | ABQ    | IAH         | 855                 | -10   | Albuquerque International Sunport     | 35.0402  | -106.609  | 50          | True\n",
              "2     | 23   | ABQ    | SEA         | 1250                | 16    | Albuquerque International Sunport     | 35.0402  | -106.609  | 53          | True\n",
              "2     | 26   | ABQ    | DEN         | 1030                | -4    | Albuquerque International Sunport     | 35.0402  | -106.609  | 56          | True\n",
              "2     | 16   | ACY    | RSW         | 600                 | -7    | Atlantic City International Airport   | 39.4576  | -74.5772  | 46          | True\n",
              "1     | 19   | AGS    | ATL         | 1715                | -6    | Augusta Regional Airport (Bush Field) | 33.37    | -81.9645  | 19          | False\n",
              "2     | 10   | AGS    | ATL         | 1849                | 2     | Augusta Regional Airport (Bush Field) | 33.37    | -81.9645  | 40          | False\n",
              "... (1331 rows omitted)"
            ]
          },
          "metadata": {},
          "execution_count": 19
        }
      ]
    },
    {
      "cell_type": "code",
      "source": [
        "# Figure out how many airports are \"high latitude\" vs. \"low latitude\"\n",
        "mySample.group('HIGH_LAT')"
      ],
      "metadata": {
        "id": "0U1Sj3jwS3Ys",
        "colab": {
          "base_uri": "https://localhost:8080/",
          "height": 111
        },
        "outputId": "bdce9039-cc53-48ce-99ad-bcbc940f7705"
      },
      "execution_count": null,
      "outputs": [
        {
          "output_type": "execute_result",
          "data": {
            "text/html": [
              "<table border=\"1\" class=\"dataframe\">\n",
              "    <thead>\n",
              "        <tr>\n",
              "            <th>HIGH_LAT</th> <th>count</th>\n",
              "        </tr>\n",
              "    </thead>\n",
              "    <tbody>\n",
              "        <tr>\n",
              "            <td>False   </td> <td>568  </td>\n",
              "        </tr>\n",
              "        <tr>\n",
              "            <td>True    </td> <td>773  </td>\n",
              "        </tr>\n",
              "    </tbody>\n",
              "</table>"
            ],
            "text/plain": [
              "HIGH_LAT | count\n",
              "False    | 568\n",
              "True     | 773"
            ]
          },
          "metadata": {},
          "execution_count": 20
        }
      ]
    },
    {
      "cell_type": "code",
      "source": [
        "# Take the means for the high- and low- latitude airports.\n",
        "# We're using the 'nanmean' method in numpy to ignore the \n",
        "# nan (not a number) values\n",
        "mySample.group('HIGH_LAT', np.nanmean)"
      ],
      "metadata": {
        "id": "wbE_4pZGS0c7",
        "colab": {
          "base_uri": "https://localhost:8080/",
          "height": 128
        },
        "outputId": "88f89be2-cd56-4426-e5e0-bdd43b86d98b"
      },
      "execution_count": null,
      "outputs": [
        {
          "output_type": "execute_result",
          "data": {
            "text/html": [
              "<table border=\"1\" class=\"dataframe\">\n",
              "    <thead>\n",
              "        <tr>\n",
              "            <th>HIGH_LAT</th> <th>MONTH nanmean</th> <th>DAY nanmean</th> <th>ORIGIN nanmean</th> <th>DESTINATION nanmean</th> <th>SCHEDULED_DEPARTURE nanmean</th> <th>DELAY nanmean</th> <th>ORIGIN_NAME nanmean</th> <th>LATITUDE nanmean</th> <th>LONGITUDE nanmean</th> <th>DAY_OF_YEAR nanmean</th>\n",
              "        </tr>\n",
              "    </thead>\n",
              "    <tbody>\n",
              "        <tr>\n",
              "            <td>False   </td> <td>1.70951      </td> <td>13.3961    </td> <td>              </td> <td>                   </td> <td>1351.31                    </td> <td>7.08499      </td> <td>                   </td> <td>30.9108         </td> <td>-97.1042         </td> <td>34.6813            </td>\n",
              "        </tr>\n",
              "        <tr>\n",
              "            <td>True    </td> <td>1.68305      </td> <td>14.1022    </td> <td>              </td> <td>                   </td> <td>1300.21                    </td> <td>12.7633      </td> <td>                   </td> <td>40.5624         </td> <td>-93.6438         </td> <td>34.5938            </td>\n",
              "        </tr>\n",
              "    </tbody>\n",
              "</table>"
            ],
            "text/plain": [
              "HIGH_LAT | MONTH nanmean | DAY nanmean | ORIGIN nanmean | DESTINATION nanmean | SCHEDULED_DEPARTURE nanmean | DELAY nanmean | ORIGIN_NAME nanmean | LATITUDE nanmean | LONGITUDE nanmean | DAY_OF_YEAR nanmean\n",
              "False    | 1.70951       | 13.3961     |                |                     | 1351.31                     | 7.08499       |                     | 30.9108          | -97.1042          | 34.6813\n",
              "True     | 1.68305       | 14.1022     |                |                     | 1300.21                     | 12.7633       |                     | 40.5624          | -93.6438          | 34.5938"
            ]
          },
          "metadata": {},
          "execution_count": 21
        }
      ]
    },
    {
      "cell_type": "code",
      "source": [
        "# Use the previous idea to find the mean difference automatically\n",
        "Observed_mean_difference = np.diff(mySample.group('HIGH_LAT', np.nanmean)\n",
        "                                           .column('DELAY nanmean'))[0]\n",
        "Observed_mean_difference"
      ],
      "metadata": {
        "id": "QDWMgdC-Sx-4",
        "colab": {
          "base_uri": "https://localhost:8080/"
        },
        "outputId": "977c9994-1757-474d-b008-c07e6e2615c9"
      },
      "execution_count": null,
      "outputs": [
        {
          "output_type": "execute_result",
          "data": {
            "text/plain": [
              "5.678346934888173"
            ]
          },
          "metadata": {},
          "execution_count": 22
        }
      ]
    },
    {
      "cell_type": "code",
      "source": [
        "# Define a function that will reshuffle the DELAY values and then return\n",
        "# the mean difference statistic for the shuffled table.\n",
        "# This simulates from the null hypothesis distribution of the \n",
        "# mean difference statistic.\n",
        "def simulated_mean_difference_under_null():\n",
        "    a=(mySample.sample(with_replacement=False)\n",
        "               .select('DELAY')\n",
        "               .with_column('HIGH_LAT', mySample.column('HIGH_LAT')))\n",
        "    return (np.diff(a.group('HIGH_LAT', np.nanmean)\n",
        "                     .column('DELAY nanmean'))[0])"
      ],
      "metadata": {
        "id": "A3JJGGMISvbj"
      },
      "execution_count": null,
      "outputs": []
    },
    {
      "cell_type": "code",
      "source": [
        "# Simulate 5000 draws from the null hypothesis distribution of the \n",
        "# mean difference (and return the result as a numpy array--not the same \n",
        "# as a datascience Table)\n",
        "H0_means = make_array()\n",
        "for i in np.arange(5000):\n",
        "    H0_means = np.append(H0_means, simulated_mean_difference_under_null())"
      ],
      "metadata": {
        "id": "yWQphnc6Spov"
      },
      "execution_count": null,
      "outputs": []
    },
    {
      "cell_type": "code",
      "source": [
        "# Create a table with the 5000 H0 (null hypothesis) values and then \n",
        "# create a histogram.\n",
        "# Also add the observed value of the sample statistic as a red dot \n",
        "# along the x-axis.\n",
        "Table().with_column(\n",
        "    'Count in a Random Sample', H0_means\n",
        ").hist(bins = np.arange(-12.5, 12.5, 1))\n",
        "plots.scatter(Observed_mean_difference, 0, color='red', s=30);"
      ],
      "metadata": {
        "id": "dbbqzOmDSmH_"
      },
      "execution_count": null,
      "outputs": []
    }
  ]
}