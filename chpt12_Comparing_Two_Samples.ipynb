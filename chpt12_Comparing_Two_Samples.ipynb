{
  "cells": [
    {
      "cell_type": "markdown",
      "metadata": {
        "id": "view-in-github",
        "colab_type": "text"
      },
      "source": [
        "<a href=\"https://colab.research.google.com/github/Emily-KD/DS200/blob/main/chpt12_Comparing_Two_Samples.ipynb\" target=\"_parent\"><img src=\"https://colab.research.google.com/assets/colab-badge.svg\" alt=\"Open In Colab\"/></a>"
      ]
    },
    {
      "cell_type": "code",
      "execution_count": null,
      "metadata": {
        "id": "dbSq5Y2ACUJc",
        "colab": {
          "base_uri": "https://localhost:8080/"
        },
        "outputId": "caa2b740-f779-4468-e080-61fc08d39d5c"
      },
      "outputs": [
        {
          "output_type": "stream",
          "name": "stderr",
          "text": [
            "/usr/local/lib/python3.7/dist-packages/datascience/tables.py:17: MatplotlibDeprecationWarning: The 'warn' parameter of use() is deprecated since Matplotlib 3.1 and will be removed in 3.3.  If any parameter follows 'warn', they should be pass as keyword, not positionally.\n",
            "  matplotlib.use('agg', warn=False)\n",
            "/usr/local/lib/python3.7/dist-packages/datascience/util.py:10: MatplotlibDeprecationWarning: The 'warn' parameter of use() is deprecated since Matplotlib 3.1 and will be removed in 3.3.  If any parameter follows 'warn', they should be pass as keyword, not positionally.\n",
            "  matplotlib.use('agg', warn=False)\n"
          ]
        }
      ],
      "source": [
        "import matplotlib\n",
        "from datascience import *\n",
        "path_data = 'http://personal.psu.edu/drh20/200DS/assets/data/'\n",
        "%matplotlib inline\n",
        "import matplotlib.pyplot as plots\n",
        "from mpl_toolkits.mplot3d import Axes3D\n",
        "import numpy as np\n",
        "import math\n",
        "import scipy.stats as stats\n",
        "plots.style.use('fivethirtyeight')"
      ]
    },
    {
      "cell_type": "markdown",
      "metadata": {
        "id": "wwREIggGCUJe"
      },
      "source": [
        "#chpt 12. Comparing Two Samples\n",
        "We have seen several examples of assessing whether a single sample looks like random draws from a specified chance model. \n",
        "- Did the Alameda County jury panels look like a random sample from the population of eligible jurors?\n",
        "- Did the pea plants that Mendel grew have colors that were consistent with the chances he specified in his model?\n",
        "\n",
        "In all of these cases there was just one random sample, and we were trying to decide how it had been generated. But often, data scientists have to compare two random samples with each other. For example, they might have to compare the outcomes of patients who have been assigned at random to a treatment group and a control group. Or they might have randomized internet users to receive two different versions of a website, after which they would want to compare the actions of the two random groups.\n",
        "\n",
        "In this chapter, we develop a way of using Python to compare two random samples and answer questions about the similarities and differences between them. You will see that the methods we develop have diverse applications. Our examples are from medicine and public health as well as football!\n"
      ]
    },
    {
      "cell_type": "markdown",
      "metadata": {
        "id": "PTvofjFWCVuX"
      },
      "source": [
        "##12.1. A/B Testing\n",
        "In modern data analytics, deciding whether two numerical samples come from the same underlying distribution is called *A/B testing*. The name refers to the labels of the two samples, A and B.\n",
        "\n",
        "We will develop the method in the context of an example. The data come from a sample of newborns in a large hospital system. We will treat it as if it were a simple random sample though the sampling was done in multiple stages. [Stat Labs](https://www.stat.berkeley.edu/~statlabs/) by Deborah Nolan and Terry Speed has details about a larger dataset from which this set is drawn. "
      ]
    },
    {
      "cell_type": "markdown",
      "metadata": {
        "id": "fGr2cvVhCVuY"
      },
      "source": [
        "### 12.1.1. Smokers and Nonsmokers\n",
        "The table `births` contains the following variables for 1,174 mother-baby pairs: the baby's birth weight in ounces, the number of gestational days, the mother's age in completed years, the mother's height in inches, pregnancy weight in pounds, and whether or not the mother smoked during pregnancy."
      ]
    },
    {
      "cell_type": "code",
      "execution_count": null,
      "metadata": {
        "colab": {
          "base_uri": "https://localhost:8080/",
          "height": 392
        },
        "id": "lTdDxJMtCVuY",
        "outputId": "bbfdc0b0-d8bb-479c-d93f-62a4ec2dfd18"
      },
      "outputs": [
        {
          "output_type": "execute_result",
          "data": {
            "text/plain": [
              "Birth Weight | Gestational Days | Maternal Age | Maternal Height | Maternal Pregnancy Weight | Maternal Smoker\n",
              "120          | 284              | 27           | 62              | 100                       | False\n",
              "113          | 282              | 33           | 64              | 135                       | False\n",
              "128          | 279              | 28           | 64              | 115                       | True\n",
              "108          | 282              | 23           | 67              | 125                       | True\n",
              "136          | 286              | 25           | 62              | 93                        | False\n",
              "138          | 244              | 33           | 62              | 178                       | False\n",
              "132          | 245              | 23           | 65              | 140                       | False\n",
              "120          | 289              | 25           | 62              | 125                       | False\n",
              "143          | 299              | 30           | 66              | 136                       | True\n",
              "140          | 351              | 27           | 68              | 120                       | False\n",
              "... (1164 rows omitted)"
            ],
            "text/html": [
              "<table border=\"1\" class=\"dataframe\">\n",
              "    <thead>\n",
              "        <tr>\n",
              "            <th>Birth Weight</th> <th>Gestational Days</th> <th>Maternal Age</th> <th>Maternal Height</th> <th>Maternal Pregnancy Weight</th> <th>Maternal Smoker</th>\n",
              "        </tr>\n",
              "    </thead>\n",
              "    <tbody>\n",
              "        <tr>\n",
              "            <td>120         </td> <td>284             </td> <td>27          </td> <td>62             </td> <td>100                      </td> <td>False          </td>\n",
              "        </tr>\n",
              "        <tr>\n",
              "            <td>113         </td> <td>282             </td> <td>33          </td> <td>64             </td> <td>135                      </td> <td>False          </td>\n",
              "        </tr>\n",
              "        <tr>\n",
              "            <td>128         </td> <td>279             </td> <td>28          </td> <td>64             </td> <td>115                      </td> <td>True           </td>\n",
              "        </tr>\n",
              "        <tr>\n",
              "            <td>108         </td> <td>282             </td> <td>23          </td> <td>67             </td> <td>125                      </td> <td>True           </td>\n",
              "        </tr>\n",
              "        <tr>\n",
              "            <td>136         </td> <td>286             </td> <td>25          </td> <td>62             </td> <td>93                       </td> <td>False          </td>\n",
              "        </tr>\n",
              "        <tr>\n",
              "            <td>138         </td> <td>244             </td> <td>33          </td> <td>62             </td> <td>178                      </td> <td>False          </td>\n",
              "        </tr>\n",
              "        <tr>\n",
              "            <td>132         </td> <td>245             </td> <td>23          </td> <td>65             </td> <td>140                      </td> <td>False          </td>\n",
              "        </tr>\n",
              "        <tr>\n",
              "            <td>120         </td> <td>289             </td> <td>25          </td> <td>62             </td> <td>125                      </td> <td>False          </td>\n",
              "        </tr>\n",
              "        <tr>\n",
              "            <td>143         </td> <td>299             </td> <td>30          </td> <td>66             </td> <td>136                      </td> <td>True           </td>\n",
              "        </tr>\n",
              "        <tr>\n",
              "            <td>140         </td> <td>351             </td> <td>27          </td> <td>68             </td> <td>120                      </td> <td>False          </td>\n",
              "        </tr>\n",
              "    </tbody>\n",
              "</table>\n",
              "<p>... (1164 rows omitted)</p>"
            ]
          },
          "metadata": {},
          "execution_count": 3
        }
      ],
      "source": [
        "births = Table.read_table(path_data + 'baby.csv')\n",
        "births"
      ]
    },
    {
      "cell_type": "markdown",
      "metadata": {
        "id": "1KCUc7jwCVuZ"
      },
      "source": [
        "One of the aims of the study was to see whether maternal smoking was associated with birth weight. Let's see what we can say about the two variables.\n",
        "\n",
        "We'll start by selecting just `Birth Weight` and `Maternal Smoker`. There are 715 non-smokers among the women in the sample, and 459 smokers."
      ]
    },
    {
      "cell_type": "code",
      "execution_count": null,
      "metadata": {
        "id": "w7Lv9nJRCVuZ"
      },
      "outputs": [],
      "source": [
        "smoking_and_birthweight = births.select('Maternal Smoker', 'Birth Weight')"
      ]
    },
    {
      "cell_type": "code",
      "execution_count": null,
      "metadata": {
        "colab": {
          "base_uri": "https://localhost:8080/",
          "height": 112
        },
        "id": "wSRu18-pCVuZ",
        "outputId": "ea151ca0-b5d1-46ab-a5ea-e406fe9a8d6b"
      },
      "outputs": [
        {
          "output_type": "execute_result",
          "data": {
            "text/plain": [
              "Maternal Smoker | count\n",
              "False           | 715\n",
              "True            | 459"
            ],
            "text/html": [
              "<table border=\"1\" class=\"dataframe\">\n",
              "    <thead>\n",
              "        <tr>\n",
              "            <th>Maternal Smoker</th> <th>count</th>\n",
              "        </tr>\n",
              "    </thead>\n",
              "    <tbody>\n",
              "        <tr>\n",
              "            <td>False          </td> <td>715  </td>\n",
              "        </tr>\n",
              "        <tr>\n",
              "            <td>True           </td> <td>459  </td>\n",
              "        </tr>\n",
              "    </tbody>\n",
              "</table>"
            ]
          },
          "metadata": {},
          "execution_count": 5
        }
      ],
      "source": [
        "smoking_and_birthweight.group('Maternal Smoker')"
      ]
    },
    {
      "cell_type": "code",
      "source": [
        "births"
      ],
      "metadata": {
        "colab": {
          "base_uri": "https://localhost:8080/",
          "height": 392
        },
        "id": "nAoCgZYSANpJ",
        "outputId": "adbc745c-a31d-43ab-82d1-4e86e487b8fe"
      },
      "execution_count": null,
      "outputs": [
        {
          "output_type": "execute_result",
          "data": {
            "text/plain": [
              "Birth Weight | Gestational Days | Maternal Age | Maternal Height | Maternal Pregnancy Weight | Maternal Smoker\n",
              "120          | 284              | 27           | 62              | 100                       | False\n",
              "113          | 282              | 33           | 64              | 135                       | False\n",
              "128          | 279              | 28           | 64              | 115                       | True\n",
              "108          | 282              | 23           | 67              | 125                       | True\n",
              "136          | 286              | 25           | 62              | 93                        | False\n",
              "138          | 244              | 33           | 62              | 178                       | False\n",
              "132          | 245              | 23           | 65              | 140                       | False\n",
              "120          | 289              | 25           | 62              | 125                       | False\n",
              "143          | 299              | 30           | 66              | 136                       | True\n",
              "140          | 351              | 27           | 68              | 120                       | False\n",
              "... (1164 rows omitted)"
            ],
            "text/html": [
              "<table border=\"1\" class=\"dataframe\">\n",
              "    <thead>\n",
              "        <tr>\n",
              "            <th>Birth Weight</th> <th>Gestational Days</th> <th>Maternal Age</th> <th>Maternal Height</th> <th>Maternal Pregnancy Weight</th> <th>Maternal Smoker</th>\n",
              "        </tr>\n",
              "    </thead>\n",
              "    <tbody>\n",
              "        <tr>\n",
              "            <td>120         </td> <td>284             </td> <td>27          </td> <td>62             </td> <td>100                      </td> <td>False          </td>\n",
              "        </tr>\n",
              "        <tr>\n",
              "            <td>113         </td> <td>282             </td> <td>33          </td> <td>64             </td> <td>135                      </td> <td>False          </td>\n",
              "        </tr>\n",
              "        <tr>\n",
              "            <td>128         </td> <td>279             </td> <td>28          </td> <td>64             </td> <td>115                      </td> <td>True           </td>\n",
              "        </tr>\n",
              "        <tr>\n",
              "            <td>108         </td> <td>282             </td> <td>23          </td> <td>67             </td> <td>125                      </td> <td>True           </td>\n",
              "        </tr>\n",
              "        <tr>\n",
              "            <td>136         </td> <td>286             </td> <td>25          </td> <td>62             </td> <td>93                       </td> <td>False          </td>\n",
              "        </tr>\n",
              "        <tr>\n",
              "            <td>138         </td> <td>244             </td> <td>33          </td> <td>62             </td> <td>178                      </td> <td>False          </td>\n",
              "        </tr>\n",
              "        <tr>\n",
              "            <td>132         </td> <td>245             </td> <td>23          </td> <td>65             </td> <td>140                      </td> <td>False          </td>\n",
              "        </tr>\n",
              "        <tr>\n",
              "            <td>120         </td> <td>289             </td> <td>25          </td> <td>62             </td> <td>125                      </td> <td>False          </td>\n",
              "        </tr>\n",
              "        <tr>\n",
              "            <td>143         </td> <td>299             </td> <td>30          </td> <td>66             </td> <td>136                      </td> <td>True           </td>\n",
              "        </tr>\n",
              "        <tr>\n",
              "            <td>140         </td> <td>351             </td> <td>27          </td> <td>68             </td> <td>120                      </td> <td>False          </td>\n",
              "        </tr>\n",
              "    </tbody>\n",
              "</table>\n",
              "<p>... (1164 rows omitted)</p>"
            ]
          },
          "metadata": {},
          "execution_count": 6
        }
      ]
    },
    {
      "cell_type": "code",
      "execution_count": null,
      "metadata": {
        "colab": {
          "base_uri": "https://localhost:8080/",
          "height": 129
        },
        "id": "MPcOL1_ZEnzB",
        "outputId": "b16afd61-5231-421f-f2a2-961431c9e334"
      },
      "outputs": [
        {
          "output_type": "execute_result",
          "data": {
            "text/plain": [
              "Maternal Smoker | Birth Weight average | Gestational Days average | Maternal Age average | Maternal Height average | Maternal Pregnancy Weight average\n",
              "False           | 123.085              | 279.874                  | 27.5441              | 64.014                  | 129.48\n",
              "True            | 113.819              | 277.898                  | 26.7364              | 64.1046                 | 126.919"
            ],
            "text/html": [
              "<table border=\"1\" class=\"dataframe\">\n",
              "    <thead>\n",
              "        <tr>\n",
              "            <th>Maternal Smoker</th> <th>Birth Weight average</th> <th>Gestational Days average</th> <th>Maternal Age average</th> <th>Maternal Height average</th> <th>Maternal Pregnancy Weight average</th>\n",
              "        </tr>\n",
              "    </thead>\n",
              "    <tbody>\n",
              "        <tr>\n",
              "            <td>False          </td> <td>123.085             </td> <td>279.874                 </td> <td>27.5441             </td> <td>64.014                 </td> <td>129.48                           </td>\n",
              "        </tr>\n",
              "        <tr>\n",
              "            <td>True           </td> <td>113.819             </td> <td>277.898                 </td> <td>26.7364             </td> <td>64.1046                </td> <td>126.919                          </td>\n",
              "        </tr>\n",
              "    </tbody>\n",
              "</table>"
            ]
          },
          "metadata": {},
          "execution_count": 7
        }
      ],
      "source": [
        "births.group('Maternal Smoker', np.average)"
      ]
    },
    {
      "cell_type": "markdown",
      "metadata": {
        "id": "YAnH4KwCCVua"
      },
      "source": [
        "Let's look at the distribution of the birth weights of the babies of the non-smoking mothers compared to those of the smoking mothers. To generate two overlaid histograms, we will use `hist` with the optional `group` argument which is a column label or index. The rows of the table are first grouped by this column and then a histogram is drawn for each one."
      ]
    },
    {
      "cell_type": "code",
      "execution_count": null,
      "metadata": {
        "colab": {
          "base_uri": "https://localhost:8080/",
          "height": 406
        },
        "id": "MRs4dXubCVua",
        "outputId": "2cc8cabd-898f-47c8-aa48-8035813b9162"
      },
      "outputs": [
        {
          "output_type": "stream",
          "name": "stderr",
          "text": [
            "/usr/local/lib/python3.7/dist-packages/datascience/tables.py:483: VisibleDeprecationWarning: Creating an ndarray from ragged nested sequences (which is a list-or-tuple of lists-or-tuples-or ndarrays with different lengths or shapes) is deprecated. If you meant to do this, you must specify 'dtype=object' when creating the ndarray.\n",
            "  values = np.array(tuple(values))\n",
            "/usr/local/lib/python3.7/dist-packages/numpy/core/fromnumeric.py:3208: VisibleDeprecationWarning: Creating an ndarray from ragged nested sequences (which is a list-or-tuple of lists-or-tuples-or ndarrays with different lengths or shapes) is deprecated. If you meant to do this, you must specify 'dtype=object' when creating the ndarray.\n",
            "  return asarray(a).size\n",
            "/usr/local/lib/python3.7/dist-packages/matplotlib/cbook/__init__.py:1376: VisibleDeprecationWarning: Creating an ndarray from ragged nested sequences (which is a list-or-tuple of lists-or-tuples-or ndarrays with different lengths or shapes) is deprecated. If you meant to do this, you must specify 'dtype=object' when creating the ndarray.\n",
            "  X = np.atleast_1d(X.T if isinstance(X, np.ndarray) else np.asarray(X))\n"
          ]
        },
        {
          "output_type": "display_data",
          "data": {
            "text/plain": [
              "<Figure size 432x288 with 1 Axes>"
            ],
            "image/png": "[encoded data removed]"
          },
          "metadata": {}
        }
      ],
      "source": [
        "smoking_and_birthweight.hist('Birth Weight', group = 'Maternal Smoker')"
      ]
    },
    {
      "cell_type": "markdown",
      "metadata": {
        "id": "LE4AOmO4CVub"
      },
      "source": [
        "The distribution of the weights of the babies born to mothers who smoked appears to be based slightly to the left of the distribution corresponding to non-smoking mothers. The weights of the babies of the mothers who smoked seem lower on average than the weights of the babies of the non-smokers. \n",
        "\n",
        "This raises the question of whether the difference reflects just chance variation or a difference in the distributions in the larger population. Could it be that there is no difference between the two distributions in the population, but we are seeing a difference in the samples just because of the mothers who happened to be selected?"
      ]
    },
    {
      "cell_type": "markdown",
      "metadata": {
        "id": "kl40zOAHCVub"
      },
      "source": [
        "### 12.1.2. The Hypotheses\n",
        "We can try to answer this question by a test of hypotheses. The chance model that we will test says that there is no underlying difference in the populations; the distributions in the samples are different just due to chance. \n",
        "\n",
        "Formally, this is the null hypothesis. We are going to have to figure out how to simulate a useful statistic under this hypothesis. But as a start, let's just state the two natural hypotheses.\n",
        "\n",
        "**Null hypothesis:** In the population, the distribution of birth weights of babies is the same for mothers who don't smoke as for mothers who do. The difference in the sample is due to chance.\n",
        "\n",
        "**Alternative hypothesis:** In the population, the babies of the mothers who smoke have a lower birth weight, on average, than the babies of the non-smokers."
      ]
    },
    {
      "cell_type": "markdown",
      "metadata": {
        "id": "tldVY9VYCVuc"
      },
      "source": [
        "### 12.1.3. Test Statistic\n",
        "The alternative hypothesis compares the average birth weights of the two groups and says that the average for the mothers who smoke is smaller. Therefore it is reasonable for us to use the difference between the two group means as our statistic. \n",
        "\n",
        "We will do the subtraction in the order \"average weight of the smoking group $-$ average weight of the non-smoking group\". Small values (that is, large negative values) of this statistic will favor the alternative hypothesis. \n",
        "\n",
        "The observed value of the test statistic is about $-9.27$ ounces."
      ]
    },
    {
      "cell_type": "code",
      "execution_count": null,
      "metadata": {
        "colab": {
          "base_uri": "https://localhost:8080/",
          "height": 129
        },
        "id": "vmpvwehhCVuc",
        "outputId": "a2620967-885b-470d-9e80-43c996ca58a2"
      },
      "outputs": [
        {
          "output_type": "execute_result",
          "data": {
            "text/plain": [
              "Maternal Smoker | Birth Weight average | Gestational Days average | Maternal Age average | Maternal Height average | Maternal Pregnancy Weight average\n",
              "False           | 123.085              | 279.874                  | 27.5441              | 64.014                  | 129.48\n",
              "True            | 113.819              | 277.898                  | 26.7364              | 64.1046                 | 126.919"
            ],
            "text/html": [
              "<table border=\"1\" class=\"dataframe\">\n",
              "    <thead>\n",
              "        <tr>\n",
              "            <th>Maternal Smoker</th> <th>Birth Weight average</th> <th>Gestational Days average</th> <th>Maternal Age average</th> <th>Maternal Height average</th> <th>Maternal Pregnancy Weight average</th>\n",
              "        </tr>\n",
              "    </thead>\n",
              "    <tbody>\n",
              "        <tr>\n",
              "            <td>False          </td> <td>123.085             </td> <td>279.874                 </td> <td>27.5441             </td> <td>64.014                 </td> <td>129.48                           </td>\n",
              "        </tr>\n",
              "        <tr>\n",
              "            <td>True           </td> <td>113.819             </td> <td>277.898                 </td> <td>26.7364             </td> <td>64.1046                </td> <td>126.919                          </td>\n",
              "        </tr>\n",
              "    </tbody>\n",
              "</table>"
            ]
          },
          "metadata": {},
          "execution_count": 9
        }
      ],
      "source": [
        "means_table = births.group('Maternal Smoker', np.average)\n",
        "means_table"
      ]
    },
    {
      "cell_type": "code",
      "execution_count": null,
      "metadata": {
        "colab": {
          "base_uri": "https://localhost:8080/"
        },
        "id": "NcjkSQ1DCVuc",
        "outputId": "4a069b53-1322-4410-fe35-f71ece1d5b09"
      },
      "outputs": [
        {
          "output_type": "execute_result",
          "data": {
            "text/plain": [
              "-9.266142572024918"
            ]
          },
          "metadata": {},
          "execution_count": 10
        }
      ],
      "source": [
        "means = means_table.column(1)\n",
        "observed_difference = means.item(1) - means.item(0)\n",
        "observed_difference"
      ]
    },
    {
      "cell_type": "markdown",
      "metadata": {
        "id": "nfTEhaLICVuc"
      },
      "source": [
        "We are going compute such differences repeatedly in our simulations below, so we will define a function to do the job. The function takes two arguments:\n",
        "\n",
        "- the name of the table of data\n",
        "- the label of the column that contains the Boolean variable for grouping\n",
        "\n",
        "It returns the difference between the means of the `True` group and the `False` group.\n",
        "\n",
        "You will soon see why we are specifying the two arguments. For now, just check that the function returns what it should."
      ]
    },
    {
      "cell_type": "code",
      "execution_count": null,
      "metadata": {
        "id": "8vZFKVSICVud"
      },
      "outputs": [],
      "source": [
        "def difference_of_means(table, group_label):\n",
        "    \"\"\"Takes: name of table,\n",
        "    column label that indicates the group to which the row belongs\n",
        "    Returns: Difference of mean birth weights of the two groups\"\"\"\n",
        "    reduced = table.select('Birth Weight', group_label)\n",
        "    means_table = reduced.group(group_label, np.average)\n",
        "    means = means_table.column(1)\n",
        "    return means.item(1) - means.item(0)"
      ]
    },
    {
      "cell_type": "markdown",
      "metadata": {
        "id": "l6hmiHDUCVud"
      },
      "source": [
        "To check that the function is working, let's use it to calculate the observed difference between the mean birth weights of the two groups in the sample."
      ]
    },
    {
      "cell_type": "code",
      "execution_count": null,
      "metadata": {
        "colab": {
          "base_uri": "https://localhost:8080/"
        },
        "id": "fexqcR-XCVud",
        "outputId": "17510664-c92e-476b-d989-c3a1aad237be"
      },
      "outputs": [
        {
          "output_type": "execute_result",
          "data": {
            "text/plain": [
              "-9.266142572024918"
            ]
          },
          "metadata": {},
          "execution_count": 12
        }
      ],
      "source": [
        "difference_of_means(births, 'Maternal Smoker')"
      ]
    },
    {
      "cell_type": "markdown",
      "metadata": {
        "id": "xxixzZABCVud"
      },
      "source": [
        "That's the same as the value of `observed_difference` calculated earlier."
      ]
    },
    {
      "cell_type": "markdown",
      "metadata": {
        "id": "U7UBGY2xCVud"
      },
      "source": [
        "### 12.1.4. Predicting the Statistic Under the Null Hypothesis\n",
        "\n",
        "To see how the statistic should vary under the null hypothesis, we have to figure out how to simulate the statistic under that hypothesis. A clever method based on *random permutations* does just that.\n",
        "\n",
        "If there were no difference between the two distributions in the underlying population, then whether a birth weight has the label `True` or `False` with respect to maternal smoking should make no difference to the average. The idea, then, is to shuffle all the labels randomly among the mothers. This is called *random permutation*. \n",
        "\n",
        "Shuffling ensures that the count of `True` labels does not change, and nor does the count of `False` labels. This is important for the comparability of the simulated differences of means and the original difference of means. We will see later in the course that the sample size affects the variability of a sample mean.\n",
        "\n",
        "Take the difference of the two new group means: the mean weight of the babies whose mothers have been randomly labeled smokers and the mean weight of the babies of the remaining mothers who have all been randomly labeled non-smokers. This is a simulated value of the test statistic under the null hypothesis.\n",
        "\n",
        "Let's see how to do this. It's always a good idea to start with the data. We have reduced the table to have just the columns that we need."
      ]
    },
    {
      "cell_type": "code",
      "execution_count": null,
      "metadata": {
        "colab": {
          "base_uri": "https://localhost:8080/"
        },
        "id": "OX6GOqpqCVud",
        "outputId": "5c45cb5b-0b02-4ac4-c41e-bd99e27cd287"
      },
      "outputs": [
        {
          "output_type": "execute_result",
          "data": {
            "text/plain": [
              "Maternal Smoker | Birth Weight\n",
              "False           | 120\n",
              "False           | 113\n",
              "True            | 128\n",
              "True            | 108\n",
              "False           | 136\n",
              "False           | 138\n",
              "False           | 132\n",
              "False           | 120\n",
              "True            | 143\n",
              "False           | 140\n",
              "... (1164 rows omitted)"
            ],
            "text/html": [
              "<table border=\"1\" class=\"dataframe\">\n",
              "    <thead>\n",
              "        <tr>\n",
              "            <th>Maternal Smoker</th> <th>Birth Weight</th>\n",
              "        </tr>\n",
              "    </thead>\n",
              "    <tbody>\n",
              "        <tr>\n",
              "            <td>False          </td> <td>120         </td>\n",
              "        </tr>\n",
              "        <tr>\n",
              "            <td>False          </td> <td>113         </td>\n",
              "        </tr>\n",
              "        <tr>\n",
              "            <td>True           </td> <td>128         </td>\n",
              "        </tr>\n",
              "        <tr>\n",
              "            <td>True           </td> <td>108         </td>\n",
              "        </tr>\n",
              "        <tr>\n",
              "            <td>False          </td> <td>136         </td>\n",
              "        </tr>\n",
              "        <tr>\n",
              "            <td>False          </td> <td>138         </td>\n",
              "        </tr>\n",
              "        <tr>\n",
              "            <td>False          </td> <td>132         </td>\n",
              "        </tr>\n",
              "        <tr>\n",
              "            <td>False          </td> <td>120         </td>\n",
              "        </tr>\n",
              "        <tr>\n",
              "            <td>True           </td> <td>143         </td>\n",
              "        </tr>\n",
              "        <tr>\n",
              "            <td>False          </td> <td>140         </td>\n",
              "        </tr>\n",
              "    </tbody>\n",
              "</table>\n",
              "<p>... (1164 rows omitted)</p>"
            ]
          },
          "metadata": {},
          "execution_count": 13
        }
      ],
      "source": [
        "smoking_and_birthweight"
      ]
    },
    {
      "cell_type": "markdown",
      "metadata": {
        "id": "3penxjnnCVue"
      },
      "source": [
        "There are 1,174 rows in the table. To shuffle all the labels, we will draw a random sample of 1,174 rows without replacement. Then the sample will include all the rows of the table, in random order. \n",
        "\n",
        "We can use the Table method `sample` with the optional `with_replacement=False` argument. We don't have to specify a sample size, because by default, `sample` draws as many times as there are rows in the table."
      ]
    },
    {
      "cell_type": "code",
      "execution_count": null,
      "metadata": {
        "id": "TdQcZuEKCVue"
      },
      "outputs": [],
      "source": [
        "shuffled_labels = smoking_and_birthweight.sample(with_replacement = False).column(0)\n",
        "original_and_shuffled = smoking_and_birthweight.with_column('Shuffled Label', shuffled_labels)"
      ]
    },
    {
      "cell_type": "code",
      "execution_count": null,
      "metadata": {
        "colab": {
          "base_uri": "https://localhost:8080/"
        },
        "id": "LmnVYAhQCVue",
        "outputId": "548c9e8d-2761-425c-a073-3bab1bdcec7a"
      },
      "outputs": [
        {
          "output_type": "execute_result",
          "data": {
            "text/plain": [
              "Maternal Smoker | Birth Weight | Shuffled Label\n",
              "False           | 120          | True\n",
              "False           | 113          | False\n",
              "True            | 128          | False\n",
              "True            | 108          | True\n",
              "False           | 136          | False\n",
              "False           | 138          | True\n",
              "False           | 132          | True\n",
              "False           | 120          | False\n",
              "True            | 143          | False\n",
              "False           | 140          | True\n",
              "... (1164 rows omitted)"
            ],
            "text/html": [
              "<table border=\"1\" class=\"dataframe\">\n",
              "    <thead>\n",
              "        <tr>\n",
              "            <th>Maternal Smoker</th> <th>Birth Weight</th> <th>Shuffled Label</th>\n",
              "        </tr>\n",
              "    </thead>\n",
              "    <tbody>\n",
              "        <tr>\n",
              "            <td>False          </td> <td>120         </td> <td>True          </td>\n",
              "        </tr>\n",
              "        <tr>\n",
              "            <td>False          </td> <td>113         </td> <td>False         </td>\n",
              "        </tr>\n",
              "        <tr>\n",
              "            <td>True           </td> <td>128         </td> <td>False         </td>\n",
              "        </tr>\n",
              "        <tr>\n",
              "            <td>True           </td> <td>108         </td> <td>True          </td>\n",
              "        </tr>\n",
              "        <tr>\n",
              "            <td>False          </td> <td>136         </td> <td>False         </td>\n",
              "        </tr>\n",
              "        <tr>\n",
              "            <td>False          </td> <td>138         </td> <td>True          </td>\n",
              "        </tr>\n",
              "        <tr>\n",
              "            <td>False          </td> <td>132         </td> <td>True          </td>\n",
              "        </tr>\n",
              "        <tr>\n",
              "            <td>False          </td> <td>120         </td> <td>False         </td>\n",
              "        </tr>\n",
              "        <tr>\n",
              "            <td>True           </td> <td>143         </td> <td>False         </td>\n",
              "        </tr>\n",
              "        <tr>\n",
              "            <td>False          </td> <td>140         </td> <td>True          </td>\n",
              "        </tr>\n",
              "    </tbody>\n",
              "</table>\n",
              "<p>... (1164 rows omitted)</p>"
            ]
          },
          "metadata": {},
          "execution_count": 15
        }
      ],
      "source": [
        "original_and_shuffled"
      ]
    },
    {
      "cell_type": "markdown",
      "metadata": {
        "id": "b0arj6BgCVue"
      },
      "source": [
        "Each baby's mother now has a random smoker/non-smoker label in the column `Shuffled Label`, while her original label is in `Maternal Smoker`. If the null hypothesis is true, all the random re-arrangements of the labels should be equally likely.\n",
        "\n",
        "Let's see how different the average weights are in the two randomly labeled groups."
      ]
    },
    {
      "cell_type": "code",
      "execution_count": null,
      "metadata": {
        "colab": {
          "base_uri": "https://localhost:8080/"
        },
        "id": "Z-s1eeoeCVue",
        "outputId": "77979415-b098-4a49-d3a3-806ee9bd2ee2"
      },
      "outputs": [
        {
          "output_type": "execute_result",
          "data": {
            "text/plain": [
              "Shuffled Label | Birth Weight average\n",
              "False          | 119.014\n",
              "True           | 120.161"
            ],
            "text/html": [
              "<table border=\"1\" class=\"dataframe\">\n",
              "    <thead>\n",
              "        <tr>\n",
              "            <th>Shuffled Label</th> <th>Birth Weight average</th>\n",
              "        </tr>\n",
              "    </thead>\n",
              "    <tbody>\n",
              "        <tr>\n",
              "            <td>False         </td> <td>119.014             </td>\n",
              "        </tr>\n",
              "        <tr>\n",
              "            <td>True          </td> <td>120.161             </td>\n",
              "        </tr>\n",
              "    </tbody>\n",
              "</table>"
            ]
          },
          "metadata": {},
          "execution_count": 16
        }
      ],
      "source": [
        "shuffled_only = original_and_shuffled.select('Birth Weight','Shuffled Label')\n",
        "shuffled_group_means = shuffled_only.group('Shuffled Label', np.average)\n",
        "shuffled_group_means"
      ]
    },
    {
      "cell_type": "markdown",
      "metadata": {
        "id": "jO0lDK9nCVue"
      },
      "source": [
        "The averages of the two randomly selected groups are quite a bit closer than the averages of the two original groups. We can use our function `difference_of_means` to find the two differences."
      ]
    },
    {
      "cell_type": "code",
      "execution_count": null,
      "metadata": {
        "colab": {
          "base_uri": "https://localhost:8080/"
        },
        "id": "DPFIQnwsCVue",
        "outputId": "9b4c3fcf-5706-49a4-944c-ceec605e9c90"
      },
      "outputs": [
        {
          "output_type": "execute_result",
          "data": {
            "text/plain": [
              "1.1472340295869685"
            ]
          },
          "metadata": {},
          "execution_count": 17
        }
      ],
      "source": [
        "difference_of_means(original_and_shuffled, 'Shuffled Label')"
      ]
    },
    {
      "cell_type": "code",
      "execution_count": null,
      "metadata": {
        "colab": {
          "base_uri": "https://localhost:8080/"
        },
        "id": "v2Gj62WuCVue",
        "outputId": "7129f0cf-cf76-48ae-c3d0-145a48fd7b15"
      },
      "outputs": [
        {
          "output_type": "execute_result",
          "data": {
            "text/plain": [
              "-9.266142572024918"
            ]
          },
          "metadata": {},
          "execution_count": 18
        }
      ],
      "source": [
        "difference_of_means(original_and_shuffled, 'Maternal Smoker')"
      ]
    },
    {
      "cell_type": "markdown",
      "metadata": {
        "id": "onPeGNO7CVuf"
      },
      "source": [
        "But could a different shuffle have resulted in a larger difference between the group averages? To get a sense of the variability, we must simulate the difference many times. \n",
        "\n",
        "As always, we will start by defining a function that simulates one value of the test statistic under the null hypothesis. This is just a matter of collecting the code that we wrote above. \n",
        "\n",
        "The function is called `one_simulated_difference_of_means`. It takes no arguments, and returns the difference between the mean birth weights of two groups formed by randomly shuffling all the labels."
      ]
    },
    {
      "cell_type": "code",
      "execution_count": null,
      "metadata": {
        "id": "JnwFkx-pCVuf"
      },
      "outputs": [],
      "source": [
        "def one_simulated_difference_of_means():\n",
        "    \"\"\"Returns: Difference between mean birthweights\n",
        "    of babies of smokers and non-smokers after shuffling labels\"\"\"\n",
        "    \n",
        "    # array of shuffled labels\n",
        "    shuffled_labels = births.sample(with_replacement=False).column('Maternal Smoker')\n",
        "    \n",
        "    # table of birth weights and shuffled labels\n",
        "    shuffled_table = births.select('Birth Weight').with_column(\n",
        "        'Shuffled Label', shuffled_labels)\n",
        "    \n",
        "    return difference_of_means(shuffled_table, 'Shuffled Label')   "
      ]
    },
    {
      "cell_type": "markdown",
      "metadata": {
        "id": "4Df5HeoyCVuf"
      },
      "source": [
        "Run the cell below a few times to see how the output changes."
      ]
    },
    {
      "cell_type": "code",
      "execution_count": null,
      "metadata": {
        "colab": {
          "base_uri": "https://localhost:8080/"
        },
        "id": "AUi6htH9CVuf",
        "outputId": "63bff0e6-7ab4-401a-cb16-6cdcfaf0d39f"
      },
      "outputs": [
        {
          "output_type": "execute_result",
          "data": {
            "text/plain": [
              "-1.0563523622347049"
            ]
          },
          "metadata": {},
          "execution_count": 20
        }
      ],
      "source": [
        "one_simulated_difference_of_means()"
      ]
    },
    {
      "cell_type": "markdown",
      "metadata": {
        "id": "boS6yiibCVuf"
      },
      "source": [
        "### 12.1.5. Permutation Test\n",
        "Tests based on random permutations of the data are called *permutation tests*. We are performing one in this example. In the cell below, we will simulate our test statistic – the difference between the average birth weight of the two randomly formed groups – many times and collect the differences in an array. "
      ]
    },
    {
      "cell_type": "code",
      "execution_count": null,
      "metadata": {
        "id": "BmMQ4v8hCVuf"
      },
      "outputs": [],
      "source": [
        "differences = make_array()\n",
        "\n",
        "repetitions = 5000\n",
        "for i in np.arange(repetitions):\n",
        "    new_difference = one_simulated_difference_of_means()\n",
        "    differences = np.append(differences, new_difference)                               "
      ]
    },
    {
      "cell_type": "markdown",
      "metadata": {
        "id": "hQDIc2wNCVuf"
      },
      "source": [
        "The array `differences` contains 5,000 simulated values of our test statistic: the difference between the mean weight in the smoking group and the mean weight in the non-smoking group, when the labels have been assigned at random. \n",
        "\n",
        "###12.1.6. Conclusion of the Test\n",
        "The histogram below shows the distribution of these 5,000 values. It is the empirical distribution of the test statistic simulated under the null hypothesis. This is a prediction about the test statistic, based on the null hypothesis."
      ]
    },
    {
      "cell_type": "code",
      "execution_count": null,
      "metadata": {
        "colab": {
          "base_uri": "https://localhost:8080/",
          "height": 339
        },
        "id": "VGtUJXesCVuf",
        "outputId": "e3781a6d-d1f4-4e00-9575-a64215f417a7"
      },
      "outputs": [
        {
          "output_type": "stream",
          "name": "stdout",
          "text": [
            "Observed Difference: -9.266142572024918\n"
          ]
        },
        {
          "output_type": "display_data",
          "data": {
            "text/plain": [
              "<Figure size 432x288 with 1 Axes>"
            ],
            "image/png": "[encoded data removed]"
          },
          "metadata": {}
        }
      ],
      "source": [
        "Table().with_column('Difference Between Group Means', differences).hist()\n",
        "print('Observed Difference:', observed_difference)\n",
        "plots.title('Prediction Under the Null Hypothesis');"
      ]
    },
    {
      "cell_type": "markdown",
      "metadata": {
        "id": "l7w_BfJMCVuf"
      },
      "source": [
        "Notice how the distribution is centered roughly around 0. This makes sense, because under the null hypothesis the two groups should have roughly the same average. Therefore the difference between the group averages should be around 0.\n",
        "\n",
        "The observed difference in the original sample is about $-9.27$ ounces, which doesn't even appear on the horizontal scale of the histogram. The observed value of the statistic and the predicted behavior of the statistic under the null hypothesis are inconsistent. \n",
        "\n",
        "The conclusion of the test is that the data favor the alternative over the null. It supports the hypothesis that the average birth weight of babies born to mothers who smoke is less than the average birth weight of babies born to non-smokers.\n",
        "\n",
        "If you want to compute an empirical p-value, remember that low values of the statistic favor the alternative hypothesis. "
      ]
    },
    {
      "cell_type": "code",
      "execution_count": null,
      "metadata": {
        "colab": {
          "base_uri": "https://localhost:8080/"
        },
        "id": "q-yLEofWCVug",
        "outputId": "9a5c27b4-9f55-497b-b730-699f13b7393d"
      },
      "outputs": [
        {
          "output_type": "execute_result",
          "data": {
            "text/plain": [
              "0.0"
            ]
          },
          "metadata": {},
          "execution_count": 23
        }
      ],
      "source": [
        "empirical_p = np.count_nonzero(differences <= observed_difference) / repetitions\n",
        "empirical_p"
      ]
    },
    {
      "cell_type": "markdown",
      "metadata": {
        "id": "-lYw4M3bCVug"
      },
      "source": [
        "The empirical p-value is 0, meaning that none of the 5,000 permuted samples resulted in a difference of -9.27 or lower. This is only an approximation. The exact chance of getting a difference in that range is not 0. But it is vanishingly small, according to our simulation, and therefore we can reject the null hypothesis."
      ]
    },
    {
      "cell_type": "markdown",
      "metadata": {
        "id": "qHjJqKsFCVug"
      },
      "source": [
        "###12.1.7. Another Permutation Test\n",
        "We can use the same method to compare other attributes of the smokers and the non-smokers, such as their ages. Histograms of the ages of the two groups show that in the sample, the mothers who smoked tended to be younger. "
      ]
    },
    {
      "cell_type": "code",
      "execution_count": null,
      "metadata": {
        "colab": {
          "base_uri": "https://localhost:8080/",
          "height": 406
        },
        "id": "l2dQD4nlCVug",
        "outputId": "97da0148-bef1-4d4e-c2d1-270e7fb527fc"
      },
      "outputs": [
        {
          "output_type": "stream",
          "name": "stderr",
          "text": [
            "/usr/local/lib/python3.7/dist-packages/datascience/tables.py:483: VisibleDeprecationWarning: Creating an ndarray from ragged nested sequences (which is a list-or-tuple of lists-or-tuples-or ndarrays with different lengths or shapes) is deprecated. If you meant to do this, you must specify 'dtype=object' when creating the ndarray.\n",
            "  values = np.array(tuple(values))\n",
            "/usr/local/lib/python3.7/dist-packages/numpy/core/fromnumeric.py:3208: VisibleDeprecationWarning: Creating an ndarray from ragged nested sequences (which is a list-or-tuple of lists-or-tuples-or ndarrays with different lengths or shapes) is deprecated. If you meant to do this, you must specify 'dtype=object' when creating the ndarray.\n",
            "  return asarray(a).size\n",
            "/usr/local/lib/python3.7/dist-packages/matplotlib/cbook/__init__.py:1376: VisibleDeprecationWarning: Creating an ndarray from ragged nested sequences (which is a list-or-tuple of lists-or-tuples-or ndarrays with different lengths or shapes) is deprecated. If you meant to do this, you must specify 'dtype=object' when creating the ndarray.\n",
            "  X = np.atleast_1d(X.T if isinstance(X, np.ndarray) else np.asarray(X))\n"
          ]
        },
        {
          "output_type": "display_data",
          "data": {
            "text/plain": [
              "<Figure size 432x288 with 1 Axes>"
            ],
            "image/png": "[encoded data removed]"
          },
          "metadata": {}
        }
      ],
      "source": [
        "smoking_and_age = births.select('Maternal Smoker', 'Maternal Age')\n",
        "smoking_and_age.hist('Maternal Age', group = 'Maternal Smoker')"
      ]
    },
    {
      "cell_type": "markdown",
      "metadata": {
        "id": "ZHUXUfnxCVug"
      },
      "source": [
        "The observed difference between the average ages is about $-0.8$ years."
      ]
    },
    {
      "cell_type": "markdown",
      "metadata": {
        "id": "yNvlcRqgCVug"
      },
      "source": [
        "Let's rewrite the code that compared the birth weights so that it now compares the ages of the smokers and non-smokers."
      ]
    },
    {
      "cell_type": "code",
      "execution_count": null,
      "metadata": {
        "id": "_KDtkvYhCVug"
      },
      "outputs": [],
      "source": [
        "def difference_of_means(table, group_label):\n",
        "    \"\"\"Takes: name of table,\n",
        "    column label that indicates the group to which the row belongs\n",
        "    Returns: Difference of mean ages of the two groups\"\"\"\n",
        "    reduced = table.select('Maternal Age', group_label)\n",
        "    means_table = reduced.group(group_label, np.average)\n",
        "    means = means_table.column(1)\n",
        "    return means.item(1) - means.item(0)"
      ]
    },
    {
      "cell_type": "code",
      "execution_count": null,
      "metadata": {
        "colab": {
          "base_uri": "https://localhost:8080/"
        },
        "id": "HQmW_oAcCVug",
        "outputId": "5c136fb1-435f-46db-de52-6e0ee4645837"
      },
      "outputs": [
        {
          "output_type": "execute_result",
          "data": {
            "text/plain": [
              "-0.8076725017901509"
            ]
          },
          "metadata": {},
          "execution_count": 26
        }
      ],
      "source": [
        "observed_age_difference = difference_of_means(births, 'Maternal Smoker')\n",
        "observed_age_difference"
      ]
    },
    {
      "cell_type": "markdown",
      "metadata": {
        "id": "wMSbSg1SCVug"
      },
      "source": [
        "Remember that the difference is calculated as the mean age of the smokers minus the mean age of the non-smokers. The negative sign shows that the smokers are younger on average.\n",
        "\n",
        "Is this difference due to chance, or does it reflect an underlying difference in the population?\n",
        "\n",
        "As before, we can use a permutation test to answer this question. If the underlying distributions of ages in the two groups are the same, then the empirical distribution of the difference based on permuted samples will predict how the statistic should vary due to chance.\n",
        "\n",
        "We will follow the same process as in any simulation. We will start by writing a function that returns one simulated value of the difference between means, and then write a `for` loop to simulate numerous such values and collect them in an array."
      ]
    },
    {
      "cell_type": "code",
      "execution_count": null,
      "metadata": {
        "id": "-oKo-CQUCVug"
      },
      "outputs": [],
      "source": [
        "def one_simulated_difference_of_means():\n",
        "    \"\"\"Returns: Difference between mean ages\n",
        "    of smokers and non-smokers after shuffling labels\"\"\"\n",
        "    \n",
        "    # array of shuffled labels\n",
        "    shuffled_labels = births.sample(with_replacement=False).column('Maternal Smoker')\n",
        "    \n",
        "    # table of ages and shuffled labels\n",
        "    shuffled_table = births.select('Maternal Age').with_column(\n",
        "        'Shuffled Label', shuffled_labels)\n",
        "    \n",
        "    return difference_of_means(shuffled_table, 'Shuffled Label')   "
      ]
    },
    {
      "cell_type": "code",
      "execution_count": null,
      "metadata": {
        "id": "DNwRkEaECVug"
      },
      "outputs": [],
      "source": [
        "age_differences = make_array()\n",
        "\n",
        "repetitions = 5000\n",
        "for i in np.arange(repetitions):\n",
        "    new_difference = one_simulated_difference_of_means()\n",
        "    age_differences = np.append(age_differences, new_difference)"
      ]
    },
    {
      "cell_type": "markdown",
      "metadata": {
        "id": "E4RE7ch6CVug"
      },
      "source": [
        "The observed difference is in the tail of the empirical distribution of the differences simulated under the null hypothesis. "
      ]
    },
    {
      "cell_type": "code",
      "execution_count": null,
      "metadata": {
        "colab": {
          "base_uri": "https://localhost:8080/",
          "height": 665
        },
        "id": "pQN9TKtuCVug",
        "outputId": "3f673493-9934-4ed9-a68e-8019cb92ca2b"
      },
      "outputs": [
        {
          "output_type": "error",
          "ename": "AttributeError",
          "evalue": "ignored",
          "traceback": [
            "\u001b[0;31m---------------------------------------------------------------------------\u001b[0m",
            "\u001b[0;31mAttributeError\u001b[0m                            Traceback (most recent call last)",
            "\u001b[0;32m<ipython-input-30-1541ecce63d6>\u001b[0m in \u001b[0;36m<module>\u001b[0;34m()\u001b[0m\n\u001b[1;32m      1\u001b[0m Table().with_column(\n\u001b[1;32m      2\u001b[0m     \u001b[0;34m'Difference Between Group Means'\u001b[0m\u001b[0;34m,\u001b[0m \u001b[0mage_differences\u001b[0m\u001b[0;34m)\u001b[0m\u001b[0;34m.\u001b[0m\u001b[0mhist\u001b[0m\u001b[0;34m(\u001b[0m\u001b[0;34m\u001b[0m\u001b[0;34m\u001b[0m\u001b[0m\n\u001b[0;32m----> 3\u001b[0;31m     right_end = observed_age_difference)\n\u001b[0m\u001b[1;32m      4\u001b[0m \u001b[0;31m# Plotting parameters; you can ignore the code below\u001b[0m\u001b[0;34m\u001b[0m\u001b[0;34m\u001b[0m\u001b[0;34m\u001b[0m\u001b[0m\n\u001b[1;32m      5\u001b[0m \u001b[0mplt\u001b[0m\u001b[0;34m.\u001b[0m\u001b[0mylim\u001b[0m\u001b[0;34m(\u001b[0m\u001b[0;34m-\u001b[0m\u001b[0;36m0.1\u001b[0m\u001b[0;34m,\u001b[0m \u001b[0;36m1.2\u001b[0m\u001b[0;34m)\u001b[0m\u001b[0;34m\u001b[0m\u001b[0;34m\u001b[0m\u001b[0m\n",
            "\u001b[0;32m/usr/local/lib/python3.7/dist-packages/datascience/tables.py\u001b[0m in \u001b[0;36mhist\u001b[0;34m(self, overlay, bins, bin_column, unit, counts, group, side_by_side, width, height, *columns, **vargs)\u001b[0m\n\u001b[1;32m   2568\u001b[0m                     \u001b[0mtype\u001b[0m\u001b[0;34m(\u001b[0m\u001b[0mself\u001b[0m\u001b[0;34m)\u001b[0m\u001b[0;34m.\u001b[0m\u001b[0mplots\u001b[0m\u001b[0;34m.\u001b[0m\u001b[0mappend\u001b[0m\u001b[0;34m(\u001b[0m\u001b[0maxis\u001b[0m\u001b[0;34m)\u001b[0m\u001b[0;34m\u001b[0m\u001b[0;34m\u001b[0m\u001b[0m\n\u001b[1;32m   2569\u001b[0m \u001b[0;34m\u001b[0m\u001b[0m\n\u001b[0;32m-> 2570\u001b[0;31m         \u001b[0mdraw_hist\u001b[0m\u001b[0;34m(\u001b[0m\u001b[0mvalues_dict\u001b[0m\u001b[0;34m)\u001b[0m\u001b[0;34m\u001b[0m\u001b[0;34m\u001b[0m\u001b[0m\n\u001b[0m\u001b[1;32m   2571\u001b[0m \u001b[0;34m\u001b[0m\u001b[0m\n\u001b[1;32m   2572\u001b[0m     \u001b[0;32mdef\u001b[0m \u001b[0mboxplot\u001b[0m\u001b[0;34m(\u001b[0m\u001b[0mself\u001b[0m\u001b[0;34m,\u001b[0m \u001b[0;34m**\u001b[0m\u001b[0mvargs\u001b[0m\u001b[0;34m)\u001b[0m\u001b[0;34m:\u001b[0m\u001b[0;34m\u001b[0m\u001b[0;34m\u001b[0m\u001b[0m\n",
            "\u001b[0;32m/usr/local/lib/python3.7/dist-packages/datascience/tables.py\u001b[0m in \u001b[0;36mdraw_hist\u001b[0;34m(values_dict)\u001b[0m\n\u001b[1;32m   2564\u001b[0m                         \u001b[0mvargs\u001b[0m\u001b[0;34m[\u001b[0m\u001b[0;34m'weights'\u001b[0m\u001b[0;34m]\u001b[0m \u001b[0;34m=\u001b[0m \u001b[0mweights\u001b[0m\u001b[0;34m[\u001b[0m\u001b[0mi\u001b[0m\u001b[0;34m]\u001b[0m\u001b[0;34m\u001b[0m\u001b[0;34m\u001b[0m\u001b[0m\n\u001b[1;32m   2565\u001b[0m                     \u001b[0maxis\u001b[0m\u001b[0;34m.\u001b[0m\u001b[0mset_xlabel\u001b[0m\u001b[0;34m(\u001b[0m\u001b[0mhist_name\u001b[0m \u001b[0;34m+\u001b[0m \u001b[0mx_unit\u001b[0m\u001b[0;34m,\u001b[0m \u001b[0mfontsize\u001b[0m\u001b[0;34m=\u001b[0m\u001b[0;36m16\u001b[0m\u001b[0;34m)\u001b[0m\u001b[0;34m\u001b[0m\u001b[0;34m\u001b[0m\u001b[0m\n\u001b[0;32m-> 2566\u001b[0;31m                     \u001b[0maxis\u001b[0m\u001b[0;34m.\u001b[0m\u001b[0mhist\u001b[0m\u001b[0;34m(\u001b[0m\u001b[0mvalues_for_hist\u001b[0m\u001b[0;34m,\u001b[0m \u001b[0mcolor\u001b[0m\u001b[0;34m=\u001b[0m\u001b[0mcolor\u001b[0m\u001b[0;34m,\u001b[0m \u001b[0;34m**\u001b[0m\u001b[0mvargs\u001b[0m\u001b[0;34m)\u001b[0m\u001b[0;34m\u001b[0m\u001b[0;34m\u001b[0m\u001b[0m\n\u001b[0m\u001b[1;32m   2567\u001b[0m                     \u001b[0m_vertical_x\u001b[0m\u001b[0;34m(\u001b[0m\u001b[0maxis\u001b[0m\u001b[0;34m)\u001b[0m\u001b[0;34m\u001b[0m\u001b[0;34m\u001b[0m\u001b[0m\n\u001b[1;32m   2568\u001b[0m                     \u001b[0mtype\u001b[0m\u001b[0;34m(\u001b[0m\u001b[0mself\u001b[0m\u001b[0;34m)\u001b[0m\u001b[0;34m.\u001b[0m\u001b[0mplots\u001b[0m\u001b[0;34m.\u001b[0m\u001b[0mappend\u001b[0m\u001b[0;34m(\u001b[0m\u001b[0maxis\u001b[0m\u001b[0;34m)\u001b[0m\u001b[0;34m\u001b[0m\u001b[0;34m\u001b[0m\u001b[0m\n",
            "\u001b[0;32m/usr/local/lib/python3.7/dist-packages/matplotlib/__init__.py\u001b[0m in \u001b[0;36minner\u001b[0;34m(ax, data, *args, **kwargs)\u001b[0m\n\u001b[1;32m   1563\u001b[0m     \u001b[0;32mdef\u001b[0m \u001b[0minner\u001b[0m\u001b[0;34m(\u001b[0m\u001b[0max\u001b[0m\u001b[0;34m,\u001b[0m \u001b[0;34m*\u001b[0m\u001b[0margs\u001b[0m\u001b[0;34m,\u001b[0m \u001b[0mdata\u001b[0m\u001b[0;34m=\u001b[0m\u001b[0;32mNone\u001b[0m\u001b[0;34m,\u001b[0m \u001b[0;34m**\u001b[0m\u001b[0mkwargs\u001b[0m\u001b[0;34m)\u001b[0m\u001b[0;34m:\u001b[0m\u001b[0;34m\u001b[0m\u001b[0;34m\u001b[0m\u001b[0m\n\u001b[1;32m   1564\u001b[0m         \u001b[0;32mif\u001b[0m \u001b[0mdata\u001b[0m \u001b[0;32mis\u001b[0m \u001b[0;32mNone\u001b[0m\u001b[0;34m:\u001b[0m\u001b[0;34m\u001b[0m\u001b[0;34m\u001b[0m\u001b[0m\n\u001b[0;32m-> 1565\u001b[0;31m             \u001b[0;32mreturn\u001b[0m \u001b[0mfunc\u001b[0m\u001b[0;34m(\u001b[0m\u001b[0max\u001b[0m\u001b[0;34m,\u001b[0m \u001b[0;34m*\u001b[0m\u001b[0mmap\u001b[0m\u001b[0;34m(\u001b[0m\u001b[0msanitize_sequence\u001b[0m\u001b[0;34m,\u001b[0m \u001b[0margs\u001b[0m\u001b[0;34m)\u001b[0m\u001b[0;34m,\u001b[0m \u001b[0;34m**\u001b[0m\u001b[0mkwargs\u001b[0m\u001b[0;34m)\u001b[0m\u001b[0;34m\u001b[0m\u001b[0;34m\u001b[0m\u001b[0m\n\u001b[0m\u001b[1;32m   1566\u001b[0m \u001b[0;34m\u001b[0m\u001b[0m\n\u001b[1;32m   1567\u001b[0m         \u001b[0mbound\u001b[0m \u001b[0;34m=\u001b[0m \u001b[0mnew_sig\u001b[0m\u001b[0;34m.\u001b[0m\u001b[0mbind\u001b[0m\u001b[0;34m(\u001b[0m\u001b[0max\u001b[0m\u001b[0;34m,\u001b[0m \u001b[0;34m*\u001b[0m\u001b[0margs\u001b[0m\u001b[0;34m,\u001b[0m \u001b[0;34m**\u001b[0m\u001b[0mkwargs\u001b[0m\u001b[0;34m)\u001b[0m\u001b[0;34m\u001b[0m\u001b[0;34m\u001b[0m\u001b[0m\n",
            "\u001b[0;32m/usr/local/lib/python3.7/dist-packages/matplotlib/axes/_axes.py\u001b[0m in \u001b[0;36mhist\u001b[0;34m(self, x, bins, range, density, weights, cumulative, bottom, histtype, align, orientation, rwidth, log, color, label, stacked, **kwargs)\u001b[0m\n\u001b[1;32m   6817\u001b[0m             \u001b[0;32mif\u001b[0m \u001b[0mpatch\u001b[0m\u001b[0;34m:\u001b[0m\u001b[0;34m\u001b[0m\u001b[0;34m\u001b[0m\u001b[0m\n\u001b[1;32m   6818\u001b[0m                 \u001b[0mp\u001b[0m \u001b[0;34m=\u001b[0m \u001b[0mpatch\u001b[0m\u001b[0;34m[\u001b[0m\u001b[0;36m0\u001b[0m\u001b[0;34m]\u001b[0m\u001b[0;34m\u001b[0m\u001b[0;34m\u001b[0m\u001b[0m\n\u001b[0;32m-> 6819\u001b[0;31m                 \u001b[0mp\u001b[0m\u001b[0;34m.\u001b[0m\u001b[0mupdate\u001b[0m\u001b[0;34m(\u001b[0m\u001b[0mkwargs\u001b[0m\u001b[0;34m)\u001b[0m\u001b[0;34m\u001b[0m\u001b[0;34m\u001b[0m\u001b[0m\n\u001b[0m\u001b[1;32m   6820\u001b[0m                 \u001b[0;32mif\u001b[0m \u001b[0mlbl\u001b[0m \u001b[0;32mis\u001b[0m \u001b[0;32mnot\u001b[0m \u001b[0;32mNone\u001b[0m\u001b[0;34m:\u001b[0m\u001b[0;34m\u001b[0m\u001b[0;34m\u001b[0m\u001b[0m\n\u001b[1;32m   6821\u001b[0m                     \u001b[0mp\u001b[0m\u001b[0;34m.\u001b[0m\u001b[0mset_label\u001b[0m\u001b[0;34m(\u001b[0m\u001b[0mlbl\u001b[0m\u001b[0;34m)\u001b[0m\u001b[0;34m\u001b[0m\u001b[0;34m\u001b[0m\u001b[0m\n",
            "\u001b[0;32m/usr/local/lib/python3.7/dist-packages/matplotlib/artist.py\u001b[0m in \u001b[0;36mupdate\u001b[0;34m(self, props)\u001b[0m\n\u001b[1;32m   1004\u001b[0m \u001b[0;34m\u001b[0m\u001b[0m\n\u001b[1;32m   1005\u001b[0m         \u001b[0;32mwith\u001b[0m \u001b[0mcbook\u001b[0m\u001b[0;34m.\u001b[0m\u001b[0m_setattr_cm\u001b[0m\u001b[0;34m(\u001b[0m\u001b[0mself\u001b[0m\u001b[0;34m,\u001b[0m \u001b[0meventson\u001b[0m\u001b[0;34m=\u001b[0m\u001b[0;32mFalse\u001b[0m\u001b[0;34m)\u001b[0m\u001b[0;34m:\u001b[0m\u001b[0;34m\u001b[0m\u001b[0;34m\u001b[0m\u001b[0m\n\u001b[0;32m-> 1006\u001b[0;31m             \u001b[0mret\u001b[0m \u001b[0;34m=\u001b[0m \u001b[0;34m[\u001b[0m\u001b[0m_update_property\u001b[0m\u001b[0;34m(\u001b[0m\u001b[0mself\u001b[0m\u001b[0;34m,\u001b[0m \u001b[0mk\u001b[0m\u001b[0;34m,\u001b[0m \u001b[0mv\u001b[0m\u001b[0;34m)\u001b[0m \u001b[0;32mfor\u001b[0m \u001b[0mk\u001b[0m\u001b[0;34m,\u001b[0m \u001b[0mv\u001b[0m \u001b[0;32min\u001b[0m \u001b[0mprops\u001b[0m\u001b[0;34m.\u001b[0m\u001b[0mitems\u001b[0m\u001b[0;34m(\u001b[0m\u001b[0;34m)\u001b[0m\u001b[0;34m]\u001b[0m\u001b[0;34m\u001b[0m\u001b[0;34m\u001b[0m\u001b[0m\n\u001b[0m\u001b[1;32m   1007\u001b[0m \u001b[0;34m\u001b[0m\u001b[0m\n\u001b[1;32m   1008\u001b[0m         \u001b[0;32mif\u001b[0m \u001b[0mlen\u001b[0m\u001b[0;34m(\u001b[0m\u001b[0mret\u001b[0m\u001b[0;34m)\u001b[0m\u001b[0;34m:\u001b[0m\u001b[0;34m\u001b[0m\u001b[0;34m\u001b[0m\u001b[0m\n",
            "\u001b[0;32m/usr/local/lib/python3.7/dist-packages/matplotlib/artist.py\u001b[0m in \u001b[0;36m<listcomp>\u001b[0;34m(.0)\u001b[0m\n\u001b[1;32m   1004\u001b[0m \u001b[0;34m\u001b[0m\u001b[0m\n\u001b[1;32m   1005\u001b[0m         \u001b[0;32mwith\u001b[0m \u001b[0mcbook\u001b[0m\u001b[0;34m.\u001b[0m\u001b[0m_setattr_cm\u001b[0m\u001b[0;34m(\u001b[0m\u001b[0mself\u001b[0m\u001b[0;34m,\u001b[0m \u001b[0meventson\u001b[0m\u001b[0;34m=\u001b[0m\u001b[0;32mFalse\u001b[0m\u001b[0;34m)\u001b[0m\u001b[0;34m:\u001b[0m\u001b[0;34m\u001b[0m\u001b[0;34m\u001b[0m\u001b[0m\n\u001b[0;32m-> 1006\u001b[0;31m             \u001b[0mret\u001b[0m \u001b[0;34m=\u001b[0m \u001b[0;34m[\u001b[0m\u001b[0m_update_property\u001b[0m\u001b[0;34m(\u001b[0m\u001b[0mself\u001b[0m\u001b[0;34m,\u001b[0m \u001b[0mk\u001b[0m\u001b[0;34m,\u001b[0m \u001b[0mv\u001b[0m\u001b[0;34m)\u001b[0m \u001b[0;32mfor\u001b[0m \u001b[0mk\u001b[0m\u001b[0;34m,\u001b[0m \u001b[0mv\u001b[0m \u001b[0;32min\u001b[0m \u001b[0mprops\u001b[0m\u001b[0;34m.\u001b[0m\u001b[0mitems\u001b[0m\u001b[0;34m(\u001b[0m\u001b[0;34m)\u001b[0m\u001b[0;34m]\u001b[0m\u001b[0;34m\u001b[0m\u001b[0;34m\u001b[0m\u001b[0m\n\u001b[0m\u001b[1;32m   1007\u001b[0m \u001b[0;34m\u001b[0m\u001b[0m\n\u001b[1;32m   1008\u001b[0m         \u001b[0;32mif\u001b[0m \u001b[0mlen\u001b[0m\u001b[0;34m(\u001b[0m\u001b[0mret\u001b[0m\u001b[0;34m)\u001b[0m\u001b[0;34m:\u001b[0m\u001b[0;34m\u001b[0m\u001b[0;34m\u001b[0m\u001b[0m\n",
            "\u001b[0;32m/usr/local/lib/python3.7/dist-packages/matplotlib/artist.py\u001b[0m in \u001b[0;36m_update_property\u001b[0;34m(self, k, v)\u001b[0m\n\u001b[1;32m   1000\u001b[0m                 \u001b[0;32mif\u001b[0m \u001b[0;32mnot\u001b[0m \u001b[0mcallable\u001b[0m\u001b[0;34m(\u001b[0m\u001b[0mfunc\u001b[0m\u001b[0;34m)\u001b[0m\u001b[0;34m:\u001b[0m\u001b[0;34m\u001b[0m\u001b[0;34m\u001b[0m\u001b[0m\n\u001b[1;32m   1001\u001b[0m                     raise AttributeError('{!r} object has no property {!r}'\n\u001b[0;32m-> 1002\u001b[0;31m                                          .format(type(self).__name__, k))\n\u001b[0m\u001b[1;32m   1003\u001b[0m                 \u001b[0;32mreturn\u001b[0m \u001b[0mfunc\u001b[0m\u001b[0;34m(\u001b[0m\u001b[0mv\u001b[0m\u001b[0;34m)\u001b[0m\u001b[0;34m\u001b[0m\u001b[0;34m\u001b[0m\u001b[0m\n\u001b[1;32m   1004\u001b[0m \u001b[0;34m\u001b[0m\u001b[0m\n",
            "\u001b[0;31mAttributeError\u001b[0m: 'Rectangle' object has no property 'right_end'"
          ]
        },
        {
          "output_type": "display_data",
          "data": {
            "text/plain": [
              "<Figure size 432x288 with 1 Axes>"
            ],
            "image/png": "[encoded data removed]"
          },
          "metadata": {}
        }
      ],
      "source": [
        "Table().with_column(\n",
        "    'Difference Between Group Means', age_differences).hist(\n",
        "    right_end = observed_age_difference)\n",
        "# Plotting parameters; you can ignore the code below\n",
        "plots.ylim(-0.1, 1.2)\n",
        "plots.scatter(observed_age_difference, 0, color='red', s=40, zorder=3)\n",
        "plots.title('Prediction Under the Null Hypothesis')\n",
        "print('Observed Difference:', observed_age_difference)"
      ]
    },
    {
      "cell_type": "markdown",
      "metadata": {
        "id": "163F3tX3CVug"
      },
      "source": [
        "Once again, the empirical distribution of the simulated differences is centered roughly around 0, because the simulation is under the null hypothesis that there is no difference between the distributions of the two groups.\n",
        "\n",
        "The empirical p-value of the test is the proportion of simulated differences that were equal to or less than the observed difference. This is because low values of the difference favor the alternative hypothesis that the smokers were younger on average."
      ]
    },
    {
      "cell_type": "code",
      "execution_count": null,
      "metadata": {
        "id": "kDvnExcFCVug",
        "colab": {
          "base_uri": "https://localhost:8080/"
        },
        "outputId": "7d5ab4f5-c0c0-49d4-bfa4-1bd46bec6df6"
      },
      "outputs": [
        {
          "output_type": "execute_result",
          "data": {
            "text/plain": [
              "0.0112"
            ]
          },
          "metadata": {},
          "execution_count": 32
        }
      ],
      "source": [
        "empirical_p = np.count_nonzero(age_differences <= observed_age_difference) / 5000\n",
        "empirical_p"
      ]
    },
    {
      "cell_type": "markdown",
      "metadata": {
        "id": "XqtlGApYCVug"
      },
      "source": [
        "The empirical p-value is around 1% and therefore the result is statistically significant. The test supports the hypothesis that the smokers were younger on average."
      ]
    },
    {
      "cell_type": "markdown",
      "metadata": {
        "id": "5-mZ9_QanhdI"
      },
      "source": [
        "##12.2. Causality"
      ]
    },
    {
      "cell_type": "markdown",
      "metadata": {
        "id": "hufLO3VRnhdJ"
      },
      "source": [
        "Our methods for comparing two samples have a powerful use in the analysis of randomized controlled experiments. Since the treatment and control groups are assigned randomly in such experiements, differences in their outcomes can be compared to what would happen just due to chance if the treatment had no effect at all. If the observed differences are more marked than what we would predict as purely due to chance, we will have evidence of *causation*. Because of the unbiased assignment of individuals to the treatment and control groups, differences in the outcomes of the two groups can be ascribed to the treatment.\n",
        "\n",
        "The key to the analysis of randomized controlled experiments is understanding exactly how chance enters the picture. This helps us set up clear null and alternative hypotheses. Once that's done, we can simply use the methods of the previous sections to complete the analysis.\n",
        "\n",
        "Let's see how to do this in an example."
      ]
    },
    {
      "cell_type": "markdown",
      "metadata": {
        "id": "cENApsYfnhdJ"
      },
      "source": [
        "## Treating Chronic Back Pain: A Randomized Controlled Trial\n",
        "Low-back pain in adults can be very persistent and hard to treat. Common methods run the gamut from corticosteroids to acupuncture. A [randomized controlled trial (RCT)](https://www.ncbi.nlm.nih.gov/pubmed/11376175) examined the effect of using Botulinum Toxin A (BTA) as a treatment. Botulinum toxin is a neurotoxic protein that causes the disease botulism; [Wikipedia](https://en.wikipedia.org/wiki/Botulinum_toxin) says that botulinum \"is the most acutely lethal toxin known.\" There are seven types of botulinum toxin. Botulinum Toxin A is one of the types that can cause disease in humans, but it is also used in medicine to treat various diseases involving the muscles. The RCT analyzed by Foster, Clapp, and Jabbari in 2001 examined it as a treatment for low back pain.\n",
        "\n",
        "Thirty one patients with low-back pain were randomized into treatment and control groups, with 15 in the treatment group and 16 in control. The control group was given normal saline, and the trials were run double-blind so that neither doctors nor patients knew which group they were in.\n",
        "\n",
        "Eight weeks after the start of the study, nine of the 15 in the treatment group and two of the 16 in the control group had pain relief (according to a precise definition used by the researchers). These data are in the table `bta` and appear to show that the treatment has a clear benefit."
      ]
    },
    {
      "cell_type": "code",
      "execution_count": null,
      "metadata": {
        "id": "PsfZtBHRnhdK",
        "colab": {
          "base_uri": "https://localhost:8080/",
          "height": 1000
        },
        "outputId": "ef77b6ab-304f-4b0c-952a-9b5dcdc03204"
      },
      "outputs": [
        {
          "output_type": "display_data",
          "data": {
            "text/plain": [
              "<IPython.core.display.HTML object>"
            ],
            "text/html": [
              "<table border=\"1\" class=\"dataframe\">\n",
              "    <thead>\n",
              "        <tr>\n",
              "            <th>Group</th> <th>Result</th>\n",
              "        </tr>\n",
              "    </thead>\n",
              "    <tbody>\n",
              "        <tr>\n",
              "            <td>Control  </td> <td>1     </td>\n",
              "        </tr>\n",
              "        <tr>\n",
              "            <td>Control  </td> <td>1     </td>\n",
              "        </tr>\n",
              "        <tr>\n",
              "            <td>Control  </td> <td>0     </td>\n",
              "        </tr>\n",
              "        <tr>\n",
              "            <td>Control  </td> <td>0     </td>\n",
              "        </tr>\n",
              "        <tr>\n",
              "            <td>Control  </td> <td>0     </td>\n",
              "        </tr>\n",
              "        <tr>\n",
              "            <td>Control  </td> <td>0     </td>\n",
              "        </tr>\n",
              "        <tr>\n",
              "            <td>Control  </td> <td>0     </td>\n",
              "        </tr>\n",
              "        <tr>\n",
              "            <td>Control  </td> <td>0     </td>\n",
              "        </tr>\n",
              "        <tr>\n",
              "            <td>Control  </td> <td>0     </td>\n",
              "        </tr>\n",
              "        <tr>\n",
              "            <td>Control  </td> <td>0     </td>\n",
              "        </tr>\n",
              "        <tr>\n",
              "            <td>Control  </td> <td>0     </td>\n",
              "        </tr>\n",
              "        <tr>\n",
              "            <td>Control  </td> <td>0     </td>\n",
              "        </tr>\n",
              "        <tr>\n",
              "            <td>Control  </td> <td>0     </td>\n",
              "        </tr>\n",
              "        <tr>\n",
              "            <td>Control  </td> <td>0     </td>\n",
              "        </tr>\n",
              "        <tr>\n",
              "            <td>Control  </td> <td>0     </td>\n",
              "        </tr>\n",
              "        <tr>\n",
              "            <td>Control  </td> <td>0     </td>\n",
              "        </tr>\n",
              "        <tr>\n",
              "            <td>Treatment</td> <td>1     </td>\n",
              "        </tr>\n",
              "        <tr>\n",
              "            <td>Treatment</td> <td>1     </td>\n",
              "        </tr>\n",
              "        <tr>\n",
              "            <td>Treatment</td> <td>1     </td>\n",
              "        </tr>\n",
              "        <tr>\n",
              "            <td>Treatment</td> <td>1     </td>\n",
              "        </tr>\n",
              "        <tr>\n",
              "            <td>Treatment</td> <td>1     </td>\n",
              "        </tr>\n",
              "        <tr>\n",
              "            <td>Treatment</td> <td>1     </td>\n",
              "        </tr>\n",
              "        <tr>\n",
              "            <td>Treatment</td> <td>1     </td>\n",
              "        </tr>\n",
              "        <tr>\n",
              "            <td>Treatment</td> <td>1     </td>\n",
              "        </tr>\n",
              "        <tr>\n",
              "            <td>Treatment</td> <td>1     </td>\n",
              "        </tr>\n",
              "        <tr>\n",
              "            <td>Treatment</td> <td>0     </td>\n",
              "        </tr>\n",
              "        <tr>\n",
              "            <td>Treatment</td> <td>0     </td>\n",
              "        </tr>\n",
              "        <tr>\n",
              "            <td>Treatment</td> <td>0     </td>\n",
              "        </tr>\n",
              "        <tr>\n",
              "            <td>Treatment</td> <td>0     </td>\n",
              "        </tr>\n",
              "        <tr>\n",
              "            <td>Treatment</td> <td>0     </td>\n",
              "        </tr>\n",
              "        <tr>\n",
              "            <td>Treatment</td> <td>0     </td>\n",
              "        </tr>\n",
              "    </tbody>\n",
              "</table>"
            ]
          },
          "metadata": {}
        }
      ],
      "source": [
        "bta = Table.read_table(path_data + 'bta.csv')\n",
        "bta.show()"
      ]
    },
    {
      "cell_type": "markdown",
      "metadata": {
        "id": "ovJsmj3LnhdK"
      },
      "source": [
        "Let's see how many patients recovered in each group. Remember that counting is the same as adding zeros and ones. The sum of 1's in the control group is the number of control group patients who had pain relief. "
      ]
    },
    {
      "cell_type": "code",
      "execution_count": null,
      "metadata": {
        "id": "QjkPxdXjnhdL",
        "colab": {
          "base_uri": "https://localhost:8080/",
          "height": 112
        },
        "outputId": "d8adb9a5-2c6c-4cb9-8098-de36df3e4f3f"
      },
      "outputs": [
        {
          "output_type": "execute_result",
          "data": {
            "text/plain": [
              "Group     | Result sum\n",
              "Control   | 2\n",
              "Treatment | 9"
            ],
            "text/html": [
              "<table border=\"1\" class=\"dataframe\">\n",
              "    <thead>\n",
              "        <tr>\n",
              "            <th>Group</th> <th>Result sum</th>\n",
              "        </tr>\n",
              "    </thead>\n",
              "    <tbody>\n",
              "        <tr>\n",
              "            <td>Control  </td> <td>2         </td>\n",
              "        </tr>\n",
              "        <tr>\n",
              "            <td>Treatment</td> <td>9         </td>\n",
              "        </tr>\n",
              "    </tbody>\n",
              "</table>"
            ]
          },
          "metadata": {},
          "execution_count": 34
        }
      ],
      "source": [
        "bta.group('Group', sum)"
      ]
    },
    {
      "cell_type": "markdown",
      "metadata": {
        "id": "-B7LG3K_nhdL"
      },
      "source": [
        "Since counting is the same as the *sum* of zeros and ones, the *proportion* of patients who had pain relief is the *average* of zeros and ones. It is the sum divided by the total number of patients in each group."
      ]
    },
    {
      "cell_type": "code",
      "execution_count": null,
      "metadata": {
        "id": "b2GG1gX6nhdL",
        "colab": {
          "base_uri": "https://localhost:8080/",
          "height": 112
        },
        "outputId": "69262a69-6623-4a8a-997f-8701f3db39a8"
      },
      "outputs": [
        {
          "output_type": "execute_result",
          "data": {
            "text/plain": [
              "Group     | Result average\n",
              "Control   | 0.125\n",
              "Treatment | 0.6"
            ],
            "text/html": [
              "<table border=\"1\" class=\"dataframe\">\n",
              "    <thead>\n",
              "        <tr>\n",
              "            <th>Group</th> <th>Result average</th>\n",
              "        </tr>\n",
              "    </thead>\n",
              "    <tbody>\n",
              "        <tr>\n",
              "            <td>Control  </td> <td>0.125         </td>\n",
              "        </tr>\n",
              "        <tr>\n",
              "            <td>Treatment</td> <td>0.6           </td>\n",
              "        </tr>\n",
              "    </tbody>\n",
              "</table>"
            ]
          },
          "metadata": {},
          "execution_count": 35
        }
      ],
      "source": [
        "bta.group('Group', np.average)"
      ]
    },
    {
      "cell_type": "markdown",
      "metadata": {
        "id": "DzROtzBrnhdM"
      },
      "source": [
        "In the treatment group, 60% of the patients had pain relief, compared to only 12.5% in the control group. None of the patients suffered any side effects. \n",
        "\n",
        "So the indications are that botulinum toxin A did better than the saline. But the conclusion isn't yet a slam-dunk. The patients were assigned at random into the two groups, so perhaps the difference could just be due to chance?\n",
        "\n",
        "To understand what this means, we have to consider the possibility that among the 31 patients in the study, some were simply better able to recover than others, even without any help from the treatment. What if an unusually large proportion of such patients got assigned to the treatment group, just by chance? Then even if the treatment did nothing more than the saline in the control group, the results of the treatment group might look better than those of the control group. \n",
        "\n",
        "To account for this possibility, let's start by carefully setting up the chance model."
      ]
    },
    {
      "cell_type": "markdown",
      "metadata": {
        "id": "2SUX4ZjMnhdM"
      },
      "source": [
        "## Potential Outcomes\n",
        "Before the patients are randomized into the two groups, our minds instinctively imagine two possible outcomes for each patient: the outcome that the patient would have if assigned to the treatment group, and the outcome that the same patient would have if assigned to the control group. These are called the two *potential outcomes* of the patient.\n",
        "\n",
        "Thus there are 31 potential treatment outcomes and 31 potential control outcomes. The question is about the distributions of these two sets of 31 outcomes each. Are they the same, or are they different?\n",
        "\n",
        "We can't answer this just yet, because we don't get to see all 31 values in each group. We just get to see a randomly selected 16 of the potential control outcomes, and the treatment outcomes of *the remaining* 15 patients. \n",
        "\n",
        "Here is a good way to visualize the setting. Each patient has a two-sided ticket:\n",
        "\n",
        "![Two-sided ticket](../../../images/causality1.png)"
      ]
    },
    {
      "cell_type": "markdown",
      "metadata": {
        "id": "5EJhK6EmnhdN"
      },
      "source": [
        "After the randomization, we get to see the right half of a randomly selected set of tickets, and the left half of the remaining group.\n",
        "\n",
        "![Half-tickets](../../../images/causality2.png)\n",
        "\n",
        "The table `observed_outcomes` collects the information about every patient's potential outcomes, leaving the unobserved half of each \"ticket\" blank.  (It's just another way of thinking about the `bta` table, carrying the same information.)"
      ]
    },
    {
      "cell_type": "code",
      "execution_count": null,
      "metadata": {
        "id": "2t8hkSANnhdN",
        "colab": {
          "base_uri": "https://localhost:8080/",
          "height": 1000
        },
        "outputId": "a4f5d281-0a4d-4ad6-d6c4-ac4a32ad6a9a"
      },
      "outputs": [
        {
          "output_type": "display_data",
          "data": {
            "text/plain": [
              "<IPython.core.display.HTML object>"
            ],
            "text/html": [
              "<table border=\"1\" class=\"dataframe\">\n",
              "    <thead>\n",
              "        <tr>\n",
              "            <th>Group</th> <th>Outcome if assigned treatment</th> <th>Outcome if assigned control</th>\n",
              "        </tr>\n",
              "    </thead>\n",
              "    <tbody>\n",
              "        <tr>\n",
              "            <td>Control  </td> <td>Unknown                      </td> <td>1                          </td>\n",
              "        </tr>\n",
              "        <tr>\n",
              "            <td>Control  </td> <td>Unknown                      </td> <td>1                          </td>\n",
              "        </tr>\n",
              "        <tr>\n",
              "            <td>Control  </td> <td>Unknown                      </td> <td>0                          </td>\n",
              "        </tr>\n",
              "        <tr>\n",
              "            <td>Control  </td> <td>Unknown                      </td> <td>0                          </td>\n",
              "        </tr>\n",
              "        <tr>\n",
              "            <td>Control  </td> <td>Unknown                      </td> <td>0                          </td>\n",
              "        </tr>\n",
              "        <tr>\n",
              "            <td>Control  </td> <td>Unknown                      </td> <td>0                          </td>\n",
              "        </tr>\n",
              "        <tr>\n",
              "            <td>Control  </td> <td>Unknown                      </td> <td>0                          </td>\n",
              "        </tr>\n",
              "        <tr>\n",
              "            <td>Control  </td> <td>Unknown                      </td> <td>0                          </td>\n",
              "        </tr>\n",
              "        <tr>\n",
              "            <td>Control  </td> <td>Unknown                      </td> <td>0                          </td>\n",
              "        </tr>\n",
              "        <tr>\n",
              "            <td>Control  </td> <td>Unknown                      </td> <td>0                          </td>\n",
              "        </tr>\n",
              "        <tr>\n",
              "            <td>Control  </td> <td>Unknown                      </td> <td>0                          </td>\n",
              "        </tr>\n",
              "        <tr>\n",
              "            <td>Control  </td> <td>Unknown                      </td> <td>0                          </td>\n",
              "        </tr>\n",
              "        <tr>\n",
              "            <td>Control  </td> <td>Unknown                      </td> <td>0                          </td>\n",
              "        </tr>\n",
              "        <tr>\n",
              "            <td>Control  </td> <td>Unknown                      </td> <td>0                          </td>\n",
              "        </tr>\n",
              "        <tr>\n",
              "            <td>Control  </td> <td>Unknown                      </td> <td>0                          </td>\n",
              "        </tr>\n",
              "        <tr>\n",
              "            <td>Control  </td> <td>Unknown                      </td> <td>0                          </td>\n",
              "        </tr>\n",
              "        <tr>\n",
              "            <td>Treatment</td> <td>1                            </td> <td>Unknown                    </td>\n",
              "        </tr>\n",
              "        <tr>\n",
              "            <td>Treatment</td> <td>1                            </td> <td>Unknown                    </td>\n",
              "        </tr>\n",
              "        <tr>\n",
              "            <td>Treatment</td> <td>1                            </td> <td>Unknown                    </td>\n",
              "        </tr>\n",
              "        <tr>\n",
              "            <td>Treatment</td> <td>1                            </td> <td>Unknown                    </td>\n",
              "        </tr>\n",
              "        <tr>\n",
              "            <td>Treatment</td> <td>1                            </td> <td>Unknown                    </td>\n",
              "        </tr>\n",
              "        <tr>\n",
              "            <td>Treatment</td> <td>1                            </td> <td>Unknown                    </td>\n",
              "        </tr>\n",
              "        <tr>\n",
              "            <td>Treatment</td> <td>1                            </td> <td>Unknown                    </td>\n",
              "        </tr>\n",
              "        <tr>\n",
              "            <td>Treatment</td> <td>1                            </td> <td>Unknown                    </td>\n",
              "        </tr>\n",
              "        <tr>\n",
              "            <td>Treatment</td> <td>1                            </td> <td>Unknown                    </td>\n",
              "        </tr>\n",
              "        <tr>\n",
              "            <td>Treatment</td> <td>0                            </td> <td>Unknown                    </td>\n",
              "        </tr>\n",
              "        <tr>\n",
              "            <td>Treatment</td> <td>0                            </td> <td>Unknown                    </td>\n",
              "        </tr>\n",
              "        <tr>\n",
              "            <td>Treatment</td> <td>0                            </td> <td>Unknown                    </td>\n",
              "        </tr>\n",
              "        <tr>\n",
              "            <td>Treatment</td> <td>0                            </td> <td>Unknown                    </td>\n",
              "        </tr>\n",
              "        <tr>\n",
              "            <td>Treatment</td> <td>0                            </td> <td>Unknown                    </td>\n",
              "        </tr>\n",
              "        <tr>\n",
              "            <td>Treatment</td> <td>0                            </td> <td>Unknown                    </td>\n",
              "        </tr>\n",
              "    </tbody>\n",
              "</table>"
            ]
          },
          "metadata": {}
        }
      ],
      "source": [
        "observed_outcomes = Table.read_table(path_data + \"observed_outcomes.csv\")\n",
        "observed_outcomes.show()"
      ]
    },
    {
      "cell_type": "markdown",
      "metadata": {
        "id": "nEEUHRijnhdN"
      },
      "source": [
        "## The Hypotheses\n",
        "The question is whether the treatment does anything. In terms of the table `observed_outcomes`, the question is whether the distribution of the 31 \"treatment\" values in Column 1  (including the unknown ones) is different from the distribution of the 31 \"control\" values in Column 2 (again including the unknown ones).\n",
        "\n",
        "**Null Hypothesis:** The distribution of all 31 potential \"treatment\" outcomes is the same as that of all 31 potential \"control\" outcomes. Botulinum toxin A does nothing different from saline; the difference in the two samples is just due to chance.\n",
        "\n",
        "**Alternative Hypothesis:** The distribution of 31 potential \"treatment\" outcomes is different from that of the 31 control outcomes. The treatment does something different from the control.\n",
        "\n",
        "Notice that the alternative is not specifying that the treatment helps – just that it is different from the control. This is standard in medical studies because it doesn't pre-judge which way the result might go. But you are welcome to run a test for whether the treatment does better than the control. Just adjust your test statistic accordingly.\n",
        "\n",
        "There are 31 observed outcomes jointly in the two groups. If the null hypothesis were true, it wouldn't matter which of those 31 outcomes were labeled \"treatment\" and which \"control.\" Any random subset of 16 out of the 31 values could be called \"control\" and the remaining 15 \"treatment\".\n",
        "\n",
        "We can simulate this. We can randomly permute the 31 values, split them into two groups of 16 and 15, and see how different the distributions in the two groups are. Since the data are zeros and ones, we can just see how different the two proportions are. \n",
        "\n",
        "That's exactly what we did for A/B testing in the previous section. Sample A is now the control group and Sample B the treatment group. We will carry out the test below showing the details of all the steps. You should confirm that they are the same as the steps carried out for A/B testing.\n",
        "\n",
        "## The Test Statistic\n",
        "If the two group proportions are very different from each other, we will lean towards the alternative hypothesis that the two underlying distributions are different. So our test statistic will be the distance between the two group proportions, that is, the absolute value of the difference between them.\n",
        "\n",
        "Large values of the test statistic will favor the alternative hypothesis over the null.\n",
        "\n",
        "Since the two group proportions were 0.6 and 0.125, the observed value of the test statistic is $\\big{\\vert} 0.6 - 0.125 \\big{\\vert} = 0.475$. "
      ]
    },
    {
      "cell_type": "code",
      "source": [
        "bta"
      ],
      "metadata": {
        "colab": {
          "base_uri": "https://localhost:8080/",
          "height": 392
        },
        "id": "FnpiUT8i-1Lv",
        "outputId": "606ed787-5c84-4f3c-ac24-0520b18efc91"
      },
      "execution_count": null,
      "outputs": [
        {
          "output_type": "execute_result",
          "data": {
            "text/plain": [
              "Group   | Result\n",
              "Control | 1\n",
              "Control | 1\n",
              "Control | 0\n",
              "Control | 0\n",
              "Control | 0\n",
              "Control | 0\n",
              "Control | 0\n",
              "Control | 0\n",
              "Control | 0\n",
              "Control | 0\n",
              "... (21 rows omitted)"
            ],
            "text/html": [
              "<table border=\"1\" class=\"dataframe\">\n",
              "    <thead>\n",
              "        <tr>\n",
              "            <th>Group</th> <th>Result</th>\n",
              "        </tr>\n",
              "    </thead>\n",
              "    <tbody>\n",
              "        <tr>\n",
              "            <td>Control</td> <td>1     </td>\n",
              "        </tr>\n",
              "        <tr>\n",
              "            <td>Control</td> <td>1     </td>\n",
              "        </tr>\n",
              "        <tr>\n",
              "            <td>Control</td> <td>0     </td>\n",
              "        </tr>\n",
              "        <tr>\n",
              "            <td>Control</td> <td>0     </td>\n",
              "        </tr>\n",
              "        <tr>\n",
              "            <td>Control</td> <td>0     </td>\n",
              "        </tr>\n",
              "        <tr>\n",
              "            <td>Control</td> <td>0     </td>\n",
              "        </tr>\n",
              "        <tr>\n",
              "            <td>Control</td> <td>0     </td>\n",
              "        </tr>\n",
              "        <tr>\n",
              "            <td>Control</td> <td>0     </td>\n",
              "        </tr>\n",
              "        <tr>\n",
              "            <td>Control</td> <td>0     </td>\n",
              "        </tr>\n",
              "        <tr>\n",
              "            <td>Control</td> <td>0     </td>\n",
              "        </tr>\n",
              "    </tbody>\n",
              "</table>\n",
              "<p>... (21 rows omitted)</p>"
            ]
          },
          "metadata": {},
          "execution_count": 37
        }
      ]
    },
    {
      "cell_type": "code",
      "execution_count": null,
      "metadata": {
        "id": "ESYgRikwnhdO",
        "colab": {
          "base_uri": "https://localhost:8080/",
          "height": 112
        },
        "outputId": "fb609d0d-1623-42b6-8158-61a6ad65a1f4"
      },
      "outputs": [
        {
          "output_type": "execute_result",
          "data": {
            "text/plain": [
              "Group     | Result average\n",
              "Control   | 0.125\n",
              "Treatment | 0.6"
            ],
            "text/html": [
              "<table border=\"1\" class=\"dataframe\">\n",
              "    <thead>\n",
              "        <tr>\n",
              "            <th>Group</th> <th>Result average</th>\n",
              "        </tr>\n",
              "    </thead>\n",
              "    <tbody>\n",
              "        <tr>\n",
              "            <td>Control  </td> <td>0.125         </td>\n",
              "        </tr>\n",
              "        <tr>\n",
              "            <td>Treatment</td> <td>0.6           </td>\n",
              "        </tr>\n",
              "    </tbody>\n",
              "</table>"
            ]
          },
          "metadata": {},
          "execution_count": 38
        }
      ],
      "source": [
        "bta.group('Group', np.average)"
      ]
    },
    {
      "cell_type": "code",
      "execution_count": null,
      "metadata": {
        "id": "h6fD8GzonhdO",
        "colab": {
          "base_uri": "https://localhost:8080/"
        },
        "outputId": "dd1a4adf-dd14-480e-f319-3e490a4fed3c"
      },
      "outputs": [
        {
          "output_type": "execute_result",
          "data": {
            "text/plain": [
              "0.475"
            ]
          },
          "metadata": {},
          "execution_count": 39
        }
      ],
      "source": [
        "observed_proportions = bta.group('Group', np.average).column(1)\n",
        "observed_distance = abs(observed_proportions.item(0) - observed_proportions.item(1))\n",
        "observed_distance"
      ]
    },
    {
      "cell_type": "markdown",
      "metadata": {
        "id": "_ZLigWUjnhdO"
      },
      "source": [
        "As we have done before, we will define a function that takes the following two arguments:\n",
        "\n",
        "- the name of the table of data\n",
        "- the column label of the group labels\n",
        "\n",
        "and returns the distance between the two group proportions."
      ]
    },
    {
      "cell_type": "code",
      "execution_count": null,
      "metadata": {
        "id": "zPoeuxfonhdO"
      },
      "outputs": [],
      "source": [
        "def distance(table, group_label):\n",
        "    reduced = table.select('Result', group_label)\n",
        "    proportions = reduced.group(group_label, np.average).column(1)\n",
        "    return abs(proportions.item(1) - proportions.item(0))"
      ]
    },
    {
      "cell_type": "code",
      "execution_count": null,
      "metadata": {
        "id": "832D1z4XnhdO",
        "colab": {
          "base_uri": "https://localhost:8080/"
        },
        "outputId": "32f8181e-11c2-4d36-f4ab-642326036bd5"
      },
      "outputs": [
        {
          "output_type": "execute_result",
          "data": {
            "text/plain": [
              "0.475"
            ]
          },
          "metadata": {},
          "execution_count": 41
        }
      ],
      "source": [
        "distance(bta, 'Group')"
      ]
    },
    {
      "cell_type": "markdown",
      "metadata": {
        "id": "Fx2tyisinhdO"
      },
      "source": [
        "## Predicting the Statistic Under the Null Hypothesis\n",
        "We can simulate results under the null hypothesis, to see how our test statistic should come out if the null hypothesis is true.\n",
        "\n",
        "### Generating One Value of the Statistic\n",
        "The simulation follows exactly the same process we used in the previous section. We start by randomly permuting the all group labels and then attaching the shuffled labels to the 0/1 results."
      ]
    },
    {
      "cell_type": "code",
      "execution_count": null,
      "metadata": {
        "id": "N4os1ZEenhdO"
      },
      "outputs": [],
      "source": [
        "shuffled_labels = bta.sample(with_replacement=False).column(0)"
      ]
    },
    {
      "cell_type": "code",
      "execution_count": null,
      "metadata": {
        "id": "x0CAGRpVnhdP",
        "colab": {
          "base_uri": "https://localhost:8080/",
          "height": 1000
        },
        "outputId": "1d40593f-1d32-4481-a950-c2ba63eeba8e"
      },
      "outputs": [
        {
          "output_type": "display_data",
          "data": {
            "text/plain": [
              "<IPython.core.display.HTML object>"
            ],
            "text/html": [
              "<table border=\"1\" class=\"dataframe\">\n",
              "    <thead>\n",
              "        <tr>\n",
              "            <th>Group</th> <th>Result</th> <th>Shuffled Label</th>\n",
              "        </tr>\n",
              "    </thead>\n",
              "    <tbody>\n",
              "        <tr>\n",
              "            <td>Control  </td> <td>1     </td> <td>Treatment     </td>\n",
              "        </tr>\n",
              "        <tr>\n",
              "            <td>Control  </td> <td>1     </td> <td>Treatment     </td>\n",
              "        </tr>\n",
              "        <tr>\n",
              "            <td>Control  </td> <td>0     </td> <td>Treatment     </td>\n",
              "        </tr>\n",
              "        <tr>\n",
              "            <td>Control  </td> <td>0     </td> <td>Control       </td>\n",
              "        </tr>\n",
              "        <tr>\n",
              "            <td>Control  </td> <td>0     </td> <td>Treatment     </td>\n",
              "        </tr>\n",
              "        <tr>\n",
              "            <td>Control  </td> <td>0     </td> <td>Control       </td>\n",
              "        </tr>\n",
              "        <tr>\n",
              "            <td>Control  </td> <td>0     </td> <td>Control       </td>\n",
              "        </tr>\n",
              "        <tr>\n",
              "            <td>Control  </td> <td>0     </td> <td>Control       </td>\n",
              "        </tr>\n",
              "        <tr>\n",
              "            <td>Control  </td> <td>0     </td> <td>Control       </td>\n",
              "        </tr>\n",
              "        <tr>\n",
              "            <td>Control  </td> <td>0     </td> <td>Treatment     </td>\n",
              "        </tr>\n",
              "        <tr>\n",
              "            <td>Control  </td> <td>0     </td> <td>Control       </td>\n",
              "        </tr>\n",
              "        <tr>\n",
              "            <td>Control  </td> <td>0     </td> <td>Treatment     </td>\n",
              "        </tr>\n",
              "        <tr>\n",
              "            <td>Control  </td> <td>0     </td> <td>Treatment     </td>\n",
              "        </tr>\n",
              "        <tr>\n",
              "            <td>Control  </td> <td>0     </td> <td>Control       </td>\n",
              "        </tr>\n",
              "        <tr>\n",
              "            <td>Control  </td> <td>0     </td> <td>Control       </td>\n",
              "        </tr>\n",
              "        <tr>\n",
              "            <td>Control  </td> <td>0     </td> <td>Treatment     </td>\n",
              "        </tr>\n",
              "        <tr>\n",
              "            <td>Treatment</td> <td>1     </td> <td>Treatment     </td>\n",
              "        </tr>\n",
              "        <tr>\n",
              "            <td>Treatment</td> <td>1     </td> <td>Control       </td>\n",
              "        </tr>\n",
              "        <tr>\n",
              "            <td>Treatment</td> <td>1     </td> <td>Treatment     </td>\n",
              "        </tr>\n",
              "        <tr>\n",
              "            <td>Treatment</td> <td>1     </td> <td>Treatment     </td>\n",
              "        </tr>\n",
              "        <tr>\n",
              "            <td>Treatment</td> <td>1     </td> <td>Treatment     </td>\n",
              "        </tr>\n",
              "        <tr>\n",
              "            <td>Treatment</td> <td>1     </td> <td>Control       </td>\n",
              "        </tr>\n",
              "        <tr>\n",
              "            <td>Treatment</td> <td>1     </td> <td>Control       </td>\n",
              "        </tr>\n",
              "        <tr>\n",
              "            <td>Treatment</td> <td>1     </td> <td>Control       </td>\n",
              "        </tr>\n",
              "        <tr>\n",
              "            <td>Treatment</td> <td>1     </td> <td>Control       </td>\n",
              "        </tr>\n",
              "        <tr>\n",
              "            <td>Treatment</td> <td>0     </td> <td>Control       </td>\n",
              "        </tr>\n",
              "        <tr>\n",
              "            <td>Treatment</td> <td>0     </td> <td>Control       </td>\n",
              "        </tr>\n",
              "        <tr>\n",
              "            <td>Treatment</td> <td>0     </td> <td>Treatment     </td>\n",
              "        </tr>\n",
              "        <tr>\n",
              "            <td>Treatment</td> <td>0     </td> <td>Treatment     </td>\n",
              "        </tr>\n",
              "        <tr>\n",
              "            <td>Treatment</td> <td>0     </td> <td>Treatment     </td>\n",
              "        </tr>\n",
              "        <tr>\n",
              "            <td>Treatment</td> <td>0     </td> <td>Control       </td>\n",
              "        </tr>\n",
              "    </tbody>\n",
              "</table>"
            ]
          },
          "metadata": {}
        }
      ],
      "source": [
        "bta_with_shuffled_labels = bta.with_column('Shuffled Label', shuffled_labels)\n",
        "bta_with_shuffled_labels.show()"
      ]
    },
    {
      "cell_type": "markdown",
      "metadata": {
        "id": "MQafL_1qnhdP"
      },
      "source": [
        "We can now find the distance between the two proportions after the group labels have been shuffled."
      ]
    },
    {
      "cell_type": "code",
      "execution_count": null,
      "metadata": {
        "id": "QO1ctopnnhdP",
        "colab": {
          "base_uri": "https://localhost:8080/"
        },
        "outputId": "c5002189-faec-42ec-d704-2df39b746266"
      },
      "outputs": [
        {
          "output_type": "execute_result",
          "data": {
            "text/plain": [
              "0.08750000000000002"
            ]
          },
          "metadata": {},
          "execution_count": 44
        }
      ],
      "source": [
        "distance(bta_with_shuffled_labels, 'Shuffled Label')"
      ]
    },
    {
      "cell_type": "markdown",
      "metadata": {
        "id": "qWaNcakbnhdP"
      },
      "source": [
        "This is quite different from the distance between the two original proportions."
      ]
    },
    {
      "cell_type": "code",
      "execution_count": null,
      "metadata": {
        "id": "qXvoe52JnhdP",
        "colab": {
          "base_uri": "https://localhost:8080/"
        },
        "outputId": "fb7e3b77-70d6-4304-fd6d-8a62fc4bd893"
      },
      "outputs": [
        {
          "output_type": "execute_result",
          "data": {
            "text/plain": [
              "0.475"
            ]
          },
          "metadata": {},
          "execution_count": 45
        }
      ],
      "source": [
        "distance(bta_with_shuffled_labels, 'Group')"
      ]
    },
    {
      "cell_type": "markdown",
      "metadata": {
        "id": "CN_ed4k5nhdP"
      },
      "source": [
        "### Permutation Test\n",
        "If we shuffled the labels again, how different would the new distance be? To answer this, we will define a function that simulates one simulated value of the distance under the hypothesis of random draws from the same underlying distribution. And then we will collect 20,000 such simulated values in an array.\n",
        "\n",
        "You can see that we are doing exactly what we did in our previous examples of the permutation test. "
      ]
    },
    {
      "cell_type": "code",
      "source": [
        "bta"
      ],
      "metadata": {
        "colab": {
          "base_uri": "https://localhost:8080/",
          "height": 392
        },
        "id": "sUAzJ6P8BJjS",
        "outputId": "02d53e54-2e94-4263-de5c-d2401fceffde"
      },
      "execution_count": null,
      "outputs": [
        {
          "output_type": "execute_result",
          "data": {
            "text/plain": [
              "Group   | Result\n",
              "Control | 1\n",
              "Control | 1\n",
              "Control | 0\n",
              "Control | 0\n",
              "Control | 0\n",
              "Control | 0\n",
              "Control | 0\n",
              "Control | 0\n",
              "Control | 0\n",
              "Control | 0\n",
              "... (21 rows omitted)"
            ],
            "text/html": [
              "<table border=\"1\" class=\"dataframe\">\n",
              "    <thead>\n",
              "        <tr>\n",
              "            <th>Group</th> <th>Result</th>\n",
              "        </tr>\n",
              "    </thead>\n",
              "    <tbody>\n",
              "        <tr>\n",
              "            <td>Control</td> <td>1     </td>\n",
              "        </tr>\n",
              "        <tr>\n",
              "            <td>Control</td> <td>1     </td>\n",
              "        </tr>\n",
              "        <tr>\n",
              "            <td>Control</td> <td>0     </td>\n",
              "        </tr>\n",
              "        <tr>\n",
              "            <td>Control</td> <td>0     </td>\n",
              "        </tr>\n",
              "        <tr>\n",
              "            <td>Control</td> <td>0     </td>\n",
              "        </tr>\n",
              "        <tr>\n",
              "            <td>Control</td> <td>0     </td>\n",
              "        </tr>\n",
              "        <tr>\n",
              "            <td>Control</td> <td>0     </td>\n",
              "        </tr>\n",
              "        <tr>\n",
              "            <td>Control</td> <td>0     </td>\n",
              "        </tr>\n",
              "        <tr>\n",
              "            <td>Control</td> <td>0     </td>\n",
              "        </tr>\n",
              "        <tr>\n",
              "            <td>Control</td> <td>0     </td>\n",
              "        </tr>\n",
              "    </tbody>\n",
              "</table>\n",
              "<p>... (21 rows omitted)</p>"
            ]
          },
          "metadata": {},
          "execution_count": 50
        }
      ]
    },
    {
      "cell_type": "code",
      "execution_count": null,
      "metadata": {
        "id": "-fFikRj3nhdP"
      },
      "outputs": [],
      "source": [
        "def one_simulated_distance():\n",
        "    shuffled_labels = bta.sample(with_replacement = False\n",
        "                                                    ).column('Group')\n",
        "    shuffled_table = bta.select('Result').with_column(\n",
        "        'Shuffled Label', shuffled_labels)\n",
        "    return distance(shuffled_table, 'Shuffled Label') "
      ]
    },
    {
      "cell_type": "code",
      "execution_count": null,
      "metadata": {
        "id": "10DOg0UonhdP"
      },
      "outputs": [],
      "source": [
        "distances = make_array()\n",
        "\n",
        "repetitions = 20000\n",
        "for i in np.arange(repetitions):\n",
        "    new_distance = one_simulated_distance()\n",
        "    distances = np.append(distances, new_distance)"
      ]
    },
    {
      "cell_type": "markdown",
      "metadata": {
        "id": "cG-1NSFcnhdP"
      },
      "source": [
        "## Conclusion of the Test\n",
        "The array `distances` contains 20,000 values of our test statistic simulated under the null hypothesis. Here is their empirical histogram along with the observed value of the statistic. To find the P-value of the test, remember that large values of the distance favor the alternative hypothesis. "
      ]
    },
    {
      "cell_type": "code",
      "execution_count": null,
      "metadata": {
        "id": "qNSPFY2hnhdP",
        "colab": {
          "base_uri": "https://localhost:8080/",
          "height": 665
        },
        "outputId": "a059c899-6461-4375-811e-df1d61c93748"
      },
      "outputs": [
        {
          "output_type": "error",
          "ename": "AttributeError",
          "evalue": "ignored",
          "traceback": [
            "\u001b[0;31m---------------------------------------------------------------------------\u001b[0m",
            "\u001b[0;31mAttributeError\u001b[0m                            Traceback (most recent call last)",
            "\u001b[0;32m<ipython-input-48-42b97760970f>\u001b[0m in \u001b[0;36m<module>\u001b[0;34m()\u001b[0m\n\u001b[1;32m      1\u001b[0m Table().with_column('Distance', distances).hist(\n\u001b[0;32m----> 2\u001b[0;31m     bins = np.arange(0, 0.7, 0.1), left_end = observed_distance)\n\u001b[0m\u001b[1;32m      3\u001b[0m \u001b[0;31m# Plotting parameters; you can ignore the code below\u001b[0m\u001b[0;34m\u001b[0m\u001b[0;34m\u001b[0m\u001b[0;34m\u001b[0m\u001b[0m\n\u001b[1;32m      4\u001b[0m \u001b[0mplots\u001b[0m\u001b[0;34m.\u001b[0m\u001b[0mylim\u001b[0m\u001b[0;34m(\u001b[0m\u001b[0;34m-\u001b[0m\u001b[0;36m0.1\u001b[0m\u001b[0;34m,\u001b[0m \u001b[0;36m5.5\u001b[0m\u001b[0;34m)\u001b[0m\u001b[0;34m\u001b[0m\u001b[0;34m\u001b[0m\u001b[0m\n\u001b[1;32m      5\u001b[0m \u001b[0mplots\u001b[0m\u001b[0;34m.\u001b[0m\u001b[0mscatter\u001b[0m\u001b[0;34m(\u001b[0m\u001b[0mobserved_distance\u001b[0m\u001b[0;34m,\u001b[0m \u001b[0;36m0\u001b[0m\u001b[0;34m,\u001b[0m \u001b[0mcolor\u001b[0m\u001b[0;34m=\u001b[0m\u001b[0;34m'red'\u001b[0m\u001b[0;34m,\u001b[0m \u001b[0ms\u001b[0m\u001b[0;34m=\u001b[0m\u001b[0;36m40\u001b[0m\u001b[0;34m,\u001b[0m \u001b[0mzorder\u001b[0m\u001b[0;34m=\u001b[0m\u001b[0;36m3\u001b[0m\u001b[0;34m)\u001b[0m\u001b[0;34m\u001b[0m\u001b[0;34m\u001b[0m\u001b[0m\n",
            "\u001b[0;32m/usr/local/lib/python3.7/dist-packages/datascience/tables.py\u001b[0m in \u001b[0;36mhist\u001b[0;34m(self, overlay, bins, bin_column, unit, counts, group, side_by_side, width, height, *columns, **vargs)\u001b[0m\n\u001b[1;32m   2568\u001b[0m                     \u001b[0mtype\u001b[0m\u001b[0;34m(\u001b[0m\u001b[0mself\u001b[0m\u001b[0;34m)\u001b[0m\u001b[0;34m.\u001b[0m\u001b[0mplots\u001b[0m\u001b[0;34m.\u001b[0m\u001b[0mappend\u001b[0m\u001b[0;34m(\u001b[0m\u001b[0maxis\u001b[0m\u001b[0;34m)\u001b[0m\u001b[0;34m\u001b[0m\u001b[0;34m\u001b[0m\u001b[0m\n\u001b[1;32m   2569\u001b[0m \u001b[0;34m\u001b[0m\u001b[0m\n\u001b[0;32m-> 2570\u001b[0;31m         \u001b[0mdraw_hist\u001b[0m\u001b[0;34m(\u001b[0m\u001b[0mvalues_dict\u001b[0m\u001b[0;34m)\u001b[0m\u001b[0;34m\u001b[0m\u001b[0;34m\u001b[0m\u001b[0m\n\u001b[0m\u001b[1;32m   2571\u001b[0m \u001b[0;34m\u001b[0m\u001b[0m\n\u001b[1;32m   2572\u001b[0m     \u001b[0;32mdef\u001b[0m \u001b[0mboxplot\u001b[0m\u001b[0;34m(\u001b[0m\u001b[0mself\u001b[0m\u001b[0;34m,\u001b[0m \u001b[0;34m**\u001b[0m\u001b[0mvargs\u001b[0m\u001b[0;34m)\u001b[0m\u001b[0;34m:\u001b[0m\u001b[0;34m\u001b[0m\u001b[0;34m\u001b[0m\u001b[0m\n",
            "\u001b[0;32m/usr/local/lib/python3.7/dist-packages/datascience/tables.py\u001b[0m in \u001b[0;36mdraw_hist\u001b[0;34m(values_dict)\u001b[0m\n\u001b[1;32m   2564\u001b[0m                         \u001b[0mvargs\u001b[0m\u001b[0;34m[\u001b[0m\u001b[0;34m'weights'\u001b[0m\u001b[0;34m]\u001b[0m \u001b[0;34m=\u001b[0m \u001b[0mweights\u001b[0m\u001b[0;34m[\u001b[0m\u001b[0mi\u001b[0m\u001b[0;34m]\u001b[0m\u001b[0;34m\u001b[0m\u001b[0;34m\u001b[0m\u001b[0m\n\u001b[1;32m   2565\u001b[0m                     \u001b[0maxis\u001b[0m\u001b[0;34m.\u001b[0m\u001b[0mset_xlabel\u001b[0m\u001b[0;34m(\u001b[0m\u001b[0mhist_name\u001b[0m \u001b[0;34m+\u001b[0m \u001b[0mx_unit\u001b[0m\u001b[0;34m,\u001b[0m \u001b[0mfontsize\u001b[0m\u001b[0;34m=\u001b[0m\u001b[0;36m16\u001b[0m\u001b[0;34m)\u001b[0m\u001b[0;34m\u001b[0m\u001b[0;34m\u001b[0m\u001b[0m\n\u001b[0;32m-> 2566\u001b[0;31m                     \u001b[0maxis\u001b[0m\u001b[0;34m.\u001b[0m\u001b[0mhist\u001b[0m\u001b[0;34m(\u001b[0m\u001b[0mvalues_for_hist\u001b[0m\u001b[0;34m,\u001b[0m \u001b[0mcolor\u001b[0m\u001b[0;34m=\u001b[0m\u001b[0mcolor\u001b[0m\u001b[0;34m,\u001b[0m \u001b[0;34m**\u001b[0m\u001b[0mvargs\u001b[0m\u001b[0;34m)\u001b[0m\u001b[0;34m\u001b[0m\u001b[0;34m\u001b[0m\u001b[0m\n\u001b[0m\u001b[1;32m   2567\u001b[0m                     \u001b[0m_vertical_x\u001b[0m\u001b[0;34m(\u001b[0m\u001b[0maxis\u001b[0m\u001b[0;34m)\u001b[0m\u001b[0;34m\u001b[0m\u001b[0;34m\u001b[0m\u001b[0m\n\u001b[1;32m   2568\u001b[0m                     \u001b[0mtype\u001b[0m\u001b[0;34m(\u001b[0m\u001b[0mself\u001b[0m\u001b[0;34m)\u001b[0m\u001b[0;34m.\u001b[0m\u001b[0mplots\u001b[0m\u001b[0;34m.\u001b[0m\u001b[0mappend\u001b[0m\u001b[0;34m(\u001b[0m\u001b[0maxis\u001b[0m\u001b[0;34m)\u001b[0m\u001b[0;34m\u001b[0m\u001b[0;34m\u001b[0m\u001b[0m\n",
            "\u001b[0;32m/usr/local/lib/python3.7/dist-packages/matplotlib/__init__.py\u001b[0m in \u001b[0;36minner\u001b[0;34m(ax, data, *args, **kwargs)\u001b[0m\n\u001b[1;32m   1563\u001b[0m     \u001b[0;32mdef\u001b[0m \u001b[0minner\u001b[0m\u001b[0;34m(\u001b[0m\u001b[0max\u001b[0m\u001b[0;34m,\u001b[0m \u001b[0;34m*\u001b[0m\u001b[0margs\u001b[0m\u001b[0;34m,\u001b[0m \u001b[0mdata\u001b[0m\u001b[0;34m=\u001b[0m\u001b[0;32mNone\u001b[0m\u001b[0;34m,\u001b[0m \u001b[0;34m**\u001b[0m\u001b[0mkwargs\u001b[0m\u001b[0;34m)\u001b[0m\u001b[0;34m:\u001b[0m\u001b[0;34m\u001b[0m\u001b[0;34m\u001b[0m\u001b[0m\n\u001b[1;32m   1564\u001b[0m         \u001b[0;32mif\u001b[0m \u001b[0mdata\u001b[0m \u001b[0;32mis\u001b[0m \u001b[0;32mNone\u001b[0m\u001b[0;34m:\u001b[0m\u001b[0;34m\u001b[0m\u001b[0;34m\u001b[0m\u001b[0m\n\u001b[0;32m-> 1565\u001b[0;31m             \u001b[0;32mreturn\u001b[0m \u001b[0mfunc\u001b[0m\u001b[0;34m(\u001b[0m\u001b[0max\u001b[0m\u001b[0;34m,\u001b[0m \u001b[0;34m*\u001b[0m\u001b[0mmap\u001b[0m\u001b[0;34m(\u001b[0m\u001b[0msanitize_sequence\u001b[0m\u001b[0;34m,\u001b[0m \u001b[0margs\u001b[0m\u001b[0;34m)\u001b[0m\u001b[0;34m,\u001b[0m \u001b[0;34m**\u001b[0m\u001b[0mkwargs\u001b[0m\u001b[0;34m)\u001b[0m\u001b[0;34m\u001b[0m\u001b[0;34m\u001b[0m\u001b[0m\n\u001b[0m\u001b[1;32m   1566\u001b[0m \u001b[0;34m\u001b[0m\u001b[0m\n\u001b[1;32m   1567\u001b[0m         \u001b[0mbound\u001b[0m \u001b[0;34m=\u001b[0m \u001b[0mnew_sig\u001b[0m\u001b[0;34m.\u001b[0m\u001b[0mbind\u001b[0m\u001b[0;34m(\u001b[0m\u001b[0max\u001b[0m\u001b[0;34m,\u001b[0m \u001b[0;34m*\u001b[0m\u001b[0margs\u001b[0m\u001b[0;34m,\u001b[0m \u001b[0;34m**\u001b[0m\u001b[0mkwargs\u001b[0m\u001b[0;34m)\u001b[0m\u001b[0;34m\u001b[0m\u001b[0;34m\u001b[0m\u001b[0m\n",
            "\u001b[0;32m/usr/local/lib/python3.7/dist-packages/matplotlib/axes/_axes.py\u001b[0m in \u001b[0;36mhist\u001b[0;34m(self, x, bins, range, density, weights, cumulative, bottom, histtype, align, orientation, rwidth, log, color, label, stacked, **kwargs)\u001b[0m\n\u001b[1;32m   6817\u001b[0m             \u001b[0;32mif\u001b[0m \u001b[0mpatch\u001b[0m\u001b[0;34m:\u001b[0m\u001b[0;34m\u001b[0m\u001b[0;34m\u001b[0m\u001b[0m\n\u001b[1;32m   6818\u001b[0m                 \u001b[0mp\u001b[0m \u001b[0;34m=\u001b[0m \u001b[0mpatch\u001b[0m\u001b[0;34m[\u001b[0m\u001b[0;36m0\u001b[0m\u001b[0;34m]\u001b[0m\u001b[0;34m\u001b[0m\u001b[0;34m\u001b[0m\u001b[0m\n\u001b[0;32m-> 6819\u001b[0;31m                 \u001b[0mp\u001b[0m\u001b[0;34m.\u001b[0m\u001b[0mupdate\u001b[0m\u001b[0;34m(\u001b[0m\u001b[0mkwargs\u001b[0m\u001b[0;34m)\u001b[0m\u001b[0;34m\u001b[0m\u001b[0;34m\u001b[0m\u001b[0m\n\u001b[0m\u001b[1;32m   6820\u001b[0m                 \u001b[0;32mif\u001b[0m \u001b[0mlbl\u001b[0m \u001b[0;32mis\u001b[0m \u001b[0;32mnot\u001b[0m \u001b[0;32mNone\u001b[0m\u001b[0;34m:\u001b[0m\u001b[0;34m\u001b[0m\u001b[0;34m\u001b[0m\u001b[0m\n\u001b[1;32m   6821\u001b[0m                     \u001b[0mp\u001b[0m\u001b[0;34m.\u001b[0m\u001b[0mset_label\u001b[0m\u001b[0;34m(\u001b[0m\u001b[0mlbl\u001b[0m\u001b[0;34m)\u001b[0m\u001b[0;34m\u001b[0m\u001b[0;34m\u001b[0m\u001b[0m\n",
            "\u001b[0;32m/usr/local/lib/python3.7/dist-packages/matplotlib/artist.py\u001b[0m in \u001b[0;36mupdate\u001b[0;34m(self, props)\u001b[0m\n\u001b[1;32m   1004\u001b[0m \u001b[0;34m\u001b[0m\u001b[0m\n\u001b[1;32m   1005\u001b[0m         \u001b[0;32mwith\u001b[0m \u001b[0mcbook\u001b[0m\u001b[0;34m.\u001b[0m\u001b[0m_setattr_cm\u001b[0m\u001b[0;34m(\u001b[0m\u001b[0mself\u001b[0m\u001b[0;34m,\u001b[0m \u001b[0meventson\u001b[0m\u001b[0;34m=\u001b[0m\u001b[0;32mFalse\u001b[0m\u001b[0;34m)\u001b[0m\u001b[0;34m:\u001b[0m\u001b[0;34m\u001b[0m\u001b[0;34m\u001b[0m\u001b[0m\n\u001b[0;32m-> 1006\u001b[0;31m             \u001b[0mret\u001b[0m \u001b[0;34m=\u001b[0m \u001b[0;34m[\u001b[0m\u001b[0m_update_property\u001b[0m\u001b[0;34m(\u001b[0m\u001b[0mself\u001b[0m\u001b[0;34m,\u001b[0m \u001b[0mk\u001b[0m\u001b[0;34m,\u001b[0m \u001b[0mv\u001b[0m\u001b[0;34m)\u001b[0m \u001b[0;32mfor\u001b[0m \u001b[0mk\u001b[0m\u001b[0;34m,\u001b[0m \u001b[0mv\u001b[0m \u001b[0;32min\u001b[0m \u001b[0mprops\u001b[0m\u001b[0;34m.\u001b[0m\u001b[0mitems\u001b[0m\u001b[0;34m(\u001b[0m\u001b[0;34m)\u001b[0m\u001b[0;34m]\u001b[0m\u001b[0;34m\u001b[0m\u001b[0;34m\u001b[0m\u001b[0m\n\u001b[0m\u001b[1;32m   1007\u001b[0m \u001b[0;34m\u001b[0m\u001b[0m\n\u001b[1;32m   1008\u001b[0m         \u001b[0;32mif\u001b[0m \u001b[0mlen\u001b[0m\u001b[0;34m(\u001b[0m\u001b[0mret\u001b[0m\u001b[0;34m)\u001b[0m\u001b[0;34m:\u001b[0m\u001b[0;34m\u001b[0m\u001b[0;34m\u001b[0m\u001b[0m\n",
            "\u001b[0;32m/usr/local/lib/python3.7/dist-packages/matplotlib/artist.py\u001b[0m in \u001b[0;36m<listcomp>\u001b[0;34m(.0)\u001b[0m\n\u001b[1;32m   1004\u001b[0m \u001b[0;34m\u001b[0m\u001b[0m\n\u001b[1;32m   1005\u001b[0m         \u001b[0;32mwith\u001b[0m \u001b[0mcbook\u001b[0m\u001b[0;34m.\u001b[0m\u001b[0m_setattr_cm\u001b[0m\u001b[0;34m(\u001b[0m\u001b[0mself\u001b[0m\u001b[0;34m,\u001b[0m \u001b[0meventson\u001b[0m\u001b[0;34m=\u001b[0m\u001b[0;32mFalse\u001b[0m\u001b[0;34m)\u001b[0m\u001b[0;34m:\u001b[0m\u001b[0;34m\u001b[0m\u001b[0;34m\u001b[0m\u001b[0m\n\u001b[0;32m-> 1006\u001b[0;31m             \u001b[0mret\u001b[0m \u001b[0;34m=\u001b[0m \u001b[0;34m[\u001b[0m\u001b[0m_update_property\u001b[0m\u001b[0;34m(\u001b[0m\u001b[0mself\u001b[0m\u001b[0;34m,\u001b[0m \u001b[0mk\u001b[0m\u001b[0;34m,\u001b[0m \u001b[0mv\u001b[0m\u001b[0;34m)\u001b[0m \u001b[0;32mfor\u001b[0m \u001b[0mk\u001b[0m\u001b[0;34m,\u001b[0m \u001b[0mv\u001b[0m \u001b[0;32min\u001b[0m \u001b[0mprops\u001b[0m\u001b[0;34m.\u001b[0m\u001b[0mitems\u001b[0m\u001b[0;34m(\u001b[0m\u001b[0;34m)\u001b[0m\u001b[0;34m]\u001b[0m\u001b[0;34m\u001b[0m\u001b[0;34m\u001b[0m\u001b[0m\n\u001b[0m\u001b[1;32m   1007\u001b[0m \u001b[0;34m\u001b[0m\u001b[0m\n\u001b[1;32m   1008\u001b[0m         \u001b[0;32mif\u001b[0m \u001b[0mlen\u001b[0m\u001b[0;34m(\u001b[0m\u001b[0mret\u001b[0m\u001b[0;34m)\u001b[0m\u001b[0;34m:\u001b[0m\u001b[0;34m\u001b[0m\u001b[0;34m\u001b[0m\u001b[0m\n",
            "\u001b[0;32m/usr/local/lib/python3.7/dist-packages/matplotlib/artist.py\u001b[0m in \u001b[0;36m_update_property\u001b[0;34m(self, k, v)\u001b[0m\n\u001b[1;32m   1000\u001b[0m                 \u001b[0;32mif\u001b[0m \u001b[0;32mnot\u001b[0m \u001b[0mcallable\u001b[0m\u001b[0;34m(\u001b[0m\u001b[0mfunc\u001b[0m\u001b[0;34m)\u001b[0m\u001b[0;34m:\u001b[0m\u001b[0;34m\u001b[0m\u001b[0;34m\u001b[0m\u001b[0m\n\u001b[1;32m   1001\u001b[0m                     raise AttributeError('{!r} object has no property {!r}'\n\u001b[0;32m-> 1002\u001b[0;31m                                          .format(type(self).__name__, k))\n\u001b[0m\u001b[1;32m   1003\u001b[0m                 \u001b[0;32mreturn\u001b[0m \u001b[0mfunc\u001b[0m\u001b[0;34m(\u001b[0m\u001b[0mv\u001b[0m\u001b[0;34m)\u001b[0m\u001b[0;34m\u001b[0m\u001b[0;34m\u001b[0m\u001b[0m\n\u001b[1;32m   1004\u001b[0m \u001b[0;34m\u001b[0m\u001b[0m\n",
            "\u001b[0;31mAttributeError\u001b[0m: 'Rectangle' object has no property 'left_end'"
          ]
        },
        {
          "output_type": "display_data",
          "data": {
            "text/plain": [
              "<Figure size 432x288 with 1 Axes>"
            ],
            "image/png": "[encoded data removed]"
          },
          "metadata": {}
        }
      ],
      "source": [
        "Table().with_column('Distance', distances).hist(\n",
        "    bins = np.arange(0, 0.7, 0.1), left_end = observed_distance)\n",
        "# Plotting parameters; you can ignore the code below\n",
        "plots.ylim(-0.1, 5.5)\n",
        "plots.scatter(observed_distance, 0, color='red', s=40, zorder=3)\n",
        "plots.title('Prediction Under the Null Hypothesis')\n",
        "print('Observed Distance', observed_distance)"
      ]
    },
    {
      "cell_type": "markdown",
      "metadata": {
        "id": "iupi__vHnhdQ"
      },
      "source": [
        "To find the empirical p-value numerically, we must find the proportion of simulated statistics that were equal to or larger than the observed statistic."
      ]
    },
    {
      "cell_type": "code",
      "execution_count": null,
      "metadata": {
        "id": "11RNpYi9nhdQ",
        "colab": {
          "base_uri": "https://localhost:8080/"
        },
        "outputId": "4cf8906a-9c5d-4ba9-e98f-a08ccbb42b4e"
      },
      "outputs": [
        {
          "output_type": "execute_result",
          "data": {
            "text/plain": [
              "0.0096"
            ]
          },
          "metadata": {},
          "execution_count": 49
        }
      ],
      "source": [
        "empirical_p = np.count_nonzero(distances >= observed_distance) / repetitions\n",
        "empirical_p"
      ]
    },
    {
      "cell_type": "markdown",
      "metadata": {
        "id": "yfYT5j1AnhdQ"
      },
      "source": [
        "This is a small p-value. The observed statistic is in the tail of the empirical histogram of the test statistic generated under the null hypothesis.\n",
        "\n",
        "The result is statistically significant. The test favors the alternative hypothesis over the null. The evidence supports the hypothesis that the treatment is doing something.\n",
        "\n",
        "The study reports a P-value of 0.009, or 0.9%, which is not far from our empirical value. "
      ]
    },
    {
      "cell_type": "markdown",
      "metadata": {
        "id": "KnmLxYdunhdQ"
      },
      "source": [
        "## Causality\n",
        "Because the trials were randomized, the test is evidence that the treatment *causes* the difference. The random assignment of patients to the two groups ensures that there is no confounding variable that could affect the conclusion of causality.\n",
        "\n",
        "If the treatment had not been randomly assigned, our test would still point toward an *association* between the treatment and back pain outcomes among our 31 patients.  But beware: without randomization, this association would not imply that the treatment caused a change in back pain outcomes.  For example, if the patients themselves had chosen whether to administer the treatment, perhaps the patients experiencing more pain would be more likely to choose the treatment *and* more likely to experience some reduction in pain even without medication.  Pre-existing pain would then be a *confounding factor* in the analysis."
      ]
    },
    {
      "cell_type": "markdown",
      "metadata": {
        "id": "fazw5RqFnhdQ"
      },
      "source": [
        "## A Meta-Analysis\n",
        "\n",
        "While the RCT does provide evidence that the botulinum toxin A treatment helped patients, a study of 31 patients isn't enough to establish the effectiveness of a medical treatment. This is not just because of the small sample size.  Our results in this section are valid for the 31 patients in the study, but we are really interested in the population of *all possible patients*.\n",
        "\n",
        "In 2011, a group of researchers performed a [meta-analysis](https://www.ncbi.nlm.nih.gov/pubmed/21249702) of the studies on the treatment. That is, they identified all the available studies of such treatments for low-back pain and summarized the collated results. \n",
        "\n",
        "There were several studies but not many could be included in a scientifically sound manner: \"We excluded evidence from nineteen studies due to non-randomisation, incomplete or unpublished data.\" Only three randomized controlled trials remained, one of which is the one we have studied in this section. The meta-analysis gave it the highest assessment among all the studies (LBP stands for low-back pain): \"We identified three studies that investigated the merits of BoNT for LBP, but only one had a low risk of bias and evaluated patients with non-specific LBP (N = 31).\" \n",
        "\n",
        "Putting it all together, the meta-analysis concluded, \"There is low quality evidence that BoNT injections improved pain, function, or both better than saline injections and very low quality evidence that they were better than acupuncture or steroid injections. ...  Further research is very likely to have an important impact on the estimate of effect and our confidence in it. Future trials should standardize patient populations, treatment protocols and comparison groups, enlist more participants and include long-term outcomes, cost-benefit analysis and clinical relevance of findings.\"\n",
        "\n",
        "It takes a lot of careful work to establish that a medical treatment has a beneficial effect. Knowing how to analyze randomized controlled trials is a crucial part of this work. Now that you know how to do that, you are well positioned to help medical and other professions establish cause-and-effect relations."
      ]
    },
    {
      "cell_type": "code",
      "execution_count": null,
      "metadata": {
        "id": "41ArxwuBnhdQ"
      },
      "outputs": [],
      "source": []
    },
    {
      "cell_type": "markdown",
      "metadata": {
        "id": "7owJdCMvCYZs"
      },
      "source": [
        "#12.3. Deflategate\n",
        "On January 18, 2015, the Indianapolis Colts and the New England Patriots played the American Football Conference (AFC) championship game to determine which of those teams would play in the Super Bowl. After the game, there were allegations that the Patriots' footballs had not been inflated as much as the regulations required; they were softer. This could be an advantage, as softer balls might be easier to catch.\n",
        "\n",
        "For several weeks, the world of American football was consumed by accusations, denials, theories, and suspicions: the press labeled the topic Deflategate, after the Watergate political scandal of the 1970's. The National Football League (NFL) commissioned an independent analysis. In this example, we will perform our own analysis of the data.\n",
        "\n",
        "Pressure is often measured in pounds per square inch (psi). NFL rules stipulate that game balls must be inflated to have pressures in the range 12.5 psi and 13.5 psi. Each team plays with 12 balls. Teams have the responsibility of maintaining the pressure in their own footballs, but game officials inspect the balls. Before the start of the AFC game, all the Patriots' balls were at about 12.5 psi. Most of the Colts' balls were at about 13.0 psi. However, these pre-game data were not recorded.\n",
        "\n",
        "During the second quarter, the Colts intercepted a Patriots ball. On the sidelines, they measured the pressure of the ball and determined that it was below the 12.5 psi threshold. Promptly, they informed officials. \n",
        "\n",
        "At half-time, all the game balls were collected for inspection. Two officials, Clete Blakeman and Dyrol Prioleau, measured the pressure in each of the balls. \n",
        "\n",
        "Here are the data. Each row corresponds to one football. Pressure is measured in psi. The Patriots ball that had been intercepted by the Colts was not inspected at half-time. Nor were most of the Colts' balls – the officials simply ran out of time and had to relinquish the balls for the start of second half play."
      ]
    },
    {
      "cell_type": "code",
      "execution_count": null,
      "metadata": {
        "id": "Yc8EsbVECYZt"
      },
      "outputs": [],
      "source": [
        "football = Table.read_table(path_data + 'deflategate.csv')\n",
        "football.show()"
      ]
    },
    {
      "cell_type": "markdown",
      "metadata": {
        "id": "m-AjTl8NCYZu"
      },
      "source": [
        "For each of the 15 balls that were inspected, the two officials got different results. It is not uncommon that repeated measurements on the same object yield different results, especially when the measurements are performed by different people. So we will assign to each the ball the average of the two measurements made on that ball."
      ]
    },
    {
      "cell_type": "code",
      "execution_count": null,
      "metadata": {
        "id": "wURBU_zbCYZu"
      },
      "outputs": [],
      "source": [
        "football = football.with_column(\n",
        "    'Combined', (football.column(1)+football.column(2))/2\n",
        "    ).drop(1, 2)\n",
        "football.show()"
      ]
    },
    {
      "cell_type": "markdown",
      "metadata": {
        "id": "x1kVCdPGCYZu"
      },
      "source": [
        "At a glance, it seems apparent that the Patriots' footballs were at a lower pressure than the Colts' balls. Because some deflation is normal during the course of a game, the independent analysts decided to calculate the drop in pressure from the start of the game. Recall that the Patriots' balls had all started out at about 12.5 psi, and the Colts' balls at about 13.0 psi. Therefore the drop in pressure for the Patriots' balls was computed as 12.5 minus the pressure at half-time, and the drop in pressure for the Colts' balls was 13.0 minus the pressure at half-time.\n",
        "\n",
        "We can calculate the drop in pressure for each football, by first setting up an array of the starting values. For this we will need an array consisting of 11 values each of which is 12.5, and another consisting of four values each of which is all 13. We will use the NumPy function `np.ones`, which takes a count as its argument and returns an array of that many elements, each of which is 1."
      ]
    },
    {
      "cell_type": "code",
      "execution_count": null,
      "metadata": {
        "id": "xBub9sPeCYZv"
      },
      "outputs": [],
      "source": [
        "np.ones(11)"
      ]
    },
    {
      "cell_type": "code",
      "execution_count": null,
      "metadata": {
        "id": "rQxQiMcFCYZv"
      },
      "outputs": [],
      "source": [
        "patriots_start = 12.5 * np.ones(11)\n",
        "colts_start = 13 * np.ones(4)\n",
        "start = np.append(patriots_start, colts_start)\n",
        "start"
      ]
    },
    {
      "cell_type": "markdown",
      "metadata": {
        "id": "fwa1M0gYCYZw"
      },
      "source": [
        "The drop in pressure for each football is the difference between the starting pressure and the combined pressure measurement."
      ]
    },
    {
      "cell_type": "code",
      "execution_count": null,
      "metadata": {
        "id": "LrizCoN-CYZw"
      },
      "outputs": [],
      "source": [
        "drop = start - football.column('Combined')\n",
        "football = football.with_column('Pressure Drop', drop)\n",
        "football.show()"
      ]
    },
    {
      "cell_type": "markdown",
      "metadata": {
        "id": "AhkL-Jq2CYZw"
      },
      "source": [
        "It looks as though the Patriots' drops were larger than the Colts'. Let's look at the average drop in each of the two groups. We no longer need the combined scores."
      ]
    },
    {
      "cell_type": "code",
      "execution_count": null,
      "metadata": {
        "id": "wCRZyrQeCYZx"
      },
      "outputs": [],
      "source": [
        "football = football.drop('Combined')\n",
        "football.group('Team', np.average)"
      ]
    },
    {
      "cell_type": "markdown",
      "metadata": {
        "id": "Arbr5mJdCYZx"
      },
      "source": [
        "The average drop for the Patriots was about 1.2 psi compared to about 0.47 psi for the Colts. \n",
        "\n",
        "The question now is why the Patriots' footballs had a larger drop in pressure, on average, than the Colts footballs. Could it be due to chance?\n",
        "\n",
        "###12.2.1. The Hypotheses\n",
        "How does chance come in here? Nothing was being selected at random. But we can make a chance model by hypothesizing that the 11 Patriots' drops look like a random sample of 11 out of all the 15 drops, with the Colts' drops being the remaining four. That's a completely specified chance model under which we can simulate data. So it's the **null hypothesis**.\n",
        "\n",
        "For the alternative, we can take the position that the Patriots' drops are too large, on average, to resemble a random sample drawn from all the drops. \n",
        "\n",
        "### Test Statistic\n",
        "A natural statistic is the difference between the two average drops, which we will compute as \"average drop for Patriots - average drop for Colts\". Large values of this statistic will favor the alternative hypothesis."
      ]
    },
    {
      "cell_type": "code",
      "execution_count": null,
      "metadata": {
        "id": "RnYNv4nyCYZx"
      },
      "outputs": [],
      "source": [
        "observed_means = football.group('Team', np.average).column(1)\n",
        "\n",
        "observed_difference = observed_means.item(1) - observed_means.item(0)\n",
        "observed_difference"
      ]
    },
    {
      "cell_type": "markdown",
      "metadata": {
        "id": "ZwHetBRoCYZx"
      },
      "source": [
        "This positive difference reflects the fact that the average drop in pressure of the Patriots' footballs was greater than that of the Colts."
      ]
    },
    {
      "cell_type": "markdown",
      "metadata": {
        "id": "rQRS66OgCYZx"
      },
      "source": [
        "Just as we did in the previous section, we will write a function to calculate the difference between the mean drops in the two groups. The function `difference_of_means` takes two arguments:\n",
        "\n",
        "- the name of the table of data\n",
        "- the label of the column containing the two group labels\n",
        "\n",
        "It returns the difference between the mean drops of the two groups. We will calculate the difference as the Patriots' drops minus the Colts' drops as before."
      ]
    },
    {
      "cell_type": "code",
      "execution_count": null,
      "metadata": {
        "id": "XhjTFgofCYZy"
      },
      "outputs": [],
      "source": [
        "def difference_of_means(table, group_label):\n",
        "    reduced = table.select('Pressure Drop', group_label)\n",
        "    means_table = reduced.group(group_label, np.average)\n",
        "    means = means_table.column(1)\n",
        "    return means.item(1) - means.item(0)"
      ]
    },
    {
      "cell_type": "code",
      "execution_count": null,
      "metadata": {
        "id": "HR5HcNXRCYZy"
      },
      "outputs": [],
      "source": [
        "difference_of_means(football, 'Team')"
      ]
    },
    {
      "cell_type": "markdown",
      "metadata": {
        "id": "8x2R5RHZCYZy"
      },
      "source": [
        "This is the same as the value we found earlier as the `observed_difference`."
      ]
    },
    {
      "cell_type": "markdown",
      "metadata": {
        "id": "g-RkTPcSCYZy"
      },
      "source": [
        "###12.2.2. Predicting the Statistic Under the Null Hypothesis\n",
        "If the null hypothesis were true, then it shouldn't matter which footballs are labeled Patriots and which are labeled Colts. The distributions of the two sets of drops would be the same. We can simulate this by randomly shuffling the team labels."
      ]
    },
    {
      "cell_type": "code",
      "execution_count": null,
      "metadata": {
        "id": "9aclMV4kCYZy"
      },
      "outputs": [],
      "source": [
        "shuffled_labels = football.sample(with_replacement=False).column(0)\n",
        "original_and_shuffled = football.with_column('Shuffled Label', shuffled_labels)\n",
        "original_and_shuffled.show()"
      ]
    },
    {
      "cell_type": "markdown",
      "metadata": {
        "id": "pt4S-Sp3CYZy"
      },
      "source": [
        "How do all the group averages compare?"
      ]
    },
    {
      "cell_type": "code",
      "execution_count": null,
      "metadata": {
        "id": "CPE1fzuXCYZy"
      },
      "outputs": [],
      "source": [
        "difference_of_means(original_and_shuffled, 'Shuffled Label')"
      ]
    },
    {
      "cell_type": "code",
      "execution_count": null,
      "metadata": {
        "id": "IWkv5N8gCYZz"
      },
      "outputs": [],
      "source": [
        "difference_of_means(original_and_shuffled, 'Team')"
      ]
    },
    {
      "cell_type": "markdown",
      "metadata": {
        "id": "SxUwUeJUCYZz"
      },
      "source": [
        "The two teams' average drop values are closer when the team labels are randomly assigned to the footballs than they were for the two groups actually used in the game.\n",
        "\n",
        "###12.2.3. Permutation Test\n",
        "It's time for a step that is now familiar. We will repeatedly simulate of the test statistic under the null hypothesis. \n",
        "\n",
        "by repeatedly permuting the footballs and assigning random sets to the two teams.\n",
        "\n",
        "As usual, we  will start by writing a function `one_simulated_difference` that returns one simulated value of the difference between the mean pressure drops of the groups labeled Patriots and Colts after randomly permuting the team labels of the footballs."
      ]
    },
    {
      "cell_type": "code",
      "execution_count": null,
      "metadata": {
        "id": "9qlwYVZzCYZz"
      },
      "outputs": [],
      "source": [
        "def one_simulated_difference():\n",
        "    shuffled_labels = football.sample(with_replacement = False\n",
        "                                                    ).column('Team')\n",
        "    shuffled_table = football.select('Pressure Drop').with_column(\n",
        "        'Shuffled Label', shuffled_labels)\n",
        "    return difference_of_means(shuffled_table, 'Shuffled Label')   "
      ]
    },
    {
      "cell_type": "markdown",
      "metadata": {
        "id": "1wx5LwJMCYZz"
      },
      "source": [
        "We can now use a `for` loop and this function to create an array `differences` that contains 10,000 values of the test statistic simulated under the null hypothesis."
      ]
    },
    {
      "cell_type": "code",
      "execution_count": null,
      "metadata": {
        "id": "WkvBFigcCYZz"
      },
      "outputs": [],
      "source": [
        "differences = make_array()\n",
        "\n",
        "repetitions = 10000\n",
        "for i in np.arange(repetitions):\n",
        "    new_difference = one_simulated_difference()\n",
        "    differences = np.append(differences, new_difference)"
      ]
    },
    {
      "cell_type": "markdown",
      "metadata": {
        "id": "ugjeUr1zCYZz"
      },
      "source": [
        "###12.2.4. Conclusion of the Test\n",
        "To calculate the empirical P-value, it's important to recall the alternative hypothesis, which is that the Patriots' drops are too large to be the result of chance variation alone.\n",
        "\n",
        "Larger drops for the Patriots favor the alternative hypothesis. So the p-value is the chance (computed under the null hypothesis) of getting a test statistic equal to our observed value of 0.733522727272728 or larger.\n",
        "\n",
        "The figure below visualizes this calculation. It consists of the empirical distribution of the test statistic under the null hypothesis, with the observed statistic marked in red on the horizontal axis and the area corresponding to the p-value shaded in gold."
      ]
    },
    {
      "cell_type": "code",
      "execution_count": null,
      "metadata": {
        "id": "xybCqKwRCYZz"
      },
      "outputs": [],
      "source": [
        "Table().with_column(\n",
        "    'Difference Between Group Averages', differences).hist(\n",
        "    left_end = observed_difference\n",
        ")\n",
        "plots.ylim(-0.1, 1.4)\n",
        "plots.scatter(observed_difference, 0, color='red', s=30, zorder=3)\n",
        "plots.title('Prediction Under the Null Hypothesis')\n",
        "print('Observed Difference:', observed_difference)"
      ]
    },
    {
      "cell_type": "markdown",
      "metadata": {
        "id": "xDPa7AS7CYZz"
      },
      "source": [
        "By eye, the p-value looks pretty small. We can confirm this by a calculation."
      ]
    },
    {
      "cell_type": "code",
      "execution_count": null,
      "metadata": {
        "id": "MABD4hctCYZz"
      },
      "outputs": [],
      "source": [
        "empirical_p = np.count_nonzero(differences >= observed_difference) / 10000\n",
        "empirical_p"
      ]
    },
    {
      "cell_type": "markdown",
      "metadata": {
        "id": "rH0ERNh2CYZz"
      },
      "source": [
        "As in previous examples of this test, the bulk of the distribution is centered around 0. Under the null hypothesis, the Patriots' drops are a random sample of all 15 drops, and therefore so are the Colts'. Therefore the two sets of drops should be about equal on average, and therefore their difference should be around 0.\n",
        "\n",
        "But the observed value of the test statistic is quite far away from the heart of the distribution. By any reasonable cutoff for what is \"small\", the empirical P-value is small. So we end up rejecting the null hypothesis of randomness, and conclude that the Patriots drops were too large to reflect chance variation alone.\n",
        "\n",
        "The independent investigative team analyzed the data in several different ways, taking into account the laws of physics. The final report said, \n",
        "\n",
        "> \"[T]he average pressure drop of the Patriots game balls exceeded the average pressure drop of the Colts balls by 0.45 to 1.02 psi, depending on various possible assumptions regarding the gauges used, and assuming an initial pressure of 12.5 psi for the Patriots balls and 13.0 for the Colts balls.\"\n",
        "> \n",
        "> -- *Investigative report commissioned by the NFL regarding the AFC Championship game on January 18, 2015*\n",
        "\n",
        "Our analysis shows an average pressure drop of about 0.73 psi, which is close to the center of the interval \"0.45 to 1.02 psi\" and therefore consistent with the official analysis."
      ]
    },
    {
      "cell_type": "markdown",
      "metadata": {
        "id": "gai6RL5lCYZz"
      },
      "source": [
        "Remember that our test of hypotheses does not establish the reason *why* the difference is not due to chance. Establishing causality is usually more complex than running a test of hypotheses.\n",
        "\n",
        "But the all-important question in the football world was about causation: the question was whether the excess drop of pressure in the Patriots' footballs was deliberate. If you are curious about the answer given by the investigators, here is the [full report](https://nfllabor.files.wordpress.com/2015/05/investigative-and-expert-reports-re-footballs-used-during-afc-championsh.pdf)."
      ]
    }
  ],
  "metadata": {
    "anaconda-cloud": {},
    "colab": {
      "provenance": [],
      "include_colab_link": true
    },
    "kernelspec": {
      "display_name": "Python 3",
      "language": "python",
      "name": "python3"
    },
    "language_info": {
      "codemirror_mode": {
        "name": "ipython",
        "version": 3
      },
      "file_extension": ".py",
      "mimetype": "text/x-python",
      "name": "python",
      "nbconvert_exporter": "python",
      "pygments_lexer": "ipython3",
      "version": "3.7.8"
    }
  },
  "nbformat": 4,
  "nbformat_minor": 0
}