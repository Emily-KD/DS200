{
  "nbformat": 4,
  "nbformat_minor": 0,
  "metadata": {
    "colab": {
      "provenance": [],
      "authorship_tag": "ABX9TyN8KnKaKsyyLfmHWWrhSF++",
      "include_colab_link": true
    },
    "kernelspec": {
      "name": "python3",
      "display_name": "Python 3"
    },
    "language_info": {
      "name": "python"
    }
  },
  "cells": [
    {
      "cell_type": "markdown",
      "metadata": {
        "id": "view-in-github",
        "colab_type": "text"
      },
      "source": [
        "<a href=\"https://colab.research.google.com/github/Emily-KD/DS200/blob/main/Lab8.ipynb\" target=\"_parent\"><img src=\"https://colab.research.google.com/assets/colab-badge.svg\" alt=\"Open In Colab\"/></a>"
      ]
    },
    {
      "cell_type": "markdown",
      "source": [
        "###Step 1.\n",
        "Change path_data"
      ],
      "metadata": {
        "id": "SCjc3UNnBm_e"
      }
    },
    {
      "cell_type": "code",
      "execution_count": null,
      "metadata": {
        "tags": [
          "remove-input"
        ],
        "id": "kp4BsxRCsp2Q"
      },
      "outputs": [],
      "source": [
        "from datascience import *\n",
        "%matplotlib inline\n",
        "path_data = 'http://personal.psu.edu/drh20/200DS/assets/data/'\n",
        "import matplotlib.pyplot as plt\n",
        "plt.style.use('fivethirtyeight')\n",
        "import numpy as np"
      ]
    },
    {
      "cell_type": "markdown",
      "source": [
        "###Step 2. \n",
        "Read table as fiveK"
      ],
      "metadata": {
        "id": "BunTXhEKBeey"
      }
    },
    {
      "cell_type": "code",
      "execution_count": null,
      "metadata": {
        "id": "KQoIAywksu_5"
      },
      "outputs": [],
      "source": [
        "fiveK = Table.read_table(path_data + 'FiveKResults.csv')"
      ]
    },
    {
      "cell_type": "code",
      "execution_count": null,
      "metadata": {
        "id": "AA4UQjxlsu_6",
        "outputId": "d5d624b1-8906-45bb-eac7-f7c9429bacbc",
        "colab": {
          "base_uri": "https://localhost:8080/",
          "height": 236
        }
      },
      "outputs": [
        {
          "output_type": "display_data",
          "data": {
            "text/plain": [
              "<IPython.core.display.HTML object>"
            ],
            "text/html": [
              "<table border=\"1\" class=\"dataframe\">\n",
              "    <thead>\n",
              "        <tr>\n",
              "            <th>Run</th> <th>Finishing Time In Minutes</th> <th>Identifies As Female</th> <th>Age</th> <th>Name</th> <th>City</th> <th>State</th>\n",
              "        </tr>\n",
              "    </thead>\n",
              "    <tbody>\n",
              "        <tr>\n",
              "            <td>AF  </td> <td>17.617                   </td> <td>False               </td> <td>27  </td> <td>Andy Cunningham</td> <td>State College</td> <td>PA   </td>\n",
              "        </tr>\n",
              "        <tr>\n",
              "            <td>AF  </td> <td>18.067                   </td> <td>False               </td> <td>49  </td> <td>S Mark Courtney</td> <td>Grove City   </td> <td>PA   </td>\n",
              "        </tr>\n",
              "        <tr>\n",
              "            <td>AF  </td> <td>18.583                   </td> <td>False               </td> <td>46  </td> <td>Terry Reid     </td> <td>Bellefonte   </td> <td>PA   </td>\n",
              "        </tr>\n",
              "        <tr>\n",
              "            <td>AF  </td> <td>18.717                   </td> <td>False               </td> <td>15  </td> <td>Justin Rupert  </td> <td>Wellsboro    </td> <td>PA   </td>\n",
              "        </tr>\n",
              "        <tr>\n",
              "            <td>AF  </td> <td>18.8                     </td> <td>True                </td> <td>35  </td> <td>Kate Fonshell  </td> <td>Ardmore      </td> <td>PA   </td>\n",
              "        </tr>\n",
              "    </tbody>\n",
              "</table>\n",
              "<p>... (651 rows omitted)</p>"
            ]
          },
          "metadata": {}
        }
      ],
      "source": [
        "fiveK.show(5)"
      ]
    },
    {
      "cell_type": "code",
      "source": [
        "fiveK_Male = fiveK.where('Identifies As Female', False)\n",
        "fiveK_Female = fiveK.where('Identifies As Female', True)"
      ],
      "metadata": {
        "id": "SPGKj2bIDZc1"
      },
      "execution_count": null,
      "outputs": []
    },
    {
      "cell_type": "markdown",
      "source": [
        "###Step 4.\n",
        "Amount of cases for both Male and Female table."
      ],
      "metadata": {
        "id": "XwRkM082BUaS"
      }
    },
    {
      "cell_type": "code",
      "source": [
        "fiveK_Male.num_rows"
      ],
      "metadata": {
        "colab": {
          "base_uri": "https://localhost:8080/"
        },
        "id": "fAMpg3VdAlj_",
        "outputId": "7f7a7561-e745-4e04-b0bc-b5de68765769"
      },
      "execution_count": null,
      "outputs": [
        {
          "output_type": "execute_result",
          "data": {
            "text/plain": [
              "363"
            ]
          },
          "metadata": {},
          "execution_count": 25
        }
      ]
    },
    {
      "cell_type": "code",
      "source": [
        "fiveK_Female.num_rows"
      ],
      "metadata": {
        "colab": {
          "base_uri": "https://localhost:8080/"
        },
        "id": "36oRVmYPBM8r",
        "outputId": "67cbaa71-2561-498e-ef0d-58d3c57c69c8"
      },
      "execution_count": null,
      "outputs": [
        {
          "output_type": "execute_result",
          "data": {
            "text/plain": [
              "293"
            ]
          },
          "metadata": {},
          "execution_count": 26
        }
      ]
    },
    {
      "cell_type": "markdown",
      "source": [
        "###Step 5.\n",
        "Rewrite the function one_bootstrap_median."
      ],
      "metadata": {
        "id": "8dTy3u1kDS74"
      }
    },
    {
      "cell_type": "code",
      "execution_count": null,
      "metadata": {
        "id": "n9YpNzRCsvAA"
      },
      "outputs": [],
      "source": [
        "def one_bootstrap_median():\n",
        "    resampled_Females = fiveK_Female.sample()\n",
        "    resampled_Males = fiveK_Male.sample()\n",
        "    Female_mean = np.mean(resampled_Females.column('Finishing Time In Minutes'))\n",
        "    Male_mean = np.mean(resampled_Males.column('Finishing Time In Minutes'))\n",
        "    bootstrapped_mean_difference =  Female_mean - Male_mean\n",
        "    return bootstrapped_mean_difference"
      ]
    },
    {
      "cell_type": "code",
      "execution_count": null,
      "metadata": {
        "id": "0S86ltSPsvAA",
        "outputId": "450195c0-f7c4-4d79-ffe6-ab7e277a678a",
        "colab": {
          "base_uri": "https://localhost:8080/"
        }
      },
      "outputs": [
        {
          "output_type": "execute_result",
          "data": {
            "text/plain": [
              "4.485097396553186"
            ]
          },
          "metadata": {},
          "execution_count": 18
        }
      ],
      "source": [
        "one_bootstrap_median()"
      ]
    },
    {
      "cell_type": "markdown",
      "metadata": {
        "id": "YHtNbpA-svAA"
      },
      "source": [
        "###Step 6.\n",
        "Creating a histogram of 5000 bootstrapped mean differences"
      ]
    },
    {
      "cell_type": "code",
      "execution_count": null,
      "metadata": {
        "id": "2-S-ZvlFsvAA"
      },
      "outputs": [],
      "source": [
        "num_repetitions = 5000\n",
        "bstrap_medians = make_array()\n",
        "for i in np.arange(num_repetitions):\n",
        "    bstrap_medians = np.append (bstrap_medians, one_bootstrap_median())"
      ]
    },
    {
      "cell_type": "code",
      "execution_count": null,
      "metadata": {
        "id": "p4zQtYQIsvAA",
        "outputId": "033d0f5e-d0a7-4e14-f32e-b213b00cfda8",
        "colab": {
          "base_uri": "https://localhost:8080/",
          "height": 301
        }
      },
      "outputs": [
        {
          "output_type": "display_data",
          "data": {
            "text/plain": [
              "<Figure size 432x288 with 1 Axes>"
            ],
            "image/png": "[encoded data removed]"
          },
          "metadata": {}
        }
      ],
      "source": [
        "resampled_medians = Table().with_column('Bootstrap Sample Median', bstrap_medians)\n",
        "median_bins=np.arange(2.5, 7, 0.5)\n",
        "resampled_medians.hist(bins = median_bins)"
      ]
    },
    {
      "cell_type": "markdown",
      "source": [
        "###Step 7.\n",
        "Find the 2.5 and 97.5 percentiles of your mean difference distribution, and use these values as a 95% confidence interval. "
      ],
      "metadata": {
        "id": "4TNBtoqzEceQ"
      }
    },
    {
      "cell_type": "code",
      "execution_count": null,
      "metadata": {
        "id": "nFASGvq2svAA",
        "outputId": "fb5c7015-9b16-4b97-bcf9-68fbc99af0dc",
        "colab": {
          "base_uri": "https://localhost:8080/"
        }
      },
      "outputs": [
        {
          "output_type": "execute_result",
          "data": {
            "text/plain": [
              "3.5391047208040654"
            ]
          },
          "metadata": {},
          "execution_count": 35
        }
      ],
      "source": [
        "left = percentile(2.5, bstrap_medians)\n",
        "left"
      ]
    },
    {
      "cell_type": "code",
      "execution_count": null,
      "metadata": {
        "id": "Yl1y2KA6svAA",
        "outputId": "a4b59db5-219b-49d1-fcf0-a5195ac9049c",
        "colab": {
          "base_uri": "https://localhost:8080/"
        }
      },
      "outputs": [
        {
          "output_type": "execute_result",
          "data": {
            "text/plain": [
              "5.6263101853157735"
            ]
          },
          "metadata": {},
          "execution_count": 36
        }
      ],
      "source": [
        "right = percentile(97.5, bstrap_medians)\n",
        "right"
      ]
    },
    {
      "cell_type": "markdown",
      "metadata": {
        "id": "9hDntounsvAA"
      },
      "source": [
        "We are 95% confident that the true difference in mean 5K road race finishing times between females and males is between 3.5391047208040654 and 5.6263101853157735."
      ]
    },
    {
      "cell_type": "markdown",
      "metadata": {
        "id": "JltMWJoVsvAB"
      },
      "source": [
        "###Step 8.\n",
        "It represents the mean of the bootstrap median from the original sample.  "
      ]
    }
  ]
}