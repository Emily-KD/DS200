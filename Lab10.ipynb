{
  "cells": [
    {
      "cell_type": "markdown",
      "metadata": {
        "id": "view-in-github",
        "colab_type": "text"
      },
      "source": [
        "<a href=\"https://colab.research.google.com/github/Emily-KD/DS200/blob/main/Lab10.ipynb\" target=\"_parent\"><img src=\"https://colab.research.google.com/assets/colab-badge.svg\" alt=\"Open In Colab\"/></a>"
      ]
    },
    {
      "cell_type": "code",
      "source": [
        "!pip install --upgrade datascience"
      ],
      "metadata": {
        "colab": {
          "base_uri": "https://localhost:8080/"
        },
        "id": "4p7zPNqRIm2M",
        "outputId": "8fe4e9b0-1054-437a-e4b6-a3cd109cc36c"
      },
      "execution_count": null,
      "outputs": [
        {
          "output_type": "stream",
          "name": "stdout",
          "text": [
            "Requirement already satisfied: datascience in /usr/local/lib/python3.7/dist-packages (0.10.6)\n",
            "Collecting datascience\n",
            "  Downloading datascience-0.17.0.tar.gz (721 kB)\n",
            "\u001b[K     |████████████████████████████████| 721 kB 4.1 MB/s \n",
            "\u001b[?25hCollecting folium>=0.9.1\n",
            "  Downloading folium-0.12.1.post1-py2.py3-none-any.whl (95 kB)\n",
            "\u001b[K     |████████████████████████████████| 95 kB 2.6 MB/s \n",
            "\u001b[?25hRequirement already satisfied: sphinx in /usr/local/lib/python3.7/dist-packages (from datascience) (1.8.6)\n",
            "Requirement already satisfied: setuptools in /usr/local/lib/python3.7/dist-packages (from datascience) (57.4.0)\n",
            "Requirement already satisfied: matplotlib>=3.0.0 in /usr/local/lib/python3.7/dist-packages (from datascience) (3.2.2)\n",
            "Requirement already satisfied: pandas in /usr/local/lib/python3.7/dist-packages (from datascience) (1.3.5)\n",
            "Requirement already satisfied: scipy in /usr/local/lib/python3.7/dist-packages (from datascience) (1.4.1)\n",
            "Requirement already satisfied: numpy in /usr/local/lib/python3.7/dist-packages (from datascience) (1.21.5)\n",
            "Requirement already satisfied: ipython in /usr/local/lib/python3.7/dist-packages (from datascience) (5.5.0)\n",
            "Requirement already satisfied: plotly in /usr/local/lib/python3.7/dist-packages (from datascience) (5.5.0)\n",
            "Requirement already satisfied: branca in /usr/local/lib/python3.7/dist-packages (from datascience) (0.4.2)\n",
            "Collecting nbsphinx\n",
            "  Downloading nbsphinx-0.8.8-py3-none-any.whl (25 kB)\n",
            "Requirement already satisfied: pytest in /usr/local/lib/python3.7/dist-packages (from datascience) (3.6.4)\n",
            "Requirement already satisfied: coverage in /usr/local/lib/python3.7/dist-packages (from datascience) (3.7.1)\n",
            "Requirement already satisfied: coveralls in /usr/local/lib/python3.7/dist-packages (from datascience) (0.5)\n",
            "Requirement already satisfied: bokeh in /usr/local/lib/python3.7/dist-packages (from datascience) (2.3.3)\n",
            "Requirement already satisfied: requests in /usr/local/lib/python3.7/dist-packages (from folium>=0.9.1->datascience) (2.23.0)\n",
            "Requirement already satisfied: jinja2>=2.9 in /usr/local/lib/python3.7/dist-packages (from folium>=0.9.1->datascience) (2.11.3)\n",
            "Requirement already satisfied: MarkupSafe>=0.23 in /usr/local/lib/python3.7/dist-packages (from jinja2>=2.9->folium>=0.9.1->datascience) (2.0.1)\n",
            "Requirement already satisfied: kiwisolver>=1.0.1 in /usr/local/lib/python3.7/dist-packages (from matplotlib>=3.0.0->datascience) (1.4.0)\n",
            "Requirement already satisfied: pyparsing!=2.0.4,!=2.1.2,!=2.1.6,>=2.0.1 in /usr/local/lib/python3.7/dist-packages (from matplotlib>=3.0.0->datascience) (3.0.7)\n",
            "Requirement already satisfied: python-dateutil>=2.1 in /usr/local/lib/python3.7/dist-packages (from matplotlib>=3.0.0->datascience) (2.8.2)\n",
            "Requirement already satisfied: cycler>=0.10 in /usr/local/lib/python3.7/dist-packages (from matplotlib>=3.0.0->datascience) (0.11.0)\n",
            "Requirement already satisfied: typing-extensions in /usr/local/lib/python3.7/dist-packages (from kiwisolver>=1.0.1->matplotlib>=3.0.0->datascience) (3.10.0.2)\n",
            "Requirement already satisfied: six>=1.5 in /usr/local/lib/python3.7/dist-packages (from python-dateutil>=2.1->matplotlib>=3.0.0->datascience) (1.15.0)\n",
            "Requirement already satisfied: tornado>=5.1 in /usr/local/lib/python3.7/dist-packages (from bokeh->datascience) (5.1.1)\n",
            "Requirement already satisfied: PyYAML>=3.10 in /usr/local/lib/python3.7/dist-packages (from bokeh->datascience) (3.13)\n",
            "Requirement already satisfied: pillow>=7.1.0 in /usr/local/lib/python3.7/dist-packages (from bokeh->datascience) (7.1.2)\n",
            "Requirement already satisfied: packaging>=16.8 in /usr/local/lib/python3.7/dist-packages (from bokeh->datascience) (21.3)\n",
            "Requirement already satisfied: docopt>=0.6.1 in /usr/local/lib/python3.7/dist-packages (from coveralls->datascience) (0.6.2)\n",
            "Requirement already satisfied: certifi>=2017.4.17 in /usr/local/lib/python3.7/dist-packages (from requests->folium>=0.9.1->datascience) (2021.10.8)\n",
            "Requirement already satisfied: idna<3,>=2.5 in /usr/local/lib/python3.7/dist-packages (from requests->folium>=0.9.1->datascience) (2.10)\n",
            "Requirement already satisfied: chardet<4,>=3.0.2 in /usr/local/lib/python3.7/dist-packages (from requests->folium>=0.9.1->datascience) (3.0.4)\n",
            "Requirement already satisfied: urllib3!=1.25.0,!=1.25.1,<1.26,>=1.21.1 in /usr/local/lib/python3.7/dist-packages (from requests->folium>=0.9.1->datascience) (1.24.3)\n",
            "Requirement already satisfied: pygments in /usr/local/lib/python3.7/dist-packages (from ipython->datascience) (2.6.1)\n",
            "Requirement already satisfied: pickleshare in /usr/local/lib/python3.7/dist-packages (from ipython->datascience) (0.7.5)\n",
            "Requirement already satisfied: simplegeneric>0.8 in /usr/local/lib/python3.7/dist-packages (from ipython->datascience) (0.8.1)\n",
            "Requirement already satisfied: decorator in /usr/local/lib/python3.7/dist-packages (from ipython->datascience) (4.4.2)\n",
            "Requirement already satisfied: traitlets>=4.2 in /usr/local/lib/python3.7/dist-packages (from ipython->datascience) (5.1.1)\n",
            "Requirement already satisfied: prompt-toolkit<2.0.0,>=1.0.4 in /usr/local/lib/python3.7/dist-packages (from ipython->datascience) (1.0.18)\n",
            "Requirement already satisfied: pexpect in /usr/local/lib/python3.7/dist-packages (from ipython->datascience) (4.8.0)\n",
            "Requirement already satisfied: wcwidth in /usr/local/lib/python3.7/dist-packages (from prompt-toolkit<2.0.0,>=1.0.4->ipython->datascience) (0.2.5)\n",
            "Requirement already satisfied: docutils in /usr/local/lib/python3.7/dist-packages (from nbsphinx->datascience) (0.17.1)\n",
            "Requirement already satisfied: nbconvert!=5.4 in /usr/local/lib/python3.7/dist-packages (from nbsphinx->datascience) (5.6.1)\n",
            "Requirement already satisfied: nbformat in /usr/local/lib/python3.7/dist-packages (from nbsphinx->datascience) (5.2.0)\n",
            "Requirement already satisfied: bleach in /usr/local/lib/python3.7/dist-packages (from nbconvert!=5.4->nbsphinx->datascience) (4.1.0)\n",
            "Requirement already satisfied: testpath in /usr/local/lib/python3.7/dist-packages (from nbconvert!=5.4->nbsphinx->datascience) (0.6.0)\n",
            "Requirement already satisfied: pandocfilters>=1.4.1 in /usr/local/lib/python3.7/dist-packages (from nbconvert!=5.4->nbsphinx->datascience) (1.5.0)\n",
            "Requirement already satisfied: entrypoints>=0.2.2 in /usr/local/lib/python3.7/dist-packages (from nbconvert!=5.4->nbsphinx->datascience) (0.4)\n",
            "Requirement already satisfied: jupyter-core in /usr/local/lib/python3.7/dist-packages (from nbconvert!=5.4->nbsphinx->datascience) (4.9.2)\n",
            "Requirement already satisfied: defusedxml in /usr/local/lib/python3.7/dist-packages (from nbconvert!=5.4->nbsphinx->datascience) (0.7.1)\n",
            "Requirement already satisfied: mistune<2,>=0.8.1 in /usr/local/lib/python3.7/dist-packages (from nbconvert!=5.4->nbsphinx->datascience) (0.8.4)\n",
            "Requirement already satisfied: jsonschema!=2.5.0,>=2.4 in /usr/local/lib/python3.7/dist-packages (from nbformat->nbsphinx->datascience) (4.3.3)\n",
            "Requirement already satisfied: importlib-metadata in /usr/local/lib/python3.7/dist-packages (from jsonschema!=2.5.0,>=2.4->nbformat->nbsphinx->datascience) (4.11.3)\n",
            "Requirement already satisfied: pyrsistent!=0.17.0,!=0.17.1,!=0.17.2,>=0.14.0 in /usr/local/lib/python3.7/dist-packages (from jsonschema!=2.5.0,>=2.4->nbformat->nbsphinx->datascience) (0.18.1)\n",
            "Requirement already satisfied: attrs>=17.4.0 in /usr/local/lib/python3.7/dist-packages (from jsonschema!=2.5.0,>=2.4->nbformat->nbsphinx->datascience) (21.4.0)\n",
            "Requirement already satisfied: importlib-resources>=1.4.0 in /usr/local/lib/python3.7/dist-packages (from jsonschema!=2.5.0,>=2.4->nbformat->nbsphinx->datascience) (5.4.0)\n",
            "Requirement already satisfied: zipp>=3.1.0 in /usr/local/lib/python3.7/dist-packages (from importlib-resources>=1.4.0->jsonschema!=2.5.0,>=2.4->nbformat->nbsphinx->datascience) (3.7.0)\n",
            "Requirement already satisfied: alabaster<0.8,>=0.7 in /usr/local/lib/python3.7/dist-packages (from sphinx->datascience) (0.7.12)\n",
            "Requirement already satisfied: snowballstemmer>=1.1 in /usr/local/lib/python3.7/dist-packages (from sphinx->datascience) (2.2.0)\n",
            "Requirement already satisfied: sphinxcontrib-websupport in /usr/local/lib/python3.7/dist-packages (from sphinx->datascience) (1.2.4)\n",
            "Requirement already satisfied: imagesize in /usr/local/lib/python3.7/dist-packages (from sphinx->datascience) (1.3.0)\n",
            "Requirement already satisfied: babel!=2.0,>=1.3 in /usr/local/lib/python3.7/dist-packages (from sphinx->datascience) (2.9.1)\n",
            "Requirement already satisfied: pytz>=2015.7 in /usr/local/lib/python3.7/dist-packages (from babel!=2.0,>=1.3->sphinx->datascience) (2018.9)\n",
            "Requirement already satisfied: webencodings in /usr/local/lib/python3.7/dist-packages (from bleach->nbconvert!=5.4->nbsphinx->datascience) (0.5.1)\n",
            "Requirement already satisfied: ptyprocess>=0.5 in /usr/local/lib/python3.7/dist-packages (from pexpect->ipython->datascience) (0.7.0)\n",
            "Requirement already satisfied: tenacity>=6.2.0 in /usr/local/lib/python3.7/dist-packages (from plotly->datascience) (8.0.1)\n",
            "Requirement already satisfied: more-itertools>=4.0.0 in /usr/local/lib/python3.7/dist-packages (from pytest->datascience) (8.12.0)\n",
            "Requirement already satisfied: py>=1.5.0 in /usr/local/lib/python3.7/dist-packages (from pytest->datascience) (1.11.0)\n",
            "Requirement already satisfied: atomicwrites>=1.0 in /usr/local/lib/python3.7/dist-packages (from pytest->datascience) (1.4.0)\n",
            "Requirement already satisfied: pluggy<0.8,>=0.5 in /usr/local/lib/python3.7/dist-packages (from pytest->datascience) (0.7.1)\n",
            "Requirement already satisfied: sphinxcontrib-serializinghtml in /usr/local/lib/python3.7/dist-packages (from sphinxcontrib-websupport->sphinx->datascience) (1.1.5)\n",
            "Building wheels for collected packages: datascience\n",
            "  Building wheel for datascience (setup.py) ... \u001b[?25l\u001b[?25hdone\n",
            "  Created wheel for datascience: filename=datascience-0.17.0-py3-none-any.whl size=726848 sha256=e0003c4a5b7141fd779c31dc2dbc40cba06482c3e3968c28a33265f8b9c9abf6\n",
            "  Stored in directory: /root/.cache/pip/wheels/41/e0/1b/bc890a517ad4212eb7180ccca6497c97d0ca7c28342b236888\n",
            "Successfully built datascience\n",
            "Installing collected packages: nbsphinx, folium, datascience\n",
            "  Attempting uninstall: folium\n",
            "    Found existing installation: folium 0.8.3\n",
            "    Uninstalling folium-0.8.3:\n",
            "      Successfully uninstalled folium-0.8.3\n",
            "  Attempting uninstall: datascience\n",
            "    Found existing installation: datascience 0.10.6\n",
            "    Uninstalling datascience-0.10.6:\n",
            "      Successfully uninstalled datascience-0.10.6\n",
            "Successfully installed datascience-0.17.0 folium-0.12.1.post1 nbsphinx-0.8.8\n"
          ]
        }
      ]
    },
    {
      "cell_type": "code",
      "execution_count": null,
      "metadata": {
        "tags": [
          "remove-input"
        ],
        "id": "m4CG5sgxHp8R"
      },
      "outputs": [],
      "source": [
        "from datascience import *\n",
        "import matplotlib\n",
        "path_data = 'http://personal.psu.edu/drh20/200DS/assets/data/'\n",
        "matplotlib.use('Agg')\n",
        "%matplotlib inline\n",
        "import matplotlib.pyplot as plots\n",
        "plots.style.use('fivethirtyeight')\n",
        "import numpy as np"
      ]
    },
    {
      "cell_type": "code",
      "execution_count": null,
      "metadata": {
        "id": "UH3qtOAbHp8W",
        "outputId": "a4e1bc02-33a4-4648-ed32-38574f94b9b4",
        "colab": {
          "base_uri": "https://localhost:8080/",
          "height": 464
        }
      },
      "outputs": [
        {
          "output_type": "execute_result",
          "data": {
            "text/plain": [
              "Age  | Blood Pressure | Specific Gravity | Albumin | Sugar | Red Blood Cells | Pus Cell | Pus Cell clumps | Bacteria   | Glucose | Blood Urea | Serum Creatinine | Sodium | Potassium | Hemoglobin | Packed Cell Volume | White Blood Cell Count | Red Blood Cell Count | Hypertension | Diabetes Mellitus | Coronary Artery Disease | Appetite | Pedal Edema | Anemia | Class\n",
              "48   | 70             | 1.005            | 4       | 0     | normal          | abnormal | present         | notpresent | 117     | 56         | 3.8              | 111    | 2.5       | 11.2       | 32                 | 6700                   | 3.9                  | yes          | no                | no                      | poor     | yes         | yes    | 1\n",
              "53   | 90             | 1.02             | 2       | 0     | abnormal        | abnormal | present         | notpresent | 70      | 107        | 7.2              | 114    | 3.7       | 9.5        | 29                 | 12100                  | 3.7                  | yes          | yes               | no                      | poor     | no          | yes    | 1\n",
              "63   | 70             | 1.01             | 3       | 0     | abnormal        | abnormal | present         | notpresent | 380     | 60         | 2.7              | 131    | 4.2       | 10.8       | 32                 | 4500                   | 3.8                  | yes          | yes               | no                      | poor     | yes         | no     | 1\n",
              "68   | 80             | 1.01             | 3       | 2     | normal          | abnormal | present         | present    | 157     | 90         | 4.1              | 130    | 6.4       | 5.6        | 16                 | 11000                  | 2.6                  | yes          | yes               | yes                     | poor     | yes         | no     | 1\n",
              "61   | 80             | 1.015            | 2       | 0     | abnormal        | abnormal | notpresent      | notpresent | 173     | 148        | 3.9              | 135    | 5.2       | 7.7        | 24                 | 9200                   | 3.2                  | yes          | yes               | yes                     | poor     | yes         | yes    | 1\n",
              "48   | 80             | 1.025            | 4       | 0     | normal          | abnormal | notpresent      | notpresent | 95      | 163        | 7.7              | 136    | 3.8       | 9.8        | 32                 | 6900                   | 3.4                  | yes          | no                | no                      | good     | no          | yes    | 1\n",
              "69   | 70             | 1.01             | 3       | 4     | normal          | abnormal | notpresent      | notpresent | 264     | 87         | 2.7              | 130    | 4         | 12.5       | 37                 | 9600                   | 4.1                  | yes          | yes               | yes                     | good     | yes         | no     | 1\n",
              "73   | 70             | 1.005            | 0       | 0     | normal          | normal   | notpresent      | notpresent | 70      | 32         | 0.9              | 125    | 4         | 10         | 29                 | 18900                  | 3.5                  | yes          | yes               | no                      | good     | yes         | no     | 1\n",
              "73   | 80             | 1.02             | 2       | 0     | abnormal        | abnormal | notpresent      | notpresent | 253     | 142        | 4.6              | 138    | 5.8       | 10.5       | 33                 | 7200                   | 4.3                  | yes          | yes               | yes                     | good     | no          | no     | 1\n",
              "46   | 60             | 1.01             | 1       | 0     | normal          | normal   | notpresent      | notpresent | 163     | 92         | 3.3              | 141    | 4         | 9.8        | 28                 | 14600                  | 3.2                  | yes          | yes               | no                      | good     | no          | no     | 1\n",
              "... (148 rows omitted)"
            ],
            "text/html": [
              "<table border=\"1\" class=\"dataframe\">\n",
              "    <thead>\n",
              "        <tr>\n",
              "            <th>Age</th> <th>Blood Pressure</th> <th>Specific Gravity</th> <th>Albumin</th> <th>Sugar</th> <th>Red Blood Cells</th> <th>Pus Cell</th> <th>Pus Cell clumps</th> <th>Bacteria</th> <th>Glucose</th> <th>Blood Urea</th> <th>Serum Creatinine</th> <th>Sodium</th> <th>Potassium</th> <th>Hemoglobin</th> <th>Packed Cell Volume</th> <th>White Blood Cell Count</th> <th>Red Blood Cell Count</th> <th>Hypertension</th> <th>Diabetes Mellitus</th> <th>Coronary Artery Disease</th> <th>Appetite</th> <th>Pedal Edema</th> <th>Anemia</th> <th>Class</th>\n",
              "        </tr>\n",
              "    </thead>\n",
              "    <tbody>\n",
              "        <tr>\n",
              "            <td>48  </td> <td>70            </td> <td>1.005           </td> <td>4      </td> <td>0    </td> <td>normal         </td> <td>abnormal</td> <td>present        </td> <td>notpresent</td> <td>117    </td> <td>56        </td> <td>3.8             </td> <td>111   </td> <td>2.5      </td> <td>11.2      </td> <td>32                </td> <td>6700                  </td> <td>3.9                 </td> <td>yes         </td> <td>no               </td> <td>no                     </td> <td>poor    </td> <td>yes        </td> <td>yes   </td> <td>1    </td>\n",
              "        </tr>\n",
              "        <tr>\n",
              "            <td>53  </td> <td>90            </td> <td>1.02            </td> <td>2      </td> <td>0    </td> <td>abnormal       </td> <td>abnormal</td> <td>present        </td> <td>notpresent</td> <td>70     </td> <td>107       </td> <td>7.2             </td> <td>114   </td> <td>3.7      </td> <td>9.5       </td> <td>29                </td> <td>12100                 </td> <td>3.7                 </td> <td>yes         </td> <td>yes              </td> <td>no                     </td> <td>poor    </td> <td>no         </td> <td>yes   </td> <td>1    </td>\n",
              "        </tr>\n",
              "        <tr>\n",
              "            <td>63  </td> <td>70            </td> <td>1.01            </td> <td>3      </td> <td>0    </td> <td>abnormal       </td> <td>abnormal</td> <td>present        </td> <td>notpresent</td> <td>380    </td> <td>60        </td> <td>2.7             </td> <td>131   </td> <td>4.2      </td> <td>10.8      </td> <td>32                </td> <td>4500                  </td> <td>3.8                 </td> <td>yes         </td> <td>yes              </td> <td>no                     </td> <td>poor    </td> <td>yes        </td> <td>no    </td> <td>1    </td>\n",
              "        </tr>\n",
              "        <tr>\n",
              "            <td>68  </td> <td>80            </td> <td>1.01            </td> <td>3      </td> <td>2    </td> <td>normal         </td> <td>abnormal</td> <td>present        </td> <td>present   </td> <td>157    </td> <td>90        </td> <td>4.1             </td> <td>130   </td> <td>6.4      </td> <td>5.6       </td> <td>16                </td> <td>11000                 </td> <td>2.6                 </td> <td>yes         </td> <td>yes              </td> <td>yes                    </td> <td>poor    </td> <td>yes        </td> <td>no    </td> <td>1    </td>\n",
              "        </tr>\n",
              "        <tr>\n",
              "            <td>61  </td> <td>80            </td> <td>1.015           </td> <td>2      </td> <td>0    </td> <td>abnormal       </td> <td>abnormal</td> <td>notpresent     </td> <td>notpresent</td> <td>173    </td> <td>148       </td> <td>3.9             </td> <td>135   </td> <td>5.2      </td> <td>7.7       </td> <td>24                </td> <td>9200                  </td> <td>3.2                 </td> <td>yes         </td> <td>yes              </td> <td>yes                    </td> <td>poor    </td> <td>yes        </td> <td>yes   </td> <td>1    </td>\n",
              "        </tr>\n",
              "        <tr>\n",
              "            <td>48  </td> <td>80            </td> <td>1.025           </td> <td>4      </td> <td>0    </td> <td>normal         </td> <td>abnormal</td> <td>notpresent     </td> <td>notpresent</td> <td>95     </td> <td>163       </td> <td>7.7             </td> <td>136   </td> <td>3.8      </td> <td>9.8       </td> <td>32                </td> <td>6900                  </td> <td>3.4                 </td> <td>yes         </td> <td>no               </td> <td>no                     </td> <td>good    </td> <td>no         </td> <td>yes   </td> <td>1    </td>\n",
              "        </tr>\n",
              "        <tr>\n",
              "            <td>69  </td> <td>70            </td> <td>1.01            </td> <td>3      </td> <td>4    </td> <td>normal         </td> <td>abnormal</td> <td>notpresent     </td> <td>notpresent</td> <td>264    </td> <td>87        </td> <td>2.7             </td> <td>130   </td> <td>4        </td> <td>12.5      </td> <td>37                </td> <td>9600                  </td> <td>4.1                 </td> <td>yes         </td> <td>yes              </td> <td>yes                    </td> <td>good    </td> <td>yes        </td> <td>no    </td> <td>1    </td>\n",
              "        </tr>\n",
              "        <tr>\n",
              "            <td>73  </td> <td>70            </td> <td>1.005           </td> <td>0      </td> <td>0    </td> <td>normal         </td> <td>normal  </td> <td>notpresent     </td> <td>notpresent</td> <td>70     </td> <td>32        </td> <td>0.9             </td> <td>125   </td> <td>4        </td> <td>10        </td> <td>29                </td> <td>18900                 </td> <td>3.5                 </td> <td>yes         </td> <td>yes              </td> <td>no                     </td> <td>good    </td> <td>yes        </td> <td>no    </td> <td>1    </td>\n",
              "        </tr>\n",
              "        <tr>\n",
              "            <td>73  </td> <td>80            </td> <td>1.02            </td> <td>2      </td> <td>0    </td> <td>abnormal       </td> <td>abnormal</td> <td>notpresent     </td> <td>notpresent</td> <td>253    </td> <td>142       </td> <td>4.6             </td> <td>138   </td> <td>5.8      </td> <td>10.5      </td> <td>33                </td> <td>7200                  </td> <td>4.3                 </td> <td>yes         </td> <td>yes              </td> <td>yes                    </td> <td>good    </td> <td>no         </td> <td>no    </td> <td>1    </td>\n",
              "        </tr>\n",
              "        <tr>\n",
              "            <td>46  </td> <td>60            </td> <td>1.01            </td> <td>1      </td> <td>0    </td> <td>normal         </td> <td>normal  </td> <td>notpresent     </td> <td>notpresent</td> <td>163    </td> <td>92        </td> <td>3.3             </td> <td>141   </td> <td>4        </td> <td>9.8       </td> <td>28                </td> <td>14600                 </td> <td>3.2                 </td> <td>yes         </td> <td>yes              </td> <td>no                     </td> <td>good    </td> <td>no         </td> <td>no    </td> <td>1    </td>\n",
              "        </tr>\n",
              "    </tbody>\n",
              "</table>\n",
              "<p>... (148 rows omitted)</p>"
            ]
          },
          "metadata": {},
          "execution_count": 46
        }
      ],
      "source": [
        "ckd = Table.read_table(path_data + 'ckd.csv').relabeled('Blood Glucose Random', 'Glucose')\n",
        "ckd"
      ]
    },
    {
      "cell_type": "code",
      "source": [
        "ckd = ckd.select('Class', 'Hemoglobin', 'White Blood Cell Count')\n",
        "ckd"
      ],
      "metadata": {
        "colab": {
          "base_uri": "https://localhost:8080/",
          "height": 392
        },
        "id": "q_5ZvURPI4P_",
        "outputId": "e778de52-8469-48a7-afca-9499f6b499e0"
      },
      "execution_count": null,
      "outputs": [
        {
          "output_type": "execute_result",
          "data": {
            "text/plain": [
              "Class | Hemoglobin | White Blood Cell Count\n",
              "1     | 11.2       | 6700\n",
              "1     | 9.5        | 12100\n",
              "1     | 10.8       | 4500\n",
              "1     | 5.6        | 11000\n",
              "1     | 7.7        | 9200\n",
              "1     | 9.8        | 6900\n",
              "1     | 12.5       | 9600\n",
              "1     | 10         | 18900\n",
              "1     | 10.5       | 7200\n",
              "1     | 9.8        | 14600\n",
              "... (148 rows omitted)"
            ],
            "text/html": [
              "<table border=\"1\" class=\"dataframe\">\n",
              "    <thead>\n",
              "        <tr>\n",
              "            <th>Class</th> <th>Hemoglobin</th> <th>White Blood Cell Count</th>\n",
              "        </tr>\n",
              "    </thead>\n",
              "    <tbody>\n",
              "        <tr>\n",
              "            <td>1    </td> <td>11.2      </td> <td>6700                  </td>\n",
              "        </tr>\n",
              "        <tr>\n",
              "            <td>1    </td> <td>9.5       </td> <td>12100                 </td>\n",
              "        </tr>\n",
              "        <tr>\n",
              "            <td>1    </td> <td>10.8      </td> <td>4500                  </td>\n",
              "        </tr>\n",
              "        <tr>\n",
              "            <td>1    </td> <td>5.6       </td> <td>11000                 </td>\n",
              "        </tr>\n",
              "        <tr>\n",
              "            <td>1    </td> <td>7.7       </td> <td>9200                  </td>\n",
              "        </tr>\n",
              "        <tr>\n",
              "            <td>1    </td> <td>9.8       </td> <td>6900                  </td>\n",
              "        </tr>\n",
              "        <tr>\n",
              "            <td>1    </td> <td>12.5      </td> <td>9600                  </td>\n",
              "        </tr>\n",
              "        <tr>\n",
              "            <td>1    </td> <td>10        </td> <td>18900                 </td>\n",
              "        </tr>\n",
              "        <tr>\n",
              "            <td>1    </td> <td>10.5      </td> <td>7200                  </td>\n",
              "        </tr>\n",
              "        <tr>\n",
              "            <td>1    </td> <td>9.8       </td> <td>14600                 </td>\n",
              "        </tr>\n",
              "    </tbody>\n",
              "</table>\n",
              "<p>... (148 rows omitted)</p>"
            ]
          },
          "metadata": {},
          "execution_count": 47
        }
      ]
    },
    {
      "cell_type": "code",
      "execution_count": null,
      "metadata": {
        "id": "XRZNKDhwHp8Z"
      },
      "outputs": [],
      "source": [
        "color_table = Table().with_columns(\n",
        "    'Class', make_array(1, 0),\n",
        "    'Color', make_array('darkblue', 'gold')\n",
        ")\n",
        "ckd = ckd.join('Class', color_table)"
      ]
    },
    {
      "cell_type": "code",
      "source": [
        "ckd.show()"
      ],
      "metadata": {
        "colab": {
          "base_uri": "https://localhost:8080/",
          "height": 5004
        },
        "id": "Zc43C95BMyq3",
        "outputId": "7f25c47d-5b1d-4866-990d-f4a591cbf91d"
      },
      "execution_count": null,
      "outputs": [
        {
          "output_type": "display_data",
          "data": {
            "text/plain": [
              "<IPython.core.display.HTML object>"
            ],
            "text/html": [
              "<table border=\"1\" class=\"dataframe\">\n",
              "    <thead>\n",
              "        <tr>\n",
              "            <th>Class</th> <th>Hemoglobin</th> <th>White Blood Cell Count</th> <th>Color</th>\n",
              "        </tr>\n",
              "    </thead>\n",
              "    <tbody>\n",
              "        <tr>\n",
              "            <td>0    </td> <td>15        </td> <td>10400                 </td> <td>gold    </td>\n",
              "        </tr>\n",
              "        <tr>\n",
              "            <td>0    </td> <td>17        </td> <td>9800                  </td> <td>gold    </td>\n",
              "        </tr>\n",
              "        <tr>\n",
              "            <td>0    </td> <td>15.9      </td> <td>9100                  </td> <td>gold    </td>\n",
              "        </tr>\n",
              "        <tr>\n",
              "            <td>0    </td> <td>15.4      </td> <td>6200                  </td> <td>gold    </td>\n",
              "        </tr>\n",
              "        <tr>\n",
              "            <td>0    </td> <td>13        </td> <td>8300                  </td> <td>gold    </td>\n",
              "        </tr>\n",
              "        <tr>\n",
              "            <td>0    </td> <td>13.6      </td> <td>9200                  </td> <td>gold    </td>\n",
              "        </tr>\n",
              "        <tr>\n",
              "            <td>0    </td> <td>14.5      </td> <td>10700                 </td> <td>gold    </td>\n",
              "        </tr>\n",
              "        <tr>\n",
              "            <td>0    </td> <td>14        </td> <td>9100                  </td> <td>gold    </td>\n",
              "        </tr>\n",
              "        <tr>\n",
              "            <td>0    </td> <td>13.9      </td> <td>8400                  </td> <td>gold    </td>\n",
              "        </tr>\n",
              "        <tr>\n",
              "            <td>0    </td> <td>16.1      </td> <td>4300                  </td> <td>gold    </td>\n",
              "        </tr>\n",
              "        <tr>\n",
              "            <td>0    </td> <td>14.1      </td> <td>9400                  </td> <td>gold    </td>\n",
              "        </tr>\n",
              "        <tr>\n",
              "            <td>0    </td> <td>17        </td> <td>5600                  </td> <td>gold    </td>\n",
              "        </tr>\n",
              "        <tr>\n",
              "            <td>0    </td> <td>15.5      </td> <td>7200                  </td> <td>gold    </td>\n",
              "        </tr>\n",
              "        <tr>\n",
              "            <td>0    </td> <td>16.2      </td> <td>8600                  </td> <td>gold    </td>\n",
              "        </tr>\n",
              "        <tr>\n",
              "            <td>0    </td> <td>14.4      </td> <td>5000                  </td> <td>gold    </td>\n",
              "        </tr>\n",
              "        <tr>\n",
              "            <td>0    </td> <td>14.2      </td> <td>10500                 </td> <td>gold    </td>\n",
              "        </tr>\n",
              "        <tr>\n",
              "            <td>0    </td> <td>13.2      </td> <td>6800                  </td> <td>gold    </td>\n",
              "        </tr>\n",
              "        <tr>\n",
              "            <td>0    </td> <td>13.9      </td> <td>9500                  </td> <td>gold    </td>\n",
              "        </tr>\n",
              "        <tr>\n",
              "            <td>0    </td> <td>15        </td> <td>6900                  </td> <td>gold    </td>\n",
              "        </tr>\n",
              "        <tr>\n",
              "            <td>0    </td> <td>14.3      </td> <td>7200                  </td> <td>gold    </td>\n",
              "        </tr>\n",
              "        <tr>\n",
              "            <td>0    </td> <td>13.8      </td> <td>9000                  </td> <td>gold    </td>\n",
              "        </tr>\n",
              "        <tr>\n",
              "            <td>0    </td> <td>14.8      </td> <td>5600                  </td> <td>gold    </td>\n",
              "        </tr>\n",
              "        <tr>\n",
              "            <td>0    </td> <td>16.5      </td> <td>4700                  </td> <td>gold    </td>\n",
              "        </tr>\n",
              "        <tr>\n",
              "            <td>0    </td> <td>15.7      </td> <td>6300                  </td> <td>gold    </td>\n",
              "        </tr>\n",
              "        <tr>\n",
              "            <td>0    </td> <td>14.5      </td> <td>9400                  </td> <td>gold    </td>\n",
              "        </tr>\n",
              "        <tr>\n",
              "            <td>0    </td> <td>16.3      </td> <td>5800                  </td> <td>gold    </td>\n",
              "        </tr>\n",
              "        <tr>\n",
              "            <td>0    </td> <td>15.5      </td> <td>9100                  </td> <td>gold    </td>\n",
              "        </tr>\n",
              "        <tr>\n",
              "            <td>0    </td> <td>14.6      </td> <td>5500                  </td> <td>gold    </td>\n",
              "        </tr>\n",
              "        <tr>\n",
              "            <td>0    </td> <td>16.9      </td> <td>6700                  </td> <td>gold    </td>\n",
              "        </tr>\n",
              "        <tr>\n",
              "            <td>0    </td> <td>16        </td> <td>5300                  </td> <td>gold    </td>\n",
              "        </tr>\n",
              "        <tr>\n",
              "            <td>0    </td> <td>14.7      </td> <td>9800                  </td> <td>gold    </td>\n",
              "        </tr>\n",
              "        <tr>\n",
              "            <td>0    </td> <td>16.6      </td> <td>7100                  </td> <td>gold    </td>\n",
              "        </tr>\n",
              "        <tr>\n",
              "            <td>0    </td> <td>14.9      </td> <td>7000                  </td> <td>gold    </td>\n",
              "        </tr>\n",
              "        <tr>\n",
              "            <td>0    </td> <td>16.7      </td> <td>10200                 </td> <td>gold    </td>\n",
              "        </tr>\n",
              "        <tr>\n",
              "            <td>0    </td> <td>16.8      </td> <td>6300                  </td> <td>gold    </td>\n",
              "        </tr>\n",
              "        <tr>\n",
              "            <td>0    </td> <td>13.5      </td> <td>8600                  </td> <td>gold    </td>\n",
              "        </tr>\n",
              "        <tr>\n",
              "            <td>0    </td> <td>15.1      </td> <td>11000                 </td> <td>gold    </td>\n",
              "        </tr>\n",
              "        <tr>\n",
              "            <td>0    </td> <td>16.9      </td> <td>7200                  </td> <td>gold    </td>\n",
              "        </tr>\n",
              "        <tr>\n",
              "            <td>0    </td> <td>13.1      </td> <td>6200                  </td> <td>gold    </td>\n",
              "        </tr>\n",
              "        <tr>\n",
              "            <td>0    </td> <td>17.1      </td> <td>9100                  </td> <td>gold    </td>\n",
              "        </tr>\n",
              "        <tr>\n",
              "            <td>0    </td> <td>15.2      </td> <td>4300                  </td> <td>gold    </td>\n",
              "        </tr>\n",
              "        <tr>\n",
              "            <td>0    </td> <td>13.6      </td> <td>7900                  </td> <td>gold    </td>\n",
              "        </tr>\n",
              "        <tr>\n",
              "            <td>0    </td> <td>13.9      </td> <td>6900                  </td> <td>gold    </td>\n",
              "        </tr>\n",
              "        <tr>\n",
              "            <td>0    </td> <td>13.2      </td> <td>11000                 </td> <td>gold    </td>\n",
              "        </tr>\n",
              "        <tr>\n",
              "            <td>0    </td> <td>13.7      </td> <td>7500                  </td> <td>gold    </td>\n",
              "        </tr>\n",
              "        <tr>\n",
              "            <td>0    </td> <td>17.3      </td> <td>8200                  </td> <td>gold    </td>\n",
              "        </tr>\n",
              "        <tr>\n",
              "            <td>0    </td> <td>15.6      </td> <td>9400                  </td> <td>gold    </td>\n",
              "        </tr>\n",
              "        <tr>\n",
              "            <td>0    </td> <td>15        </td> <td>8100                  </td> <td>gold    </td>\n",
              "        </tr>\n",
              "        <tr>\n",
              "            <td>0    </td> <td>17.4      </td> <td>7000                  </td> <td>gold    </td>\n",
              "        </tr>\n",
              "        <tr>\n",
              "            <td>0    </td> <td>15.7      </td> <td>10400                 </td> <td>gold    </td>\n",
              "        </tr>\n",
              "        <tr>\n",
              "            <td>0    </td> <td>13.9      </td> <td>9600                  </td> <td>gold    </td>\n",
              "        </tr>\n",
              "        <tr>\n",
              "            <td>0    </td> <td>15.9      </td> <td>7800                  </td> <td>gold    </td>\n",
              "        </tr>\n",
              "        <tr>\n",
              "            <td>0    </td> <td>14        </td> <td>6700                  </td> <td>gold    </td>\n",
              "        </tr>\n",
              "        <tr>\n",
              "            <td>0    </td> <td>15.8      </td> <td>8300                  </td> <td>gold    </td>\n",
              "        </tr>\n",
              "        <tr>\n",
              "            <td>0    </td> <td>13.4      </td> <td>10700                 </td> <td>gold    </td>\n",
              "        </tr>\n",
              "        <tr>\n",
              "            <td>0    </td> <td>14.1      </td> <td>7800                  </td> <td>gold    </td>\n",
              "        </tr>\n",
              "        <tr>\n",
              "            <td>0    </td> <td>13.5      </td> <td>6700                  </td> <td>gold    </td>\n",
              "        </tr>\n",
              "        <tr>\n",
              "            <td>0    </td> <td>17.7      </td> <td>4300                  </td> <td>gold    </td>\n",
              "        </tr>\n",
              "        <tr>\n",
              "            <td>0    </td> <td>14.2      </td> <td>10700                 </td> <td>gold    </td>\n",
              "        </tr>\n",
              "        <tr>\n",
              "            <td>0    </td> <td>14        </td> <td>7500                  </td> <td>gold    </td>\n",
              "        </tr>\n",
              "        <tr>\n",
              "            <td>0    </td> <td>17.8      </td> <td>4700                  </td> <td>gold    </td>\n",
              "        </tr>\n",
              "        <tr>\n",
              "            <td>0    </td> <td>13.3      </td> <td>7000                  </td> <td>gold    </td>\n",
              "        </tr>\n",
              "        <tr>\n",
              "            <td>0    </td> <td>14.3      </td> <td>6700                  </td> <td>gold    </td>\n",
              "        </tr>\n",
              "        <tr>\n",
              "            <td>0    </td> <td>13.4      </td> <td>7300                  </td> <td>gold    </td>\n",
              "        </tr>\n",
              "        <tr>\n",
              "            <td>0    </td> <td>15        </td> <td>7700                  </td> <td>gold    </td>\n",
              "        </tr>\n",
              "        <tr>\n",
              "            <td>0    </td> <td>16.2      </td> <td>5500                  </td> <td>gold    </td>\n",
              "        </tr>\n",
              "        <tr>\n",
              "            <td>0    </td> <td>14.4      </td> <td>8100                  </td> <td>gold    </td>\n",
              "        </tr>\n",
              "        <tr>\n",
              "            <td>0    </td> <td>13.5      </td> <td>7900                  </td> <td>gold    </td>\n",
              "        </tr>\n",
              "        <tr>\n",
              "            <td>0    </td> <td>17.8      </td> <td>7200                  </td> <td>gold    </td>\n",
              "        </tr>\n",
              "        <tr>\n",
              "            <td>0    </td> <td>13.6      </td> <td>7300                  </td> <td>gold    </td>\n",
              "        </tr>\n",
              "        <tr>\n",
              "            <td>0    </td> <td>17.5      </td> <td>9900                  </td> <td>gold    </td>\n",
              "        </tr>\n",
              "        <tr>\n",
              "            <td>0    </td> <td>15        </td> <td>7000                  </td> <td>gold    </td>\n",
              "        </tr>\n",
              "        <tr>\n",
              "            <td>0    </td> <td>13.6      </td> <td>5800                  </td> <td>gold    </td>\n",
              "        </tr>\n",
              "        <tr>\n",
              "            <td>0    </td> <td>14.6      </td> <td>6800                  </td> <td>gold    </td>\n",
              "        </tr>\n",
              "        <tr>\n",
              "            <td>0    </td> <td>15        </td> <td>6300                  </td> <td>gold    </td>\n",
              "        </tr>\n",
              "        <tr>\n",
              "            <td>0    </td> <td>17.1      </td> <td>7400                  </td> <td>gold    </td>\n",
              "        </tr>\n",
              "        <tr>\n",
              "            <td>0    </td> <td>13.6      </td> <td>11000                 </td> <td>gold    </td>\n",
              "        </tr>\n",
              "        <tr>\n",
              "            <td>0    </td> <td>13        </td> <td>5200                  </td> <td>gold    </td>\n",
              "        </tr>\n",
              "        <tr>\n",
              "            <td>0    </td> <td>17.2      </td> <td>6000                  </td> <td>gold    </td>\n",
              "        </tr>\n",
              "        <tr>\n",
              "            <td>0    </td> <td>14.7      </td> <td>5800                  </td> <td>gold    </td>\n",
              "        </tr>\n",
              "        <tr>\n",
              "            <td>0    </td> <td>13.7      </td> <td>5400                  </td> <td>gold    </td>\n",
              "        </tr>\n",
              "        <tr>\n",
              "            <td>0    </td> <td>15        </td> <td>10300                 </td> <td>gold    </td>\n",
              "        </tr>\n",
              "        <tr>\n",
              "            <td>0    </td> <td>14.8      </td> <td>9300                  </td> <td>gold    </td>\n",
              "        </tr>\n",
              "        <tr>\n",
              "            <td>0    </td> <td>15        </td> <td>10500                 </td> <td>gold    </td>\n",
              "        </tr>\n",
              "        <tr>\n",
              "            <td>0    </td> <td>17.4      </td> <td>6700                  </td> <td>gold    </td>\n",
              "        </tr>\n",
              "        <tr>\n",
              "            <td>0    </td> <td>14.9      </td> <td>9400                  </td> <td>gold    </td>\n",
              "        </tr>\n",
              "        <tr>\n",
              "            <td>0    </td> <td>13.6      </td> <td>10300                 </td> <td>gold    </td>\n",
              "        </tr>\n",
              "        <tr>\n",
              "            <td>0    </td> <td>16.2      </td> <td>9300                  </td> <td>gold    </td>\n",
              "        </tr>\n",
              "        <tr>\n",
              "            <td>0    </td> <td>17.6      </td> <td>6500                  </td> <td>gold    </td>\n",
              "        </tr>\n",
              "        <tr>\n",
              "            <td>0    </td> <td>15        </td> <td>10500                 </td> <td>gold    </td>\n",
              "        </tr>\n",
              "        <tr>\n",
              "            <td>0    </td> <td>13.7      </td> <td>9200                  </td> <td>gold    </td>\n",
              "        </tr>\n",
              "        <tr>\n",
              "            <td>0    </td> <td>16.3      </td> <td>8000                  </td> <td>gold    </td>\n",
              "        </tr>\n",
              "        <tr>\n",
              "            <td>0    </td> <td>15.1      </td> <td>9700                  </td> <td>gold    </td>\n",
              "        </tr>\n",
              "        <tr>\n",
              "            <td>0    </td> <td>16.4      </td> <td>9100                  </td> <td>gold    </td>\n",
              "        </tr>\n",
              "        <tr>\n",
              "            <td>0    </td> <td>13.8      </td> <td>6400                  </td> <td>gold    </td>\n",
              "        </tr>\n",
              "        <tr>\n",
              "            <td>0    </td> <td>16.1      </td> <td>5400                  </td> <td>gold    </td>\n",
              "        </tr>\n",
              "        <tr>\n",
              "            <td>0    </td> <td>15.3      </td> <td>6500                  </td> <td>gold    </td>\n",
              "        </tr>\n",
              "        <tr>\n",
              "            <td>0    </td> <td>16.8      </td> <td>6000                  </td> <td>gold    </td>\n",
              "        </tr>\n",
              "        <tr>\n",
              "            <td>0    </td> <td>13.9      </td> <td>5100                  </td> <td>gold    </td>\n",
              "        </tr>\n",
              "        <tr>\n",
              "            <td>0    </td> <td>15.4      </td> <td>11000                 </td> <td>gold    </td>\n",
              "        </tr>\n",
              "        <tr>\n",
              "            <td>0    </td> <td>16.5      </td> <td>8000                  </td> <td>gold    </td>\n",
              "        </tr>\n",
              "        <tr>\n",
              "            <td>0    </td> <td>16.4      </td> <td>5700                  </td> <td>gold    </td>\n",
              "        </tr>\n",
              "        <tr>\n",
              "            <td>0    </td> <td>16.7      </td> <td>6200                  </td> <td>gold    </td>\n",
              "        </tr>\n",
              "        <tr>\n",
              "            <td>0    </td> <td>15.5      </td> <td>9500                  </td> <td>gold    </td>\n",
              "        </tr>\n",
              "        <tr>\n",
              "            <td>0    </td> <td>17        </td> <td>7200                  </td> <td>gold    </td>\n",
              "        </tr>\n",
              "        <tr>\n",
              "            <td>0    </td> <td>15        </td> <td>6300                  </td> <td>gold    </td>\n",
              "        </tr>\n",
              "        <tr>\n",
              "            <td>0    </td> <td>15.6      </td> <td>5800                  </td> <td>gold    </td>\n",
              "        </tr>\n",
              "        <tr>\n",
              "            <td>0    </td> <td>14.8      </td> <td>6600                  </td> <td>gold    </td>\n",
              "        </tr>\n",
              "        <tr>\n",
              "            <td>0    </td> <td>13        </td> <td>7400                  </td> <td>gold    </td>\n",
              "        </tr>\n",
              "        <tr>\n",
              "            <td>0    </td> <td>14.1      </td> <td>9500                  </td> <td>gold    </td>\n",
              "        </tr>\n",
              "        <tr>\n",
              "            <td>0    </td> <td>15.7      </td> <td>6700                  </td> <td>gold    </td>\n",
              "        </tr>\n",
              "        <tr>\n",
              "            <td>0    </td> <td>16.5      </td> <td>7800                  </td> <td>gold    </td>\n",
              "        </tr>\n",
              "        <tr>\n",
              "            <td>0    </td> <td>15.8      </td> <td>6600                  </td> <td>gold    </td>\n",
              "        </tr>\n",
              "        <tr>\n",
              "            <td>0    </td> <td>14.2      </td> <td>7200                  </td> <td>gold    </td>\n",
              "        </tr>\n",
              "        <tr>\n",
              "            <td>0    </td> <td>15.8      </td> <td>6800                  </td> <td>gold    </td>\n",
              "        </tr>\n",
              "        <tr>\n",
              "            <td>1    </td> <td>11.2      </td> <td>6700                  </td> <td>darkblue</td>\n",
              "        </tr>\n",
              "        <tr>\n",
              "            <td>1    </td> <td>9.5       </td> <td>12100                 </td> <td>darkblue</td>\n",
              "        </tr>\n",
              "        <tr>\n",
              "            <td>1    </td> <td>10.8      </td> <td>4500                  </td> <td>darkblue</td>\n",
              "        </tr>\n",
              "        <tr>\n",
              "            <td>1    </td> <td>5.6       </td> <td>11000                 </td> <td>darkblue</td>\n",
              "        </tr>\n",
              "        <tr>\n",
              "            <td>1    </td> <td>7.7       </td> <td>9200                  </td> <td>darkblue</td>\n",
              "        </tr>\n",
              "        <tr>\n",
              "            <td>1    </td> <td>9.8       </td> <td>6900                  </td> <td>darkblue</td>\n",
              "        </tr>\n",
              "        <tr>\n",
              "            <td>1    </td> <td>12.5      </td> <td>9600                  </td> <td>darkblue</td>\n",
              "        </tr>\n",
              "        <tr>\n",
              "            <td>1    </td> <td>10        </td> <td>18900                 </td> <td>darkblue</td>\n",
              "        </tr>\n",
              "        <tr>\n",
              "            <td>1    </td> <td>10.5      </td> <td>7200                  </td> <td>darkblue</td>\n",
              "        </tr>\n",
              "        <tr>\n",
              "            <td>1    </td> <td>9.8       </td> <td>14600                 </td> <td>darkblue</td>\n",
              "        </tr>\n",
              "        <tr>\n",
              "            <td>1    </td> <td>9.1       </td> <td>6400                  </td> <td>darkblue</td>\n",
              "        </tr>\n",
              "        <tr>\n",
              "            <td>1    </td> <td>10.3      </td> <td>6200                  </td> <td>darkblue</td>\n",
              "        </tr>\n",
              "        <tr>\n",
              "            <td>1    </td> <td>7.1       </td> <td>3800                  </td> <td>darkblue</td>\n",
              "        </tr>\n",
              "        <tr>\n",
              "            <td>1    </td> <td>13        </td> <td>9800                  </td> <td>darkblue</td>\n",
              "        </tr>\n",
              "        <tr>\n",
              "            <td>1    </td> <td>16.1      </td> <td>12500                 </td> <td>darkblue</td>\n",
              "        </tr>\n",
              "        <tr>\n",
              "            <td>1    </td> <td>10.4      </td> <td>5600                  </td> <td>darkblue</td>\n",
              "        </tr>\n",
              "        <tr>\n",
              "            <td>1    </td> <td>9.2       </td> <td>7000                  </td> <td>darkblue</td>\n",
              "        </tr>\n",
              "        <tr>\n",
              "            <td>1    </td> <td>11.4      </td> <td>15200                 </td> <td>darkblue</td>\n",
              "        </tr>\n",
              "        <tr>\n",
              "            <td>1    </td> <td>8.1       </td> <td>5000                  </td> <td>darkblue</td>\n",
              "        </tr>\n",
              "        <tr>\n",
              "            <td>1    </td> <td>8.2       </td> <td>16300                 </td> <td>darkblue</td>\n",
              "        </tr>\n",
              "        <tr>\n",
              "            <td>1    </td> <td>12        </td> <td>8400                  </td> <td>darkblue</td>\n",
              "        </tr>\n",
              "        <tr>\n",
              "            <td>1    </td> <td>11.1      </td> <td>10500                 </td> <td>darkblue</td>\n",
              "        </tr>\n",
              "        <tr>\n",
              "            <td>1    </td> <td>7.9       </td> <td>15200                 </td> <td>darkblue</td>\n",
              "        </tr>\n",
              "        <tr>\n",
              "            <td>1    </td> <td>8.3       </td> <td>14600                 </td> <td>darkblue</td>\n",
              "        </tr>\n",
              "        <tr>\n",
              "            <td>1    </td> <td>12.6      </td> <td>7900                  </td> <td>darkblue</td>\n",
              "        </tr>\n",
              "        <tr>\n",
              "            <td>1    </td> <td>10.4      </td> <td>10900                 </td> <td>darkblue</td>\n",
              "        </tr>\n",
              "        <tr>\n",
              "            <td>1    </td> <td>8.7       </td> <td>12800                 </td> <td>darkblue</td>\n",
              "        </tr>\n",
              "        <tr>\n",
              "            <td>1    </td> <td>8.3       </td> <td>12400                 </td> <td>darkblue</td>\n",
              "        </tr>\n",
              "        <tr>\n",
              "            <td>1    </td> <td>10        </td> <td>19100                 </td> <td>darkblue</td>\n",
              "        </tr>\n",
              "        <tr>\n",
              "            <td>1    </td> <td>9.5       </td> <td>7500                  </td> <td>darkblue</td>\n",
              "        </tr>\n",
              "        <tr>\n",
              "            <td>1    </td> <td>9.9       </td> <td>16700                 </td> <td>darkblue</td>\n",
              "        </tr>\n",
              "        <tr>\n",
              "            <td>1    </td> <td>8.1       </td> <td>9600                  </td> <td>darkblue</td>\n",
              "        </tr>\n",
              "        <tr>\n",
              "            <td>1    </td> <td>11.2      </td> <td>26400                 </td> <td>darkblue</td>\n",
              "        </tr>\n",
              "        <tr>\n",
              "            <td>1    </td> <td>7.3       </td> <td>9800                  </td> <td>darkblue</td>\n",
              "        </tr>\n",
              "        <tr>\n",
              "            <td>1    </td> <td>10.9      </td> <td>8800                  </td> <td>darkblue</td>\n",
              "        </tr>\n",
              "        <tr>\n",
              "            <td>1    </td> <td>10.9      </td> <td>7400                  </td> <td>darkblue</td>\n",
              "        </tr>\n",
              "        <tr>\n",
              "            <td>1    </td> <td>11.5      </td> <td>12000                 </td> <td>darkblue</td>\n",
              "        </tr>\n",
              "        <tr>\n",
              "            <td>1    </td> <td>7.9       </td> <td>7500                  </td> <td>darkblue</td>\n",
              "        </tr>\n",
              "        <tr>\n",
              "            <td>1    </td> <td>9.6       </td> <td>15700                 </td> <td>darkblue</td>\n",
              "        </tr>\n",
              "        <tr>\n",
              "            <td>1    </td> <td>9.4       </td> <td>11500                 </td> <td>darkblue</td>\n",
              "        </tr>\n",
              "        <tr>\n",
              "            <td>1    </td> <td>8.6       </td> <td>5000                  </td> <td>darkblue</td>\n",
              "        </tr>\n",
              "        <tr>\n",
              "            <td>1    </td> <td>12.6      </td> <td>10200                 </td> <td>darkblue</td>\n",
              "        </tr>\n",
              "        <tr>\n",
              "            <td>1    </td> <td>3.1       </td> <td>5400                  </td> <td>darkblue</td>\n",
              "        </tr>\n",
              "    </tbody>\n",
              "</table>"
            ]
          },
          "metadata": {}
        }
      ]
    },
    {
      "cell_type": "code",
      "execution_count": null,
      "metadata": {
        "id": "7FnENC2bHp8a",
        "outputId": "e8193014-0135-422a-fa87-c597605a2bbc",
        "colab": {
          "base_uri": "https://localhost:8080/",
          "height": 358
        }
      },
      "outputs": [
        {
          "output_type": "display_data",
          "data": {
            "text/plain": [
              "<Figure size 360x360 with 1 Axes>"
            ],
            "image/png": "[encoded data removed]"
          },
          "metadata": {}
        }
      ],
      "source": [
        "ckd.scatter('Hemoglobin', 'White Blood Cell Count', group='Color')\n",
        "plots.plot([12.5, 15], [5000,25000]); # Be sure to substitute actual values for x1 and x2 here"
      ]
    },
    {
      "cell_type": "code",
      "source": [
        "def ckd_logistic(a, b, c):\n",
        "  Hem = ckd.column('Hemoglobin')\n",
        "  WBC = ckd.column('White Blood Cell Count')\n",
        "  y = ckd.column('Class')\n",
        "  linear = a*Hem + b*WBC + c\n",
        "  return np.mean(np.log(1+np.exp(linear)) - y*linear)"
      ],
      "metadata": {
        "id": "3cNnCruzh_fB"
      },
      "execution_count": null,
      "outputs": []
    },
    {
      "cell_type": "markdown",
      "source": [
        "##Step. 7"
      ],
      "metadata": {
        "id": "Rsj2y5Msid6C"
      }
    },
    {
      "cell_type": "code",
      "execution_count": null,
      "metadata": {
        "outputId": "9a0ede2c-0ee5-4d53-f0b7-587d74f040a9",
        "colab": {
          "base_uri": "https://localhost:8080/"
        },
        "id": "mgDT9imviNlo"
      },
      "outputs": [
        {
          "output_type": "stream",
          "name": "stderr",
          "text": [
            "/usr/local/lib/python3.7/dist-packages/ipykernel_launcher.py:6: RuntimeWarning: overflow encountered in exp\n",
            "  \n"
          ]
        },
        {
          "output_type": "execute_result",
          "data": {
            "text/plain": [
              "array([-2.71079080e+00,  8.36738029e-04,  2.70052496e+01])"
            ]
          },
          "metadata": {},
          "execution_count": 67
        }
      ],
      "source": [
        "best = minimize(ckd_logistic)\n",
        "best"
      ]
    },
    {
      "cell_type": "code",
      "source": [
        "ckd_logistic(best.item(0), best.item(1), best.item(2))"
      ],
      "metadata": {
        "colab": {
          "base_uri": "https://localhost:8080/"
        },
        "id": "ef2xUCIMCAJG",
        "outputId": "9b605aab-0e21-4d4a-da7c-71f084e06066"
      },
      "execution_count": null,
      "outputs": [
        {
          "output_type": "execute_result",
          "data": {
            "text/plain": [
              "0.0806233955079064"
            ]
          },
          "metadata": {},
          "execution_count": 68
        }
      ]
    },
    {
      "cell_type": "code",
      "source": [
        "np.exp(0.0806233955079064) / (1 + np.exp(0.0806233955079064))"
      ],
      "metadata": {
        "colab": {
          "base_uri": "https://localhost:8080/"
        },
        "id": "8i14-4_KKEDc",
        "outputId": "652d28e8-c1c9-43a4-ee43-54ac1e527993"
      },
      "execution_count": null,
      "outputs": [
        {
          "output_type": "execute_result",
          "data": {
            "text/plain": [
              "0.5201449379961114"
            ]
          },
          "metadata": {},
          "execution_count": 71
        }
      ]
    },
    {
      "cell_type": "code",
      "execution_count": null,
      "metadata": {
        "outputId": "626015a9-29c2-4ebd-8e5c-2ad696f8e8da",
        "colab": {
          "base_uri": "https://localhost:8080/",
          "height": 358
        },
        "id": "DVA5R4jYkjg1"
      },
      "outputs": [
        {
          "output_type": "display_data",
          "data": {
            "text/plain": [
              "<Figure size 360x360 with 1 Axes>"
            ],
            "image/png": "[encoded data removed]"
          },
          "metadata": {}
        }
      ],
      "source": [
        "ckd.scatter('Hemoglobin', 'White Blood Cell Count', group='Color')\n",
        "plots.plot([best.item(0), best.item(1)], [5000,25000], color='red'); # Be sure to substitute actual values for x1 and x2 here"
      ]
    },
    {
      "cell_type": "code",
      "source": [
        "ckd_logistic(12, 7500, 0)"
      ],
      "metadata": {
        "colab": {
          "base_uri": "https://localhost:8080/"
        },
        "id": "uyJZqxJc_emM",
        "outputId": "9c375565-7aab-454c-bb97-837bb928881e"
      },
      "execution_count": null,
      "outputs": [
        {
          "output_type": "stream",
          "name": "stderr",
          "text": [
            "/usr/local/lib/python3.7/dist-packages/ipykernel_launcher.py:6: RuntimeWarning: overflow encountered in exp\n",
            "  \n"
          ]
        },
        {
          "output_type": "execute_result",
          "data": {
            "text/plain": [
              "inf"
            ]
          },
          "metadata": {},
          "execution_count": 69
        }
      ]
    }
  ],
  "metadata": {
    "anaconda-cloud": {},
    "colab": {
      "provenance": [],
      "include_colab_link": true
    },
    "kernelspec": {
      "display_name": "Python 3",
      "language": "python",
      "name": "python3"
    },
    "language_info": {
      "codemirror_mode": {
        "name": "ipython",
        "version": 3
      },
      "file_extension": ".py",
      "mimetype": "text/x-python",
      "name": "python",
      "nbconvert_exporter": "python",
      "pygments_lexer": "ipython3",
      "version": "3.8.5"
    }
  },
  "nbformat": 4,
  "nbformat_minor": 0
}