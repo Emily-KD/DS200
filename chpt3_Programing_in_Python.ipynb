{
  "cells": [
    {
      "cell_type": "markdown",
      "metadata": {
        "id": "view-in-github",
        "colab_type": "text"
      },
      "source": [
        "<a href=\"https://colab.research.google.com/github/Emily-KD/DS200/blob/main/chpt3_Programing_in_Python.ipynb\" target=\"_parent\"><img src=\"https://colab.research.google.com/assets/colab-badge.svg\" alt=\"Open In Colab\"/></a>"
      ]
    },
    {
      "cell_type": "markdown",
      "source": [
        "# 3. Programming in Python\n",
        "\n",
        "Programming can dramatically improve our ability to collect and analyze information about the world, which in turn can lead to discoveries through the kind of careful reasoning demonstrated in the previous section. In data science, the purpose of writing a program is to instruct a computer to carry out the steps of an analysis. Computers cannot study the world on their own. People must describe precisely what steps the computer should take in order to collect and analyze data, and those steps are expressed through programs.\n",
        "\n"
      ],
      "metadata": {
        "id": "gTOenPNFzWSD"
      }
    },
    {
      "cell_type": "code",
      "execution_count": null,
      "metadata": {
        "tags": [
          "remove-input"
        ],
        "id": "0YSFzDNc22Fy"
      },
      "outputs": [],
      "source": [
        "from datascience import *\n",
        "path_data = 'http://personal.psu.edu/drh20/200DS/assets/data/'\n",
        "import numpy as np\n",
        "%matplotlib inline\n",
        "import matplotlib.pyplot as plots\n",
        "plots.style.use('fivethirtyeight')\n",
        "\n",
        "cones = Table.read_table(path_data + 'cones.csv')\n",
        "nba = Table.read_table(path_data + 'nba_salaries.csv').relabeled(3, 'SALARY')\n",
        "movies = Table.read_table(path_data + 'movies_by_year.csv')"
      ]
    },
    {
      "cell_type": "markdown",
      "metadata": {
        "id": "zVtczd6Lzcz2"
      },
      "source": [
        "## 3.1. Expressions\n",
        "\n",
        "Programming languages are much simpler than human languages. Nonetheless, there are some rules of grammar to learn in any language, and that is where we will begin. In this text, we will use the [Python](https://www.python.org/) programming language. Learning the grammar rules is essential, and the same rules used in the most basic programs are also central to more sophisticated programs.\n",
        "\n",
        "Programs are made up of *expressions*, which describe to the computer how to combine pieces of data. For example, a multiplication expression consists of a `*` symbol between two numerical expressions. Expressions, such as `3 * 4`, are *evaluated* by the computer. The value (the result of *evaluation*) of the last expression in each cell, `12` in this case, is displayed below the cell."
      ]
    },
    {
      "cell_type": "code",
      "execution_count": null,
      "metadata": {
        "id": "RwFgT0-7zcz4",
        "outputId": "d2b28fbc-259a-4bbb-c1a6-294511730af3",
        "colab": {
          "base_uri": "https://localhost:8080/"
        }
      },
      "outputs": [
        {
          "output_type": "execute_result",
          "data": {
            "text/plain": [
              "12"
            ]
          },
          "metadata": {},
          "execution_count": 3
        }
      ],
      "source": [
        "3 * 4"
      ]
    },
    {
      "cell_type": "markdown",
      "metadata": {
        "id": "2Rq_jw5Czcz6"
      },
      "source": [
        "The grammar rules of a programming language are rigid. In Python, the `*` symbol cannot appear twice in a row. The computer will not try to interpret an expression that differs from its prescribed expression structures. Instead, it will show a `SyntaxError` error. The *Syntax* of a language is its set of grammar rules, and a `SyntaxError` indicates that an expression structure doesn't match any of the rules of the language."
      ]
    },
    {
      "cell_type": "code",
      "execution_count": null,
      "metadata": {
        "tags": [
          "raises-exception"
        ],
        "id": "WN2g13Yxzcz6",
        "outputId": "47855415-dec8-4bbd-f6ad-bf179002fe19",
        "colab": {
          "base_uri": "https://localhost:8080/",
          "height": 131
        }
      },
      "outputs": [
        {
          "output_type": "error",
          "ename": "SyntaxError",
          "evalue": "ignored",
          "traceback": [
            "\u001b[0;36m  File \u001b[0;32m\"<ipython-input-4-012ea60b41dd>\"\u001b[0;36m, line \u001b[0;32m1\u001b[0m\n\u001b[0;31m    3 * * 4\u001b[0m\n\u001b[0m        ^\u001b[0m\n\u001b[0;31mSyntaxError\u001b[0m\u001b[0;31m:\u001b[0m invalid syntax\n"
          ]
        }
      ],
      "source": [
        "3 * * 4"
      ]
    },
    {
      "cell_type": "markdown",
      "metadata": {
        "id": "tlfW_REszcz6"
      },
      "source": [
        "Small changes to an expression can change its meaning entirely. Below, the space between the `*`'s has been removed. Because `**` appears between two numerical expressions, the expression is a well-formed *exponentiation* expression (the first number raised to the power of the second: 3 times 3 times 3 times 3). The symbols `*` and `**` are called *operators*, and the values they combine are called *operands*."
      ]
    },
    {
      "cell_type": "code",
      "execution_count": null,
      "metadata": {
        "id": "phbZqTdDzcz6",
        "outputId": "74532e13-8d9c-4617-8e85-62bf184345a9",
        "colab": {
          "base_uri": "https://localhost:8080/"
        }
      },
      "outputs": [
        {
          "output_type": "execute_result",
          "data": {
            "text/plain": [
              "81"
            ]
          },
          "metadata": {},
          "execution_count": 5
        }
      ],
      "source": [
        "3 ** 4"
      ]
    },
    {
      "cell_type": "markdown",
      "metadata": {
        "id": "llB4pzlfzcz7"
      },
      "source": [
        "**Common Operators.** Data science often involves combining numerical values, and the set of operators in a programming language are designed to so that expressions can be used to express any sort of arithmetic. In Python, the following operators are essential.\n",
        "\n",
        "| Expression Type | Operator | Example    | Value     |\n",
        "|-----------------|----------|------------|-----------|\n",
        "| Addition        | `+`      | `2 + 3`    | `5`       |\n",
        "| Subtraction     | `-`      | `2 - 3`    | `-1`      |\n",
        "| Multiplication  | `*`      | `2 * 3`    | `6`       |\n",
        "| Division        | `/`      | `7 / 3`    | `2.66667` |\n",
        "| Remainder       | `%`      | `7 % 3`    | `1`       |\n",
        "| Exponentiation  | `**`     | `2 ** 0.5` | `1.41421` |"
      ]
    },
    {
      "cell_type": "markdown",
      "metadata": {
        "id": "0epLEbB2zcz8"
      },
      "source": [
        "Python expressions obey the same familiar rules of *precedence* as in algebra: multiplication and division occur before addition and subtraction. Parentheses can be used to group together smaller expressions within a larger expression."
      ]
    },
    {
      "cell_type": "code",
      "execution_count": null,
      "metadata": {
        "id": "2Fg_RIsTzcz8",
        "outputId": "926125cd-ba5f-4cf1-8066-ff83a9ac6131",
        "colab": {
          "base_uri": "https://localhost:8080/"
        }
      },
      "outputs": [
        {
          "output_type": "execute_result",
          "data": {
            "text/plain": [
              "17.555555555555557"
            ]
          },
          "metadata": {},
          "execution_count": 6
        }
      ],
      "source": [
        "1 + 2 * 3 * 4 * 5 / 6 ** 3 + 7 + 8 - 9 + 10"
      ]
    },
    {
      "cell_type": "code",
      "execution_count": null,
      "metadata": {
        "id": "DiNRxsCjzcz9",
        "outputId": "bf64658a-3fca-48ff-9988-c78309856671",
        "colab": {
          "base_uri": "https://localhost:8080/"
        }
      },
      "outputs": [
        {
          "output_type": "execute_result",
          "data": {
            "text/plain": [
              "2017.0"
            ]
          },
          "metadata": {},
          "execution_count": 18
        }
      ],
      "source": [
        "1 + 2 * (3 * 4 * 5 / 6) ** 3 + 7 + 8 - 9 + 10"
      ]
    },
    {
      "cell_type": "code",
      "source": [
        "1+2*3"
      ],
      "metadata": {
        "colab": {
          "base_uri": "https://localhost:8080/"
        },
        "id": "DRnmynLXMwAw",
        "outputId": "4eb47c43-3fa0-468b-8cf4-8ff62b38655d"
      },
      "execution_count": null,
      "outputs": [
        {
          "output_type": "execute_result",
          "data": {
            "text/plain": [
              "7"
            ]
          },
          "metadata": {},
          "execution_count": 7
        }
      ]
    },
    {
      "cell_type": "code",
      "source": [
        "1 + 2 * 3 ** 2 - 4"
      ],
      "metadata": {
        "colab": {
          "base_uri": "https://localhost:8080/"
        },
        "id": "wlg8TBQpM7uQ",
        "outputId": "85cc9148-78c6-4125-ebc0-a5de07a96ddb"
      },
      "execution_count": null,
      "outputs": [
        {
          "output_type": "execute_result",
          "data": {
            "text/plain": [
              "15"
            ]
          },
          "metadata": {},
          "execution_count": 8
        }
      ]
    },
    {
      "cell_type": "markdown",
      "metadata": {
        "id": "XkDpxiZbzcz9"
      },
      "source": [
        "This chapter introduces many types of expressions. Learning to program involves trying out everything you learn in combination, investigating the behavior of the computer. What happens if you divide by zero? What happens if you divide twice in a row? You don't always need to ask an expert (or the Internet); many of these details can be discovered by trying them out yourself. "
      ]
    },
    {
      "cell_type": "markdown",
      "metadata": {
        "id": "wwrKGhv90irr"
      },
      "source": [
        "## 3.2. Names\n",
        "\n",
        "Names are given to values in Python using an *assignment* statement. In an assignment, a name is followed by `=`, which is followed by any expression. The value of the expression to the right of `=` is *assigned* to the name. Once a name has a value assigned to it, the value will be substituted for that name in future expressions."
      ]
    },
    {
      "cell_type": "code",
      "execution_count": null,
      "metadata": {
        "id": "pFf0qEHU0irt",
        "outputId": "b92c82ff-d612-4235-b0b9-49d315ebb428",
        "colab": {
          "base_uri": "https://localhost:8080/"
        }
      },
      "outputs": [
        {
          "output_type": "execute_result",
          "data": {
            "text/plain": [
              "30"
            ]
          },
          "metadata": {},
          "execution_count": 9
        }
      ],
      "source": [
        "a = 10\n",
        "A = 20\n",
        "a + A"
      ]
    },
    {
      "cell_type": "markdown",
      "metadata": {
        "id": "GtmIu8LB0iru"
      },
      "source": [
        "A previously assigned name can be used in the expression to the right of `=`. "
      ]
    },
    {
      "cell_type": "code",
      "execution_count": null,
      "metadata": {
        "id": "RYKsAJNh0iru",
        "outputId": "d68fe7fd-aa2e-49bf-ae51-69c1feb031f1",
        "colab": {
          "base_uri": "https://localhost:8080/"
        }
      },
      "outputs": [
        {
          "output_type": "execute_result",
          "data": {
            "text/plain": [
              "0.5"
            ]
          },
          "metadata": {},
          "execution_count": 10
        }
      ],
      "source": [
        "quarter = 1/4\n",
        "half = 2 * quarter\n",
        "half"
      ]
    },
    {
      "cell_type": "markdown",
      "metadata": {
        "id": "dIp-orJo0iru"
      },
      "source": [
        "However, only the current value of an expression is assigned to a name. If that value changes later, names that were defined in terms of that value will not change automatically."
      ]
    },
    {
      "cell_type": "code",
      "execution_count": null,
      "metadata": {
        "id": "PLU5M2Mc0irv",
        "outputId": "44a66e8e-5ecd-4235-db97-11fd938502fd",
        "colab": {
          "base_uri": "https://localhost:8080/"
        }
      },
      "outputs": [
        {
          "output_type": "execute_result",
          "data": {
            "text/plain": [
              "0.5"
            ]
          },
          "metadata": {},
          "execution_count": 11
        }
      ],
      "source": [
        "quarter = 4\n",
        "half"
      ]
    },
    {
      "cell_type": "markdown",
      "metadata": {
        "id": "PzxxgK0q0irv"
      },
      "source": [
        "Names must start with a letter, but can contain both letters and numbers. A name cannot contain a space; instead, it is common to use an underscore character `_` to replace each space. Names are only as useful as you make them; it's up to the programmer to choose names that are easy to interpret. Typically, more meaningful names can be invented than `a` and `b`. For example, to describe the sales tax on a $5 purchase in Berkeley, CA, the following names clarify the meaning of the various quantities involved."
      ]
    },
    {
      "cell_type": "code",
      "execution_count": null,
      "metadata": {
        "id": "CQ4yT7h90irw",
        "outputId": "e2665567-f555-4efb-c97b-250bae97985e",
        "colab": {
          "base_uri": "https://localhost:8080/"
        }
      },
      "outputs": [
        {
          "output_type": "execute_result",
          "data": {
            "text/plain": [
              "0.475"
            ]
          },
          "metadata": {},
          "execution_count": 12
        }
      ],
      "source": [
        "purchase_price = 5\n",
        "state_tax_rate = 0.075\n",
        "county_tax_rate = 0.02\n",
        "city_tax_rate = 0\n",
        "sales_tax_rate = state_tax_rate + county_tax_rate + city_tax_rate\n",
        "sales_tax = purchase_price * sales_tax_rate\n",
        "sales_tax"
      ]
    },
    {
      "cell_type": "markdown",
      "metadata": {
        "id": "pTp4_sz_0rno"
      },
      "source": [
        "### 3.2.1. Example: Growth Rates\n",
        "\n",
        "The relationship between two measurements of the same quantity taken at different times is often expressed as a *growth rate*. For example, the United States federal government [employed](http://www.bls.gov/opub/mlr/2013/article/industry-employment-and-output-projections-to-2022.htm) 2,766,000 people in 2002 and 2,814,000 people in 2012. To compute a growth rate, we must first decide which value to treat as the `initial` amount. For values over time, the earlier value is a natural choice. Then, we divide the difference between the `changed` and `initial` amount by the `initial` amount."
      ]
    },
    {
      "cell_type": "code",
      "execution_count": null,
      "metadata": {
        "scrolled": true,
        "id": "27oRm7nq0rnq",
        "outputId": "0b41ac4f-2c0b-41e0-d242-0314388bf485",
        "colab": {
          "base_uri": "https://localhost:8080/"
        }
      },
      "outputs": [
        {
          "output_type": "execute_result",
          "data": {
            "text/plain": [
              "0.01735357917570499"
            ]
          },
          "metadata": {},
          "execution_count": 13
        }
      ],
      "source": [
        "initial = 2766000\n",
        "changed = 2814000\n",
        "(changed - initial) / initial"
      ]
    },
    {
      "cell_type": "markdown",
      "metadata": {
        "id": "3WiUrTGE0rnr"
      },
      "source": [
        "It is also typical to subtract one from the ratio of the two measurements, which yields the same value."
      ]
    },
    {
      "cell_type": "code",
      "execution_count": null,
      "metadata": {
        "id": "ltu1Dd1m0rnr",
        "outputId": "cc2484d2-e462-4862-de95-cab527bb8a87",
        "colab": {
          "base_uri": "https://localhost:8080/"
        }
      },
      "outputs": [
        {
          "output_type": "execute_result",
          "data": {
            "text/plain": [
              "0.017353579175704903"
            ]
          },
          "metadata": {},
          "execution_count": 14
        }
      ],
      "source": [
        "(changed/initial) - 1"
      ]
    },
    {
      "cell_type": "markdown",
      "metadata": {
        "id": "o_7kkBRz0rns"
      },
      "source": [
        "This value is the growth rate over 10 years. A useful property of growth rates is that they don't change even if the values are expressed in different units. So, for example, we can express the same relationship between thousands of people in 2002 and 2012."
      ]
    },
    {
      "cell_type": "code",
      "execution_count": null,
      "metadata": {
        "id": "vwrdtWj90rns",
        "outputId": "c3755811-5278-4404-9293-aa0eb57c9a94",
        "colab": {
          "base_uri": "https://localhost:8080/"
        }
      },
      "outputs": [
        {
          "output_type": "execute_result",
          "data": {
            "text/plain": [
              "0.017353579175704903"
            ]
          },
          "metadata": {},
          "execution_count": 15
        }
      ],
      "source": [
        "initial = 2766\n",
        "changed = 2814\n",
        "(changed/initial) - 1"
      ]
    },
    {
      "cell_type": "markdown",
      "metadata": {
        "id": "1J6IMekz0rns"
      },
      "source": [
        "In 10 years, the number of employees of the US Federal Government has increased by only 1.74%. In that time, the total expenditures of the US Federal Government increased from \\$2.37 trillion to \\$3.38 trillion in 2012."
      ]
    },
    {
      "cell_type": "code",
      "execution_count": null,
      "metadata": {
        "id": "cnXM-pf_0rnt",
        "outputId": "6c52e318-6ba3-4b5a-fc75-f3d3f5e3ba8e",
        "colab": {
          "base_uri": "https://localhost:8080/"
        }
      },
      "outputs": [
        {
          "output_type": "execute_result",
          "data": {
            "text/plain": [
              "0.4261603375527425"
            ]
          },
          "metadata": {},
          "execution_count": 16
        }
      ],
      "source": [
        "initial = 2.37\n",
        "changed = 3.38\n",
        "(changed/initial) - 1"
      ]
    },
    {
      "cell_type": "markdown",
      "metadata": {
        "id": "G6VmW-GC0rnt"
      },
      "source": [
        "A 42.6% increase in the federal budget is much larger than the 1.74% increase in federal employees. In fact, the number of federal employees has grown much more slowly than the population of the United States, which increased 9.21% in the same time period from 287.6 million people in 2002 to 314.1 million in 2012."
      ]
    },
    {
      "cell_type": "code",
      "execution_count": null,
      "metadata": {
        "id": "_gEuAt9q0rnu",
        "outputId": "be5ace97-df18-4fa0-c8c9-fe22caf024f6",
        "colab": {
          "base_uri": "https://localhost:8080/"
        }
      },
      "outputs": [
        {
          "output_type": "execute_result",
          "data": {
            "text/plain": [
              "0.09214186369958277"
            ]
          },
          "metadata": {},
          "execution_count": 17
        }
      ],
      "source": [
        "initial = 287.6\n",
        "changed = 314.1\n",
        "(changed/initial) - 1"
      ]
    },
    {
      "cell_type": "markdown",
      "metadata": {
        "id": "QH2cynJ10rnu"
      },
      "source": [
        "A growth rate can be negative, representing a decrease in some value. For example, the number of manufacturing jobs in the US decreased from 15.3 million in 2002 to 11.9 million in 2012, a -22.2% growth rate."
      ]
    },
    {
      "cell_type": "code",
      "execution_count": null,
      "metadata": {
        "id": "KkjawmNv0rnu",
        "outputId": "d5ce4d89-bbce-440c-ed4c-adcf837cc002",
        "colab": {
          "base_uri": "https://localhost:8080/"
        }
      },
      "outputs": [
        {
          "output_type": "execute_result",
          "data": {
            "text/plain": [
              "-0.2222222222222222"
            ]
          },
          "metadata": {},
          "execution_count": 18
        }
      ],
      "source": [
        "initial = 15.3\n",
        "changed = 11.9\n",
        "(changed/initial) - 1"
      ]
    },
    {
      "cell_type": "markdown",
      "metadata": {
        "id": "jpfRgdOJ0rnu"
      },
      "source": [
        "An annual growth rate is a growth rate of some quantity over a single year. An annual growth rate of 0.035, accumulated each year for 10 years, gives a much larger ten-year growth rate of 0.41 (or 41%)."
      ]
    },
    {
      "cell_type": "code",
      "execution_count": null,
      "metadata": {
        "id": "JXyv5AE60rnv",
        "outputId": "5565a26c-9ec9-4f33-b6d6-9a2ce6f82398",
        "colab": {
          "base_uri": "https://localhost:8080/"
        }
      },
      "outputs": [
        {
          "output_type": "execute_result",
          "data": {
            "text/plain": [
              "0.410598760621121"
            ]
          },
          "metadata": {},
          "execution_count": 19
        }
      ],
      "source": [
        "1.035 * 1.035 * 1.035 * 1.035 * 1.035 * 1.035 * 1.035 * 1.035 * 1.035 * 1.035 - 1"
      ]
    },
    {
      "cell_type": "markdown",
      "metadata": {
        "id": "G28TR86w0rnv"
      },
      "source": [
        "This same computation can be expressed using names and exponents."
      ]
    },
    {
      "cell_type": "code",
      "execution_count": null,
      "metadata": {
        "id": "K2gfy2ag0rnv",
        "outputId": "1e9cc7c2-1ac9-4338-9099-a50827afe7b1",
        "colab": {
          "base_uri": "https://localhost:8080/"
        }
      },
      "outputs": [
        {
          "output_type": "execute_result",
          "data": {
            "text/plain": [
              "0.410598760621121"
            ]
          },
          "metadata": {},
          "execution_count": 20
        }
      ],
      "source": [
        "annual_growth_rate = 0.035\n",
        "ten_year_growth_rate = (1 + annual_growth_rate) ** 10 - 1\n",
        "ten_year_growth_rate"
      ]
    },
    {
      "cell_type": "markdown",
      "metadata": {
        "id": "4IR0ujkG0rnv"
      },
      "source": [
        "Likewise, a ten-year growth rate can be used to compute an equivalent annual growth rate. Below, `t` is the number of years that have passed between measurements. The following computes the annual growth rate of federal expenditures over the last 10 years."
      ]
    },
    {
      "cell_type": "code",
      "execution_count": null,
      "metadata": {
        "id": "RrXL9xFB0rnv",
        "outputId": "f0341d8c-4d19-4be9-d158-72021e68f215",
        "colab": {
          "base_uri": "https://localhost:8080/"
        }
      },
      "outputs": [
        {
          "output_type": "execute_result",
          "data": {
            "text/plain": [
              "0.03613617208346853"
            ]
          },
          "metadata": {},
          "execution_count": 21
        }
      ],
      "source": [
        "initial = 2.37\n",
        "changed = 3.38\n",
        "t = 10\n",
        "(changed/initial) ** (1/t) - 1"
      ]
    },
    {
      "cell_type": "markdown",
      "metadata": {
        "id": "ySBIKF4f0rnw"
      },
      "source": [
        "The total growth over 10 years is equivalent to a 3.6% increase each year."
      ]
    },
    {
      "cell_type": "markdown",
      "metadata": {
        "id": "7_hZyvK70rnw"
      },
      "source": [
        "In summary, a growth rate `g` is used to describe the relative size of an `initial` amount and a `changed` amount after some amount of time `t`. To compute $changed$, apply the growth rate `g` repeatedly, `t` times using exponentiation.\n",
        "\n",
        "`initial * (1 + g) ** t`\n",
        "\n",
        "To compute `g`, raise the total growth to the power of `1/t` and subtract one.\n",
        "\n",
        "`(changed/initial) ** (1/t) - 1`"
      ]
    },
    {
      "cell_type": "markdown",
      "metadata": {
        "id": "SC1On4b-02LH"
      },
      "source": [
        "## 3.3. Call Expressions\n",
        "\n",
        "*Call expressions* invoke functions, which are named operations. The name of the function appears first, followed by expressions in parentheses. "
      ]
    },
    {
      "cell_type": "code",
      "execution_count": null,
      "metadata": {
        "id": "CW4HBRpC02LJ",
        "outputId": "e44fec02-de41-487d-f3db-6df91b8e004c",
        "colab": {
          "base_uri": "https://localhost:8080/"
        }
      },
      "outputs": [
        {
          "output_type": "execute_result",
          "data": {
            "text/plain": [
              "12"
            ]
          },
          "metadata": {},
          "execution_count": 22
        }
      ],
      "source": [
        "abs(-12)"
      ]
    },
    {
      "cell_type": "code",
      "execution_count": null,
      "metadata": {
        "id": "gbXC-C9b02LK",
        "outputId": "eb41a1c2-154e-498b-a866-be0b22b627b0",
        "colab": {
          "base_uri": "https://localhost:8080/"
        }
      },
      "outputs": [
        {
          "output_type": "execute_result",
          "data": {
            "text/plain": [
              "4"
            ]
          },
          "metadata": {},
          "execution_count": 23
        }
      ],
      "source": [
        "round(5 - 1.3)"
      ]
    },
    {
      "cell_type": "code",
      "execution_count": null,
      "metadata": {
        "id": "w6O9hKwk02LK",
        "outputId": "0cc8609b-bcf9-4452-b202-62a399158039",
        "colab": {
          "base_uri": "https://localhost:8080/"
        }
      },
      "outputs": [
        {
          "output_type": "execute_result",
          "data": {
            "text/plain": [
              "5"
            ]
          },
          "metadata": {},
          "execution_count": 24
        }
      ],
      "source": [
        "max(2, 2 + 3, 4)"
      ]
    },
    {
      "cell_type": "markdown",
      "metadata": {
        "id": "lcEUQdOg02LK"
      },
      "source": [
        "In this last example, the `max` function is *called* on three *arguments*: 2, 5, and 4. The value of each expression within parentheses is passed to the function, and the function *returns* the final value of the full call expression. The `max` function can take any number of arguments and returns the maximum.\n",
        "\n",
        "A few functions are available by default, such as `abs` and `round`, but most functions that are built into the Python language are stored in a collection of functions called a *module*. An *import statement* is used to provide access to a module, such as `math` or `operator`."
      ]
    },
    {
      "cell_type": "code",
      "execution_count": null,
      "metadata": {
        "id": "sGu8xfb002LL",
        "outputId": "6051b960-7fd2-44f9-ed78-c4c47b928058",
        "colab": {
          "base_uri": "https://localhost:8080/"
        }
      },
      "outputs": [
        {
          "output_type": "execute_result",
          "data": {
            "text/plain": [
              "3.0"
            ]
          },
          "metadata": {},
          "execution_count": 25
        }
      ],
      "source": [
        "import math\n",
        "import operator\n",
        "math.sqrt(operator.add(4, 5))"
      ]
    },
    {
      "cell_type": "markdown",
      "metadata": {
        "id": "TxY4pCVB02LL"
      },
      "source": [
        "An equivalent expression could be expressed using the `+` and `**` operators instead."
      ]
    },
    {
      "cell_type": "code",
      "execution_count": null,
      "metadata": {
        "id": "ldudQ12R02LM",
        "outputId": "a9c7c172-d6a7-4f24-8700-861c20bbedff",
        "colab": {
          "base_uri": "https://localhost:8080/"
        }
      },
      "outputs": [
        {
          "output_type": "execute_result",
          "data": {
            "text/plain": [
              "3.0"
            ]
          },
          "metadata": {},
          "execution_count": 26
        }
      ],
      "source": [
        "(4 + 5) ** 0.5"
      ]
    },
    {
      "cell_type": "markdown",
      "metadata": {
        "id": "h6RRr72Y02LM"
      },
      "source": [
        "Operators and call expressions can be used together in an expression. The *percent difference* between two values is used to compare values for which neither one is obviously `initial` or `changed`. For example, in 2014 Florida farms produced 2.72 billion eggs while Iowa farms produced 16.25 billion eggs (http://quickstats.nass.usda.gov/). The percent difference is 100 times the absolute value of the difference between the values, divided by their average. In this case, the difference is larger than the average, and so the percent difference is greater than 100."
      ]
    },
    {
      "cell_type": "code",
      "execution_count": null,
      "metadata": {
        "id": "s3t5LZO-02LM",
        "outputId": "366ed5b4-e98f-44a2-d115-c02e0b7eaf03",
        "colab": {
          "base_uri": "https://localhost:8080/"
        }
      },
      "outputs": [
        {
          "output_type": "execute_result",
          "data": {
            "text/plain": [
              "142.6462836056932"
            ]
          },
          "metadata": {},
          "execution_count": 27
        }
      ],
      "source": [
        "florida = 2.72\n",
        "iowa = 16.25\n",
        "100*abs(florida-iowa)/((florida+iowa)/2)"
      ]
    },
    {
      "cell_type": "markdown",
      "metadata": {
        "id": "TF9OLndJ02LN"
      },
      "source": [
        "Learning how different functions behave is an important part of learning a programming language. A Jupyter notebook can assist in remembering the names and effects of different functions. When editing a code cell, press the *tab* key after typing the beginning of a name to bring up a list of ways to complete that name. For example, press *tab* after `math.` to see all of the functions available in the `math` module. Typing will narrow down the list of options. To learn more about a function, place a `?` after its name. For example, typing `math.log?` will bring up a description of the `log` function in the `math` module."
      ]
    },
    {
      "cell_type": "code",
      "execution_count": null,
      "metadata": {
        "id": "VZQBVEi702LN"
      },
      "outputs": [],
      "source": [
        "math.log?"
      ]
    },
    {
      "cell_type": "markdown",
      "metadata": {
        "id": "i2dDhl9u02LN"
      },
      "source": [
        "    log(x[, base])\n",
        "\n",
        "    Return the logarithm of x to the given base.\n",
        "    If the base not specified, returns the natural logarithm (base e) of x."
      ]
    },
    {
      "cell_type": "markdown",
      "metadata": {
        "id": "0kZ-pQF202LO"
      },
      "source": [
        "The square brackets in the example call indicate that an argument is optional. That is, `log` can be called with either one or two arguments."
      ]
    },
    {
      "cell_type": "code",
      "execution_count": null,
      "metadata": {
        "id": "QoSHTZ1x02LO",
        "outputId": "734b40c2-bb30-4ae0-b6bf-e7f8ce44bede",
        "colab": {
          "base_uri": "https://localhost:8080/"
        }
      },
      "outputs": [
        {
          "output_type": "execute_result",
          "data": {
            "text/plain": [
              "4.0"
            ]
          },
          "metadata": {},
          "execution_count": 29
        }
      ],
      "source": [
        "math.log(16, 2)"
      ]
    },
    {
      "cell_type": "code",
      "execution_count": null,
      "metadata": {
        "id": "-QspyBJ202LO",
        "outputId": "18a7438c-ecd9-4380-94ec-71f4a6ac429f",
        "colab": {
          "base_uri": "https://localhost:8080/"
        }
      },
      "outputs": [
        {
          "output_type": "execute_result",
          "data": {
            "text/plain": [
              "4.0"
            ]
          },
          "metadata": {},
          "execution_count": 30
        }
      ],
      "source": [
        "math.log(16)/math.log(2)"
      ]
    },
    {
      "cell_type": "code",
      "source": [
        "math.log(1000)/math.log(10)"
      ],
      "metadata": {
        "colab": {
          "base_uri": "https://localhost:8080/"
        },
        "id": "bgDDvFgXO7M1",
        "outputId": "ca12ca51-110f-4aa7-fbb9-584942270ada"
      },
      "execution_count": null,
      "outputs": [
        {
          "output_type": "execute_result",
          "data": {
            "text/plain": [
              "2.9999999999999996"
            ]
          },
          "metadata": {},
          "execution_count": 32
        }
      ]
    },
    {
      "cell_type": "code",
      "source": [
        "math.log(1000, 10)"
      ],
      "metadata": {
        "colab": {
          "base_uri": "https://localhost:8080/"
        },
        "id": "dRcNREyEPCpH",
        "outputId": "bacf880a-0c6e-4a0c-a2ff-9b133dde9231"
      },
      "execution_count": null,
      "outputs": [
        {
          "output_type": "execute_result",
          "data": {
            "text/plain": [
              "2.9999999999999996"
            ]
          },
          "metadata": {},
          "execution_count": 33
        }
      ]
    },
    {
      "cell_type": "markdown",
      "metadata": {
        "id": "gKmgDdWS02LO"
      },
      "source": [
        "The list of [Python's built-in functions](https://docs.python.org/3/library/functions.html) is quite long and includes many functions that are never needed in data science applications. The list of [mathematical functions in the `math` module](https://docs.python.org/3/library/math.html) is similarly long. This text will introduce the most important functions in context, rather than expecting the reader to memorize or understand these lists."
      ]
    },
    {
      "cell_type": "markdown",
      "metadata": {
        "id": "GNtmv-XX1CZz"
      },
      "source": [
        "## 3.4. Introduction to Tables\n",
        "\n",
        "We can now apply Python to analyze data. We will work with data stored in Table structures.\n",
        "\n",
        "**TABLE STRUCTURES ARE PART OF THE** datascience **PACKAGE (OR MODULE), WHICH WAS CREATED FOR THIS TEXTBOOK.**\n",
        "\n",
        "Tables are a fundamental way of representing data sets. A table can be viewed in two ways:\n",
        "* a sequence of named columns that each describe a single attribute of all entries in a data set, or\n",
        "* a sequence of rows that each contain all information about a single individual in a data set.\n",
        "\n",
        "We will study tables in great detail in the next several chapters. For now, we will just introduce a few methods without going into technical details. \n",
        "\n",
        "The table `cones` has been imported for us; later we will see how, but here we will just work with it. First, let's take a look at it."
      ]
    },
    {
      "cell_type": "code",
      "execution_count": null,
      "metadata": {
        "id": "c3RcUGY-1CZ0",
        "outputId": "f093618d-2cc4-4438-9c0a-db8569fa601f",
        "colab": {
          "base_uri": "https://localhost:8080/",
          "height": 238
        }
      },
      "outputs": [
        {
          "output_type": "execute_result",
          "data": {
            "text/html": [
              "<table border=\"1\" class=\"dataframe\">\n",
              "    <thead>\n",
              "        <tr>\n",
              "            <th>Flavor</th> <th>Color</th> <th>Price</th>\n",
              "        </tr>\n",
              "    </thead>\n",
              "    <tbody>\n",
              "        <tr>\n",
              "            <td>strawberry</td> <td>pink       </td> <td>3.55 </td>\n",
              "        </tr>\n",
              "        <tr>\n",
              "            <td>chocolate </td> <td>light brown</td> <td>4.75 </td>\n",
              "        </tr>\n",
              "        <tr>\n",
              "            <td>chocolate </td> <td>dark brown </td> <td>5.25 </td>\n",
              "        </tr>\n",
              "        <tr>\n",
              "            <td>strawberry</td> <td>pink       </td> <td>5.25 </td>\n",
              "        </tr>\n",
              "        <tr>\n",
              "            <td>chocolate </td> <td>dark brown </td> <td>5.25 </td>\n",
              "        </tr>\n",
              "        <tr>\n",
              "            <td>bubblegum </td> <td>pink       </td> <td>4.75 </td>\n",
              "        </tr>\n",
              "    </tbody>\n",
              "</table>"
            ],
            "text/plain": [
              "Flavor     | Color       | Price\n",
              "strawberry | pink        | 3.55\n",
              "chocolate  | light brown | 4.75\n",
              "chocolate  | dark brown  | 5.25\n",
              "strawberry | pink        | 5.25\n",
              "chocolate  | dark brown  | 5.25\n",
              "bubblegum  | pink        | 4.75"
            ]
          },
          "metadata": {},
          "execution_count": 34
        }
      ],
      "source": [
        "cones"
      ]
    },
    {
      "cell_type": "markdown",
      "metadata": {
        "id": "GrP0YtDT1CZ1"
      },
      "source": [
        "The table has six rows. Each row corresponds to one ice cream cone. The ice cream cones are the *individuals*.\n",
        "\n",
        "Each cone has three attributes: flavor, color, and price. Each column contains the data on one of these attributes, and so all the entries of any single column are of the same kind. Each column has a label. We will refer to columns by their labels.\n",
        "\n",
        "A table method is just like a function, but it must operate on a table. So the call looks like\n",
        "\n",
        "`name_of_table.method(arguments)`\n",
        "\n",
        "For example, if you want to see just the first two rows of a table, you can use the table method `show`."
      ]
    },
    {
      "cell_type": "code",
      "execution_count": null,
      "metadata": {
        "id": "9EUtY0Qa1CZ2",
        "outputId": "85180b34-f9fb-4d7d-b82b-a0fd102b20cc",
        "colab": {
          "base_uri": "https://localhost:8080/",
          "height": 141
        }
      },
      "outputs": [
        {
          "output_type": "display_data",
          "data": {
            "text/html": [
              "<table border=\"1\" class=\"dataframe\">\n",
              "    <thead>\n",
              "        <tr>\n",
              "            <th>Flavor</th> <th>Color</th> <th>Price</th>\n",
              "        </tr>\n",
              "    </thead>\n",
              "    <tbody>\n",
              "        <tr>\n",
              "            <td>strawberry</td> <td>pink       </td> <td>3.55 </td>\n",
              "        </tr>\n",
              "        <tr>\n",
              "            <td>chocolate </td> <td>light brown</td> <td>4.75 </td>\n",
              "        </tr>\n",
              "    </tbody>\n",
              "</table>\n",
              "<p>... (4 rows omitted)</p>"
            ],
            "text/plain": [
              "<IPython.core.display.HTML object>"
            ]
          },
          "metadata": {}
        }
      ],
      "source": [
        "cones.show(2)"
      ]
    },
    {
      "cell_type": "markdown",
      "metadata": {
        "id": "WU5FWE851CZ2"
      },
      "source": [
        "You can replace 2 by any number of rows. If you ask for more than six, you will only get six, because `cones` only has six rows."
      ]
    },
    {
      "cell_type": "markdown",
      "metadata": {
        "id": "fQJH_rHS1CZ2"
      },
      "source": [
        "### 3.4.1. Choosing Sets of Columns\n",
        "The method `select` creates a new table consisting of only the specified columns."
      ]
    },
    {
      "cell_type": "code",
      "execution_count": null,
      "metadata": {
        "id": "msu2iRjr1CZ3",
        "outputId": "6dd4f150-3f73-4f77-eece-777b63fde525",
        "colab": {
          "base_uri": "https://localhost:8080/",
          "height": 238
        }
      },
      "outputs": [
        {
          "output_type": "execute_result",
          "data": {
            "text/html": [
              "<table border=\"1\" class=\"dataframe\">\n",
              "    <thead>\n",
              "        <tr>\n",
              "            <th>Flavor</th>\n",
              "        </tr>\n",
              "    </thead>\n",
              "    <tbody>\n",
              "        <tr>\n",
              "            <td>strawberry</td>\n",
              "        </tr>\n",
              "        <tr>\n",
              "            <td>chocolate </td>\n",
              "        </tr>\n",
              "        <tr>\n",
              "            <td>chocolate </td>\n",
              "        </tr>\n",
              "        <tr>\n",
              "            <td>strawberry</td>\n",
              "        </tr>\n",
              "        <tr>\n",
              "            <td>chocolate </td>\n",
              "        </tr>\n",
              "        <tr>\n",
              "            <td>bubblegum </td>\n",
              "        </tr>\n",
              "    </tbody>\n",
              "</table>"
            ],
            "text/plain": [
              "Flavor\n",
              "strawberry\n",
              "chocolate\n",
              "chocolate\n",
              "strawberry\n",
              "chocolate\n",
              "bubblegum"
            ]
          },
          "metadata": {},
          "execution_count": 36
        }
      ],
      "source": [
        "cones.select('Flavor')"
      ]
    },
    {
      "cell_type": "markdown",
      "metadata": {
        "id": "ETajZQfA1CZ3"
      },
      "source": [
        "This leaves the original table unchanged."
      ]
    },
    {
      "cell_type": "code",
      "execution_count": null,
      "metadata": {
        "id": "foEa1yhy1CZ4",
        "outputId": "8340e039-090e-4b00-cd1e-2f1c47a33ab3",
        "colab": {
          "base_uri": "https://localhost:8080/",
          "height": 238
        }
      },
      "outputs": [
        {
          "output_type": "execute_result",
          "data": {
            "text/html": [
              "<table border=\"1\" class=\"dataframe\">\n",
              "    <thead>\n",
              "        <tr>\n",
              "            <th>Flavor</th> <th>Color</th> <th>Price</th>\n",
              "        </tr>\n",
              "    </thead>\n",
              "    <tbody>\n",
              "        <tr>\n",
              "            <td>strawberry</td> <td>pink       </td> <td>3.55 </td>\n",
              "        </tr>\n",
              "        <tr>\n",
              "            <td>chocolate </td> <td>light brown</td> <td>4.75 </td>\n",
              "        </tr>\n",
              "        <tr>\n",
              "            <td>chocolate </td> <td>dark brown </td> <td>5.25 </td>\n",
              "        </tr>\n",
              "        <tr>\n",
              "            <td>strawberry</td> <td>pink       </td> <td>5.25 </td>\n",
              "        </tr>\n",
              "        <tr>\n",
              "            <td>chocolate </td> <td>dark brown </td> <td>5.25 </td>\n",
              "        </tr>\n",
              "        <tr>\n",
              "            <td>bubblegum </td> <td>pink       </td> <td>4.75 </td>\n",
              "        </tr>\n",
              "    </tbody>\n",
              "</table>"
            ],
            "text/plain": [
              "Flavor     | Color       | Price\n",
              "strawberry | pink        | 3.55\n",
              "chocolate  | light brown | 4.75\n",
              "chocolate  | dark brown  | 5.25\n",
              "strawberry | pink        | 5.25\n",
              "chocolate  | dark brown  | 5.25\n",
              "bubblegum  | pink        | 4.75"
            ]
          },
          "metadata": {},
          "execution_count": 37
        }
      ],
      "source": [
        "cones"
      ]
    },
    {
      "cell_type": "markdown",
      "metadata": {
        "id": "EYSnsYca1CZ4"
      },
      "source": [
        "You can select more than one column, by separating the column labels by commas."
      ]
    },
    {
      "cell_type": "code",
      "execution_count": null,
      "metadata": {
        "id": "PAuFbOch1CZ4",
        "outputId": "5a18fabd-9cde-4df3-bb48-3d219b287b5a",
        "colab": {
          "base_uri": "https://localhost:8080/",
          "height": 238
        }
      },
      "outputs": [
        {
          "output_type": "execute_result",
          "data": {
            "text/html": [
              "<table border=\"1\" class=\"dataframe\">\n",
              "    <thead>\n",
              "        <tr>\n",
              "            <th>Flavor</th> <th>Price</th>\n",
              "        </tr>\n",
              "    </thead>\n",
              "    <tbody>\n",
              "        <tr>\n",
              "            <td>strawberry</td> <td>3.55 </td>\n",
              "        </tr>\n",
              "        <tr>\n",
              "            <td>chocolate </td> <td>4.75 </td>\n",
              "        </tr>\n",
              "        <tr>\n",
              "            <td>chocolate </td> <td>5.25 </td>\n",
              "        </tr>\n",
              "        <tr>\n",
              "            <td>strawberry</td> <td>5.25 </td>\n",
              "        </tr>\n",
              "        <tr>\n",
              "            <td>chocolate </td> <td>5.25 </td>\n",
              "        </tr>\n",
              "        <tr>\n",
              "            <td>bubblegum </td> <td>4.75 </td>\n",
              "        </tr>\n",
              "    </tbody>\n",
              "</table>"
            ],
            "text/plain": [
              "Flavor     | Price\n",
              "strawberry | 3.55\n",
              "chocolate  | 4.75\n",
              "chocolate  | 5.25\n",
              "strawberry | 5.25\n",
              "chocolate  | 5.25\n",
              "bubblegum  | 4.75"
            ]
          },
          "metadata": {},
          "execution_count": 38
        }
      ],
      "source": [
        "cones.select('Flavor', 'Price')"
      ]
    },
    {
      "cell_type": "markdown",
      "metadata": {
        "id": "LGScSWT61CZ4"
      },
      "source": [
        "You can also *drop* columns you don't want. The table above can be created by dropping the `Color` column."
      ]
    },
    {
      "cell_type": "code",
      "execution_count": null,
      "metadata": {
        "id": "S9H5yAYr1CZ4",
        "outputId": "b8ca528a-0259-4cb0-a4bd-5681b33d5df6",
        "colab": {
          "base_uri": "https://localhost:8080/",
          "height": 238
        }
      },
      "outputs": [
        {
          "output_type": "execute_result",
          "data": {
            "text/html": [
              "<table border=\"1\" class=\"dataframe\">\n",
              "    <thead>\n",
              "        <tr>\n",
              "            <th>Flavor</th> <th>Price</th>\n",
              "        </tr>\n",
              "    </thead>\n",
              "    <tbody>\n",
              "        <tr>\n",
              "            <td>strawberry</td> <td>3.55 </td>\n",
              "        </tr>\n",
              "        <tr>\n",
              "            <td>chocolate </td> <td>4.75 </td>\n",
              "        </tr>\n",
              "        <tr>\n",
              "            <td>chocolate </td> <td>5.25 </td>\n",
              "        </tr>\n",
              "        <tr>\n",
              "            <td>strawberry</td> <td>5.25 </td>\n",
              "        </tr>\n",
              "        <tr>\n",
              "            <td>chocolate </td> <td>5.25 </td>\n",
              "        </tr>\n",
              "        <tr>\n",
              "            <td>bubblegum </td> <td>4.75 </td>\n",
              "        </tr>\n",
              "    </tbody>\n",
              "</table>"
            ],
            "text/plain": [
              "Flavor     | Price\n",
              "strawberry | 3.55\n",
              "chocolate  | 4.75\n",
              "chocolate  | 5.25\n",
              "strawberry | 5.25\n",
              "chocolate  | 5.25\n",
              "bubblegum  | 4.75"
            ]
          },
          "metadata": {},
          "execution_count": 39
        }
      ],
      "source": [
        "cones.drop('Color')"
      ]
    },
    {
      "cell_type": "markdown",
      "metadata": {
        "id": "pyobDUQZ1CZ5"
      },
      "source": [
        "You can name this new table and look at it again by just typing its name."
      ]
    },
    {
      "cell_type": "code",
      "execution_count": null,
      "metadata": {
        "id": "V2lAt3HO1CZ5",
        "outputId": "79809bb7-67a1-4f3f-a6fd-696732210adc",
        "colab": {
          "base_uri": "https://localhost:8080/",
          "height": 238
        }
      },
      "outputs": [
        {
          "output_type": "execute_result",
          "data": {
            "text/html": [
              "<table border=\"1\" class=\"dataframe\">\n",
              "    <thead>\n",
              "        <tr>\n",
              "            <th>Flavor</th> <th>Price</th>\n",
              "        </tr>\n",
              "    </thead>\n",
              "    <tbody>\n",
              "        <tr>\n",
              "            <td>strawberry</td> <td>3.55 </td>\n",
              "        </tr>\n",
              "        <tr>\n",
              "            <td>chocolate </td> <td>4.75 </td>\n",
              "        </tr>\n",
              "        <tr>\n",
              "            <td>chocolate </td> <td>5.25 </td>\n",
              "        </tr>\n",
              "        <tr>\n",
              "            <td>strawberry</td> <td>5.25 </td>\n",
              "        </tr>\n",
              "        <tr>\n",
              "            <td>chocolate </td> <td>5.25 </td>\n",
              "        </tr>\n",
              "        <tr>\n",
              "            <td>bubblegum </td> <td>4.75 </td>\n",
              "        </tr>\n",
              "    </tbody>\n",
              "</table>"
            ],
            "text/plain": [
              "Flavor     | Price\n",
              "strawberry | 3.55\n",
              "chocolate  | 4.75\n",
              "chocolate  | 5.25\n",
              "strawberry | 5.25\n",
              "chocolate  | 5.25\n",
              "bubblegum  | 4.75"
            ]
          },
          "metadata": {},
          "execution_count": 40
        }
      ],
      "source": [
        "no_colors = cones.drop('Color')\n",
        "\n",
        "no_colors"
      ]
    },
    {
      "cell_type": "markdown",
      "metadata": {
        "id": "kMERchEP1CZ5"
      },
      "source": [
        "Like `select`, the `drop` method creates a smaller table and leaves the original table unchanged. In order to explore your data, you can create any number of smaller tables by using choosing or dropping columns. It will do no harm to your original data table."
      ]
    },
    {
      "cell_type": "markdown",
      "metadata": {
        "id": "jPIbtuFT1CZ5"
      },
      "source": [
        "### 3.4.2. Sorting Rows"
      ]
    },
    {
      "cell_type": "markdown",
      "metadata": {
        "id": "xTqnExej1CZ5"
      },
      "source": [
        "The `sort` method creates a new table by arranging the rows of the original table in ascending order of the values in the specified column. Here the `cones` table has been sorted in ascending order of the price of the cones."
      ]
    },
    {
      "cell_type": "code",
      "execution_count": null,
      "metadata": {
        "id": "GbKTYrdb1CZ6",
        "outputId": "a905b180-b69b-4e71-bbf1-81943b925abf",
        "colab": {
          "base_uri": "https://localhost:8080/",
          "height": 238
        }
      },
      "outputs": [
        {
          "output_type": "execute_result",
          "data": {
            "text/html": [
              "<table border=\"1\" class=\"dataframe\">\n",
              "    <thead>\n",
              "        <tr>\n",
              "            <th>Flavor</th> <th>Color</th> <th>Price</th>\n",
              "        </tr>\n",
              "    </thead>\n",
              "    <tbody>\n",
              "        <tr>\n",
              "            <td>strawberry</td> <td>pink       </td> <td>3.55 </td>\n",
              "        </tr>\n",
              "        <tr>\n",
              "            <td>chocolate </td> <td>light brown</td> <td>4.75 </td>\n",
              "        </tr>\n",
              "        <tr>\n",
              "            <td>bubblegum </td> <td>pink       </td> <td>4.75 </td>\n",
              "        </tr>\n",
              "        <tr>\n",
              "            <td>chocolate </td> <td>dark brown </td> <td>5.25 </td>\n",
              "        </tr>\n",
              "        <tr>\n",
              "            <td>strawberry</td> <td>pink       </td> <td>5.25 </td>\n",
              "        </tr>\n",
              "        <tr>\n",
              "            <td>chocolate </td> <td>dark brown </td> <td>5.25 </td>\n",
              "        </tr>\n",
              "    </tbody>\n",
              "</table>"
            ],
            "text/plain": [
              "Flavor     | Color       | Price\n",
              "strawberry | pink        | 3.55\n",
              "chocolate  | light brown | 4.75\n",
              "bubblegum  | pink        | 4.75\n",
              "chocolate  | dark brown  | 5.25\n",
              "strawberry | pink        | 5.25\n",
              "chocolate  | dark brown  | 5.25"
            ]
          },
          "metadata": {},
          "execution_count": 41
        }
      ],
      "source": [
        "cones.sort('Price')"
      ]
    },
    {
      "cell_type": "code",
      "source": [
        "cones"
      ],
      "metadata": {
        "colab": {
          "base_uri": "https://localhost:8080/",
          "height": 238
        },
        "id": "Asmsa-KeQvlx",
        "outputId": "98af710c-a31e-4cc0-806c-e14c414521fb"
      },
      "execution_count": null,
      "outputs": [
        {
          "output_type": "execute_result",
          "data": {
            "text/html": [
              "<table border=\"1\" class=\"dataframe\">\n",
              "    <thead>\n",
              "        <tr>\n",
              "            <th>Flavor</th> <th>Color</th> <th>Price</th>\n",
              "        </tr>\n",
              "    </thead>\n",
              "    <tbody>\n",
              "        <tr>\n",
              "            <td>strawberry</td> <td>pink       </td> <td>3.55 </td>\n",
              "        </tr>\n",
              "        <tr>\n",
              "            <td>chocolate </td> <td>light brown</td> <td>4.75 </td>\n",
              "        </tr>\n",
              "        <tr>\n",
              "            <td>chocolate </td> <td>dark brown </td> <td>5.25 </td>\n",
              "        </tr>\n",
              "        <tr>\n",
              "            <td>strawberry</td> <td>pink       </td> <td>5.25 </td>\n",
              "        </tr>\n",
              "        <tr>\n",
              "            <td>chocolate </td> <td>dark brown </td> <td>5.25 </td>\n",
              "        </tr>\n",
              "        <tr>\n",
              "            <td>bubblegum </td> <td>pink       </td> <td>4.75 </td>\n",
              "        </tr>\n",
              "    </tbody>\n",
              "</table>"
            ],
            "text/plain": [
              "Flavor     | Color       | Price\n",
              "strawberry | pink        | 3.55\n",
              "chocolate  | light brown | 4.75\n",
              "chocolate  | dark brown  | 5.25\n",
              "strawberry | pink        | 5.25\n",
              "chocolate  | dark brown  | 5.25\n",
              "bubblegum  | pink        | 4.75"
            ]
          },
          "metadata": {},
          "execution_count": 43
        }
      ]
    },
    {
      "cell_type": "markdown",
      "metadata": {
        "id": "AI0t6akA1CZ6"
      },
      "source": [
        "To sort in descending order, you can use an *optional* argument to `sort`. As the name implies, optional arguments don't have to be used, but they can be used if you want to change the default behavior of a method. \n",
        "\n",
        "By default, `sort` sorts in increasing order of the values in the specified column. To sort in decreasing order, use the optional argument `descending=True`."
      ]
    },
    {
      "cell_type": "code",
      "execution_count": null,
      "metadata": {
        "id": "-2LvSpqA1CZ6",
        "outputId": "08eca027-9f8c-432c-ff95-179f1d2b347e",
        "colab": {
          "base_uri": "https://localhost:8080/",
          "height": 238
        }
      },
      "outputs": [
        {
          "output_type": "execute_result",
          "data": {
            "text/html": [
              "<table border=\"1\" class=\"dataframe\">\n",
              "    <thead>\n",
              "        <tr>\n",
              "            <th>Flavor</th> <th>Color</th> <th>Price</th>\n",
              "        </tr>\n",
              "    </thead>\n",
              "    <tbody>\n",
              "        <tr>\n",
              "            <td>chocolate </td> <td>dark brown </td> <td>5.25 </td>\n",
              "        </tr>\n",
              "        <tr>\n",
              "            <td>strawberry</td> <td>pink       </td> <td>5.25 </td>\n",
              "        </tr>\n",
              "        <tr>\n",
              "            <td>chocolate </td> <td>dark brown </td> <td>5.25 </td>\n",
              "        </tr>\n",
              "        <tr>\n",
              "            <td>bubblegum </td> <td>pink       </td> <td>4.75 </td>\n",
              "        </tr>\n",
              "        <tr>\n",
              "            <td>chocolate </td> <td>light brown</td> <td>4.75 </td>\n",
              "        </tr>\n",
              "        <tr>\n",
              "            <td>strawberry</td> <td>pink       </td> <td>3.55 </td>\n",
              "        </tr>\n",
              "    </tbody>\n",
              "</table>"
            ],
            "text/plain": [
              "Flavor     | Color       | Price\n",
              "chocolate  | dark brown  | 5.25\n",
              "strawberry | pink        | 5.25\n",
              "chocolate  | dark brown  | 5.25\n",
              "bubblegum  | pink        | 4.75\n",
              "chocolate  | light brown | 4.75\n",
              "strawberry | pink        | 3.55"
            ]
          },
          "metadata": {},
          "execution_count": 42
        }
      ],
      "source": [
        "cones.sort('Price', descending=True)"
      ]
    },
    {
      "cell_type": "markdown",
      "metadata": {
        "id": "M7cRKWe61CZ6"
      },
      "source": [
        "Like `select` and `drop`, the `sort` method leaves the original table unchanged."
      ]
    },
    {
      "cell_type": "code",
      "source": [
        "cones.row(0) #Remember,  row zero is the first row"
      ],
      "metadata": {
        "colab": {
          "base_uri": "https://localhost:8080/"
        },
        "id": "i9J8248kQ19E",
        "outputId": "24a50ba6-f1eb-48df-e8a9-d9159cc7817a"
      },
      "execution_count": null,
      "outputs": [
        {
          "output_type": "execute_result",
          "data": {
            "text/plain": [
              "Row(Flavor='strawberry', Color='pink', Price=3.55)"
            ]
          },
          "metadata": {},
          "execution_count": 44
        }
      ]
    },
    {
      "cell_type": "code",
      "source": [
        "cones.row(0)[2] #This will give the thrid column in the first row (columns are numbered 0, 1, 2)"
      ],
      "metadata": {
        "colab": {
          "base_uri": "https://localhost:8080/"
        },
        "id": "kss3SEAwQ_Ck",
        "outputId": "1514aad7-c032-4176-d5bf-3fcf12210409"
      },
      "execution_count": null,
      "outputs": [
        {
          "output_type": "execute_result",
          "data": {
            "text/plain": [
              "3.55"
            ]
          },
          "metadata": {},
          "execution_count": 45
        }
      ]
    },
    {
      "cell_type": "markdown",
      "metadata": {
        "id": "635I2pKL1CZ6"
      },
      "source": [
        "### 3.4.3. Selecting Rows that Satisfy a Condition\n",
        "The `where` method creates a new table consisting only of the rows that satisfy a given condition. In this section we will work with a very simple condition, which is that the value in a specified column must be equal to a value that we also specify. Thus the `where` method has two arguments.\n",
        "\n",
        "The code in the cell below creates a table consisting only of the rows corresponding to chocolate cones."
      ]
    },
    {
      "cell_type": "code",
      "execution_count": null,
      "metadata": {
        "id": "H--1d5m51CZ6",
        "outputId": "dec4ef35-0795-4f8c-c79a-08e104027961",
        "colab": {
          "base_uri": "https://localhost:8080/",
          "height": 143
        }
      },
      "outputs": [
        {
          "output_type": "execute_result",
          "data": {
            "text/html": [
              "<table border=\"1\" class=\"dataframe\">\n",
              "    <thead>\n",
              "        <tr>\n",
              "            <th>Flavor</th> <th>Color</th> <th>Price</th>\n",
              "        </tr>\n",
              "    </thead>\n",
              "    <tbody>\n",
              "        <tr>\n",
              "            <td>chocolate</td> <td>light brown</td> <td>4.75 </td>\n",
              "        </tr>\n",
              "        <tr>\n",
              "            <td>chocolate</td> <td>dark brown </td> <td>5.25 </td>\n",
              "        </tr>\n",
              "        <tr>\n",
              "            <td>chocolate</td> <td>dark brown </td> <td>5.25 </td>\n",
              "        </tr>\n",
              "    </tbody>\n",
              "</table>"
            ],
            "text/plain": [
              "Flavor    | Color       | Price\n",
              "chocolate | light brown | 4.75\n",
              "chocolate | dark brown  | 5.25\n",
              "chocolate | dark brown  | 5.25"
            ]
          },
          "metadata": {},
          "execution_count": 46
        }
      ],
      "source": [
        "cones.where('Flavor', 'chocolate')"
      ]
    },
    {
      "cell_type": "markdown",
      "metadata": {
        "id": "dwLdPTl51CZ7"
      },
      "source": [
        "The arguments, separated by a comma, are the label of the column and the value we are looking for in that column. The `where` method can also be used when the condition that the rows must satisfy is more complicated. In those situations the call will be a little more complicated as well.\n",
        "\n",
        "It is important to provide the value exactly. For example, if we specify `Chocolate` instead of `chocolate`, then `where` correctly finds no rows where the flavor is `Chocolate`."
      ]
    },
    {
      "cell_type": "code",
      "execution_count": null,
      "metadata": {
        "id": "HtsoPPhZ1CZ7",
        "outputId": "b35f6331-f3ff-4afb-a353-1787dc841aaa",
        "colab": {
          "base_uri": "https://localhost:8080/",
          "height": 49
        }
      },
      "outputs": [
        {
          "output_type": "execute_result",
          "data": {
            "text/html": [
              "<table border=\"1\" class=\"dataframe\">\n",
              "    <thead>\n",
              "        <tr>\n",
              "            <th>Flavor</th> <th>Color</th> <th>Price</th>\n",
              "        </tr>\n",
              "    </thead>\n",
              "    <tbody>\n",
              "    </tbody>\n",
              "</table>"
            ],
            "text/plain": [
              "Flavor | Color | Price"
            ]
          },
          "metadata": {},
          "execution_count": 47
        }
      ],
      "source": [
        "cones.where('Flavor', 'Chocolate')"
      ]
    },
    {
      "cell_type": "markdown",
      "metadata": {
        "id": "aEUR8edk1CZ7"
      },
      "source": [
        "Like all the other table methods in this section, `where` leaves the original table unchanged."
      ]
    },
    {
      "cell_type": "markdown",
      "metadata": {
        "id": "Dg2xW7Dh1CZ7"
      },
      "source": [
        "### 3.4.4. Example: Salaries in the NBA"
      ]
    },
    {
      "cell_type": "markdown",
      "metadata": {
        "id": "cAgzW2b01CZ7"
      },
      "source": [
        "\"The NBA is the highest paying professional sports league in the world,\" [reported CNN](http://edition.cnn.com/2015/12/04/sport/gallery/highest-paid-nba-players/) in March 2016. The table `nba` contains the [salaries of all National Basketball Association players](https://www.statcrunch.com/app/index.php?dataid=1843341) in 2015-2016.\n",
        "\n",
        "Each row represents one player. The columns are:\n",
        "\n",
        "| **Column Label**   | Description                                         |\n",
        "|--------------------|-----------------------------------------------------|\n",
        "| `PLAYER`           | Player's name                                       |\n",
        "| `POSITION`         | Player's position on team                           |\n",
        "| `TEAM`             | Team name                                           |\n",
        "|`SALARY`    | Player's salary in 2015-2016, in millions of dollars|\n",
        " \n",
        "The code for the positions is PG (Point Guard), SG (Shooting Guard), PF (Power Forward), SF (Small Forward), and C (Center). But what follows doesn't involve details about how basketball is played.\n",
        "\n",
        "The first row shows that Paul Millsap, Power Forward for the Atlanta Hawks, had a salary of almost $\\$18.7$ million in 2015-2016."
      ]
    },
    {
      "cell_type": "code",
      "execution_count": null,
      "metadata": {
        "id": "VzXJDZLY1CZ7",
        "outputId": "fbae74b4-f801-4233-f0e8-aed3a0ae32c2",
        "colab": {
          "base_uri": "https://localhost:8080/",
          "height": 392
        }
      },
      "outputs": [
        {
          "output_type": "execute_result",
          "data": {
            "text/html": [
              "<table border=\"1\" class=\"dataframe\">\n",
              "    <thead>\n",
              "        <tr>\n",
              "            <th>PLAYER</th> <th>POSITION</th> <th>TEAM</th> <th>SALARY</th>\n",
              "        </tr>\n",
              "    </thead>\n",
              "    <tbody>\n",
              "        <tr>\n",
              "            <td>Paul Millsap    </td> <td>PF      </td> <td>Atlanta Hawks</td> <td>18.6717</td>\n",
              "        </tr>\n",
              "        <tr>\n",
              "            <td>Al Horford      </td> <td>C       </td> <td>Atlanta Hawks</td> <td>12     </td>\n",
              "        </tr>\n",
              "        <tr>\n",
              "            <td>Tiago Splitter  </td> <td>C       </td> <td>Atlanta Hawks</td> <td>9.75625</td>\n",
              "        </tr>\n",
              "        <tr>\n",
              "            <td>Jeff Teague     </td> <td>PG      </td> <td>Atlanta Hawks</td> <td>8      </td>\n",
              "        </tr>\n",
              "        <tr>\n",
              "            <td>Kyle Korver     </td> <td>SG      </td> <td>Atlanta Hawks</td> <td>5.74648</td>\n",
              "        </tr>\n",
              "        <tr>\n",
              "            <td>Thabo Sefolosha </td> <td>SF      </td> <td>Atlanta Hawks</td> <td>4      </td>\n",
              "        </tr>\n",
              "        <tr>\n",
              "            <td>Mike Scott      </td> <td>PF      </td> <td>Atlanta Hawks</td> <td>3.33333</td>\n",
              "        </tr>\n",
              "        <tr>\n",
              "            <td>Kent Bazemore   </td> <td>SF      </td> <td>Atlanta Hawks</td> <td>2      </td>\n",
              "        </tr>\n",
              "        <tr>\n",
              "            <td>Dennis Schroder </td> <td>PG      </td> <td>Atlanta Hawks</td> <td>1.7634 </td>\n",
              "        </tr>\n",
              "        <tr>\n",
              "            <td>Tim Hardaway Jr.</td> <td>SG      </td> <td>Atlanta Hawks</td> <td>1.30452</td>\n",
              "        </tr>\n",
              "    </tbody>\n",
              "</table>\n",
              "<p>... (407 rows omitted)</p>"
            ],
            "text/plain": [
              "PLAYER           | POSITION | TEAM          | SALARY\n",
              "Paul Millsap     | PF       | Atlanta Hawks | 18.6717\n",
              "Al Horford       | C        | Atlanta Hawks | 12\n",
              "Tiago Splitter   | C        | Atlanta Hawks | 9.75625\n",
              "Jeff Teague      | PG       | Atlanta Hawks | 8\n",
              "Kyle Korver      | SG       | Atlanta Hawks | 5.74648\n",
              "Thabo Sefolosha  | SF       | Atlanta Hawks | 4\n",
              "Mike Scott       | PF       | Atlanta Hawks | 3.33333\n",
              "Kent Bazemore    | SF       | Atlanta Hawks | 2\n",
              "Dennis Schroder  | PG       | Atlanta Hawks | 1.7634\n",
              "Tim Hardaway Jr. | SG       | Atlanta Hawks | 1.30452\n",
              "... (407 rows omitted)"
            ]
          },
          "metadata": {},
          "execution_count": 48
        }
      ],
      "source": [
        "nba"
      ]
    },
    {
      "cell_type": "markdown",
      "metadata": {
        "id": "KH545mWB1CZ7"
      },
      "source": [
        "Fans of Stephen Curry can find his row by using `where`."
      ]
    },
    {
      "cell_type": "code",
      "execution_count": null,
      "metadata": {
        "id": "Or1H0D4p1CZ7",
        "outputId": "05591a45-dfe9-4f8e-a8cf-6715a95466e3",
        "colab": {
          "base_uri": "https://localhost:8080/",
          "height": 81
        }
      },
      "outputs": [
        {
          "output_type": "execute_result",
          "data": {
            "text/html": [
              "<table border=\"1\" class=\"dataframe\">\n",
              "    <thead>\n",
              "        <tr>\n",
              "            <th>PLAYER</th> <th>POSITION</th> <th>TEAM</th> <th>SALARY</th>\n",
              "        </tr>\n",
              "    </thead>\n",
              "    <tbody>\n",
              "        <tr>\n",
              "            <td>Stephen Curry</td> <td>PG      </td> <td>Golden State Warriors</td> <td>11.3708</td>\n",
              "        </tr>\n",
              "    </tbody>\n",
              "</table>"
            ],
            "text/plain": [
              "PLAYER        | POSITION | TEAM                  | SALARY\n",
              "Stephen Curry | PG       | Golden State Warriors | 11.3708"
            ]
          },
          "metadata": {},
          "execution_count": 49
        }
      ],
      "source": [
        "nba.where('PLAYER', 'Stephen Curry')"
      ]
    },
    {
      "cell_type": "markdown",
      "metadata": {
        "id": "-vjJopI_1CZ7"
      },
      "source": [
        "We can also create a new table called `warriors` consisting of just the data for the Golden State Warriors."
      ]
    },
    {
      "cell_type": "code",
      "execution_count": null,
      "metadata": {
        "id": "zApggDOS1CZ7",
        "outputId": "22182b72-442b-4bd2-a6aa-121def16f6c9",
        "colab": {
          "base_uri": "https://localhost:8080/",
          "height": 392
        }
      },
      "outputs": [
        {
          "output_type": "execute_result",
          "data": {
            "text/html": [
              "<table border=\"1\" class=\"dataframe\">\n",
              "    <thead>\n",
              "        <tr>\n",
              "            <th>PLAYER</th> <th>POSITION</th> <th>TEAM</th> <th>SALARY</th>\n",
              "        </tr>\n",
              "    </thead>\n",
              "    <tbody>\n",
              "        <tr>\n",
              "            <td>Klay Thompson    </td> <td>SG      </td> <td>Golden State Warriors</td> <td>15.501 </td>\n",
              "        </tr>\n",
              "        <tr>\n",
              "            <td>Draymond Green   </td> <td>PF      </td> <td>Golden State Warriors</td> <td>14.2609</td>\n",
              "        </tr>\n",
              "        <tr>\n",
              "            <td>Andrew Bogut     </td> <td>C       </td> <td>Golden State Warriors</td> <td>13.8   </td>\n",
              "        </tr>\n",
              "        <tr>\n",
              "            <td>Andre Iguodala   </td> <td>SF      </td> <td>Golden State Warriors</td> <td>11.7105</td>\n",
              "        </tr>\n",
              "        <tr>\n",
              "            <td>Stephen Curry    </td> <td>PG      </td> <td>Golden State Warriors</td> <td>11.3708</td>\n",
              "        </tr>\n",
              "        <tr>\n",
              "            <td>Jason Thompson   </td> <td>PF      </td> <td>Golden State Warriors</td> <td>7.00847</td>\n",
              "        </tr>\n",
              "        <tr>\n",
              "            <td>Shaun Livingston </td> <td>PG      </td> <td>Golden State Warriors</td> <td>5.54373</td>\n",
              "        </tr>\n",
              "        <tr>\n",
              "            <td>Harrison Barnes  </td> <td>SF      </td> <td>Golden State Warriors</td> <td>3.8734 </td>\n",
              "        </tr>\n",
              "        <tr>\n",
              "            <td>Marreese Speights</td> <td>C       </td> <td>Golden State Warriors</td> <td>3.815  </td>\n",
              "        </tr>\n",
              "        <tr>\n",
              "            <td>Leandro Barbosa  </td> <td>SG      </td> <td>Golden State Warriors</td> <td>2.5    </td>\n",
              "        </tr>\n",
              "    </tbody>\n",
              "</table>\n",
              "<p>... (4 rows omitted)</p>"
            ],
            "text/plain": [
              "PLAYER            | POSITION | TEAM                  | SALARY\n",
              "Klay Thompson     | SG       | Golden State Warriors | 15.501\n",
              "Draymond Green    | PF       | Golden State Warriors | 14.2609\n",
              "Andrew Bogut      | C        | Golden State Warriors | 13.8\n",
              "Andre Iguodala    | SF       | Golden State Warriors | 11.7105\n",
              "Stephen Curry     | PG       | Golden State Warriors | 11.3708\n",
              "Jason Thompson    | PF       | Golden State Warriors | 7.00847\n",
              "Shaun Livingston  | PG       | Golden State Warriors | 5.54373\n",
              "Harrison Barnes   | SF       | Golden State Warriors | 3.8734\n",
              "Marreese Speights | C        | Golden State Warriors | 3.815\n",
              "Leandro Barbosa   | SG       | Golden State Warriors | 2.5\n",
              "... (4 rows omitted)"
            ]
          },
          "metadata": {},
          "execution_count": 50
        }
      ],
      "source": [
        "warriors = nba.where('TEAM', 'Golden State Warriors')\n",
        "warriors"
      ]
    },
    {
      "cell_type": "markdown",
      "metadata": {
        "id": "8eRzYeGM1CZ7"
      },
      "source": [
        "By default, the first 10 lines of a table are displayed. You can use `show` to display more or fewer. To display the entire table, use `show` with no argument in the parentheses."
      ]
    },
    {
      "cell_type": "code",
      "execution_count": null,
      "metadata": {
        "id": "oeXpOj3Y1CZ8",
        "outputId": "c9f4cde7-004b-4e4c-dcb8-be62b11fc5e1",
        "colab": {
          "base_uri": "https://localhost:8080/",
          "height": 488
        }
      },
      "outputs": [
        {
          "output_type": "display_data",
          "data": {
            "text/html": [
              "<table border=\"1\" class=\"dataframe\">\n",
              "    <thead>\n",
              "        <tr>\n",
              "            <th>PLAYER</th> <th>POSITION</th> <th>TEAM</th> <th>SALARY</th>\n",
              "        </tr>\n",
              "    </thead>\n",
              "    <tbody>\n",
              "        <tr>\n",
              "            <td>Klay Thompson    </td> <td>SG      </td> <td>Golden State Warriors</td> <td>15.501  </td>\n",
              "        </tr>\n",
              "        <tr>\n",
              "            <td>Draymond Green   </td> <td>PF      </td> <td>Golden State Warriors</td> <td>14.2609 </td>\n",
              "        </tr>\n",
              "        <tr>\n",
              "            <td>Andrew Bogut     </td> <td>C       </td> <td>Golden State Warriors</td> <td>13.8    </td>\n",
              "        </tr>\n",
              "        <tr>\n",
              "            <td>Andre Iguodala   </td> <td>SF      </td> <td>Golden State Warriors</td> <td>11.7105 </td>\n",
              "        </tr>\n",
              "        <tr>\n",
              "            <td>Stephen Curry    </td> <td>PG      </td> <td>Golden State Warriors</td> <td>11.3708 </td>\n",
              "        </tr>\n",
              "        <tr>\n",
              "            <td>Jason Thompson   </td> <td>PF      </td> <td>Golden State Warriors</td> <td>7.00847 </td>\n",
              "        </tr>\n",
              "        <tr>\n",
              "            <td>Shaun Livingston </td> <td>PG      </td> <td>Golden State Warriors</td> <td>5.54373 </td>\n",
              "        </tr>\n",
              "        <tr>\n",
              "            <td>Harrison Barnes  </td> <td>SF      </td> <td>Golden State Warriors</td> <td>3.8734  </td>\n",
              "        </tr>\n",
              "        <tr>\n",
              "            <td>Marreese Speights</td> <td>C       </td> <td>Golden State Warriors</td> <td>3.815   </td>\n",
              "        </tr>\n",
              "        <tr>\n",
              "            <td>Leandro Barbosa  </td> <td>SG      </td> <td>Golden State Warriors</td> <td>2.5     </td>\n",
              "        </tr>\n",
              "        <tr>\n",
              "            <td>Festus Ezeli     </td> <td>C       </td> <td>Golden State Warriors</td> <td>2.00875 </td>\n",
              "        </tr>\n",
              "        <tr>\n",
              "            <td>Brandon Rush     </td> <td>SF      </td> <td>Golden State Warriors</td> <td>1.27096 </td>\n",
              "        </tr>\n",
              "        <tr>\n",
              "            <td>Kevon Looney     </td> <td>SF      </td> <td>Golden State Warriors</td> <td>1.13196 </td>\n",
              "        </tr>\n",
              "        <tr>\n",
              "            <td>Anderson Varejao </td> <td>PF      </td> <td>Golden State Warriors</td> <td>0.289755</td>\n",
              "        </tr>\n",
              "    </tbody>\n",
              "</table>"
            ],
            "text/plain": [
              "<IPython.core.display.HTML object>"
            ]
          },
          "metadata": {}
        }
      ],
      "source": [
        "warriors.show()"
      ]
    },
    {
      "cell_type": "markdown",
      "metadata": {
        "id": "Fsq6sWhD1CZ8"
      },
      "source": [
        "The `nba` table is sorted in alphabetical order of the team names. To see how the players were paid in 2015-2016, it is useful to sort the data by salary. Remember that by default, the sorting is in increasing order."
      ]
    },
    {
      "cell_type": "code",
      "execution_count": null,
      "metadata": {
        "id": "Uzb1wJ-q1CZ8",
        "outputId": "404f8c8f-50f0-4621-9e96-c2e476a1b9e6",
        "colab": {
          "base_uri": "https://localhost:8080/",
          "height": 392
        }
      },
      "outputs": [
        {
          "output_type": "execute_result",
          "data": {
            "text/html": [
              "<table border=\"1\" class=\"dataframe\">\n",
              "    <thead>\n",
              "        <tr>\n",
              "            <th>PLAYER</th> <th>POSITION</th> <th>TEAM</th> <th>SALARY</th>\n",
              "        </tr>\n",
              "    </thead>\n",
              "    <tbody>\n",
              "        <tr>\n",
              "            <td>Thanasis Antetokounmpo</td> <td>SF      </td> <td>New York Knicks     </td> <td>0.030888</td>\n",
              "        </tr>\n",
              "        <tr>\n",
              "            <td>Jordan McRae          </td> <td>SG      </td> <td>Phoenix Suns        </td> <td>0.049709</td>\n",
              "        </tr>\n",
              "        <tr>\n",
              "            <td>Cory Jefferson        </td> <td>PF      </td> <td>Phoenix Suns        </td> <td>0.049709</td>\n",
              "        </tr>\n",
              "        <tr>\n",
              "            <td>Elliot Williams       </td> <td>SG      </td> <td>Memphis Grizzlies   </td> <td>0.055722</td>\n",
              "        </tr>\n",
              "        <tr>\n",
              "            <td>Orlando Johnson       </td> <td>SG      </td> <td>Phoenix Suns        </td> <td>0.055722</td>\n",
              "        </tr>\n",
              "        <tr>\n",
              "            <td>Phil Pressey          </td> <td>PG      </td> <td>Phoenix Suns        </td> <td>0.055722</td>\n",
              "        </tr>\n",
              "        <tr>\n",
              "            <td>Keith Appling         </td> <td>PG      </td> <td>Orlando Magic       </td> <td>0.061776</td>\n",
              "        </tr>\n",
              "        <tr>\n",
              "            <td>Sean Kilpatrick       </td> <td>SG      </td> <td>Denver Nuggets      </td> <td>0.099418</td>\n",
              "        </tr>\n",
              "        <tr>\n",
              "            <td>Erick Green           </td> <td>PG      </td> <td>Utah Jazz           </td> <td>0.099418</td>\n",
              "        </tr>\n",
              "        <tr>\n",
              "            <td>Jeff Ayres            </td> <td>PF      </td> <td>Los Angeles Clippers</td> <td>0.111444</td>\n",
              "        </tr>\n",
              "    </tbody>\n",
              "</table>\n",
              "<p>... (407 rows omitted)</p>"
            ],
            "text/plain": [
              "PLAYER                 | POSITION | TEAM                 | SALARY\n",
              "Thanasis Antetokounmpo | SF       | New York Knicks      | 0.030888\n",
              "Jordan McRae           | SG       | Phoenix Suns         | 0.049709\n",
              "Cory Jefferson         | PF       | Phoenix Suns         | 0.049709\n",
              "Elliot Williams        | SG       | Memphis Grizzlies    | 0.055722\n",
              "Orlando Johnson        | SG       | Phoenix Suns         | 0.055722\n",
              "Phil Pressey           | PG       | Phoenix Suns         | 0.055722\n",
              "Keith Appling          | PG       | Orlando Magic        | 0.061776\n",
              "Sean Kilpatrick        | SG       | Denver Nuggets       | 0.099418\n",
              "Erick Green            | PG       | Utah Jazz            | 0.099418\n",
              "Jeff Ayres             | PF       | Los Angeles Clippers | 0.111444\n",
              "... (407 rows omitted)"
            ]
          },
          "metadata": {},
          "execution_count": 52
        }
      ],
      "source": [
        "nba.sort('SALARY')"
      ]
    },
    {
      "cell_type": "markdown",
      "metadata": {
        "id": "UtGkXddZ1CZ8"
      },
      "source": [
        "These figures are somewhat difficult to compare as some of these players changed teams during the season and received salaries from more than one team; only the salary from the last team appears in the table.  \n",
        "\n",
        "The CNN report is about the other end of the salary scale – the players who were among the highest paid in the world. To identify these players we can sort in descending order of salary and look at the top few rows."
      ]
    },
    {
      "cell_type": "code",
      "execution_count": null,
      "metadata": {
        "id": "wo5bkNxn1CZ8",
        "outputId": "6d86e39e-ae39-4dfa-99ac-832a039bd3e6",
        "colab": {
          "base_uri": "https://localhost:8080/",
          "height": 392
        }
      },
      "outputs": [
        {
          "output_type": "execute_result",
          "data": {
            "text/html": [
              "<table border=\"1\" class=\"dataframe\">\n",
              "    <thead>\n",
              "        <tr>\n",
              "            <th>PLAYER</th> <th>POSITION</th> <th>TEAM</th> <th>SALARY</th>\n",
              "        </tr>\n",
              "    </thead>\n",
              "    <tbody>\n",
              "        <tr>\n",
              "            <td>Kobe Bryant    </td> <td>SF      </td> <td>Los Angeles Lakers   </td> <td>25     </td>\n",
              "        </tr>\n",
              "        <tr>\n",
              "            <td>Joe Johnson    </td> <td>SF      </td> <td>Brooklyn Nets        </td> <td>24.8949</td>\n",
              "        </tr>\n",
              "        <tr>\n",
              "            <td>LeBron James   </td> <td>SF      </td> <td>Cleveland Cavaliers  </td> <td>22.9705</td>\n",
              "        </tr>\n",
              "        <tr>\n",
              "            <td>Carmelo Anthony</td> <td>SF      </td> <td>New York Knicks      </td> <td>22.875 </td>\n",
              "        </tr>\n",
              "        <tr>\n",
              "            <td>Dwight Howard  </td> <td>C       </td> <td>Houston Rockets      </td> <td>22.3594</td>\n",
              "        </tr>\n",
              "        <tr>\n",
              "            <td>Chris Bosh     </td> <td>PF      </td> <td>Miami Heat           </td> <td>22.1927</td>\n",
              "        </tr>\n",
              "        <tr>\n",
              "            <td>Chris Paul     </td> <td>PG      </td> <td>Los Angeles Clippers </td> <td>21.4687</td>\n",
              "        </tr>\n",
              "        <tr>\n",
              "            <td>Kevin Durant   </td> <td>SF      </td> <td>Oklahoma City Thunder</td> <td>20.1586</td>\n",
              "        </tr>\n",
              "        <tr>\n",
              "            <td>Derrick Rose   </td> <td>PG      </td> <td>Chicago Bulls        </td> <td>20.0931</td>\n",
              "        </tr>\n",
              "        <tr>\n",
              "            <td>Dwyane Wade    </td> <td>SG      </td> <td>Miami Heat           </td> <td>20     </td>\n",
              "        </tr>\n",
              "    </tbody>\n",
              "</table>\n",
              "<p>... (407 rows omitted)</p>"
            ],
            "text/plain": [
              "PLAYER          | POSITION | TEAM                  | SALARY\n",
              "Kobe Bryant     | SF       | Los Angeles Lakers    | 25\n",
              "Joe Johnson     | SF       | Brooklyn Nets         | 24.8949\n",
              "LeBron James    | SF       | Cleveland Cavaliers   | 22.9705\n",
              "Carmelo Anthony | SF       | New York Knicks       | 22.875\n",
              "Dwight Howard   | C        | Houston Rockets       | 22.3594\n",
              "Chris Bosh      | PF       | Miami Heat            | 22.1927\n",
              "Chris Paul      | PG       | Los Angeles Clippers  | 21.4687\n",
              "Kevin Durant    | SF       | Oklahoma City Thunder | 20.1586\n",
              "Derrick Rose    | PG       | Chicago Bulls         | 20.0931\n",
              "Dwyane Wade     | SG       | Miami Heat            | 20\n",
              "... (407 rows omitted)"
            ]
          },
          "metadata": {},
          "execution_count": 53
        }
      ],
      "source": [
        "nba.sort('SALARY', descending=True)"
      ]
    },
    {
      "cell_type": "markdown",
      "metadata": {
        "id": "LSSa0EYm1CZ8"
      },
      "source": [
        "The late Kobe Bryant was the highest earning NBA player in 2015-2016."
      ]
    }
  ],
  "metadata": {
    "anaconda-cloud": {},
    "kernelspec": {
      "display_name": "Python 3",
      "language": "python",
      "name": "python3"
    },
    "language_info": {
      "codemirror_mode": {
        "name": "ipython",
        "version": 3
      },
      "file_extension": ".py",
      "mimetype": "text/x-python",
      "name": "python",
      "nbconvert_exporter": "python",
      "pygments_lexer": "ipython3",
      "version": "3.7.8"
    },
    "colab": {
      "provenance": [],
      "include_colab_link": true
    }
  },
  "nbformat": 4,
  "nbformat_minor": 0
}