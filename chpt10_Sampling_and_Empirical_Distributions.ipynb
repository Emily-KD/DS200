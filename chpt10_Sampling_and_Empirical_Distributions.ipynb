{
  "cells": [
    {
      "cell_type": "markdown",
      "metadata": {
        "id": "view-in-github",
        "colab_type": "text"
      },
      "source": [
        "<a href=\"https://colab.research.google.com/github/Emily-KD/DS200/blob/main/chpt10_Sampling_and_Empirical_Distributions.ipynb\" target=\"_parent\"><img src=\"https://colab.research.google.com/assets/colab-badge.svg\" alt=\"Open In Colab\"/></a>"
      ]
    },
    {
      "cell_type": "code",
      "execution_count": null,
      "metadata": {
        "tags": [
          "remove-input"
        ],
        "id": "w3z-2tRpNQZi",
        "outputId": "c3ac48d2-2d53-4992-ca18-122e535b18b9",
        "colab": {
          "base_uri": "https://localhost:8080/"
        }
      },
      "outputs": [
        {
          "output_type": "stream",
          "name": "stderr",
          "text": [
            "/usr/local/lib/python3.7/dist-packages/datascience/tables.py:17: MatplotlibDeprecationWarning: The 'warn' parameter of use() is deprecated since Matplotlib 3.1 and will be removed in 3.3.  If any parameter follows 'warn', they should be pass as keyword, not positionally.\n",
            "  matplotlib.use('agg', warn=False)\n",
            "/usr/local/lib/python3.7/dist-packages/datascience/util.py:10: MatplotlibDeprecationWarning: The 'warn' parameter of use() is deprecated since Matplotlib 3.1 and will be removed in 3.3.  If any parameter follows 'warn', they should be pass as keyword, not positionally.\n",
            "  matplotlib.use('agg', warn=False)\n"
          ]
        }
      ],
      "source": [
        "from datascience import *\n",
        "path_data = 'http://personal.psu.edu/drh20/200DS/assets/data/'\n",
        "import numpy as np\n",
        "import matplotlib.pyplot as plots\n",
        "plots.style.use('fivethirtyeight')\n",
        "%matplotlib inline"
      ]
    },
    {
      "cell_type": "markdown",
      "metadata": {
        "id": "jNzXwqvRLxho"
      },
      "source": [
        "# 10. Sampling and Empirical Distributions\n",
        "An important part of data science consists of making conclusions based on the data in random samples. In order to correctly interpret their results, data scientists have to first understand exactly what random samples are.\n",
        "\n",
        "In this chapter we will take a more careful look at sampling, with special attention to the properties of large random samples. \n",
        "\n",
        "Let's start by drawing some samples. Our examples are based on the [`top_movies_2017.csv`](https://inferentialthinking.com/chapters/07/1/Visualizing_Categorical_Distributions.html#grouping-categorical-data) data set."
      ]
    },
    {
      "cell_type": "code",
      "execution_count": null,
      "metadata": {
        "id": "IxZfEATzLxhp",
        "outputId": "871fabef-792c-45a8-a23c-2aa17b28a884",
        "colab": {
          "base_uri": "https://localhost:8080/",
          "height": 439
        }
      },
      "outputs": [
        {
          "output_type": "execute_result",
          "data": {
            "text/html": [
              "<table border=\"1\" class=\"dataframe\">\n",
              "    <thead>\n",
              "        <tr>\n",
              "            <th>Row Index</th> <th>Title</th> <th>Studio</th> <th>Gross</th> <th>Gross (Adjusted)</th> <th>Year</th>\n",
              "        </tr>\n",
              "    </thead>\n",
              "    <tbody>\n",
              "        <tr>\n",
              "            <td>0        </td> <td>Gone with the Wind              </td> <td>MGM            </td> <td>198,676,459</td> <td>1,796,176,700   </td> <td>1939</td>\n",
              "        </tr>\n",
              "        <tr>\n",
              "            <td>1        </td> <td>Star Wars                       </td> <td>Fox            </td> <td>460,998,007</td> <td>1,583,483,200   </td> <td>1977</td>\n",
              "        </tr>\n",
              "        <tr>\n",
              "            <td>2        </td> <td>The Sound of Music              </td> <td>Fox            </td> <td>158,671,368</td> <td>1,266,072,700   </td> <td>1965</td>\n",
              "        </tr>\n",
              "        <tr>\n",
              "            <td>3        </td> <td>E.T.: The Extra-Terrestrial     </td> <td>Universal      </td> <td>435,110,554</td> <td>1,261,085,000   </td> <td>1982</td>\n",
              "        </tr>\n",
              "        <tr>\n",
              "            <td>4        </td> <td>Titanic                         </td> <td>Paramount      </td> <td>658,672,302</td> <td>1,204,368,000   </td> <td>1997</td>\n",
              "        </tr>\n",
              "        <tr>\n",
              "            <td>5        </td> <td>The Ten Commandments            </td> <td>Paramount      </td> <td>65,500,000 </td> <td>1,164,590,000   </td> <td>1956</td>\n",
              "        </tr>\n",
              "        <tr>\n",
              "            <td>6        </td> <td>Jaws                            </td> <td>Universal      </td> <td>260,000,000</td> <td>1,138,620,700   </td> <td>1975</td>\n",
              "        </tr>\n",
              "        <tr>\n",
              "            <td>7        </td> <td>Doctor Zhivago                  </td> <td>MGM            </td> <td>111,721,910</td> <td>1,103,564,200   </td> <td>1965</td>\n",
              "        </tr>\n",
              "        <tr>\n",
              "            <td>8        </td> <td>The Exorcist                    </td> <td>Warner Brothers</td> <td>232,906,145</td> <td>983,226,600     </td> <td>1973</td>\n",
              "        </tr>\n",
              "        <tr>\n",
              "            <td>9        </td> <td>Snow White and the Seven Dwarves</td> <td>Disney         </td> <td>184,925,486</td> <td>969,010,000     </td> <td>1937</td>\n",
              "        </tr>\n",
              "    </tbody>\n",
              "</table>\n",
              "<p>... (190 rows omitted)</p>"
            ],
            "text/plain": [
              "Row Index | Title                            | Studio          | Gross       | Gross (Adjusted) | Year\n",
              "0         | Gone with the Wind               | MGM             | 198,676,459 | 1,796,176,700    | 1939\n",
              "1         | Star Wars                        | Fox             | 460,998,007 | 1,583,483,200    | 1977\n",
              "2         | The Sound of Music               | Fox             | 158,671,368 | 1,266,072,700    | 1965\n",
              "3         | E.T.: The Extra-Terrestrial      | Universal       | 435,110,554 | 1,261,085,000    | 1982\n",
              "4         | Titanic                          | Paramount       | 658,672,302 | 1,204,368,000    | 1997\n",
              "5         | The Ten Commandments             | Paramount       | 65,500,000  | 1,164,590,000    | 1956\n",
              "6         | Jaws                             | Universal       | 260,000,000 | 1,138,620,700    | 1975\n",
              "7         | Doctor Zhivago                   | MGM             | 111,721,910 | 1,103,564,200    | 1965\n",
              "8         | The Exorcist                     | Warner Brothers | 232,906,145 | 983,226,600      | 1973\n",
              "9         | Snow White and the Seven Dwarves | Disney          | 184,925,486 | 969,010,000      | 1937\n",
              "... (190 rows omitted)"
            ]
          },
          "metadata": {},
          "execution_count": 2
        }
      ],
      "source": [
        "top1 = Table.read_table(path_data + 'top_movies_2017.csv')\n",
        "top2 = top1.with_column('Row Index', np.arange(top1.num_rows))\n",
        "top = top2.move_to_start('Row Index')\n",
        "\n",
        "top.set_format(make_array(3, 4), NumberFormatter)"
      ]
    },
    {
      "cell_type": "markdown",
      "metadata": {
        "id": "2PL87o8PLxhq"
      },
      "source": [
        "<h2>Sampling Rows of a Table</h2>\n",
        "\n",
        "Each row of a data table represents an individual; in `top`, each individual is a movie. Sampling individuals can thus be achieved by sampling the rows of a table.\n",
        "\n",
        "The contents of a row are the values of different variables measured on the same individual. So the contents of the sampled rows form samples of values of each of the variables."
      ]
    },
    {
      "cell_type": "markdown",
      "metadata": {
        "id": "wUYkUqWpLxhq"
      },
      "source": [
        "<h2>Deterministic Samples</h2>\n",
        "\n",
        "When you simply specify which elements of a set you want to choose, without any chances involved, you create a *deterministic sample*.\n",
        "\n",
        "You have done this many times, for example by using `take`:"
      ]
    },
    {
      "cell_type": "code",
      "execution_count": null,
      "metadata": {
        "id": "-GV_WQ-MLxhq",
        "outputId": "9bb4398c-bb37-482b-d1af-515763db6a3e",
        "colab": {
          "base_uri": "https://localhost:8080/",
          "height": 196
        }
      },
      "outputs": [
        {
          "output_type": "execute_result",
          "data": {
            "text/html": [
              "<table border=\"1\" class=\"dataframe\">\n",
              "    <thead>\n",
              "        <tr>\n",
              "            <th>Row Index</th> <th>Title</th> <th>Studio</th> <th>Gross</th> <th>Gross (Adjusted)</th> <th>Year</th>\n",
              "        </tr>\n",
              "    </thead>\n",
              "    <tbody>\n",
              "        <tr>\n",
              "            <td>3        </td> <td>E.T.: The Extra-Terrestrial</td> <td>Universal  </td> <td>435,110,554</td> <td>1,261,085,000   </td> <td>1982</td>\n",
              "        </tr>\n",
              "        <tr>\n",
              "            <td>18       </td> <td>The Lion King              </td> <td>Buena Vista</td> <td>422,783,777</td> <td>792,511,700     </td> <td>1994</td>\n",
              "        </tr>\n",
              "        <tr>\n",
              "            <td>100      </td> <td>The Hunger Games           </td> <td>Lionsgate  </td> <td>408,010,692</td> <td>452,174,400     </td> <td>2012</td>\n",
              "        </tr>\n",
              "    </tbody>\n",
              "</table>"
            ],
            "text/plain": [
              "Row Index | Title                       | Studio      | Gross       | Gross (Adjusted) | Year\n",
              "3         | E.T.: The Extra-Terrestrial | Universal   | 435,110,554 | 1,261,085,000    | 1982\n",
              "18        | The Lion King               | Buena Vista | 422,783,777 | 792,511,700      | 1994\n",
              "100       | The Hunger Games            | Lionsgate   | 408,010,692 | 452,174,400      | 2012"
            ]
          },
          "metadata": {},
          "execution_count": 4
        }
      ],
      "source": [
        "top.take(make_array(3, 18, 100))"
      ]
    },
    {
      "cell_type": "markdown",
      "metadata": {
        "id": "qIkDR4B9Lxhr"
      },
      "source": [
        "You have also used `where`:"
      ]
    },
    {
      "cell_type": "code",
      "execution_count": null,
      "metadata": {
        "id": "HOXTvwDOLxhr",
        "outputId": "07684c2a-100c-4581-87e0-c8430fdeb395",
        "colab": {
          "base_uri": "https://localhost:8080/",
          "height": 408
        }
      },
      "outputs": [
        {
          "output_type": "execute_result",
          "data": {
            "text/html": [
              "<table border=\"1\" class=\"dataframe\">\n",
              "    <thead>\n",
              "        <tr>\n",
              "            <th>Row Index</th> <th>Title</th> <th>Studio</th> <th>Gross</th> <th>Gross (Adjusted)</th> <th>Year</th>\n",
              "        </tr>\n",
              "    </thead>\n",
              "    <tbody>\n",
              "        <tr>\n",
              "            <td>74       </td> <td>Harry Potter and the Sorcerer's Stone      </td> <td>Warner Brothers</td> <td>317,575,550</td> <td>497,066,400     </td> <td>2001</td>\n",
              "        </tr>\n",
              "        <tr>\n",
              "            <td>114      </td> <td>Harry Potter and the Deathly Hallows Part 2</td> <td>Warner Brothers</td> <td>381,011,219</td> <td>426,630,300     </td> <td>2011</td>\n",
              "        </tr>\n",
              "        <tr>\n",
              "            <td>131      </td> <td>Harry Potter and the Goblet of Fire        </td> <td>Warner Brothers</td> <td>290,013,036</td> <td>401,608,200     </td> <td>2005</td>\n",
              "        </tr>\n",
              "        <tr>\n",
              "            <td>133      </td> <td>Harry Potter and the Chamber of Secrets    </td> <td>Warner Brothers</td> <td>261,988,482</td> <td>399,302,200     </td> <td>2002</td>\n",
              "        </tr>\n",
              "        <tr>\n",
              "            <td>154      </td> <td>Harry Potter and the Order of the Phoenix  </td> <td>Warner Brothers</td> <td>292,004,738</td> <td>377,314,200     </td> <td>2007</td>\n",
              "        </tr>\n",
              "        <tr>\n",
              "            <td>175      </td> <td>Harry Potter and the Half-Blood Prince     </td> <td>Warner Brothers</td> <td>301,959,197</td> <td>359,788,300     </td> <td>2009</td>\n",
              "        </tr>\n",
              "        <tr>\n",
              "            <td>177      </td> <td>Harry Potter and the Prisoner of Azkaban   </td> <td>Warner Brothers</td> <td>249,541,069</td> <td>357,233,500     </td> <td>2004</td>\n",
              "        </tr>\n",
              "    </tbody>\n",
              "</table>"
            ],
            "text/plain": [
              "Row Index | Title                                       | Studio          | Gross       | Gross (Adjusted) | Year\n",
              "74        | Harry Potter and the Sorcerer's Stone       | Warner Brothers | 317,575,550 | 497,066,400      | 2001\n",
              "114       | Harry Potter and the Deathly Hallows Part 2 | Warner Brothers | 381,011,219 | 426,630,300      | 2011\n",
              "131       | Harry Potter and the Goblet of Fire         | Warner Brothers | 290,013,036 | 401,608,200      | 2005\n",
              "133       | Harry Potter and the Chamber of Secrets     | Warner Brothers | 261,988,482 | 399,302,200      | 2002\n",
              "154       | Harry Potter and the Order of the Phoenix   | Warner Brothers | 292,004,738 | 377,314,200      | 2007\n",
              "175       | Harry Potter and the Half-Blood Prince      | Warner Brothers | 301,959,197 | 359,788,300      | 2009\n",
              "177       | Harry Potter and the Prisoner of Azkaban    | Warner Brothers | 249,541,069 | 357,233,500      | 2004"
            ]
          },
          "metadata": {},
          "execution_count": 5
        }
      ],
      "source": [
        "top.where('Title', are.containing('Harry Potter'))"
      ]
    },
    {
      "cell_type": "markdown",
      "metadata": {
        "id": "c8pWzsEALxhs"
      },
      "source": [
        "While these are samples, they are not random samples. They don't involve chance."
      ]
    },
    {
      "cell_type": "markdown",
      "metadata": {
        "id": "1D5qrqkiLxhs"
      },
      "source": [
        "<h2>Probability Samples</h2>"
      ]
    },
    {
      "cell_type": "markdown",
      "metadata": {
        "id": "WO1XvWesLxhs"
      },
      "source": [
        "For describing random samples, some terminology will be helpful.\n",
        "\n",
        "A *population* is the set of all elements from whom a sample will be drawn.\n",
        "\n",
        "A *probability sample* is one for which it is possible to calculate, before the sample is drawn, the chance with which any subset of elements will enter the sample.\n",
        "\n",
        "In a probability sample, all elements need not have the same chance of being chosen. \n",
        "\n",
        "<h2>A Random Sampling Scheme</h2>\n",
        "\n",
        "For example, suppose you choose two people from a population that consists of three people A, B, and C, according to the following scheme:\n",
        "\n",
        "- Person A is chosen with probability 1.\n",
        "- One of Persons B or C is chosen according to the toss of a coin: if the coin lands heads, you choose B, and if it lands tails you choose C.\n",
        "\n",
        "This is a probability sample of size 2. Here are the chances of entry for all non-empty subsets:\n",
        "\n",
        "    A: 1 \n",
        "    B: 1/2\n",
        "    C: 1/2\n",
        "    AB: 1/2\n",
        "    AC: 1/2\n",
        "    BC: 0\n",
        "    ABC: 0\n",
        "\n",
        "Person A has a higher chance of being selected than Persons B or C; indeed, Person A is certain to be selected. Since these differences are known and quantified, they can be taken into account when working with the sample. "
      ]
    },
    {
      "cell_type": "markdown",
      "metadata": {
        "id": "EnZEDmY_Lxht"
      },
      "source": [
        "<h2>A Systematic Sample</h2>\n",
        "\n",
        "Imagine all the elements of the population listed in a sequence. One method of sampling starts by choosing a random position early in the list, and then evenly spaced positions after that. The sample consists of the elements in those positions. Such a sample is called a *systematic sample*. \n",
        "\n",
        "Here we will choose a systematic sample of the rows of `top`. We will start by picking one of the first 10 rows at random, and then we will pick every 10th row after that."
      ]
    },
    {
      "cell_type": "code",
      "execution_count": null,
      "metadata": {
        "id": "OIwlWYudLxht",
        "outputId": "74999d39-8962-4d93-fcdb-09bee8e79799",
        "colab": {
          "base_uri": "https://localhost:8080/",
          "height": 479
        }
      },
      "outputs": [
        {
          "output_type": "execute_result",
          "data": {
            "text/html": [
              "<table border=\"1\" class=\"dataframe\">\n",
              "    <thead>\n",
              "        <tr>\n",
              "            <th>Row Index</th> <th>Title</th> <th>Studio</th> <th>Gross</th> <th>Gross (Adjusted)</th> <th>Year</th>\n",
              "        </tr>\n",
              "    </thead>\n",
              "    <tbody>\n",
              "        <tr>\n",
              "            <td>1        </td> <td>Star Wars                           </td> <td>Fox            </td> <td>460,998,007</td> <td>1,583,483,200   </td> <td>1977</td>\n",
              "        </tr>\n",
              "        <tr>\n",
              "            <td>11       </td> <td>101 Dalmatians                      </td> <td>Disney         </td> <td>144,880,014</td> <td>888,264,400     </td> <td>1961</td>\n",
              "        </tr>\n",
              "        <tr>\n",
              "            <td>21       </td> <td>The Graduate                        </td> <td>AVCO           </td> <td>104,945,305</td> <td>760,778,000     </td> <td>1967</td>\n",
              "        </tr>\n",
              "        <tr>\n",
              "            <td>31       </td> <td>The Jungle Book                     </td> <td>Disney         </td> <td>141,843,612</td> <td>655,014,400     </td> <td>1967</td>\n",
              "        </tr>\n",
              "        <tr>\n",
              "            <td>41       </td> <td>Cleopatra (1963)                    </td> <td>Fox            </td> <td>57,777,778 </td> <td>597,261,000     </td> <td>1963</td>\n",
              "        </tr>\n",
              "        <tr>\n",
              "            <td>51       </td> <td>Batman                              </td> <td>Warner Brothers</td> <td>251,188,924</td> <td>559,666,600     </td> <td>1989</td>\n",
              "        </tr>\n",
              "        <tr>\n",
              "            <td>61       </td> <td>National Lampoon's Animal House     </td> <td>Universal      </td> <td>141,600,000</td> <td>532,424,500     </td> <td>1978</td>\n",
              "        </tr>\n",
              "        <tr>\n",
              "            <td>71       </td> <td>Beauty and the Beast (2017)         </td> <td>Buena Vista    </td> <td>504,014,165</td> <td>504,014,165     </td> <td>2017</td>\n",
              "        </tr>\n",
              "        <tr>\n",
              "            <td>81       </td> <td>The Poseidon Adventure              </td> <td>Fox            </td> <td>84,563,118 </td> <td>488,078,400     </td> <td>1972</td>\n",
              "        </tr>\n",
              "        <tr>\n",
              "            <td>91       </td> <td>Indiana Jones and the Temple of Doom</td> <td>Paramount      </td> <td>179,870,271</td> <td>475,906,700     </td> <td>1984</td>\n",
              "        </tr>\n",
              "    </tbody>\n",
              "</table>\n",
              "<p>... (10 rows omitted)</p>"
            ],
            "text/plain": [
              "Row Index | Title                                | Studio          | Gross       | Gross (Adjusted) | Year\n",
              "1         | Star Wars                            | Fox             | 460,998,007 | 1,583,483,200    | 1977\n",
              "11        | 101 Dalmatians                       | Disney          | 144,880,014 | 888,264,400      | 1961\n",
              "21        | The Graduate                         | AVCO            | 104,945,305 | 760,778,000      | 1967\n",
              "31        | The Jungle Book                      | Disney          | 141,843,612 | 655,014,400      | 1967\n",
              "41        | Cleopatra (1963)                     | Fox             | 57,777,778  | 597,261,000      | 1963\n",
              "51        | Batman                               | Warner Brothers | 251,188,924 | 559,666,600      | 1989\n",
              "61        | National Lampoon's Animal House      | Universal       | 141,600,000 | 532,424,500      | 1978\n",
              "71        | Beauty and the Beast (2017)          | Buena Vista     | 504,014,165 | 504,014,165      | 2017\n",
              "81        | The Poseidon Adventure               | Fox             | 84,563,118  | 488,078,400      | 1972\n",
              "91        | Indiana Jones and the Temple of Doom | Paramount       | 179,870,271 | 475,906,700      | 1984\n",
              "... (10 rows omitted)"
            ]
          },
          "metadata": {},
          "execution_count": 8
        }
      ],
      "source": [
        "\"\"\"Choose a random start among rows 0 through 9;\n",
        "then take every 10th row.\"\"\"\n",
        "\n",
        "start = np.random.choice(np.arange(10))\n",
        "top.take(np.arange(start, top.num_rows, 10))"
      ]
    },
    {
      "cell_type": "markdown",
      "metadata": {
        "id": "Hmfy6aDTLxht"
      },
      "source": [
        "Run the cell a few times to see how the output varies. \n",
        "\n",
        "This systematic sample is a probability sample. In this scheme, all rows have chance $1/10$ of being chosen. For example, Row 23 is chosen if and only if Row 3 is chosen, and the chance of that is $1/10$. \n",
        "\n",
        "But not all subsets have the same chance of being chosen. Because the selected rows are evenly spaced, most subsets of rows have no chance of being chosen. The only subsets that are possible are those that consist of rows all separated by multiples of 10. Any of those subsets is selected with chance 1/10.  Other subsets, such as a subset containing both the 15th and 16th rows of the table, or any subset of size more than 10, are selected with chance 0.\n",
        "\n",
        "**Notice that on this systematic sample, each row has the same probability of being selected BUT  not every subset of rows has the same probability of being selected.**"
      ]
    },
    {
      "cell_type": "markdown",
      "metadata": {
        "id": "UvRHA3f7Lxhu"
      },
      "source": [
        "<h2>Random Samples Drawn With or Without Replacement</h2>\n",
        " \n",
        "In this course, we will mostly deal with the two most straightforward methods of sampling. \n",
        "\n",
        "The first is random sampling with replacement, which (as we have seen earlier) is the default behavior of `np.random.choice` when it samples from an array. \n",
        "\n",
        "The other, called a \"simple random sample\", is a sample drawn at random *without* replacement. Sampled individuals are not replaced in the population before the next individual is drawn. This is the kind of sampling that happens when you deal a hand from a deck of cards, for example. To use `np.random.choice` for simple random sampling, you must include the argument `replace=False`.\n",
        "\n",
        "In this chapter, we will use simulation to study the behavior of large samples drawn at random with or without replacement."
      ]
    },
    {
      "cell_type": "markdown",
      "metadata": {
        "collapsed": true,
        "id": "jFiCTVAlLxhu"
      },
      "source": [
        "<h2>Convenience Samples</h2>\n",
        "Drawing a random sample requires care and precision. It is not haphazard even though that is a colloquial meaning of the word \"random\". If you stand at a street corner and take as your sample the first ten people who pass by, you might think you're sampling at random because you didn't choose who walked by. But it's not a random sample – it's a *sample of convenience*. You didn't know ahead of time the probability of each person entering the sample; perhaps you hadn't even specified exactly who was in the population."
      ]
    },
    {
      "cell_type": "markdown",
      "metadata": {
        "id": "xnf-6ZbPL95i"
      },
      "source": [
        "## 10.1. Empirical Distributions\n",
        "\n",
        "In data science, the word \"empirical\" means \"observed\". Empirical distributions are distributions of observed data, such as data in random samples.\n",
        "\n",
        "In this section we will generate data and see what the empirical distribution looks like. \n",
        "\n",
        "Our setting is a simple experiment: rolling a die multiple times and keeping track of which face appears. The table `die` contains the numbers of spots on the faces of a die. All the numbers appear exactly once, as we are assuming that the die is fair."
      ]
    },
    {
      "cell_type": "code",
      "execution_count": null,
      "metadata": {
        "tags": [
          "remove-input"
        ],
        "id": "qTUSTQ-wL95g"
      },
      "outputs": [],
      "source": [
        "from datascience import *\n",
        "path_data = 'http://personal.psu.edu/drh20/200DS/assets/data/'\n",
        "import matplotlib\n",
        "matplotlib.use('Agg')\n",
        "%matplotlib inline\n",
        "import matplotlib.pyplot as plots\n",
        "plots.style.use('fivethirtyeight')\n",
        "import numpy as np"
      ]
    },
    {
      "cell_type": "code",
      "execution_count": null,
      "metadata": {
        "id": "icSCKcGRL95i",
        "outputId": "666f6d3d-222c-4f91-af5e-910bb8b94ca3",
        "colab": {
          "base_uri": "https://localhost:8080/",
          "height": 238
        }
      },
      "outputs": [
        {
          "output_type": "execute_result",
          "data": {
            "text/html": [
              "<table border=\"1\" class=\"dataframe\">\n",
              "    <thead>\n",
              "        <tr>\n",
              "            <th>Face</th>\n",
              "        </tr>\n",
              "    </thead>\n",
              "    <tbody>\n",
              "        <tr>\n",
              "            <td>1   </td>\n",
              "        </tr>\n",
              "        <tr>\n",
              "            <td>2   </td>\n",
              "        </tr>\n",
              "        <tr>\n",
              "            <td>3   </td>\n",
              "        </tr>\n",
              "        <tr>\n",
              "            <td>4   </td>\n",
              "        </tr>\n",
              "        <tr>\n",
              "            <td>5   </td>\n",
              "        </tr>\n",
              "        <tr>\n",
              "            <td>6   </td>\n",
              "        </tr>\n",
              "    </tbody>\n",
              "</table>"
            ],
            "text/plain": [
              "Face\n",
              "1\n",
              "2\n",
              "3\n",
              "4\n",
              "5\n",
              "6"
            ]
          },
          "metadata": {},
          "execution_count": 10
        }
      ],
      "source": [
        "die = Table().with_column('Face', np.arange(1, 7, 1))\n",
        "die"
      ]
    },
    {
      "cell_type": "markdown",
      "metadata": {
        "id": "Iva9G_bSL95j"
      },
      "source": [
        "### 10.1.1. A Probability Distribution\n",
        "\n",
        "The histogram below helps us visualize the fact that every face appears with probability 1/6. We say that the histogram shows the *distribution* of probabilities over all the possible faces. Since all the bars represent the same percent chance, the distribution is called *uniform on the integers 1 through 6.*"
      ]
    },
    {
      "cell_type": "code",
      "execution_count": null,
      "metadata": {
        "id": "xupo8WWUL95j",
        "outputId": "fdf490d1-7b72-49ae-9878-ae4654b6032f",
        "colab": {
          "base_uri": "https://localhost:8080/",
          "height": 306
        }
      },
      "outputs": [
        {
          "output_type": "display_data",
          "data": {
            "image/png": "[encoded data removed]",
            "text/plain": [
              "<Figure size 432x288 with 1 Axes>"
            ]
          },
          "metadata": {}
        }
      ],
      "source": [
        "die_bins = np.arange(0.5, 6.6, 1)\n",
        "die.hist(bins = die_bins)"
      ]
    },
    {
      "cell_type": "markdown",
      "metadata": {
        "id": "ZzxkLFvEL95k"
      },
      "source": [
        "Variables whose successive values are separated by the same fixed amount, such as the values on rolls of a die (successive values separated by 1), fall into a class of variables that are called *discrete*. The histogram above is called a *discrete* histogram. Its bins are specified by the array `die_bins` and ensure that each bar is centered over the corresponding integer value. \n",
        "\n",
        "It is important to remember that the die can't show 1.3 spots, or 5.2 spots – it always shows an integer number of spots. But our visualization spreads the probability of each value over the area of a bar. While this might seem a bit arbitrary at this stage of the course, it will become important later when we overlay smooth curves over discrete histograms.\n",
        "\n",
        "Before going further, let's make sure that the numbers on the axes make sense. The probability of each face is 1/6, which is 16.67% when rounded to two decimal places. The width of each bin is 1 unit. So the height of each bar is 16.67% per unit. This agrees with the horizontal and vertical scales of the graph."
      ]
    },
    {
      "cell_type": "markdown",
      "metadata": {
        "id": "HaodVzMfL95k"
      },
      "source": [
        "### 10.1.2. Empirical Distributions\n",
        "The distribution above consists of the theoretical probability of each face. It is called a *probability distribution* and is not based on observed data. It can be studied and understood without any dice being rolled.\n",
        "\n",
        "*Empirical distributions,* on the other hand, are distributions of observed data. They can be visualized by *empirical histograms*. \n",
        "\n",
        "Let us get some data by simulating rolls of a die. This can be done by sampling at random with replacement from the integers 1 through 6. We have used `np.random.choice` for such simulations before. But now we will introduce a Table method for doing this. This will make it easier for us to use our familiar Table methods for visualization.\n",
        "\n",
        "The Table method is called `sample`. It draws at random with replacement from the rows of a table. Its argument is the sample size, and it returns a table consisting of the rows that were selected. An optional argument `with_replacement=False` specifies that the sample should be drawn without replacement. But that does not apply to rolling a die.\n",
        "\n",
        "Here are the results of 10 rolls of a die."
      ]
    },
    {
      "cell_type": "code",
      "execution_count": null,
      "metadata": {
        "id": "fq-HnHbmL95l",
        "outputId": "e2bc0193-5132-49dc-d5b1-1760463e0746",
        "colab": {
          "base_uri": "https://localhost:8080/",
          "height": 363
        }
      },
      "outputs": [
        {
          "output_type": "execute_result",
          "data": {
            "text/html": [
              "<table border=\"1\" class=\"dataframe\">\n",
              "    <thead>\n",
              "        <tr>\n",
              "            <th>Face</th>\n",
              "        </tr>\n",
              "    </thead>\n",
              "    <tbody>\n",
              "        <tr>\n",
              "            <td>6   </td>\n",
              "        </tr>\n",
              "        <tr>\n",
              "            <td>5   </td>\n",
              "        </tr>\n",
              "        <tr>\n",
              "            <td>3   </td>\n",
              "        </tr>\n",
              "        <tr>\n",
              "            <td>3   </td>\n",
              "        </tr>\n",
              "        <tr>\n",
              "            <td>4   </td>\n",
              "        </tr>\n",
              "        <tr>\n",
              "            <td>4   </td>\n",
              "        </tr>\n",
              "        <tr>\n",
              "            <td>4   </td>\n",
              "        </tr>\n",
              "        <tr>\n",
              "            <td>5   </td>\n",
              "        </tr>\n",
              "        <tr>\n",
              "            <td>3   </td>\n",
              "        </tr>\n",
              "        <tr>\n",
              "            <td>3   </td>\n",
              "        </tr>\n",
              "    </tbody>\n",
              "</table>"
            ],
            "text/plain": [
              "Face\n",
              "6\n",
              "5\n",
              "3\n",
              "3\n",
              "4\n",
              "4\n",
              "4\n",
              "5\n",
              "3\n",
              "3"
            ]
          },
          "metadata": {},
          "execution_count": 13
        }
      ],
      "source": [
        "die.sample(10)"
      ]
    },
    {
      "cell_type": "markdown",
      "metadata": {
        "id": "l6WsRvFSL95m"
      },
      "source": [
        "We can use the same method to simulate as many rolls as we like, and then draw empirical histograms of the results. Because we are going to do this repeatedly, we define a function `empirical_hist_die` that takes the sample size as its argument, rolls a die as many times as the argument, and then draws a histogram of the observed results."
      ]
    },
    {
      "cell_type": "code",
      "execution_count": null,
      "metadata": {
        "id": "dMHK0h7RL95m"
      },
      "outputs": [],
      "source": [
        "def empirical_hist_die(n):\n",
        "    die.sample(n).hist(bins = die_bins)"
      ]
    },
    {
      "cell_type": "markdown",
      "metadata": {
        "id": "F1Kb0b5XL95m"
      },
      "source": [
        "### 10.1.3. Empirical Histograms\n",
        "\n",
        "Here is an empirical histogram of 10 rolls. It doesn't look very much like the probability histogram above. Run the cell a few times to see how it varies."
      ]
    },
    {
      "cell_type": "code",
      "execution_count": null,
      "metadata": {
        "id": "wHZMVj8iL95n",
        "outputId": "64245ebd-355e-46be-c65d-db770b504392",
        "colab": {
          "base_uri": "https://localhost:8080/",
          "height": 301
        }
      },
      "outputs": [
        {
          "output_type": "display_data",
          "data": {
            "image/png": "[encoded data removed]",
            "text/plain": [
              "<Figure size 432x288 with 1 Axes>"
            ]
          },
          "metadata": {}
        }
      ],
      "source": [
        "empirical_hist_die(10)"
      ]
    },
    {
      "cell_type": "markdown",
      "metadata": {
        "id": "MKsHbbQ1L95n"
      },
      "source": [
        "When the sample size increases, the empirical histogram begins to look more like the histogram of theoretical probabilities."
      ]
    },
    {
      "cell_type": "code",
      "execution_count": null,
      "metadata": {
        "id": "C9HCTStwL95n",
        "outputId": "c5d6323e-0577-4748-b107-44b3ce003651",
        "colab": {
          "base_uri": "https://localhost:8080/",
          "height": 301
        }
      },
      "outputs": [
        {
          "output_type": "display_data",
          "data": {
            "image/png": "[encoded data removed]",
            "text/plain": [
              "<Figure size 432x288 with 1 Axes>"
            ]
          },
          "metadata": {}
        }
      ],
      "source": [
        "empirical_hist_die(100)"
      ]
    },
    {
      "cell_type": "code",
      "execution_count": null,
      "metadata": {
        "id": "hYdKSdfjL95n",
        "outputId": "3c300fd3-d793-43f0-d7fe-08be44a8a698",
        "colab": {
          "base_uri": "https://localhost:8080/",
          "height": 301
        }
      },
      "outputs": [
        {
          "output_type": "display_data",
          "data": {
            "image/png": "[encoded data removed]",
            "text/plain": [
              "<Figure size 432x288 with 1 Axes>"
            ]
          },
          "metadata": {}
        }
      ],
      "source": [
        "empirical_hist_die(1000)"
      ]
    },
    {
      "cell_type": "code",
      "source": [
        "empirical_hist_die(10000)"
      ],
      "metadata": {
        "colab": {
          "base_uri": "https://localhost:8080/",
          "height": 301
        },
        "id": "6U4VeMwXDCPJ",
        "outputId": "68e45590-fde5-4d1d-e1a8-914a7936408e"
      },
      "execution_count": null,
      "outputs": [
        {
          "output_type": "display_data",
          "data": {
            "image/png": "[encoded data removed]",
            "text/plain": [
              "<Figure size 432x288 with 1 Axes>"
            ]
          },
          "metadata": {}
        }
      ]
    },
    {
      "cell_type": "markdown",
      "metadata": {
        "id": "op15PIhTL95n"
      },
      "source": [
        "As we increase the number of rolls in the simulation, the area of each bar gets closer to 16.67%, which is the area of each bar in the probability histogram.\n",
        "\n",
        "### 10.1.4. The Law of Averages\n",
        "\n",
        "What we have observed above is an instance of a general rule called the *law of averages*:\n",
        "\n",
        "If a chance experiment is repeated independently and under identical conditions, then, in the long run, the proportion of times that an event occurs gets closer and closer to the theoretical probability of the event.\n",
        "\n",
        "For example, in the long run, the proportion of times the face with four spots appears gets closer and closer to 1/6.\n",
        "\n",
        "Here \"independently and under identical conditions\" means that every repetition is performed in the same way regardless of the results of all the other repetitions.\n",
        "\n",
        "Under these conditions, the law above implies that if the chance experiment is repeated a large number of times then the proportion of times that an event occurs is very likely to be close to the theoretical probability of the event."
      ]
    },
    {
      "cell_type": "markdown",
      "metadata": {
        "id": "OlEe62dTMjRF"
      },
      "source": [
        "## 10.2. Sampling from a Population\n",
        "\n",
        "The law of averages also holds when the random sample is drawn from individuals in a large population.\n",
        "\n",
        "As an example, we will study a population of flight delay times. The table `united` contains data for United Airlines domestic flights departing from San Francisco in the summer of 2015. The data are made publicly available by the [Bureau of Transportation Statistics](http://www.transtats.bts.gov/Fields.asp?Table_ID=293) in the United States Department of Transportation.\n",
        "\n",
        "There are 13,825 rows, each corresponding to a flight. The columns are the date of the flight, the flight number, the destination airport code, and the departure delay time in minutes. Some delay times are negative: those flights left early."
      ]
    },
    {
      "cell_type": "code",
      "execution_count": null,
      "metadata": {
        "id": "1hh_k5LwMjRG",
        "outputId": "62fec433-fdce-4f56-de18-c8f5c990fdb6",
        "colab": {
          "base_uri": "https://localhost:8080/",
          "height": 392
        }
      },
      "outputs": [
        {
          "output_type": "execute_result",
          "data": {
            "text/html": [
              "<table border=\"1\" class=\"dataframe\">\n",
              "    <thead>\n",
              "        <tr>\n",
              "            <th>Date</th> <th>Flight Number</th> <th>Destination</th> <th>Delay</th>\n",
              "        </tr>\n",
              "    </thead>\n",
              "    <tbody>\n",
              "        <tr>\n",
              "            <td>6/1/15</td> <td>73           </td> <td>HNL        </td> <td>257  </td>\n",
              "        </tr>\n",
              "        <tr>\n",
              "            <td>6/1/15</td> <td>217          </td> <td>EWR        </td> <td>28   </td>\n",
              "        </tr>\n",
              "        <tr>\n",
              "            <td>6/1/15</td> <td>237          </td> <td>STL        </td> <td>-3   </td>\n",
              "        </tr>\n",
              "        <tr>\n",
              "            <td>6/1/15</td> <td>250          </td> <td>SAN        </td> <td>0    </td>\n",
              "        </tr>\n",
              "        <tr>\n",
              "            <td>6/1/15</td> <td>267          </td> <td>PHL        </td> <td>64   </td>\n",
              "        </tr>\n",
              "        <tr>\n",
              "            <td>6/1/15</td> <td>273          </td> <td>SEA        </td> <td>-6   </td>\n",
              "        </tr>\n",
              "        <tr>\n",
              "            <td>6/1/15</td> <td>278          </td> <td>SEA        </td> <td>-8   </td>\n",
              "        </tr>\n",
              "        <tr>\n",
              "            <td>6/1/15</td> <td>292          </td> <td>EWR        </td> <td>12   </td>\n",
              "        </tr>\n",
              "        <tr>\n",
              "            <td>6/1/15</td> <td>300          </td> <td>HNL        </td> <td>20   </td>\n",
              "        </tr>\n",
              "        <tr>\n",
              "            <td>6/1/15</td> <td>317          </td> <td>IND        </td> <td>-10  </td>\n",
              "        </tr>\n",
              "    </tbody>\n",
              "</table>\n",
              "<p>... (13815 rows omitted)</p>"
            ],
            "text/plain": [
              "Date   | Flight Number | Destination | Delay\n",
              "6/1/15 | 73            | HNL         | 257\n",
              "6/1/15 | 217           | EWR         | 28\n",
              "6/1/15 | 237           | STL         | -3\n",
              "6/1/15 | 250           | SAN         | 0\n",
              "6/1/15 | 267           | PHL         | 64\n",
              "6/1/15 | 273           | SEA         | -6\n",
              "6/1/15 | 278           | SEA         | -8\n",
              "6/1/15 | 292           | EWR         | 12\n",
              "6/1/15 | 300           | HNL         | 20\n",
              "6/1/15 | 317           | IND         | -10\n",
              "... (13815 rows omitted)"
            ]
          },
          "metadata": {},
          "execution_count": 20
        }
      ],
      "source": [
        "united = Table.read_table(path_data + 'united_summer2015.csv')\n",
        "united"
      ]
    },
    {
      "cell_type": "markdown",
      "metadata": {
        "id": "hpEAluomMjRH"
      },
      "source": [
        "One flight departed 16 minutes early, and one was 580 minutes late. The other delay times were almost all between -10 minutes and 200 minutes, as the histogram below shows."
      ]
    },
    {
      "cell_type": "code",
      "source": [
        "united.column('Delay')"
      ],
      "metadata": {
        "colab": {
          "base_uri": "https://localhost:8080/"
        },
        "id": "z7wP0WuQEJOp",
        "outputId": "1c5b3e10-1784-4326-cfc0-034b54de0005"
      },
      "execution_count": null,
      "outputs": [
        {
          "output_type": "execute_result",
          "data": {
            "text/plain": [
              "array([257,  28,  -3, ...,   3,  -1,  -2])"
            ]
          },
          "metadata": {},
          "execution_count": 23
        }
      ]
    },
    {
      "cell_type": "code",
      "execution_count": null,
      "metadata": {
        "id": "9k5MghGEMjRH",
        "outputId": "3e2d255d-18b6-4b70-cf2d-c936d9a7ab38",
        "colab": {
          "base_uri": "https://localhost:8080/"
        }
      },
      "outputs": [
        {
          "output_type": "execute_result",
          "data": {
            "text/plain": [
              "-16"
            ]
          },
          "metadata": {},
          "execution_count": 21
        }
      ],
      "source": [
        "united.column('Delay').min()"
      ]
    },
    {
      "cell_type": "code",
      "execution_count": null,
      "metadata": {
        "id": "W83yKGCbMjRH",
        "outputId": "d1833aea-08c5-47ff-e20f-77f888c69639",
        "colab": {
          "base_uri": "https://localhost:8080/"
        }
      },
      "outputs": [
        {
          "output_type": "execute_result",
          "data": {
            "text/plain": [
              "580"
            ]
          },
          "metadata": {},
          "execution_count": 22
        }
      ],
      "source": [
        "united.column('Delay').max()"
      ]
    },
    {
      "cell_type": "code",
      "execution_count": null,
      "metadata": {
        "id": "LBJU96yPMjRI",
        "outputId": "3238f95b-12c7-4a0b-9b92-9069afff43a7",
        "colab": {
          "base_uri": "https://localhost:8080/",
          "height": 301
        }
      },
      "outputs": [
        {
          "output_type": "display_data",
          "data": {
            "image/png": "[encoded data removed]",
            "text/plain": [
              "<Figure size 432x288 with 1 Axes>"
            ]
          },
          "metadata": {}
        }
      ],
      "source": [
        "delay_bins = np.append(np.arange(-20, 301, 10), 600)\n",
        "united.hist('Delay', bins = delay_bins, unit = 'minute')"
      ]
    },
    {
      "cell_type": "markdown",
      "metadata": {
        "id": "PS9olD7TMjRI"
      },
      "source": [
        "For the purposes of this section, it is enough to zoom in on the bulk of the data and ignore the 0.8% of flights that had delays of more than 200 minutes. This restriction is just for visual convenience; the table still retains all the data."
      ]
    },
    {
      "cell_type": "code",
      "execution_count": null,
      "metadata": {
        "id": "rgCbt6FwMjRJ",
        "outputId": "abe288df-58ea-4c21-9e6e-113be0112b6f",
        "colab": {
          "base_uri": "https://localhost:8080/"
        }
      },
      "outputs": [
        {
          "output_type": "execute_result",
          "data": {
            "text/plain": [
              "0.008390596745027125"
            ]
          },
          "metadata": {},
          "execution_count": 27
        }
      ],
      "source": [
        "#How many rows in the table there are where the delay is above 200 mins.\n",
        "#By putting \"/united.num_rows\" you get the percentage\n",
        "united.where('Delay', are.above(200)).num_rows/united.num_rows"
      ]
    },
    {
      "cell_type": "code",
      "execution_count": null,
      "metadata": {
        "id": "bFhOC5vyMjRJ",
        "outputId": "9a42d8f2-c48f-4cba-e328-26bf79f5cdf6",
        "colab": {
          "base_uri": "https://localhost:8080/",
          "height": 301
        }
      },
      "outputs": [
        {
          "output_type": "display_data",
          "data": {
            "image/png": "[encoded data removed]",
            "text/plain": [
              "<Figure size 432x288 with 1 Axes>"
            ]
          },
          "metadata": {}
        }
      ],
      "source": [
        "delay_bins = np.arange(-20, 201, 10)\n",
        "united.hist('Delay', bins = delay_bins, unit = 'minute')"
      ]
    },
    {
      "cell_type": "markdown",
      "metadata": {
        "id": "ox8N4YxWMjRK"
      },
      "source": [
        "The height of the [0, 10) bar is just under 3% per minute, which means that just under 30% of the flights had delays between 0 and 10 minutes. That is confirmed by counting rows: "
      ]
    },
    {
      "cell_type": "code",
      "execution_count": null,
      "metadata": {
        "id": "9OTWpD8HMjRK",
        "outputId": "3e1c3d3b-285a-40b7-f860-7c1638fb2e1a",
        "colab": {
          "base_uri": "https://localhost:8080/"
        }
      },
      "outputs": [
        {
          "output_type": "execute_result",
          "data": {
            "text/plain": [
              "0.2935985533453888"
            ]
          },
          "metadata": {},
          "execution_count": 29
        }
      ],
      "source": [
        "united.where('Delay', are.between(0, 10)).num_rows/united.num_rows"
      ]
    },
    {
      "cell_type": "markdown",
      "metadata": {
        "id": "d0znHA9PMjRK"
      },
      "source": [
        "### 10.2.1. Empirical Distribution of the Sample\n",
        "\n",
        "Let us now think of the 13,825 flights as a population, and draw random samples from it with replacement. It is helpful to package our code into a function. The function `empirical_hist_delay` takes the sample size as its argument and draws an empiricial histogram of the results."
      ]
    },
    {
      "cell_type": "code",
      "execution_count": null,
      "metadata": {
        "id": "ZaXmVhUVMjRK"
      },
      "outputs": [],
      "source": [
        "def empirical_hist_delay(n):\n",
        "    united.sample(n).hist('Delay', bins = delay_bins, unit = 'minute')"
      ]
    },
    {
      "cell_type": "markdown",
      "metadata": {
        "id": "K_sK5yGXMjRK"
      },
      "source": [
        "As we saw with the dice, as the sample size increases, the empirical histogram of the sample more closely resembles the histogram of the population. Compare these histograms to the population histogram above."
      ]
    },
    {
      "cell_type": "code",
      "execution_count": null,
      "metadata": {
        "id": "wCJWucipMjRL",
        "outputId": "b56549c1-a919-42a5-f604-fb9122080a1b",
        "colab": {
          "base_uri": "https://localhost:8080/",
          "height": 306
        }
      },
      "outputs": [
        {
          "output_type": "display_data",
          "data": {
            "image/png": "[encoded data removed]",
            "text/plain": [
              "<Figure size 432x288 with 1 Axes>"
            ]
          },
          "metadata": {}
        }
      ],
      "source": [
        "empirical_hist_delay(10)"
      ]
    },
    {
      "cell_type": "code",
      "execution_count": null,
      "metadata": {
        "id": "zZlwQFsOMjRL",
        "outputId": "e379781c-3981-4f9b-f950-0b1e79281aac",
        "colab": {
          "base_uri": "https://localhost:8080/",
          "height": 301
        }
      },
      "outputs": [
        {
          "output_type": "display_data",
          "data": {
            "image/png": "[encoded data removed]",
            "text/plain": [
              "<Figure size 432x288 with 1 Axes>"
            ]
          },
          "metadata": {}
        }
      ],
      "source": [
        "empirical_hist_delay(100)"
      ]
    },
    {
      "cell_type": "markdown",
      "metadata": {
        "id": "fXW4BQNwMjRL"
      },
      "source": [
        "The most consistently visible discrepancies are among the values that are rare in the population. In our example, those values are in the the right hand tail of the distribution. But as the sample size increases, even those values begin to appear in the sample in roughly the correct proportions."
      ]
    },
    {
      "cell_type": "code",
      "execution_count": null,
      "metadata": {
        "id": "Yubxp3MAMjRL",
        "outputId": "26158e74-1e57-45da-daa4-a99b600e876a",
        "colab": {
          "base_uri": "https://localhost:8080/",
          "height": 301
        }
      },
      "outputs": [
        {
          "output_type": "display_data",
          "data": {
            "image/png": "[encoded data removed]",
            "text/plain": [
              "<Figure size 432x288 with 1 Axes>"
            ]
          },
          "metadata": {}
        }
      ],
      "source": [
        "empirical_hist_delay(1000)"
      ]
    },
    {
      "cell_type": "markdown",
      "metadata": {
        "id": "dOQYJYvkMjRM"
      },
      "source": [
        "### 10.2.2. Convergence of the Empirical Histogram of the Sample\n",
        "What we have observed in this section can be summarized as follows:\n",
        "\n",
        "For a large random sample, the empirical histogram of the sample resembles the histogram of the population, with high probability.\n",
        "\n",
        "This justifies the use of large random samples in statistical inference. The idea is that since a large random sample is likely to resemble the population from which it is drawn, quantities computed from the values in the sample are likely to be close to the corresponding quantities in the population."
      ]
    },
    {
      "cell_type": "markdown",
      "metadata": {
        "id": "TiCdKm6oM3Mh"
      },
      "source": [
        "## 10.3. Empirical Distribution of a Statistic\n",
        "The Law of Averages implies that with high probability, the empirical distribution of a large random sample will resemble the distribution of the population from which the sample was drawn.\n",
        "\n",
        "The resemblance is visible in two histograms: the empirical histogram of a large random sample is likely to resemble the histogram of the population.\n",
        "\n",
        "As a reminder, here is the histogram of the delays of all the flights in `united`, and an empirical histogram of the delays of a random sample of 1,000 of these flights."
      ]
    },
    {
      "cell_type": "code",
      "execution_count": null,
      "metadata": {
        "id": "kPC9QoLTM3Mi"
      },
      "outputs": [],
      "source": [
        "united = Table.read_table(path_data + 'united_summer2015.csv')"
      ]
    },
    {
      "cell_type": "code",
      "execution_count": null,
      "metadata": {
        "id": "YZAnPq-NM3Mi",
        "outputId": "61a01360-b8d1-45c1-bdf3-1d52bc7b216c",
        "colab": {
          "base_uri": "https://localhost:8080/",
          "height": 322
        }
      },
      "outputs": [
        {
          "output_type": "display_data",
          "data": {
            "image/png": "[encoded data removed]",
            "text/plain": [
              "<Figure size 432x288 with 1 Axes>"
            ]
          },
          "metadata": {}
        }
      ],
      "source": [
        "delay_bins = np.arange(-20, 201, 10)\n",
        "united.hist('Delay', bins = delay_bins, unit = 'minute')\n",
        "plots.title('Population');"
      ]
    },
    {
      "cell_type": "code",
      "execution_count": null,
      "metadata": {
        "id": "079wCBb5M3Mj",
        "outputId": "6b39897a-855f-46ff-f301-2f53f2db9e6e",
        "colab": {
          "base_uri": "https://localhost:8080/",
          "height": 322
        }
      },
      "outputs": [
        {
          "output_type": "display_data",
          "data": {
            "image/png": "[encoded data removed]",
            "text/plain": [
              "<Figure size 432x288 with 1 Axes>"
            ]
          },
          "metadata": {}
        }
      ],
      "source": [
        "sample_1000 = united.sample(1000)\n",
        "sample_1000.hist('Delay', bins = delay_bins, unit = 'minute')\n",
        "plots.title('Sample of Size 1000');"
      ]
    },
    {
      "cell_type": "markdown",
      "metadata": {
        "id": "8YQvWRPLM3Mj"
      },
      "source": [
        "The two histograms clearly resemble each other, though they are not identical. "
      ]
    },
    {
      "cell_type": "markdown",
      "metadata": {
        "id": "lnMsXsrSM3Mj"
      },
      "source": [
        "### 10.3.1. Parameter\n",
        "Frequently, we are interested in numerical quantities associated with a population.\n",
        "- In a population of voters, what percent will vote for Candidate A?\n",
        "- In a population of Facebook users, what is the largest number of Facebook friends that the users have?\n",
        "- In a population of United flights, what is the median departure delay?\n",
        "\n",
        "Numerical quantities associated with a population are called *parameters*. For the population of flights in `united`, we know the value of the parameter \"median delay\":"
      ]
    },
    {
      "cell_type": "code",
      "execution_count": null,
      "metadata": {
        "id": "tNI6hzV_M3Mk",
        "outputId": "166bb365-55c9-4edf-c59f-d81ff5be7c11",
        "colab": {
          "base_uri": "https://localhost:8080/"
        }
      },
      "outputs": [
        {
          "output_type": "execute_result",
          "data": {
            "text/plain": [
              "2.0"
            ]
          },
          "metadata": {},
          "execution_count": 37
        }
      ],
      "source": [
        "np.median(united.column('Delay'))"
      ]
    },
    {
      "cell_type": "markdown",
      "metadata": {
        "id": "boDzh4ZGM3Mk"
      },
      "source": [
        "The `NumPy` function `median` returns the median (half-way point) of an array. Among all the flights in `united`, the median delay was 2 minutes. That is, about 50% of flights in the population had delays of 2 or fewer minutes:"
      ]
    },
    {
      "cell_type": "code",
      "execution_count": null,
      "metadata": {
        "id": "JjjdvgMnM3Ml",
        "outputId": "724ee386-7006-4794-9fc6-c8e22ba1eb7c",
        "colab": {
          "base_uri": "https://localhost:8080/"
        }
      },
      "outputs": [
        {
          "output_type": "execute_result",
          "data": {
            "text/plain": [
              "0.5018444846292948"
            ]
          },
          "metadata": {},
          "execution_count": 38
        }
      ],
      "source": [
        "united.where('Delay', are.below_or_equal_to(2)).num_rows / united.num_rows"
      ]
    },
    {
      "cell_type": "markdown",
      "metadata": {
        "id": "IbxZmtefM3Ml"
      },
      "source": [
        "Half of all flights left no more than 2 minutes after their scheduled departure time. That's a very short delay!  \n",
        "\n",
        "**Note.** The percent isn't exactly 50 because of \"ties,\" that is, flights that had delays of exactly 2 minutes. There were 480 such flights. Ties are quite common in data sets, and we will not worry about them in this course."
      ]
    },
    {
      "cell_type": "code",
      "execution_count": null,
      "metadata": {
        "id": "tbg1gfeIM3Ml",
        "outputId": "8fac9fc0-4c43-40a3-c594-7442c0595a60",
        "colab": {
          "base_uri": "https://localhost:8080/"
        }
      },
      "outputs": [
        {
          "output_type": "execute_result",
          "data": {
            "text/plain": [
              "480"
            ]
          },
          "metadata": {},
          "execution_count": 39
        }
      ],
      "source": [
        "united.where('Delay', are.equal_to(2)).num_rows"
      ]
    },
    {
      "cell_type": "markdown",
      "metadata": {
        "id": "2-5r5yc7M3Mm"
      },
      "source": [
        "### 10.3.2. Statistic\n",
        "In many situations, we will be interested in figuring out the value of an unknown parameter. For this, we will rely on data from a large random sample drawn from the population.\n",
        "\n",
        "A *statistic* (note the singular!) is any number computed using the data in a sample. The sample median, therefore, is a statistic. \n",
        "\n",
        "Remember that `sample_1000` contains a random sample of 1000 flights from `united`. The observed value of the sample median is:"
      ]
    },
    {
      "cell_type": "code",
      "execution_count": null,
      "metadata": {
        "id": "H4j0tAhnM3Mm",
        "outputId": "df3de637-be57-4492-883f-37fbd5c38521",
        "colab": {
          "base_uri": "https://localhost:8080/"
        }
      },
      "outputs": [
        {
          "output_type": "execute_result",
          "data": {
            "text/plain": [
              "3.0"
            ]
          },
          "metadata": {},
          "execution_count": 40
        }
      ],
      "source": [
        "np.median(sample_1000.column('Delay'))"
      ]
    },
    {
      "cell_type": "markdown",
      "metadata": {
        "id": "h7aufO80M3Mm"
      },
      "source": [
        "Our sample – one set of 1,000 flights – gave us one observed value of the statistic. This raises an important problem of inference:\n",
        "\n",
        "**The statistic could have been different.**\n",
        "A fundamental consideration in using any statistic based on a random sample is that *the sample could have come out differently*, and therefore the statistic could have come out differently too. "
      ]
    },
    {
      "cell_type": "code",
      "execution_count": null,
      "metadata": {
        "id": "FLqSSiCUM3Mm",
        "outputId": "9b48e7d4-9db5-46b2-9cdc-7dde7751dbca",
        "colab": {
          "base_uri": "https://localhost:8080/"
        }
      },
      "outputs": [
        {
          "output_type": "execute_result",
          "data": {
            "text/plain": [
              "3.0"
            ]
          },
          "metadata": {},
          "execution_count": 41
        }
      ],
      "source": [
        "np.median(united.sample(1000).column('Delay'))"
      ]
    },
    {
      "cell_type": "markdown",
      "metadata": {
        "id": "_zLOMgv_M3Mn"
      },
      "source": [
        "Run the cell above a few times to see how the answer varies. Often it is equal to 2, the same value as the population parameter. But sometimes it is different."
      ]
    },
    {
      "cell_type": "markdown",
      "metadata": {
        "id": "BisnZx9vM3Mn"
      },
      "source": [
        "**Just how different could the statistic have been?** One way to answer this is to simulate the statistic many times and note the values. A histogram of those values will tell us about the distribution of the statistic.\n",
        "\n",
        "Let's recall the main steps in a simulation."
      ]
    },
    {
      "cell_type": "markdown",
      "metadata": {
        "id": "mmIdSwttM3Mn"
      },
      "source": [
        "### 10.3.3. Simulating a Statistic\n",
        "We will simulate the sample median using the steps we set up in an earlier chapter when we started studying simulation. You can replace the sample size of 1000 by any other sample size, and the sample median by any other statistic.\n",
        "\n",
        "**Step 1: Decide which statistic to simulate.** We have already decided that: we are going to simulate the median of a random sample of size 1000 drawn from the population of flight delays.\n",
        "\n",
        "**Step 2: Define a function that returns one simulated value of the statistic.** Draw a random sample of size 1000 and compute the median of the sample. We did this in the code cell above. Here it is again, encapsulated in a function."
      ]
    },
    {
      "cell_type": "code",
      "execution_count": null,
      "metadata": {
        "id": "psvs115-M3Mn"
      },
      "outputs": [],
      "source": [
        "def random_sample_median():\n",
        "    return np.median(united.sample(1000).column('Delay'))"
      ]
    },
    {
      "cell_type": "markdown",
      "metadata": {
        "id": "mGZzFrpiM3Mn"
      },
      "source": [
        "**Step 3: Decide how many simulated values to generate.** Let's do 5,000 repetitions.\n",
        "\n",
        "**Step 4: Use a `for` loop to generate an array of simulated values.** As usual, we will start by creating an empty array in which to collect our results. We will then set up a `for` loop for generating all the simulated values. The body of the loop will consist of generating one simulated value of the sample median, and appending it to our collection array.\n",
        "\n",
        "The simulation takes a noticeable amount of time to run. That is because it is performing 5000 repetitions of the process of drawing a sample of size 1000 and computing its median. That's a lot of sampling and repeating!"
      ]
    },
    {
      "cell_type": "code",
      "execution_count": null,
      "metadata": {
        "id": "xF1l6l-mM3Mn"
      },
      "outputs": [],
      "source": [
        "medians = make_array()\n",
        "\n",
        "for i in np.arange(5000):\n",
        "    medians = np.append(medians, random_sample_median())"
      ]
    },
    {
      "cell_type": "markdown",
      "metadata": {
        "id": "ctyJmKp8M3Mn"
      },
      "source": [
        "The simulation is done. All 5,000 simulated sample medians have been collected in the array `medians`. Now it's time to visualize the results. "
      ]
    },
    {
      "cell_type": "markdown",
      "metadata": {
        "id": "BYSmOTHQM3Mo"
      },
      "source": [
        "### 10.3.4. Visualization\n",
        "\n",
        "Here are the simulated random sample medians displayed in the table `simulated_medians`."
      ]
    },
    {
      "cell_type": "code",
      "execution_count": null,
      "metadata": {
        "id": "IulZPzMVM3Mo",
        "outputId": "952fa101-8775-452c-fbf1-a9b9101cec42",
        "colab": {
          "base_uri": "https://localhost:8080/",
          "height": 392
        }
      },
      "outputs": [
        {
          "output_type": "execute_result",
          "data": {
            "text/html": [
              "<table border=\"1\" class=\"dataframe\">\n",
              "    <thead>\n",
              "        <tr>\n",
              "            <th>Sample Median</th>\n",
              "        </tr>\n",
              "    </thead>\n",
              "    <tbody>\n",
              "        <tr>\n",
              "            <td>2            </td>\n",
              "        </tr>\n",
              "        <tr>\n",
              "            <td>2            </td>\n",
              "        </tr>\n",
              "        <tr>\n",
              "            <td>2            </td>\n",
              "        </tr>\n",
              "        <tr>\n",
              "            <td>2            </td>\n",
              "        </tr>\n",
              "        <tr>\n",
              "            <td>2            </td>\n",
              "        </tr>\n",
              "        <tr>\n",
              "            <td>3            </td>\n",
              "        </tr>\n",
              "        <tr>\n",
              "            <td>2            </td>\n",
              "        </tr>\n",
              "        <tr>\n",
              "            <td>2            </td>\n",
              "        </tr>\n",
              "        <tr>\n",
              "            <td>3            </td>\n",
              "        </tr>\n",
              "        <tr>\n",
              "            <td>2            </td>\n",
              "        </tr>\n",
              "    </tbody>\n",
              "</table>\n",
              "<p>... (4990 rows omitted)</p>"
            ],
            "text/plain": [
              "Sample Median\n",
              "2\n",
              "2\n",
              "2\n",
              "2\n",
              "2\n",
              "3\n",
              "2\n",
              "2\n",
              "3\n",
              "2\n",
              "... (4990 rows omitted)"
            ]
          },
          "metadata": {},
          "execution_count": 47
        }
      ],
      "source": [
        "simulated_medians = Table().with_column('Sample Median', medians)\n",
        "simulated_medians"
      ]
    },
    {
      "cell_type": "markdown",
      "metadata": {
        "id": "rO6r-0JCM3Mo"
      },
      "source": [
        "We can also visualize the simulated data using a histogram. The histogram is called an *empirical histogram of the statistic*. It displays the *empirical distribution* of the statistic. Remember that *empirical* means *observed*."
      ]
    },
    {
      "cell_type": "code",
      "execution_count": null,
      "metadata": {
        "id": "_o4rneTiM3Mo",
        "outputId": "c6f737ca-3410-4153-fe33-fc62d237f5ea",
        "colab": {
          "base_uri": "https://localhost:8080/",
          "height": 301
        }
      },
      "outputs": [
        {
          "output_type": "display_data",
          "data": {
            "image/png": "[encoded data removed]",
            "text/plain": [
              "<Figure size 432x288 with 1 Axes>"
            ]
          },
          "metadata": {}
        }
      ],
      "source": [
        "simulated_medians.hist(bins=np.arange(0.5, 5, 1))"
      ]
    },
    {
      "cell_type": "markdown",
      "metadata": {
        "id": "pBhfBFNvM3Mo"
      },
      "source": [
        "You can see that the sample median is very likely to be about 2, which was the value of the population median. Since samples of 1000 flight delays are likely to resemble the population of delays, it is not surprising that the median delays of those samples should be close to the median delay in the population.\n",
        "\n",
        "This is an example of how a statistic can provide a good estimate of a parameter."
      ]
    },
    {
      "cell_type": "markdown",
      "metadata": {
        "id": "qos3O8BCM3Mp"
      },
      "source": [
        "### 10.3.5. The Power of Simulation\n",
        "\n",
        "If we could generate all possible random samples of size 1000, we would know all possible values of the statistic (the sample median), as well as the probabilities of all those values. We could visualize all the values and probabilities in the probability histogram of the statistic.\n",
        "\n",
        "But in many situations including this one, the number of all possible samples is large enough to exceed the capacity of the computer, and purely mathematical calculations of the probabilities can be intractably difficult.\n",
        "\n",
        "This is where empirical histograms come in.\n",
        "\n",
        "We know that by the Law of Averages, the empirical histogram of the statistic is likely to resemble the probability histogram of the statistic, if the sample size is large and if you repeat the random sampling process numerous times.\n",
        "\n",
        "This means that simulating random processes repeatedly is a way of approximating probability distributions *without figuring out the probabilities mathematically or generating all possible random samples*. Thus computer simulations become a powerful tool in data science. They can help data scientists understand the properties of random quantities that would be complicated to analyze in other ways."
      ]
    },
    {
      "cell_type": "markdown",
      "metadata": {
        "id": "x7GVoklbNZnJ"
      },
      "source": [
        "## 10.4. Random Sampling in Python \n",
        "\n",
        "This section summarizes the ways you have learned to sample at random using Python, and introduces a new way.\n",
        "\n",
        "## Review: Sampling from a Population in a Table \n",
        "If you are sampling from a population of individuals whose data are represented in the rows of a table, then you can use the Table method `sample` to [randomly select rows](https://inferentialthinking.com/chapters/10/1/Empirical_Distributions.html#id1) of the table. That is, you can use `sample` to select a random sample of individuals.\n",
        "\n",
        "By default, `sample` draws uniformly at random with replacement. This is a natural model for chance experiments such as rolling a die."
      ]
    },
    {
      "cell_type": "code",
      "execution_count": null,
      "metadata": {
        "id": "3fdEeIFRNZnK",
        "outputId": "fbda1019-b18c-436e-9747-c538ed9817f2",
        "colab": {
          "base_uri": "https://localhost:8080/",
          "height": 238
        }
      },
      "outputs": [
        {
          "output_type": "execute_result",
          "data": {
            "text/html": [
              "<table border=\"1\" class=\"dataframe\">\n",
              "    <thead>\n",
              "        <tr>\n",
              "            <th>Face</th>\n",
              "        </tr>\n",
              "    </thead>\n",
              "    <tbody>\n",
              "        <tr>\n",
              "            <td>1   </td>\n",
              "        </tr>\n",
              "        <tr>\n",
              "            <td>2   </td>\n",
              "        </tr>\n",
              "        <tr>\n",
              "            <td>3   </td>\n",
              "        </tr>\n",
              "        <tr>\n",
              "            <td>4   </td>\n",
              "        </tr>\n",
              "        <tr>\n",
              "            <td>5   </td>\n",
              "        </tr>\n",
              "        <tr>\n",
              "            <td>6   </td>\n",
              "        </tr>\n",
              "    </tbody>\n",
              "</table>"
            ],
            "text/plain": [
              "Face\n",
              "1\n",
              "2\n",
              "3\n",
              "4\n",
              "5\n",
              "6"
            ]
          },
          "metadata": {},
          "execution_count": 49
        }
      ],
      "source": [
        "faces = np.arange(1, 7)\n",
        "die = Table().with_columns('Face', faces)\n",
        "die"
      ]
    },
    {
      "cell_type": "markdown",
      "metadata": {
        "id": "6uMzf9PINZnL"
      },
      "source": [
        "Run the cell below to simulate 7 rolls of a die."
      ]
    },
    {
      "cell_type": "code",
      "execution_count": null,
      "metadata": {
        "id": "nq-qQ-5MNZnL",
        "outputId": "5b60312d-5019-4a18-b671-29656c70d727",
        "colab": {
          "base_uri": "https://localhost:8080/",
          "height": 269
        }
      },
      "outputs": [
        {
          "output_type": "execute_result",
          "data": {
            "text/html": [
              "<table border=\"1\" class=\"dataframe\">\n",
              "    <thead>\n",
              "        <tr>\n",
              "            <th>Face</th>\n",
              "        </tr>\n",
              "    </thead>\n",
              "    <tbody>\n",
              "        <tr>\n",
              "            <td>1   </td>\n",
              "        </tr>\n",
              "        <tr>\n",
              "            <td>3   </td>\n",
              "        </tr>\n",
              "        <tr>\n",
              "            <td>6   </td>\n",
              "        </tr>\n",
              "        <tr>\n",
              "            <td>5   </td>\n",
              "        </tr>\n",
              "        <tr>\n",
              "            <td>6   </td>\n",
              "        </tr>\n",
              "        <tr>\n",
              "            <td>3   </td>\n",
              "        </tr>\n",
              "        <tr>\n",
              "            <td>5   </td>\n",
              "        </tr>\n",
              "    </tbody>\n",
              "</table>"
            ],
            "text/plain": [
              "Face\n",
              "1\n",
              "3\n",
              "6\n",
              "5\n",
              "6\n",
              "3\n",
              "5"
            ]
          },
          "metadata": {},
          "execution_count": 50
        }
      ],
      "source": [
        "die.sample(7)"
      ]
    },
    {
      "cell_type": "markdown",
      "metadata": {
        "id": "TSEM12LENZnM"
      },
      "source": [
        "Sometimes it is more natural to sample individuals at random without replacement. This is called a simple random sample. The argument `with_replacement=False` allows you to do this."
      ]
    },
    {
      "cell_type": "code",
      "execution_count": null,
      "metadata": {
        "id": "ulkXn1KlNZnM",
        "outputId": "940e8b5e-51c2-4322-92ef-38c962928f56",
        "colab": {
          "base_uri": "https://localhost:8080/",
          "height": 496
        }
      },
      "outputs": [
        {
          "output_type": "execute_result",
          "data": {
            "text/html": [
              "<table border=\"1\" class=\"dataframe\">\n",
              "    <thead>\n",
              "        <tr>\n",
              "            <th>Actor</th> <th>Total Gross</th> <th>Number of Movies</th> <th>Average per Movie</th> <th>#1 Movie</th> <th>Gross</th>\n",
              "        </tr>\n",
              "    </thead>\n",
              "    <tbody>\n",
              "        <tr>\n",
              "            <td>Harrison Ford     </td> <td>4871.7     </td> <td>41              </td> <td>118.8            </td> <td>Star Wars: The Force Awakens</td> <td>936.7</td>\n",
              "        </tr>\n",
              "        <tr>\n",
              "            <td>Samuel L. Jackson </td> <td>4772.8     </td> <td>69              </td> <td>69.2             </td> <td>The Avengers                </td> <td>623.4</td>\n",
              "        </tr>\n",
              "        <tr>\n",
              "            <td>Morgan Freeman    </td> <td>4468.3     </td> <td>61              </td> <td>73.3             </td> <td>The Dark Knight             </td> <td>534.9</td>\n",
              "        </tr>\n",
              "        <tr>\n",
              "            <td>Tom Hanks         </td> <td>4340.8     </td> <td>44              </td> <td>98.7             </td> <td>Toy Story 3                 </td> <td>415  </td>\n",
              "        </tr>\n",
              "        <tr>\n",
              "            <td>Robert Downey, Jr.</td> <td>3947.3     </td> <td>53              </td> <td>74.5             </td> <td>The Avengers                </td> <td>623.4</td>\n",
              "        </tr>\n",
              "        <tr>\n",
              "            <td>Eddie Murphy      </td> <td>3810.4     </td> <td>38              </td> <td>100.3            </td> <td>Shrek 2                     </td> <td>441.2</td>\n",
              "        </tr>\n",
              "        <tr>\n",
              "            <td>Tom Cruise        </td> <td>3587.2     </td> <td>36              </td> <td>99.6             </td> <td>War of the Worlds           </td> <td>234.3</td>\n",
              "        </tr>\n",
              "        <tr>\n",
              "            <td>Johnny Depp       </td> <td>3368.6     </td> <td>45              </td> <td>74.9             </td> <td>Dead Man's Chest            </td> <td>423.3</td>\n",
              "        </tr>\n",
              "        <tr>\n",
              "            <td>Michael Caine     </td> <td>3351.5     </td> <td>58              </td> <td>57.8             </td> <td>The Dark Knight             </td> <td>534.9</td>\n",
              "        </tr>\n",
              "        <tr>\n",
              "            <td>Scarlett Johansson</td> <td>3341.2     </td> <td>37              </td> <td>90.3             </td> <td>The Avengers                </td> <td>623.4</td>\n",
              "        </tr>\n",
              "    </tbody>\n",
              "</table>\n",
              "<p>... (40 rows omitted)</p>"
            ],
            "text/plain": [
              "Actor              | Total Gross | Number of Movies | Average per Movie | #1 Movie                     | Gross\n",
              "Harrison Ford      | 4871.7      | 41               | 118.8             | Star Wars: The Force Awakens | 936.7\n",
              "Samuel L. Jackson  | 4772.8      | 69               | 69.2              | The Avengers                 | 623.4\n",
              "Morgan Freeman     | 4468.3      | 61               | 73.3              | The Dark Knight              | 534.9\n",
              "Tom Hanks          | 4340.8      | 44               | 98.7              | Toy Story 3                  | 415\n",
              "Robert Downey, Jr. | 3947.3      | 53               | 74.5              | The Avengers                 | 623.4\n",
              "Eddie Murphy       | 3810.4      | 38               | 100.3             | Shrek 2                      | 441.2\n",
              "Tom Cruise         | 3587.2      | 36               | 99.6              | War of the Worlds            | 234.3\n",
              "Johnny Depp        | 3368.6      | 45               | 74.9              | Dead Man's Chest             | 423.3\n",
              "Michael Caine      | 3351.5      | 58               | 57.8              | The Dark Knight              | 534.9\n",
              "Scarlett Johansson | 3341.2      | 37               | 90.3              | The Avengers                 | 623.4\n",
              "... (40 rows omitted)"
            ]
          },
          "metadata": {},
          "execution_count": 51
        }
      ],
      "source": [
        "actors = Table.read_table(path_data + 'actors.csv')\n",
        "actors"
      ]
    },
    {
      "cell_type": "code",
      "execution_count": null,
      "metadata": {
        "id": "hSWUWTXhNZnM",
        "outputId": "792b8e7c-6be2-47d0-e3a0-0b7ea0cda703",
        "colab": {
          "base_uri": "https://localhost:8080/",
          "height": 258
        }
      },
      "outputs": [
        {
          "output_type": "execute_result",
          "data": {
            "text/html": [
              "<table border=\"1\" class=\"dataframe\">\n",
              "    <thead>\n",
              "        <tr>\n",
              "            <th>Actor</th> <th>Total Gross</th> <th>Number of Movies</th> <th>Average per Movie</th> <th>#1 Movie</th> <th>Gross</th>\n",
              "        </tr>\n",
              "    </thead>\n",
              "    <tbody>\n",
              "        <tr>\n",
              "            <td>Ben Stiller    </td> <td>2827       </td> <td>37              </td> <td>76.4             </td> <td>Meet the Fockers            </td> <td>279.3</td>\n",
              "        </tr>\n",
              "        <tr>\n",
              "            <td>Gary Oldman    </td> <td>3294       </td> <td>38              </td> <td>86.7             </td> <td>The Dark Knight             </td> <td>534.9</td>\n",
              "        </tr>\n",
              "        <tr>\n",
              "            <td>Owen Wilson    </td> <td>2602.3     </td> <td>39              </td> <td>66.7             </td> <td>Night at the Museum         </td> <td>250.9</td>\n",
              "        </tr>\n",
              "        <tr>\n",
              "            <td>Anthony Daniels</td> <td>3162.9     </td> <td>7               </td> <td>451.8            </td> <td>Star Wars: The Force Awakens</td> <td>936.7</td>\n",
              "        </tr>\n",
              "        <tr>\n",
              "            <td>Cameron Diaz   </td> <td>3031.7     </td> <td>34              </td> <td>89.2             </td> <td>Shrek 2                     </td> <td>441.2</td>\n",
              "        </tr>\n",
              "    </tbody>\n",
              "</table>"
            ],
            "text/plain": [
              "Actor           | Total Gross | Number of Movies | Average per Movie | #1 Movie                     | Gross\n",
              "Ben Stiller     | 2827        | 37               | 76.4              | Meet the Fockers             | 279.3\n",
              "Gary Oldman     | 3294        | 38               | 86.7              | The Dark Knight              | 534.9\n",
              "Owen Wilson     | 2602.3      | 39               | 66.7              | Night at the Museum          | 250.9\n",
              "Anthony Daniels | 3162.9      | 7                | 451.8             | Star Wars: The Force Awakens | 936.7\n",
              "Cameron Diaz    | 3031.7      | 34               | 89.2              | Shrek 2                      | 441.2"
            ]
          },
          "metadata": {},
          "execution_count": 52
        }
      ],
      "source": [
        "# Simple random sample of 5 rows\n",
        "actors.sample(5, with_replacement=False)"
      ]
    },
    {
      "cell_type": "markdown",
      "metadata": {
        "id": "4uJUyO0ONZnN"
      },
      "source": [
        "Since `sample` gives you the entire sample in the order in which the rows were selected, you can use Table methods on the sampled table to answer many questions about the sample. For example, you can find the number of times the die showed six spots, or the average number of movies in which the sampled actors appeared, or whether one two specified actors appeared in the sample. You might need multiple lines of code to get some of this information."
      ]
    },
    {
      "cell_type": "markdown",
      "metadata": {
        "id": "lb-i4LBTNZnN"
      },
      "source": [
        "### 10.4.1. Review: Sampling from a Population in an Array \n",
        "\n",
        "If you are sampling from a population of individuals whose data are represented as an array, you can use the NumPy function `np.random.choice` to [randomly select elements of the array](https://inferentialthinking.com/chapters/09/3/Simulation.html#example-number-of-heads-in-100-tosses).\n",
        "\n",
        "By default, `np.random.choice` samples at random with replacement."
      ]
    },
    {
      "cell_type": "code",
      "execution_count": null,
      "metadata": {
        "id": "R7zdtwdTNZnO",
        "outputId": "01ef0989-ed56-4fe0-9b2c-c4da33e98f1e",
        "colab": {
          "base_uri": "https://localhost:8080/"
        }
      },
      "outputs": [
        {
          "output_type": "execute_result",
          "data": {
            "text/plain": [
              "array([1, 2, 3, 4, 5, 6])"
            ]
          },
          "metadata": {},
          "execution_count": 57
        }
      ],
      "source": [
        "# The faces of a die, as an array\n",
        "faces"
      ]
    },
    {
      "cell_type": "code",
      "execution_count": null,
      "metadata": {
        "id": "S7g-0oGONZnO",
        "outputId": "9ff87cb6-7212-43b9-ad74-6634586f5943",
        "colab": {
          "base_uri": "https://localhost:8080/"
        }
      },
      "outputs": [
        {
          "output_type": "execute_result",
          "data": {
            "text/plain": [
              "array([1, 4, 6, 4, 3, 3, 4])"
            ]
          },
          "metadata": {},
          "execution_count": 58
        }
      ],
      "source": [
        "# 7 rolls of the die\n",
        "np.random.choice(faces, 7)"
      ]
    },
    {
      "cell_type": "markdown",
      "metadata": {
        "id": "KCkSS8U1NZnO"
      },
      "source": [
        "The argument `replace=False` allows you to get a simple random sample, that is, a sample drawn at random without replacement."
      ]
    },
    {
      "cell_type": "code",
      "execution_count": null,
      "metadata": {
        "id": "ItulEwX4NZnO"
      },
      "outputs": [],
      "source": [
        "# Array of actor names\n",
        "actor_names = actors.column('Actor')"
      ]
    },
    {
      "cell_type": "code",
      "execution_count": null,
      "metadata": {
        "id": "xHiVllCsNZnP",
        "outputId": "2f7eace5-f037-438a-ae17-2943fbf36f77",
        "colab": {
          "base_uri": "https://localhost:8080/"
        }
      },
      "outputs": [
        {
          "output_type": "execute_result",
          "data": {
            "text/plain": [
              "array(['Stellan Skarsgard', 'Idris Elba', 'Elizabeth Banks',\n",
              "       'Robert DeNiro', 'Scarlett Johansson'], dtype='<U22')"
            ]
          },
          "metadata": {},
          "execution_count": 60
        }
      ],
      "source": [
        "# Simple random sample of 5 actor names\n",
        "np.random.choice(actor_names, 5, replace=False)"
      ]
    },
    {
      "cell_type": "markdown",
      "metadata": {
        "id": "ZB9SkgfKNZnP"
      },
      "source": [
        "Just as `sample` did, so also `np.random.choice` gives you the entire sequence of sampled elements. You can use array operations to answer many questions about the sample. For example, you can find which actor was the second one to be drawn, or the number of faces of the die that appeared more than once. Some answers might need multiple lines of code."
      ]
    },
    {
      "cell_type": "markdown",
      "metadata": {
        "id": "xNq0BDGfNZnP"
      },
      "source": [
        "### 10.4.2. Sampling from a Categorical Distribution \n",
        "Sometimes we are interested in a categorical attribute of our sampled individuals. For example, we might be looking at whether a coin lands Heads or Tails. Or we might be interested in the political parties of randomly selected voters.\n",
        "\n",
        "In such cases, we frequently need the proportions of sampled voters in the different categories. If we have the entire sample, we can calculate these proportions. The function `sample_proportions` in the `datascience` library does that work for us. It is tailored for sampling at random with replacement from a categorical distribution and returns the proportions of sampled elements in each category.\n",
        "\n",
        "The `sample_proportions` function takes two arguments:\n",
        "- the sample size\n",
        "- the distribution of the categories in the population, as a list or array of proportions that add up to 1\n",
        "\n",
        "It returns an array containing the distribution of the categories in a random sample of the given size taken from the population. That's an array consisting of the sample proportions in all the different categories, in the same order in which they appeared in the population distribution.\n",
        "\n",
        "For example, suppose each plant of a species is red-flowering with chance 25%, pink-flowering with chance 50%, and white-flowering with chance 25%, regardless of the flower colors of all other plants. You can use `sample_proportions` to see the proportions of the different colors among 300 plants of the species."
      ]
    },
    {
      "cell_type": "code",
      "execution_count": null,
      "metadata": {
        "id": "LpzfeOjONZnP",
        "outputId": "f7ebedc3-2483-4636-fe12-13567b37a674",
        "colab": {
          "base_uri": "https://localhost:8080/"
        }
      },
      "outputs": [
        {
          "output_type": "execute_result",
          "data": {
            "text/plain": [
              "array([0.21666667, 0.47333333, 0.31      ])"
            ]
          },
          "metadata": {},
          "execution_count": 65
        }
      ],
      "source": [
        "# Species distribution of flower colors:\n",
        "# Proportions are in the order Red, Pink, White\n",
        "species_proportions = [0.2, 0.5, 0.3]\n",
        "\n",
        "sample_size = 300\n",
        "\n",
        "# Distribution of sample\n",
        "sample_distribution = sample_proportions(sample_size, species_proportions)\n",
        "sample_distribution"
      ]
    },
    {
      "cell_type": "markdown",
      "metadata": {
        "id": "NyIUCHfLNZnQ"
      },
      "source": [
        "As you expect, the proportions in the sample sum to 1."
      ]
    },
    {
      "cell_type": "code",
      "execution_count": null,
      "metadata": {
        "id": "YvoEYMRgNZnQ",
        "outputId": "5699f863-cad8-4f23-fffc-905cb3db4303"
      },
      "outputs": [
        {
          "data": {
            "text/plain": [
              "1.0"
            ]
          },
          "execution_count": 11,
          "metadata": {},
          "output_type": "execute_result"
        }
      ],
      "source": [
        "sum(sample_distribution)"
      ]
    },
    {
      "cell_type": "markdown",
      "metadata": {
        "id": "ty0_-oqjNZnQ"
      },
      "source": [
        "The categories in `species_proportions` are in the order Red, Pink, White. That order is preserved by `sample_proportions`. If you just want the proportion of pink-flowering plants in the sample, you can use `item`:"
      ]
    },
    {
      "cell_type": "code",
      "execution_count": null,
      "metadata": {
        "id": "KkwJggrANZnQ",
        "outputId": "a78c8f9e-a403-4216-ea60-3b6c4095d8d4"
      },
      "outputs": [
        {
          "data": {
            "text/plain": [
              "0.5033333333333333"
            ]
          },
          "execution_count": 12,
          "metadata": {},
          "output_type": "execute_result"
        }
      ],
      "source": [
        "# Sample proportion of Heads\n",
        "sample_distribution.item(1)"
      ]
    },
    {
      "cell_type": "markdown",
      "metadata": {
        "id": "G14HLICZNZnQ"
      },
      "source": [
        "You can use `sample_proportions` and array operations to answer questions based only on the proportions of sampled individuals in the different categories. You will not be able to answer questions that require more detailed information about the sample, such as which of the sampled plants had each of the different colors."
      ]
    },
    {
      "cell_type": "code",
      "execution_count": null,
      "metadata": {
        "id": "vOfAFFG6NZnQ"
      },
      "outputs": [],
      "source": []
    }
  ],
  "metadata": {
    "anaconda-cloud": {},
    "kernelspec": {
      "display_name": "Python 3",
      "language": "python",
      "name": "python3"
    },
    "language_info": {
      "codemirror_mode": {
        "name": "ipython",
        "version": 3
      },
      "file_extension": ".py",
      "mimetype": "text/x-python",
      "name": "python",
      "nbconvert_exporter": "python",
      "pygments_lexer": "ipython3",
      "version": "3.8.5"
    },
    "colab": {
      "provenance": [],
      "include_colab_link": true
    }
  },
  "nbformat": 4,
  "nbformat_minor": 0
}