{
  "cells": [
    {
      "cell_type": "markdown",
      "metadata": {
        "id": "view-in-github",
        "colab_type": "text"
      },
      "source": [
        "<a href=\"https://colab.research.google.com/github/Emily-KD/DS200/blob/main/chpt5_Sequences.ipynb\" target=\"_parent\"><img src=\"https://colab.research.google.com/assets/colab-badge.svg\" alt=\"Open In Colab\"/></a>"
      ]
    },
    {
      "cell_type": "code",
      "source": [
        "from datascience import *\n",
        "import numpy as np\n",
        "path_data = 'http://personal.psu.edu/drh20/200DS/assets/data/'"
      ],
      "metadata": {
        "colab": {
          "base_uri": "https://localhost:8080/"
        },
        "id": "vO0NWinQcPhm",
        "outputId": "8c6b0d78-75e0-4750-8f39-2c0cbc11631a"
      },
      "execution_count": null,
      "outputs": [
        {
          "output_type": "stream",
          "name": "stderr",
          "text": [
            "/usr/local/lib/python3.7/dist-packages/datascience/tables.py:17: MatplotlibDeprecationWarning: The 'warn' parameter of use() is deprecated since Matplotlib 3.1 and will be removed in 3.3.  If any parameter follows 'warn', they should be pass as keyword, not positionally.\n",
            "  matplotlib.use('agg', warn=False)\n",
            "/usr/local/lib/python3.7/dist-packages/datascience/util.py:10: MatplotlibDeprecationWarning: The 'warn' parameter of use() is deprecated since Matplotlib 3.1 and will be removed in 3.3.  If any parameter follows 'warn', they should be pass as keyword, not positionally.\n",
            "  matplotlib.use('agg', warn=False)\n"
          ]
        }
      ]
    },
    {
      "cell_type": "markdown",
      "metadata": {
        "id": "TgzJVgza9Nbx"
      },
      "source": [
        "# 5. Sequences\n",
        "\n",
        "Values can be grouped together into collections, which allows programmers to organize those values and refer to all of them with a single name. By grouping values together, we can write code that performs a computation on many pieces of data at once.\n",
        "\n",
        "Calling the function `make_array` on several values places them into an *array*, which is a kind of sequential collection. Below, we collect four different temperatures into an array called `highs`. These are the [estimated average daily high temperatures](http://berkeleyearth.lbl.gov/regions/global-land) over all land on Earth (in degrees Celsius) for the decades surrounding 1850, 1900, 1950, and 2000, respectively, expressed as deviations from the average absolute high temperature between 1951 and 1980, which was 14.48 degrees."
      ]
    },
    {
      "cell_type": "code",
      "execution_count": null,
      "metadata": {
        "id": "XZE4_vrY9Nby",
        "outputId": "6b61d2d6-15ea-4399-f929-82fe36a7c5ca",
        "colab": {
          "base_uri": "https://localhost:8080/"
        }
      },
      "outputs": [
        {
          "output_type": "execute_result",
          "data": {
            "text/plain": [
              "array([13.6  , 14.387, 14.585, 15.164])"
            ]
          },
          "metadata": {},
          "execution_count": 2
        }
      ],
      "source": [
        "baseline_high = 14.48\n",
        "highs = make_array(baseline_high - 0.880, baseline_high - 0.093,\n",
        "                   baseline_high + 0.105, baseline_high + 0.684)\n",
        "highs"
      ]
    },
    {
      "cell_type": "markdown",
      "source": [
        "**Caution: The make_array function is part of the datascience library, nor python itself nor numpy**"
      ],
      "metadata": {
        "id": "DDCxtSDEdSB-"
      }
    },
    {
      "cell_type": "markdown",
      "metadata": {
        "id": "Bu4_Nng49Nbz"
      },
      "source": [
        "Collections allow us to pass multiple values into a function using a single name. For instance, the `sum` function computes the sum of all values in a collection, and the `len` function computes its length. (That's the number of values we put in it.) Using them together, we can compute the average of a collection."
      ]
    },
    {
      "cell_type": "code",
      "execution_count": null,
      "metadata": {
        "id": "YmCgzATv9Nbz",
        "outputId": "fa322b88-3758-4d32-b3e6-159228ab649f",
        "colab": {
          "base_uri": "https://localhost:8080/"
        }
      },
      "outputs": [
        {
          "output_type": "execute_result",
          "data": {
            "text/plain": [
              "14.434000000000001"
            ]
          },
          "metadata": {},
          "execution_count": 41
        }
      ],
      "source": [
        "sum(highs)/len(highs)"
      ]
    },
    {
      "cell_type": "markdown",
      "metadata": {
        "id": "iK8DGZIc9Nbz"
      },
      "source": [
        "The complete chart of daily high and low temperatures appears below. \n",
        "\n",
        "<h2>Mean of Daily High Temperature</h2>\n",
        "\n",
        "![Mean of Daily High Temperature](../../images/global-land-TMAX-Trend.png)\n",
        "\n",
        "<h2>Mean of Daily Low Temperature</h2>\n",
        "\n",
        "![Mean of Daily Low Temperature](../../images/global-land-TMIN-Trend.png)"
      ]
    },
    {
      "cell_type": "markdown",
      "metadata": {
        "id": "X-Kve5PQ-hmR"
      },
      "source": [
        "## 5.1. Arrays\n",
        "\n",
        "While there are many kinds of collections in Python, we will work primarily with arrays in this class. We've already seen that the `make_array` function can be used to create arrays of numbers.\n",
        "\n",
        "Arrays can also contain strings or other types of values, but a single array can only contain a single kind of data. (It usually doesn't make sense to group together unlike data anyway.)  For example:"
      ]
    },
    {
      "cell_type": "code",
      "execution_count": null,
      "metadata": {
        "id": "dTwC6vIt-hmS",
        "outputId": "ea64ac6e-8269-4f9d-a993-51f72a689cae",
        "colab": {
          "base_uri": "https://localhost:8080/"
        }
      },
      "outputs": [
        {
          "output_type": "execute_result",
          "data": {
            "text/plain": [
              "array(['noun', 'pronoun', 'verb', 'adverb', 'adjective', 'conjunction',\n",
              "       'preposition', 'interjection'], dtype='<U12')"
            ]
          },
          "metadata": {},
          "execution_count": 3
        }
      ],
      "source": [
        "english_parts_of_speech = make_array(\"noun\", \"pronoun\", \"verb\", \"adverb\", \"adjective\", \"conjunction\", \"preposition\", \"interjection\")\n",
        "english_parts_of_speech"
      ]
    },
    {
      "cell_type": "markdown",
      "metadata": {
        "id": "wEKWKgQH-hmT"
      },
      "source": [
        "Returning to the temperature data, we create arrays of average daily [high temperatures](http://berkeleyearth.lbl.gov/auto/Regional/TMAX/Text/global-land-TMAX-Trend.txt) for the decades surrounding 1850, 1900, 1950, and 2000."
      ]
    },
    {
      "cell_type": "code",
      "execution_count": null,
      "metadata": {
        "id": "_rOV53V6-hmT",
        "outputId": "447773ff-59f6-4726-e930-a5788af752fe",
        "colab": {
          "base_uri": "https://localhost:8080/"
        }
      },
      "outputs": [
        {
          "output_type": "execute_result",
          "data": {
            "text/plain": [
              "array([13.6  , 14.387, 14.585, 15.164])"
            ]
          },
          "metadata": {},
          "execution_count": 4
        }
      ],
      "source": [
        "baseline_high = 14.48\n",
        "highs = make_array(baseline_high - 0.880, \n",
        "                   baseline_high - 0.093,\n",
        "                   baseline_high + 0.105, \n",
        "                   baseline_high + 0.684)\n",
        "highs"
      ]
    },
    {
      "cell_type": "markdown",
      "metadata": {
        "id": "AmZk0YYl-hmT"
      },
      "source": [
        "Arrays can be used in arithmetic expressions to compute over their contents. When an array is combined with a single number, that number is combined with each element of the array. Therefore, we can convert all of these temperatures to Fahrenheit by writing the familiar conversion formula."
      ]
    },
    {
      "cell_type": "code",
      "execution_count": null,
      "metadata": {
        "id": "tm7rhW5Y-hmU",
        "outputId": "e6498467-1c87-43a2-ea48-8db597dec74d",
        "colab": {
          "base_uri": "https://localhost:8080/"
        }
      },
      "outputs": [
        {
          "output_type": "execute_result",
          "data": {
            "text/plain": [
              "array([56.48  , 57.8966, 58.253 , 59.2952])"
            ]
          },
          "metadata": {},
          "execution_count": 5
        }
      ],
      "source": [
        "(9/5) * highs + 32"
      ]
    },
    {
      "cell_type": "markdown",
      "metadata": {
        "id": "UJhr7WlP-hmU"
      },
      "source": [
        "![array arithmetic](../../../images/array_arithmetic.png)"
      ]
    },
    {
      "cell_type": "markdown",
      "metadata": {
        "id": "NGkUASlq-hmV"
      },
      "source": [
        "Arrays also have *methods*, which are functions that operate on the array values. The `mean` of a collection of numbers is its average value: the sum divided by the length. Each pair of parentheses in the examples below is part of a call expression; it's calling a function with no arguments to perform a computation on the array called `highs`."
      ]
    },
    {
      "cell_type": "code",
      "execution_count": null,
      "metadata": {
        "id": "-8CvnbPK-hmV",
        "outputId": "73dab181-d339-4b28-ab0d-8fb259705daa",
        "colab": {
          "base_uri": "https://localhost:8080/"
        }
      },
      "outputs": [
        {
          "output_type": "execute_result",
          "data": {
            "text/plain": [
              "4"
            ]
          },
          "metadata": {},
          "execution_count": 6
        }
      ],
      "source": [
        "highs.size"
      ]
    },
    {
      "cell_type": "code",
      "execution_count": null,
      "metadata": {
        "id": "SE7tJ5Zx-hmV",
        "outputId": "b460393e-c429-4bab-bfbd-a5be34bb8ffc",
        "colab": {
          "base_uri": "https://localhost:8080/"
        }
      },
      "outputs": [
        {
          "output_type": "execute_result",
          "data": {
            "text/plain": [
              "57.736000000000004"
            ]
          },
          "metadata": {},
          "execution_count": 7
        }
      ],
      "source": [
        "highs.sum()"
      ]
    },
    {
      "cell_type": "code",
      "execution_count": null,
      "metadata": {
        "id": "6uVUtnky-hmW",
        "outputId": "1de527c6-a64a-47cd-bf9f-9395836f0587",
        "colab": {
          "base_uri": "https://localhost:8080/"
        }
      },
      "outputs": [
        {
          "output_type": "execute_result",
          "data": {
            "text/plain": [
              "14.434000000000001"
            ]
          },
          "metadata": {},
          "execution_count": 8
        }
      ],
      "source": [
        "highs.mean()"
      ]
    },
    {
      "cell_type": "markdown",
      "metadata": {
        "id": "R11012fz-hmW"
      },
      "source": [
        "### 5.1.1. Functions on Arrays\n",
        "The `numpy` package, abbreviated `np` in programs, provides Python programmers with convenient and powerful functions for creating and manipulating arrays."
      ]
    },
    {
      "cell_type": "code",
      "execution_count": null,
      "metadata": {
        "id": "gRpCqwLr-hmW"
      },
      "outputs": [],
      "source": [
        "import numpy as np"
      ]
    },
    {
      "cell_type": "markdown",
      "metadata": {
        "id": "YWkmNc0e-hmW"
      },
      "source": [
        "For example, the `diff` function computes the difference between each adjacent pair of elements in an array. The first element of the `diff` is the second element minus the first. "
      ]
    },
    {
      "cell_type": "code",
      "execution_count": null,
      "metadata": {
        "id": "89vBxHpa-hmW",
        "outputId": "0a7b7e65-eb85-44ff-ef69-a27ebddb5410",
        "colab": {
          "base_uri": "https://localhost:8080/"
        }
      },
      "outputs": [
        {
          "output_type": "execute_result",
          "data": {
            "text/plain": [
              "array([0.787, 0.198, 0.579])"
            ]
          },
          "metadata": {},
          "execution_count": 10
        }
      ],
      "source": [
        "np.diff(highs)"
      ]
    },
    {
      "cell_type": "markdown",
      "metadata": {
        "id": "HrysFWn1-hmX"
      },
      "source": [
        "The [full Numpy reference](http://docs.scipy.org/doc/numpy/reference/) lists these functions exhaustively, but only a small subset are used commonly for data processing applications. These are grouped into different packages within `np`. Learning this vocabulary is an important part of learning the Python language, so refer back to this list often as you work through examples and problems.\n",
        "\n",
        "However, you **don't need to memorize these**.  Use this as a reference.\n",
        "\n",
        "Each of these functions takes an array as an argument and returns a single value.\n",
        "\n",
        "| **Function**       | Description                                                          |\n",
        "|--------------------|----------------------------------------------------------------------|\n",
        "| `np.prod`          | Multiply all elements together                                       |\n",
        "| `np.sum`           | Add all elements together                                            |\n",
        "| `np.all`           | Test whether all elements are true values (non-zero numbers are true)|\n",
        "| `np.any`           | Test whether any elements are true values (non-zero numbers are true)|\n",
        "| `np.count_nonzero` | Count the number of non-zero elements                                |\n",
        "\n",
        "Each of these functions takes an array as an argument and returns an array of values.\n",
        "\n",
        "| **Function**       | Description                                                          |\n",
        "|--------------------|----------------------------------------------------------------------|\n",
        "| `np.diff`          | Difference between adjacent elements                                 |\n",
        "| `np.round`         | Round each number to the nearest integer (whole number)              |\n",
        "| `np.cumprod`       | A cumulative product: for each element, multiply all elements so far |\n",
        "| `np.cumsum`        | A cumulative sum: for each element, add all elements so far          |\n",
        "| `np.exp`           | Exponentiate each element                                            |\n",
        "| `np.log`           | Take the natural logarithm of each element                           |\n",
        "| `np.sqrt`          | Take the square root of each element                                 |\n",
        "| `np.sort`          | Sort the elements                                                    |\n",
        "\n",
        "Each of these functions takes an array of strings and returns an array.\n",
        "\n",
        "| **Function**        | **Description**                                              |\n",
        "|---------------------|--------------------------------------------------------------|\n",
        "| `np.char.lower`     | Lowercase each element                                       |\n",
        "| `np.char.upper`     | Uppercase each element                                       |\n",
        "| `np.char.strip`     | Remove spaces at the beginning or end of each element        |\n",
        "| `np.char.isalpha`   | Whether each element is only letters (no numbers or symbols) |\n",
        "| `np.char.isnumeric` | Whether each element is only numeric (no letters)  \n",
        "\n",
        "Each of these functions takes both an array of strings and a *search string*; each returns an array.\n",
        "\n",
        "| **Function**         | **Description**                                                                  |\n",
        "|----------------------|----------------------------------------------------------------------------------|\n",
        "| `np.char.count`      | Count the number of times a search string appears among the elements of an array |\n",
        "| `np.char.find`       | The position within each element that a search string is found first             |\n",
        "| `np.char.rfind`      | The position within each element that a search string is found last              |\n",
        "| `np.char.startswith` | Whether each element starts with the search string  \n",
        "\n"
      ]
    },
    {
      "cell_type": "markdown",
      "metadata": {
        "id": "DTEXBhIP_jOW"
      },
      "source": [
        "## 5.2. Ranges\n",
        "\n",
        "A *range* is an array of numbers in increasing or decreasing order, each separated by a regular interval. \n",
        "Ranges are useful in a surprisingly large number of situations, so it's worthwhile to learn about them.\n",
        "\n",
        "Ranges are defined  using the `np.arange` function, which takes either one, two, or three arguments: a start, and end, and a 'step'.\n",
        "\n",
        "If you pass one argument to `np.arange`, this becomes the `end` value, with `start=0`, `step=1` assumed.  Two arguments give the `start` and `end` with `step=1` assumed.  Three arguments give the `start`, `end` and `step` explicitly.\n",
        "\n",
        "A range always includes its `start` value, but does not include its `end` value.  It counts up by `step`, and it stops before it gets to the `end`.\n",
        "\n",
        "    np.arange(end): An array starting with 0 of increasing consecutive integers, stopping before end."
      ]
    },
    {
      "cell_type": "code",
      "execution_count": null,
      "metadata": {
        "id": "sO3eR2yb_jOX",
        "outputId": "032c6ac2-c376-4f5b-c702-8b04ea27f24a",
        "colab": {
          "base_uri": "https://localhost:8080/"
        }
      },
      "outputs": [
        {
          "output_type": "execute_result",
          "data": {
            "text/plain": [
              "array([0, 1, 2, 3, 4])"
            ]
          },
          "metadata": {},
          "execution_count": 11
        }
      ],
      "source": [
        "np.arange(5)"
      ]
    },
    {
      "cell_type": "markdown",
      "metadata": {
        "id": "Cm4ROWQz_jOX"
      },
      "source": [
        "Notice how the array starts at 0 and goes only up to 4, not to the end value of 5."
      ]
    },
    {
      "cell_type": "markdown",
      "metadata": {
        "id": "DG1J3IJH_jOY"
      },
      "source": [
        "\n",
        "    np.arange(start, end): An array of consecutive increasing integers from start, stopping before end."
      ]
    },
    {
      "cell_type": "code",
      "execution_count": null,
      "metadata": {
        "id": "l6bhGKhl_jOY",
        "outputId": "5546b8c9-4bed-4bf7-b5e1-18b2f8f1495f",
        "colab": {
          "base_uri": "https://localhost:8080/"
        }
      },
      "outputs": [
        {
          "output_type": "execute_result",
          "data": {
            "text/plain": [
              "array([3, 4, 5, 6, 7, 8])"
            ]
          },
          "metadata": {},
          "execution_count": 12
        }
      ],
      "source": [
        "np.arange(3, 9)"
      ]
    },
    {
      "cell_type": "markdown",
      "metadata": {
        "id": "lzTU_KV7_jOY"
      },
      "source": [
        "\n",
        "    np.arange(start, end, step): A range with a difference of step between each pair of consecutive values, starting from start and stopping before end."
      ]
    },
    {
      "cell_type": "code",
      "execution_count": null,
      "metadata": {
        "id": "QP7ENyru_jOZ",
        "outputId": "8cc0c1eb-c4d1-4292-e857-a68d04617c26",
        "colab": {
          "base_uri": "https://localhost:8080/"
        }
      },
      "outputs": [
        {
          "output_type": "execute_result",
          "data": {
            "text/plain": [
              "array([ 3,  8, 13, 18, 23, 28])"
            ]
          },
          "metadata": {},
          "execution_count": 13
        }
      ],
      "source": [
        "np.arange(3, 30, 5)"
      ]
    },
    {
      "cell_type": "markdown",
      "metadata": {
        "id": "Ds5taZxO_jOZ"
      },
      "source": [
        "This array starts at 3, then takes a step of 5 to get to 8, then another step of 5 to get to 13, and so on.\n",
        "\n",
        "When you specify a step, the start, end, and step can all be either positive or negative and may be whole numbers or fractions. "
      ]
    },
    {
      "cell_type": "code",
      "execution_count": null,
      "metadata": {
        "id": "in2Zu-qg_jOZ",
        "outputId": "29297efc-4e1a-45f0-9751-e8f70ae51c6a",
        "colab": {
          "base_uri": "https://localhost:8080/"
        }
      },
      "outputs": [
        {
          "output_type": "execute_result",
          "data": {
            "text/plain": [
              "array([ 1.5,  1. ,  0.5,  0. , -0.5, -1. , -1.5])"
            ]
          },
          "metadata": {},
          "execution_count": 14
        }
      ],
      "source": [
        "np.arange(1.5, -2, -0.5)"
      ]
    },
    {
      "cell_type": "markdown",
      "metadata": {
        "id": "JDEFuFAy_jOa"
      },
      "source": [
        "### 5.2.1. Example: Leibniz's formula for $\\pi$"
      ]
    },
    {
      "cell_type": "markdown",
      "metadata": {
        "id": "V6wE-qk5_jOa"
      },
      "source": [
        "The great German mathematician and philosopher [Gottfried Wilhelm Leibniz](https://en.wikipedia.org/wiki/Gottfried_Wilhelm_Leibniz) \n",
        "(1646 - 1716) discovered a wonderful formula for $\\pi$ as an infinite sum of simple fractions. The formula is\n",
        "\n",
        "$$\\pi = 4 \\cdot \\left(1 - \\frac{1}{3} + \\frac{1}{5} - \\frac{1}{7} + \\frac{1}{9} - \\frac{1}{11} + \\dots\\right)$$"
      ]
    },
    {
      "cell_type": "markdown",
      "metadata": {
        "id": "ufDXGiQs_jOa"
      },
      "source": [
        "Though some math is needed to establish this, we can use arrays to convince ourselves that the formula works. Let's calculate the first 5000 terms of Leibniz's infinite sum and see if it is close to $\\pi$.\n",
        "\n",
        "$$4 \\cdot \\left(1 - \\frac{1}{3} + \\frac{1}{5} - \\frac{1}{7} + \\frac{1}{9} - \\frac{1}{11} + \\dots - \\frac{1}{9999} \\right)$$\n",
        "\n",
        "We will calculate this finite sum by adding all the positive terms first and then subtracting the sum of all the negative terms [[1]](#footnotes):\n",
        "\n",
        "$$4 \\cdot \\left( \\left(1 + \\frac{1}{5} + \\frac{1}{9} + \\dots + \\frac{1}{9997} \\right) - \\left(\\frac{1}{3} + \\frac{1}{7} + \\frac{1}{11} + \\dots + \\frac{1}{9999} \\right) \\right)$$"
      ]
    },
    {
      "cell_type": "markdown",
      "metadata": {
        "id": "02UB-YbH_jOa"
      },
      "source": [
        "The positive terms in the sum have 1, 5, 9, and so on in the denominators. The array `by_four_to_20` contains these numbers up to 17:"
      ]
    },
    {
      "cell_type": "code",
      "execution_count": null,
      "metadata": {
        "id": "bLZn4qwM_jOb",
        "outputId": "ec60c077-1651-4439-fb47-63e935ff93e9",
        "colab": {
          "base_uri": "https://localhost:8080/"
        }
      },
      "outputs": [
        {
          "output_type": "execute_result",
          "data": {
            "text/plain": [
              "array([ 1,  5,  9, 13, 17])"
            ]
          },
          "metadata": {},
          "execution_count": 15
        }
      ],
      "source": [
        "by_four_to_20 = np.arange(1, 20, 4)\n",
        "by_four_to_20"
      ]
    },
    {
      "cell_type": "markdown",
      "metadata": {
        "id": "UdJLfmmu_jOb"
      },
      "source": [
        "To get an accurate approximation to $\\pi$, we'll use the much longer array `positive_term_denominators`."
      ]
    },
    {
      "cell_type": "code",
      "execution_count": null,
      "metadata": {
        "id": "jwgMWXm-_jOb",
        "outputId": "35bcb7fd-0e13-4ba9-891c-f00b43a35a4b",
        "colab": {
          "base_uri": "https://localhost:8080/"
        }
      },
      "outputs": [
        {
          "output_type": "execute_result",
          "data": {
            "text/plain": [
              "array([   1,    5,    9, ..., 9989, 9993, 9997])"
            ]
          },
          "metadata": {},
          "execution_count": 16
        }
      ],
      "source": [
        "positive_term_denominators = np.arange(1, 10000, 4)\n",
        "positive_term_denominators"
      ]
    },
    {
      "cell_type": "markdown",
      "metadata": {
        "id": "d7YTIW9l_jOb"
      },
      "source": [
        "The positive terms we actually want to add together are just 1 over these denominators:"
      ]
    },
    {
      "cell_type": "code",
      "execution_count": null,
      "metadata": {
        "id": "pgHgkQEt_jOb"
      },
      "outputs": [],
      "source": [
        "positive_terms = 1 / positive_term_denominators"
      ]
    },
    {
      "cell_type": "markdown",
      "metadata": {
        "id": "RDDscWsn_jOc"
      },
      "source": [
        "The negative terms have 3, 7, 11, and so on on in their denominators. This array is just 2 added to `positive_term_denominators`."
      ]
    },
    {
      "cell_type": "code",
      "execution_count": null,
      "metadata": {
        "id": "39evDMTl_jOc"
      },
      "outputs": [],
      "source": [
        "negative_terms = 1 / (positive_term_denominators + 2)"
      ]
    },
    {
      "cell_type": "markdown",
      "metadata": {
        "id": "PEPh3NAF_jOc"
      },
      "source": [
        "The overall sum is"
      ]
    },
    {
      "cell_type": "code",
      "execution_count": null,
      "metadata": {
        "id": "0oDFXxWP_jOc",
        "outputId": "fd2945c9-7775-43e3-d3ca-2aa068c785a8",
        "colab": {
          "base_uri": "https://localhost:8080/"
        }
      },
      "outputs": [
        {
          "output_type": "execute_result",
          "data": {
            "text/plain": [
              "3.1413926535917955"
            ]
          },
          "metadata": {},
          "execution_count": 19
        }
      ],
      "source": [
        "4 * ( sum(positive_terms) - sum(negative_terms) )"
      ]
    },
    {
      "cell_type": "markdown",
      "metadata": {
        "id": "yHDJk2Eo_jOc"
      },
      "source": [
        "This is very close to $\\pi = 3.14159\\dots$. Leibniz's formula is looking good!"
      ]
    },
    {
      "cell_type": "markdown",
      "metadata": {
        "id": "v04zQb5Z_jOc"
      },
      "source": [
        "<a id='footnotes'></a>\n",
        "### 5.2.2. Footnotes\n",
        "[1] Surprisingly, when we add  *infinitely* many positive and negative fractions, the order can matter! But our approximation to $\\pi$ uses only a large finite number of fractions, so it's okay to add the terms in any convenient order."
      ]
    },
    {
      "cell_type": "code",
      "source": [
        "import numpy as np"
      ],
      "metadata": {
        "id": "-B1_-QyHgFTB"
      },
      "execution_count": null,
      "outputs": []
    },
    {
      "cell_type": "code",
      "execution_count": null,
      "metadata": {
        "id": "Yi-WMvSx_jOc",
        "colab": {
          "base_uri": "https://localhost:8080/"
        },
        "outputId": "4fde4792-a7d9-48e7-eaac-8fa8eb27d9a2"
      },
      "outputs": [
        {
          "output_type": "execute_result",
          "data": {
            "text/plain": [
              "array([0.89315068, 0.89589041, 0.89863014, 0.90136986, 0.90410959,\n",
              "       0.90684932, 0.90958904, 0.91232877, 0.91506849, 0.91780822,\n",
              "       0.92054795, 0.92328767, 0.9260274 , 0.92876712, 0.93150685,\n",
              "       0.93424658, 0.9369863 , 0.93972603, 0.94246575, 0.94520548,\n",
              "       0.94794521, 0.95068493, 0.95342466, 0.95616438, 0.95890411,\n",
              "       0.96164384, 0.96438356, 0.96712329, 0.96986301, 0.97260274,\n",
              "       0.97534247, 0.97808219, 0.98082192, 0.98356164, 0.98630137,\n",
              "       0.9890411 , 0.99178082, 0.99452055, 0.99726027, 1.        ])"
            ]
          },
          "metadata": {},
          "execution_count": 23
        }
      ],
      "source": [
        "#Revisit the birthday problem\n",
        "n = 40 # How many people in the room?\n",
        "x = np.arange(365-(n-1), 366)/365.0\n",
        "x"
      ]
    },
    {
      "cell_type": "code",
      "source": [
        "1-np.prod(x)"
      ],
      "metadata": {
        "colab": {
          "base_uri": "https://localhost:8080/"
        },
        "id": "tqUE2wlDEGkL",
        "outputId": "ae545b12-ec6a-401d-ccb0-e2b9d7b1cc6e"
      },
      "execution_count": null,
      "outputs": [
        {
          "output_type": "execute_result",
          "data": {
            "text/plain": [
              "0.891231809817949"
            ]
          },
          "metadata": {},
          "execution_count": 26
        }
      ]
    },
    {
      "cell_type": "markdown",
      "metadata": {
        "id": "bJn0VJArAqNW"
      },
      "source": [
        "## 5.3. More on Arrays\n",
        "It's often necessary to compute something that involves data from more than one array. If two arrays are of the same size, Python makes it easy to do calculations involving both arrays.\n",
        "\n",
        "For our first example, we return once more to the temperature data.  This time, we create arrays of average daily [high](http://berkeleyearth.lbl.gov/auto/Regional/TMAX/Text/global-land-TMAX-Trend.txt) and [low](http://berkeleyearth.lbl.gov/auto/Regional/TMIN/Text/global-land-TMIN-Trend.txt) temperatures for the decades surrounding 1850, 1900, 1950, and 2000."
      ]
    },
    {
      "cell_type": "code",
      "execution_count": null,
      "metadata": {
        "id": "WQ-R8L5lAqNX",
        "outputId": "22fc11a5-ad2d-46ab-bf2f-2b4f99c3f46f",
        "colab": {
          "base_uri": "https://localhost:8080/"
        }
      },
      "outputs": [
        {
          "output_type": "execute_result",
          "data": {
            "text/plain": [
              "array([13.6  , 14.387, 14.585, 15.164])"
            ]
          },
          "metadata": {},
          "execution_count": 27
        }
      ],
      "source": [
        "baseline_high = 14.48\n",
        "highs = make_array(baseline_high - 0.880, \n",
        "                   baseline_high - 0.093,\n",
        "                   baseline_high + 0.105, \n",
        "                   baseline_high + 0.684)\n",
        "highs"
      ]
    },
    {
      "cell_type": "code",
      "execution_count": null,
      "metadata": {
        "id": "MBWvKaAgAqNX",
        "outputId": "a42e35fb-eb62-4135-ca7e-262d4ca58a33",
        "colab": {
          "base_uri": "https://localhost:8080/"
        }
      },
      "outputs": [
        {
          "output_type": "execute_result",
          "data": {
            "text/plain": [
              "array([2.128, 2.371, 2.874, 3.728])"
            ]
          },
          "metadata": {},
          "execution_count": 28
        }
      ],
      "source": [
        "baseline_low = 3.00\n",
        "lows = make_array(baseline_low - 0.872, baseline_low - 0.629,\n",
        "                  baseline_low - 0.126, baseline_low + 0.728)\n",
        "lows"
      ]
    },
    {
      "cell_type": "markdown",
      "metadata": {
        "id": "kn6hwCdJAqNY"
      },
      "source": [
        "Suppose we'd like to compute the average daily *range* of temperatures for each decade.  That is, we want to subtract the average daily high in the 1850s from the average daily low in the 1850s, and the same for each other decade.\n",
        "\n",
        "We could write this laboriously using `.item`:"
      ]
    },
    {
      "cell_type": "code",
      "execution_count": null,
      "metadata": {
        "id": "OsYE7I1FAqNY",
        "outputId": "2a7ebaa1-cdef-4679-b331-7d25de08fc48",
        "colab": {
          "base_uri": "https://localhost:8080/"
        }
      },
      "outputs": [
        {
          "output_type": "execute_result",
          "data": {
            "text/plain": [
              "array([11.472, 12.016, 11.711, 11.436])"
            ]
          },
          "metadata": {},
          "execution_count": 29
        }
      ],
      "source": [
        "make_array(\n",
        "    highs.item(0) - lows.item(0),\n",
        "    highs.item(1) - lows.item(1),\n",
        "    highs.item(2) - lows.item(2),\n",
        "    highs.item(3) - lows.item(3)\n",
        ")"
      ]
    },
    {
      "cell_type": "markdown",
      "metadata": {
        "id": "AqMHDWaJAqNY"
      },
      "source": [
        "As when we converted an array of temperatures from Celsius to Fahrenheit, Python provides a much cleaner way to write this:"
      ]
    },
    {
      "cell_type": "code",
      "execution_count": null,
      "metadata": {
        "id": "9v3DzNeXAqNZ",
        "outputId": "ea802a46-c45b-4f30-bea1-34da7e234955",
        "colab": {
          "base_uri": "https://localhost:8080/"
        }
      },
      "outputs": [
        {
          "output_type": "execute_result",
          "data": {
            "text/plain": [
              "array([11.472, 12.016, 11.711, 11.436])"
            ]
          },
          "metadata": {},
          "execution_count": 30
        }
      ],
      "source": [
        "highs - lows"
      ]
    },
    {
      "cell_type": "markdown",
      "metadata": {
        "id": "JGpBK3inAqNZ"
      },
      "source": [
        "![array subtraction](../../../images/array_subtraction.png)"
      ]
    },
    {
      "cell_type": "markdown",
      "metadata": {
        "id": "u4tj-OtWAqNa"
      },
      "source": [
        "What we've seen in these examples are special cases of a general feature of arrays."
      ]
    },
    {
      "cell_type": "markdown",
      "metadata": {
        "id": "HgHXjppvAqNa"
      },
      "source": [
        "### 5.3.1. Elementwise arithmetic on pairs of numerical arrays\n",
        "If an arithmetic operator acts on two arrays of the same size, then the operation is performed on each corresponding pair of elements in the two arrays. The final result is an array. \n",
        "\n",
        "For example, if `array1` and `array2` have the same number of elements, then the value of `array1 * array2` is an array. Its first element is the first element of `array1` times the first element of `array2`, its second element is the second element of `array1` times the second element of `array2`, and so on."
      ]
    },
    {
      "cell_type": "markdown",
      "metadata": {
        "id": "g9uiy3QsAqNa"
      },
      "source": [
        "### 5.3.2. Example: Wallis' Formula for $\\pi$ ###\n",
        "The number $\\pi$ is important in many different areas of math. Centuries before computers were invented, mathematicians worked on finding simple ways to approximate the numerical value of $\\pi$. We have already seen Leibniz's formula for $\\pi$. About half a century before Leibniz, the English mathematician [John Wallis](https://en.wikipedia.org/wiki/John_Wallis) (1616-1703) also expressed $\\pi$ in terms of simple fractions, as an infinite product.\n",
        "\n",
        "$$\n",
        "\\pi = 2 \\cdot \\left( \\frac{2}{1}\\cdot\\frac{2}{3}\\cdot\\frac{4}{3}\\cdot\\frac{4}{5}\\cdot\\frac{6}{5}\\cdot\\frac{6}{7}\\dots \\right)\n",
        "$$"
      ]
    },
    {
      "cell_type": "markdown",
      "metadata": {
        "id": "R2GDZoeyAqNa"
      },
      "source": [
        "This is a product of \"even/odd\" fractions. Let's use arrays to multiply a million of them, and see if the product is close to $\\pi$."
      ]
    },
    {
      "cell_type": "markdown",
      "metadata": {
        "id": "Pw2eMGmTAqNb"
      },
      "source": [
        "Remember that multiplication can done in any order [[1]](#footnotes), so we can readjust our calculation to:\n",
        "\n",
        "$$\\pi \\approx 2 \\cdot \\left( \\frac{2}{1} \\cdot \\frac{4}{3} \\cdot \\frac{6}{5} \\cdots \\frac{1,000,000}{999999} \\right) \\cdot \\left( \\frac{2}{3} \\cdot \\frac{4}{5} \\cdot \\frac{6}{7} \\cdots \\frac{1,000,000}{1,000,001} \\right)$$"
      ]
    },
    {
      "cell_type": "markdown",
      "metadata": {
        "id": "fH3U0k7lAqNb"
      },
      "source": [
        "We're now ready to do the calculation. We start by creating an array of even numbers 2, 4, 6, and so on upto 1,000,000. Then we create two lists of odd numbers: 1, 3, 5, 7, ... upto 999,999, and 3, 5, 7, ... upto 1,000,001."
      ]
    },
    {
      "cell_type": "code",
      "execution_count": null,
      "metadata": {
        "id": "jPD3UaU4AqNb"
      },
      "outputs": [],
      "source": [
        "even = np.arange(2, 1000001, 2)\n",
        "one_below_even = even - 1\n",
        "one_above_even = even + 1"
      ]
    },
    {
      "cell_type": "markdown",
      "metadata": {
        "id": "EQcXNS_RAqNb"
      },
      "source": [
        "Remember that `np.prod` multiplies all the elements of an array together. Now we can calculate Wallis' product, to a good approximation."
      ]
    },
    {
      "cell_type": "code",
      "execution_count": null,
      "metadata": {
        "id": "Ulew5QR4AqNb",
        "outputId": "469f48c1-30fc-4cdd-d000-02445d5aa7c8"
      },
      "outputs": [
        {
          "data": {
            "text/plain": [
              "3.1415910827951143"
            ]
          },
          "execution_count": 7,
          "metadata": {},
          "output_type": "execute_result"
        }
      ],
      "source": [
        "2 * np.prod(even/one_below_even) * np.prod(even/one_above_even)"
      ]
    },
    {
      "cell_type": "markdown",
      "metadata": {
        "id": "Z1M_FnqSAqNc"
      },
      "source": [
        "That's $\\pi$ correct to five decimal places.  Wallis clearly came up with a great formula."
      ]
    },
    {
      "cell_type": "markdown",
      "metadata": {
        "id": "hg-EmwTUAqNc"
      },
      "source": [
        "<a id='footnotes'></a>\n",
        "### 5.3.3. Footnotes\n",
        "[1] As we saw in the example about Leibniz's formula, when we add  *infinitely* many fractions, the order can matter. The same is true with multiplying fractions, as we are doing here. But our approximation to $\\pi$ uses only a large finite number of fractions, so it's okay to multiply the terms in any convenient order."
      ]
    }
  ],
  "metadata": {
    "anaconda-cloud": {},
    "kernelspec": {
      "display_name": "Python 3",
      "language": "python",
      "name": "python3"
    },
    "language_info": {
      "codemirror_mode": {
        "name": "ipython",
        "version": 3
      },
      "file_extension": ".py",
      "mimetype": "text/x-python",
      "name": "python",
      "nbconvert_exporter": "python",
      "pygments_lexer": "ipython3",
      "version": "3.7.8"
    },
    "colab": {
      "provenance": [],
      "include_colab_link": true
    }
  },
  "nbformat": 4,
  "nbformat_minor": 0
}